{
 "cells": [
  {
   "cell_type": "code",
   "execution_count": 20,
   "metadata": {},
   "outputs": [],
   "source": [
    "import torch\n",
    "import torch.utils.data as Data\n",
    "import torch.nn.functional as F\n",
    "import torch.nn as nn\n",
    "import matplotlib.pyplot as plt\n",
    "import pandas as pd\n",
    "import numpy as np\n",
    "import math\n",
    "from torch.autograd import Variable"
   ]
  },
  {
   "cell_type": "code",
   "execution_count": 2,
   "metadata": {},
   "outputs": [],
   "source": [
    "LR = 0.01\n",
    "BATCH_SIZE = 32\n",
    "EPOCH = 200"
   ]
  },
  {
   "cell_type": "code",
   "execution_count": 3,
   "metadata": {},
   "outputs": [
    {
     "data": {
      "text/html": [
       "<div>\n",
       "<style scoped>\n",
       "    .dataframe tbody tr th:only-of-type {\n",
       "        vertical-align: middle;\n",
       "    }\n",
       "\n",
       "    .dataframe tbody tr th {\n",
       "        vertical-align: top;\n",
       "    }\n",
       "\n",
       "    .dataframe thead th {\n",
       "        text-align: right;\n",
       "    }\n",
       "</style>\n",
       "<table border=\"1\" class=\"dataframe\">\n",
       "  <thead>\n",
       "    <tr style=\"text-align: right;\">\n",
       "      <th></th>\n",
       "      <th>userId</th>\n",
       "      <th>movieId</th>\n",
       "      <th>rating</th>\n",
       "      <th>timestamp</th>\n",
       "    </tr>\n",
       "  </thead>\n",
       "  <tbody>\n",
       "    <tr>\n",
       "      <th>0</th>\n",
       "      <td>1</td>\n",
       "      <td>1</td>\n",
       "      <td>4.0</td>\n",
       "      <td>964982703</td>\n",
       "    </tr>\n",
       "    <tr>\n",
       "      <th>1</th>\n",
       "      <td>1</td>\n",
       "      <td>3</td>\n",
       "      <td>4.0</td>\n",
       "      <td>964981247</td>\n",
       "    </tr>\n",
       "    <tr>\n",
       "      <th>2</th>\n",
       "      <td>1</td>\n",
       "      <td>6</td>\n",
       "      <td>4.0</td>\n",
       "      <td>964982224</td>\n",
       "    </tr>\n",
       "    <tr>\n",
       "      <th>3</th>\n",
       "      <td>1</td>\n",
       "      <td>47</td>\n",
       "      <td>5.0</td>\n",
       "      <td>964983815</td>\n",
       "    </tr>\n",
       "    <tr>\n",
       "      <th>4</th>\n",
       "      <td>1</td>\n",
       "      <td>50</td>\n",
       "      <td>5.0</td>\n",
       "      <td>964982931</td>\n",
       "    </tr>\n",
       "  </tbody>\n",
       "</table>\n",
       "</div>"
      ],
      "text/plain": [
       "   userId  movieId  rating  timestamp\n",
       "0       1        1     4.0  964982703\n",
       "1       1        3     4.0  964981247\n",
       "2       1        6     4.0  964982224\n",
       "3       1       47     5.0  964983815\n",
       "4       1       50     5.0  964982931"
      ]
     },
     "execution_count": 3,
     "metadata": {},
     "output_type": "execute_result"
    }
   ],
   "source": [
    "df = pd.read_csv('./ml-latest-small/ratings.csv')\n",
    "df.head()"
   ]
  },
  {
   "cell_type": "code",
   "execution_count": 4,
   "metadata": {},
   "outputs": [
    {
     "data": {
      "text/plain": [
       "(75627, 25209)"
      ]
     },
     "execution_count": 4,
     "metadata": {},
     "output_type": "execute_result"
    }
   ],
   "source": [
    "from sklearn import model_selection as ms\n",
    "train_set, test_set = ms.train_test_split(df, test_size=0.25)\n",
    "len(train_set), len(test_set)"
   ]
  },
  {
   "cell_type": "code",
   "execution_count": 5,
   "metadata": {},
   "outputs": [],
   "source": [
    "training_set = np.array(train_set, dtype = 'int')\n",
    "testing_set = np.array(test_set, dtype = 'int')"
   ]
  },
  {
   "cell_type": "code",
   "execution_count": 6,
   "metadata": {},
   "outputs": [
    {
     "data": {
      "text/plain": [
       "(610, 9724)"
      ]
     },
     "execution_count": 6,
     "metadata": {},
     "output_type": "execute_result"
    }
   ],
   "source": [
    "num_users = df.userId.unique().shape[0]\n",
    "num_items = df.movieId.unique().shape[0]\n",
    "num_users, num_items"
   ]
  },
  {
   "cell_type": "code",
   "execution_count": 7,
   "metadata": {},
   "outputs": [],
   "source": [
    "movie_movieId = df.movieId.unique().tolist()\n",
    "movie_movieId.sort()\n",
    "d = dict()\n",
    "for i in range(0, len(movie_movieId)):\n",
    "    d[movie_movieId[i]] = i"
   ]
  },
  {
   "cell_type": "code",
   "execution_count": 8,
   "metadata": {},
   "outputs": [],
   "source": [
    "def user_item_matrix(data):\n",
    "    ratings = np.zeros((num_users, num_items))\n",
    "    for row in data.itertuples():\n",
    "        ratings[row[1]-1, d[row[2]]] = row[3]\n",
    "    return ratings"
   ]
  },
  {
   "cell_type": "code",
   "execution_count": 9,
   "metadata": {},
   "outputs": [],
   "source": [
    "ratings = user_item_matrix(df)\n",
    "train = user_item_matrix(train_set)\n",
    "test = user_item_matrix(test_set)"
   ]
  },
  {
   "cell_type": "code",
   "execution_count": 10,
   "metadata": {},
   "outputs": [
    {
     "data": {
      "text/plain": [
       "torch.Size([1, 610, 9724])"
      ]
     },
     "execution_count": 10,
     "metadata": {},
     "output_type": "execute_result"
    }
   ],
   "source": [
    "train = torch.FloatTensor(train)\n",
    "input = Variable(train).unsqueeze(0)\n",
    "input.shape"
   ]
  },
  {
   "cell_type": "code",
   "execution_count": 11,
   "metadata": {},
   "outputs": [],
   "source": [
    "train = torch.FloatTensor(train)\n",
    "test = torch.FloatTensor(test)\n",
    "input = Variable(train).unsqueeze(0)\n",
    "target = input\n",
    "torch_dataset = Data.TensorDataset(input, target)\n",
    "loader = Data.DataLoader(dataset=torch_dataset, batch_size=BATCH_SIZE, shuffle=True, num_workers=2,)"
   ]
  },
  {
   "cell_type": "code",
   "execution_count": 12,
   "metadata": {},
   "outputs": [],
   "source": [
    "class Net(torch.nn.Module):\n",
    "    def __init__(self):\n",
    "        super(Net, self).__init__()\n",
    "        self.fc1 = nn.Linear(num_items, 20)\n",
    "        self.fc2 = nn.Linear(20, 10)\n",
    "        self.fc3 = nn.Linear(10, 20)\n",
    "        self.fc4 = nn.Linear(20, num_items)\n",
    "        self.activation = nn.Sigmoid()\n",
    "        self.activation_t = nn.ReLU()\n",
    "        \n",
    "    def forward(self, x):\n",
    "        x = self.activation(self.fc1(x))\n",
    "        x = self.activation_t(self.fc2(x))\n",
    "        x = self.activation(self.fc3(x))\n",
    "        x = self.fc4(x)\n",
    "        return x"
   ]
  },
  {
   "cell_type": "code",
   "execution_count": 13,
   "metadata": {},
   "outputs": [],
   "source": [
    "net = Net()\n",
    "loss_func = nn.MSELoss()\n",
    "opt = torch.optim.Adam(net.parameters(), lr=LR, betas=(0.9, 0.99))"
   ]
  },
  {
   "cell_type": "code",
   "execution_count": 14,
   "metadata": {},
   "outputs": [
    {
     "name": "stdout",
     "output_type": "stream",
     "text": [
      "Epoch:  0 | Step:  0 | train loss:  0.17306961\n",
      "Epoch:  1 | Step:  0 | train loss:  0.16402377\n",
      "Epoch:  2 | Step:  0 | train loss:  0.15536454\n",
      "Epoch:  3 | Step:  0 | train loss:  0.14661609\n",
      "Epoch:  4 | Step:  0 | train loss:  0.137816\n",
      "Epoch:  5 | Step:  0 | train loss:  0.12903991\n",
      "Epoch:  6 | Step:  0 | train loss:  0.120333605\n",
      "Epoch:  7 | Step:  0 | train loss:  0.11179808\n",
      "Epoch:  8 | Step:  0 | train loss:  0.103457615\n",
      "Epoch:  9 | Step:  0 | train loss:  0.09534051\n",
      "Epoch:  10 | Step:  0 | train loss:  0.087500244\n",
      "Epoch:  11 | Step:  0 | train loss:  0.079835854\n",
      "Epoch:  12 | Step:  0 | train loss:  0.07234945\n",
      "Epoch:  13 | Step:  0 | train loss:  0.06505742\n",
      "Epoch:  14 | Step:  0 | train loss:  0.05798924\n",
      "Epoch:  15 | Step:  0 | train loss:  0.05119242\n",
      "Epoch:  16 | Step:  0 | train loss:  0.044720944\n",
      "Epoch:  17 | Step:  0 | train loss:  0.038648065\n",
      "Epoch:  18 | Step:  0 | train loss:  0.03305212\n",
      "Epoch:  19 | Step:  0 | train loss:  0.028006293\n",
      "Epoch:  20 | Step:  0 | train loss:  0.023605762\n",
      "Epoch:  21 | Step:  0 | train loss:  0.019920465\n",
      "Epoch:  22 | Step:  0 | train loss:  0.01699904\n",
      "Epoch:  23 | Step:  0 | train loss:  0.014866494\n",
      "Epoch:  24 | Step:  0 | train loss:  0.013509425\n",
      "Epoch:  25 | Step:  0 | train loss:  0.012854125\n",
      "Epoch:  26 | Step:  0 | train loss:  0.012784708\n",
      "Epoch:  27 | Step:  0 | train loss:  0.013130365\n",
      "Epoch:  28 | Step:  0 | train loss:  0.013690308\n",
      "Epoch:  29 | Step:  0 | train loss:  0.014270735\n",
      "Epoch:  30 | Step:  0 | train loss:  0.014717957\n",
      "Epoch:  31 | Step:  0 | train loss:  0.0149452295\n",
      "Epoch:  32 | Step:  0 | train loss:  0.014917579\n",
      "Epoch:  33 | Step:  0 | train loss:  0.014647388\n",
      "Epoch:  34 | Step:  0 | train loss:  0.014159927\n",
      "Epoch:  35 | Step:  0 | train loss:  0.013494746\n",
      "Epoch:  36 | Step:  0 | train loss:  0.012759418\n",
      "Epoch:  37 | Step:  0 | train loss:  0.011997637\n",
      "Epoch:  38 | Step:  0 | train loss:  0.0112951845\n",
      "Epoch:  39 | Step:  0 | train loss:  0.010699778\n",
      "Epoch:  40 | Step:  0 | train loss:  0.0102516245\n",
      "Epoch:  41 | Step:  0 | train loss:  0.009978796\n",
      "Epoch:  42 | Step:  0 | train loss:  0.009884622\n",
      "Epoch:  43 | Step:  0 | train loss:  0.009953242\n",
      "Epoch:  44 | Step:  0 | train loss:  0.010129556\n",
      "Epoch:  45 | Step:  0 | train loss:  0.01033449\n",
      "Epoch:  46 | Step:  0 | train loss:  0.010498124\n",
      "Epoch:  47 | Step:  0 | train loss:  0.010583707\n",
      "Epoch:  48 | Step:  0 | train loss:  0.010584315\n",
      "Epoch:  49 | Step:  0 | train loss:  0.010513736\n",
      "Epoch:  50 | Step:  0 | train loss:  0.010394039\n",
      "Epoch:  51 | Step:  0 | train loss:  0.010248891\n",
      "Epoch:  52 | Step:  0 | train loss:  0.010099967\n",
      "Epoch:  53 | Step:  0 | train loss:  0.009963434\n",
      "Epoch:  54 | Step:  0 | train loss:  0.009849618\n",
      "Epoch:  55 | Step:  0 | train loss:  0.009762962\n",
      "Epoch:  56 | Step:  0 | train loss:  0.009703302\n",
      "Epoch:  57 | Step:  0 | train loss:  0.00966742\n",
      "Epoch:  58 | Step:  0 | train loss:  0.009650236\n",
      "Epoch:  59 | Step:  0 | train loss:  0.009645892\n",
      "Epoch:  60 | Step:  0 | train loss:  0.0096486695\n",
      "Epoch:  61 | Step:  0 | train loss:  0.009653579\n",
      "Epoch:  62 | Step:  0 | train loss:  0.009656632\n",
      "Epoch:  63 | Step:  0 | train loss:  0.009655114\n",
      "Epoch:  64 | Step:  0 | train loss:  0.009648451\n",
      "Epoch:  65 | Step:  0 | train loss:  0.009624413\n",
      "Epoch:  66 | Step:  0 | train loss:  0.0095958905\n",
      "Epoch:  67 | Step:  0 | train loss:  0.00954657\n",
      "Epoch:  68 | Step:  0 | train loss:  0.009508225\n",
      "Epoch:  69 | Step:  0 | train loss:  0.009498921\n",
      "Epoch:  70 | Step:  0 | train loss:  0.009512827\n",
      "Epoch:  71 | Step:  0 | train loss:  0.009518139\n",
      "Epoch:  72 | Step:  0 | train loss:  0.009503741\n",
      "Epoch:  73 | Step:  0 | train loss:  0.009481568\n",
      "Epoch:  74 | Step:  0 | train loss:  0.009462509\n",
      "Epoch:  75 | Step:  0 | train loss:  0.009456935\n",
      "Epoch:  76 | Step:  0 | train loss:  0.009458502\n",
      "Epoch:  77 | Step:  0 | train loss:  0.009459294\n",
      "Epoch:  78 | Step:  0 | train loss:  0.009455301\n",
      "Epoch:  79 | Step:  0 | train loss:  0.009446208\n",
      "Epoch:  80 | Step:  0 | train loss:  0.009434438\n",
      "Epoch:  81 | Step:  0 | train loss:  0.0094232075\n",
      "Epoch:  82 | Step:  0 | train loss:  0.00941386\n",
      "Epoch:  83 | Step:  0 | train loss:  0.009404621\n",
      "Epoch:  84 | Step:  0 | train loss:  0.009400974\n",
      "Epoch:  85 | Step:  0 | train loss:  0.009395342\n",
      "Epoch:  86 | Step:  0 | train loss:  0.009385116\n",
      "Epoch:  87 | Step:  0 | train loss:  0.009370637\n",
      "Epoch:  88 | Step:  0 | train loss:  0.009358293\n",
      "Epoch:  89 | Step:  0 | train loss:  0.009346308\n",
      "Epoch:  90 | Step:  0 | train loss:  0.0093376385\n",
      "Epoch:  91 | Step:  0 | train loss:  0.009328351\n",
      "Epoch:  92 | Step:  0 | train loss:  0.00931633\n",
      "Epoch:  93 | Step:  0 | train loss:  0.009299104\n",
      "Epoch:  94 | Step:  0 | train loss:  0.009270403\n",
      "Epoch:  95 | Step:  0 | train loss:  0.009236529\n",
      "Epoch:  96 | Step:  0 | train loss:  0.009205921\n",
      "Epoch:  97 | Step:  0 | train loss:  0.009184394\n",
      "Epoch:  98 | Step:  0 | train loss:  0.009160192\n",
      "Epoch:  99 | Step:  0 | train loss:  0.009123093\n",
      "Epoch:  100 | Step:  0 | train loss:  0.009074302\n",
      "Epoch:  101 | Step:  0 | train loss:  0.009032717\n",
      "Epoch:  102 | Step:  0 | train loss:  0.008989869\n",
      "Epoch:  103 | Step:  0 | train loss:  0.008944971\n",
      "Epoch:  104 | Step:  0 | train loss:  0.008892726\n",
      "Epoch:  105 | Step:  0 | train loss:  0.008845255\n",
      "Epoch:  106 | Step:  0 | train loss:  0.008817892\n",
      "Epoch:  107 | Step:  0 | train loss:  0.008790129\n",
      "Epoch:  108 | Step:  0 | train loss:  0.008759876\n",
      "Epoch:  109 | Step:  0 | train loss:  0.008738566\n",
      "Epoch:  110 | Step:  0 | train loss:  0.008693143\n",
      "Epoch:  111 | Step:  0 | train loss:  0.008661203\n",
      "Epoch:  112 | Step:  0 | train loss:  0.008627976\n",
      "Epoch:  113 | Step:  0 | train loss:  0.008598095\n",
      "Epoch:  114 | Step:  0 | train loss:  0.008569038\n",
      "Epoch:  115 | Step:  0 | train loss:  0.008565518\n",
      "Epoch:  116 | Step:  0 | train loss:  0.0085579455\n",
      "Epoch:  117 | Step:  0 | train loss:  0.00854039\n",
      "Epoch:  118 | Step:  0 | train loss:  0.008527296\n",
      "Epoch:  119 | Step:  0 | train loss:  0.008516654\n",
      "Epoch:  120 | Step:  0 | train loss:  0.008508328\n",
      "Epoch:  121 | Step:  0 | train loss:  0.008494895\n",
      "Epoch:  122 | Step:  0 | train loss:  0.008484536\n",
      "Epoch:  123 | Step:  0 | train loss:  0.008474969\n",
      "Epoch:  124 | Step:  0 | train loss:  0.008473221\n",
      "Epoch:  125 | Step:  0 | train loss:  0.008477594\n",
      "Epoch:  126 | Step:  0 | train loss:  0.008454511\n",
      "Epoch:  127 | Step:  0 | train loss:  0.008455216\n",
      "Epoch:  128 | Step:  0 | train loss:  0.008438838\n",
      "Epoch:  129 | Step:  0 | train loss:  0.008435238\n",
      "Epoch:  130 | Step:  0 | train loss:  0.00843011\n",
      "Epoch:  131 | Step:  0 | train loss:  0.008424925\n",
      "Epoch:  132 | Step:  0 | train loss:  0.008413674\n",
      "Epoch:  133 | Step:  0 | train loss:  0.008405604\n",
      "Epoch:  134 | Step:  0 | train loss:  0.008401325\n",
      "Epoch:  135 | Step:  0 | train loss:  0.008398529\n",
      "Epoch:  136 | Step:  0 | train loss:  0.008395355\n",
      "Epoch:  137 | Step:  0 | train loss:  0.008390044\n",
      "Epoch:  138 | Step:  0 | train loss:  0.008383191\n",
      "Epoch:  139 | Step:  0 | train loss:  0.0083604995\n",
      "Epoch:  140 | Step:  0 | train loss:  0.0083511565\n",
      "Epoch:  141 | Step:  0 | train loss:  0.0083267335\n",
      "Epoch:  142 | Step:  0 | train loss:  0.008321018\n",
      "Epoch:  143 | Step:  0 | train loss:  0.008321722\n",
      "Epoch:  144 | Step:  0 | train loss:  0.008305957\n",
      "Epoch:  145 | Step:  0 | train loss:  0.008302711\n",
      "Epoch:  146 | Step:  0 | train loss:  0.008295424\n",
      "Epoch:  147 | Step:  0 | train loss:  0.008293083\n",
      "Epoch:  148 | Step:  0 | train loss:  0.008290499\n",
      "Epoch:  149 | Step:  0 | train loss:  0.008287348\n",
      "Epoch:  150 | Step:  0 | train loss:  0.008283705\n",
      "Epoch:  151 | Step:  0 | train loss:  0.008269018\n",
      "Epoch:  152 | Step:  0 | train loss:  0.008265082\n",
      "Epoch:  153 | Step:  0 | train loss:  0.00825907\n",
      "Epoch:  154 | Step:  0 | train loss:  0.008255829\n",
      "Epoch:  155 | Step:  0 | train loss:  0.008251818\n",
      "Epoch:  156 | Step:  0 | train loss:  0.008238612\n",
      "Epoch:  157 | Step:  0 | train loss:  0.008233883\n",
      "Epoch:  158 | Step:  0 | train loss:  0.008232378\n",
      "Epoch:  159 | Step:  0 | train loss:  0.008228525\n",
      "Epoch:  160 | Step:  0 | train loss:  0.008226121\n",
      "Epoch:  161 | Step:  0 | train loss:  0.008225337\n",
      "Epoch:  162 | Step:  0 | train loss:  0.008219932\n",
      "Epoch:  163 | Step:  0 | train loss:  0.008217821\n",
      "Epoch:  164 | Step:  0 | train loss:  0.008216712\n",
      "Epoch:  165 | Step:  0 | train loss:  0.008214388\n",
      "Epoch:  166 | Step:  0 | train loss:  0.008210154\n"
     ]
    },
    {
     "name": "stdout",
     "output_type": "stream",
     "text": [
      "Epoch:  167 | Step:  0 | train loss:  0.008209213\n",
      "Epoch:  168 | Step:  0 | train loss:  0.008206341\n",
      "Epoch:  169 | Step:  0 | train loss:  0.008200842\n",
      "Epoch:  170 | Step:  0 | train loss:  0.00819698\n",
      "Epoch:  171 | Step:  0 | train loss:  0.008192869\n",
      "Epoch:  172 | Step:  0 | train loss:  0.00817636\n",
      "Epoch:  173 | Step:  0 | train loss:  0.008174896\n",
      "Epoch:  174 | Step:  0 | train loss:  0.008172802\n",
      "Epoch:  175 | Step:  0 | train loss:  0.008167594\n",
      "Epoch:  176 | Step:  0 | train loss:  0.008163782\n",
      "Epoch:  177 | Step:  0 | train loss:  0.008159443\n",
      "Epoch:  178 | Step:  0 | train loss:  0.008156802\n",
      "Epoch:  179 | Step:  0 | train loss:  0.008153643\n",
      "Epoch:  180 | Step:  0 | train loss:  0.008151137\n",
      "Epoch:  181 | Step:  0 | train loss:  0.008147767\n",
      "Epoch:  182 | Step:  0 | train loss:  0.0081445\n",
      "Epoch:  183 | Step:  0 | train loss:  0.008138561\n",
      "Epoch:  184 | Step:  0 | train loss:  0.008138697\n",
      "Epoch:  185 | Step:  0 | train loss:  0.008145599\n",
      "Epoch:  186 | Step:  0 | train loss:  0.008137192\n",
      "Epoch:  187 | Step:  0 | train loss:  0.008127728\n",
      "Epoch:  188 | Step:  0 | train loss:  0.008124949\n",
      "Epoch:  189 | Step:  0 | train loss:  0.008129568\n",
      "Epoch:  190 | Step:  0 | train loss:  0.0081544025\n",
      "Epoch:  191 | Step:  0 | train loss:  0.00811923\n",
      "Epoch:  192 | Step:  0 | train loss:  0.008132742\n",
      "Epoch:  193 | Step:  0 | train loss:  0.008133485\n",
      "Epoch:  194 | Step:  0 | train loss:  0.008126605\n",
      "Epoch:  195 | Step:  0 | train loss:  0.00816009\n",
      "Epoch:  196 | Step:  0 | train loss:  0.008106592\n",
      "Epoch:  197 | Step:  0 | train loss:  0.008112205\n",
      "Epoch:  198 | Step:  0 | train loss:  0.008105031\n",
      "Epoch:  199 | Step:  0 | train loss:  0.008110249\n"
     ]
    }
   ],
   "source": [
    "loss_his = []\n",
    "for epoch in range(EPOCH):\n",
    "    for step, (b_x, b_y) in enumerate(loader):          # for each training step\n",
    "        output = net(b_x)  \n",
    "        output[target == 0] = 0\n",
    "        # get output for every net\n",
    "        loss = loss_func(output, b_y)  # compute loss for every net\n",
    "        opt.zero_grad()                # clear gradients for next train\n",
    "        loss.backward()                # backpropagation, compute gradients\n",
    "        opt.step()                     # apply gradients\n",
    "        loss_his.append(loss.data.numpy())     # loss recoder\n",
    "        print('Epoch: ', epoch, '| Step: ', step, '| train loss: ', loss.data.numpy())"
   ]
  },
  {
   "cell_type": "code",
   "execution_count": 15,
   "metadata": {},
   "outputs": [
    {
     "data": {
      "image/png": "[encoded data removed]",
      "text/plain": [
       "<Figure size 432x288 with 1 Axes>"
      ]
     },
     "metadata": {
      "needs_background": "light"
     },
     "output_type": "display_data"
    }
   ],
   "source": [
    "plt.plot(range(EPOCH), loss_his)\n",
    "plt.title('training loss')\n",
    "plt.xlabel('Epoch')\n",
    "plt.ylabel('Loss')\n",
    "plt.show()"
   ]
  },
  {
   "cell_type": "code",
   "execution_count": 16,
   "metadata": {
    "scrolled": false
   },
   "outputs": [
    {
     "data": {
      "text/plain": [
       "tensor([[[ 3.4896e+00,  3.0606e+00,  2.8383e+00,  ...,  3.0138e+00,\n",
       "           2.9828e+00,  4.0948e-01],\n",
       "         [ 3.2191e+00,  2.8453e+00,  2.5168e+00,  ...,  2.7897e+00,\n",
       "           2.7123e+00,  3.3035e-01],\n",
       "         [ 3.1501e+00,  2.7645e+00,  2.4523e+00,  ...,  2.7290e+00,\n",
       "           2.6578e+00,  3.1888e-01],\n",
       "         ...,\n",
       "         [ 3.7096e+00,  3.2644e+00,  3.0586e+00,  ...,  3.1888e+00,\n",
       "           3.1733e+00,  4.5731e-01],\n",
       "         [ 3.7486e+00,  3.3726e+00,  3.0560e+00,  ...,  3.2411e+00,\n",
       "           3.1785e+00,  4.4945e-01],\n",
       "         [ 3.6978e+00,  3.2522e+00,  3.0464e+00,  ...,  3.1782e+00,\n",
       "           3.1628e+00,  4.5508e-01]]], grad_fn=<ThAddBackward>)"
      ]
     },
     "execution_count": 16,
     "metadata": {},
     "output_type": "execute_result"
    }
   ],
   "source": [
    "test_var = Variable(test).unsqueeze(0)\n",
    "out = net(test_var)\n",
    "out"
   ]
  },
  {
   "cell_type": "code",
   "execution_count": 17,
   "metadata": {},
   "outputs": [],
   "source": [
    "out = out.detach().numpy()[0,:,:]"
   ]
  },
  {
   "cell_type": "code",
   "execution_count": 22,
   "metadata": {
    "scrolled": false
   },
   "outputs": [
    {
     "name": "stdout",
     "output_type": "stream",
     "text": [
      "Autoencoder RMSE: 1.2338423891180372\n"
     ]
    }
   ],
   "source": [
    "from sklearn.metrics import mean_squared_error\n",
    "\n",
    "def get_mse(pred, actual):\n",
    "    # Ignore nonzero terms.\n",
    "    pred = pred[actual.nonzero()].flatten()\n",
    "    actual = actual[actual.nonzero()].flatten()\n",
    "    return mean_squared_error(actual, pred)\n",
    "\n",
    "test = user_item_matrix(test_set)\n",
    "print('Autoencoder RMSE: ' + str(math.sqrt(get_mse(out, test))))"
   ]
  },
  {
   "cell_type": "code",
   "execution_count": null,
   "metadata": {},
   "outputs": [],
   "source": []
  }
 ],
 "metadata": {
  "kernelspec": {
   "display_name": "Python 3",
   "language": "python",
   "name": "python3"
  },
  "language_info": {
   "codemirror_mode": {
    "name": "ipython",
    "version": 3
   },
   "file_extension": ".py",
   "mimetype": "text/x-python",
   "name": "python",
   "nbconvert_exporter": "python",
   "pygments_lexer": "ipython3",
   "version": "3.6.7"
  }
 },
 "nbformat": 4,
 "nbformat_minor": 2
}
