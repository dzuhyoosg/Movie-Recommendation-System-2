{
 "cells": [
  {
   "cell_type": "code",
   "execution_count": 1,
   "metadata": {},
   "outputs": [],
   "source": [
    "import torch\n",
    "import torch.utils.data as Data\n",
    "import torch.nn.functional as F\n",
    "import torch.nn as nn\n",
    "import matplotlib.pyplot as plt\n",
    "import pandas as pd\n",
    "import numpy as np\n",
    "import math\n",
    "from torch.autograd import Variable"
   ]
  },
  {
   "cell_type": "code",
   "execution_count": 2,
   "metadata": {},
   "outputs": [],
   "source": [
    "LR = 0.01\n",
    "BATCH_SIZE = 32\n",
    "EPOCH = 200"
   ]
  },
  {
   "cell_type": "code",
   "execution_count": 3,
   "metadata": {},
   "outputs": [
    {
     "data": {
      "text/html": [
       "<div>\n",
       "<style scoped>\n",
       "    .dataframe tbody tr th:only-of-type {\n",
       "        vertical-align: middle;\n",
       "    }\n",
       "\n",
       "    .dataframe tbody tr th {\n",
       "        vertical-align: top;\n",
       "    }\n",
       "\n",
       "    .dataframe thead th {\n",
       "        text-align: right;\n",
       "    }\n",
       "</style>\n",
       "<table border=\"1\" class=\"dataframe\">\n",
       "  <thead>\n",
       "    <tr style=\"text-align: right;\">\n",
       "      <th></th>\n",
       "      <th>userId</th>\n",
       "      <th>movieId</th>\n",
       "      <th>rating</th>\n",
       "      <th>timestamp</th>\n",
       "    </tr>\n",
       "  </thead>\n",
       "  <tbody>\n",
       "    <tr>\n",
       "      <th>0</th>\n",
       "      <td>1</td>\n",
       "      <td>1</td>\n",
       "      <td>4.0</td>\n",
       "      <td>964982703</td>\n",
       "    </tr>\n",
       "    <tr>\n",
       "      <th>1</th>\n",
       "      <td>1</td>\n",
       "      <td>3</td>\n",
       "      <td>4.0</td>\n",
       "      <td>964981247</td>\n",
       "    </tr>\n",
       "    <tr>\n",
       "      <th>2</th>\n",
       "      <td>1</td>\n",
       "      <td>6</td>\n",
       "      <td>4.0</td>\n",
       "      <td>964982224</td>\n",
       "    </tr>\n",
       "    <tr>\n",
       "      <th>3</th>\n",
       "      <td>1</td>\n",
       "      <td>47</td>\n",
       "      <td>5.0</td>\n",
       "      <td>964983815</td>\n",
       "    </tr>\n",
       "    <tr>\n",
       "      <th>4</th>\n",
       "      <td>1</td>\n",
       "      <td>50</td>\n",
       "      <td>5.0</td>\n",
       "      <td>964982931</td>\n",
       "    </tr>\n",
       "  </tbody>\n",
       "</table>\n",
       "</div>"
      ],
      "text/plain": [
       "   userId  movieId  rating  timestamp\n",
       "0       1        1     4.0  964982703\n",
       "1       1        3     4.0  964981247\n",
       "2       1        6     4.0  964982224\n",
       "3       1       47     5.0  964983815\n",
       "4       1       50     5.0  964982931"
      ]
     },
     "execution_count": 3,
     "metadata": {},
     "output_type": "execute_result"
    }
   ],
   "source": [
    "df = pd.read_csv('./ml-latest-small/ratings.csv')\n",
    "df.head()"
   ]
  },
  {
   "cell_type": "code",
   "execution_count": 4,
   "metadata": {},
   "outputs": [
    {
     "data": {
      "text/plain": [
       "(75627, 25209)"
      ]
     },
     "execution_count": 4,
     "metadata": {},
     "output_type": "execute_result"
    }
   ],
   "source": [
    "from sklearn import model_selection as ms\n",
    "train_set, test_set = ms.train_test_split(df, test_size=0.25)\n",
    "len(train_set), len(test_set)"
   ]
  },
  {
   "cell_type": "code",
   "execution_count": 5,
   "metadata": {},
   "outputs": [],
   "source": [
    "training_set = np.array(train_set, dtype = 'int')\n",
    "testing_set = np.array(test_set, dtype = 'int')"
   ]
  },
  {
   "cell_type": "code",
   "execution_count": 6,
   "metadata": {},
   "outputs": [
    {
     "data": {
      "text/plain": [
       "(610, 9724)"
      ]
     },
     "execution_count": 6,
     "metadata": {},
     "output_type": "execute_result"
    }
   ],
   "source": [
    "num_users = df.userId.unique().shape[0]\n",
    "num_items = df.movieId.unique().shape[0]\n",
    "num_users, num_items"
   ]
  },
  {
   "cell_type": "code",
   "execution_count": 7,
   "metadata": {},
   "outputs": [],
   "source": [
    "movie_movieId = df.movieId.unique().tolist()\n",
    "movie_movieId.sort()\n",
    "d = dict()\n",
    "for i in range(0, len(movie_movieId)):\n",
    "    d[movie_movieId[i]] = i"
   ]
  },
  {
   "cell_type": "code",
   "execution_count": 8,
   "metadata": {},
   "outputs": [],
   "source": [
    "def user_item_matrix(data):\n",
    "    ratings = np.zeros((num_users, num_items))\n",
    "    for row in data.itertuples():\n",
    "        ratings[row[1]-1, d[row[2]]] = row[3]\n",
    "    return ratings"
   ]
  },
  {
   "cell_type": "code",
   "execution_count": 9,
   "metadata": {},
   "outputs": [],
   "source": [
    "ratings = user_item_matrix(df)\n",
    "train = user_item_matrix(train_set)\n",
    "test = user_item_matrix(test_set)"
   ]
  },
  {
   "cell_type": "code",
   "execution_count": 10,
   "metadata": {},
   "outputs": [
    {
     "data": {
      "text/plain": [
       "torch.Size([1, 610, 9724])"
      ]
     },
     "execution_count": 10,
     "metadata": {},
     "output_type": "execute_result"
    }
   ],
   "source": [
    "train = torch.FloatTensor(train)\n",
    "input = Variable(train).unsqueeze(0)\n",
    "input.shape"
   ]
  },
  {
   "cell_type": "code",
   "execution_count": 11,
   "metadata": {},
   "outputs": [],
   "source": [
    "train = torch.FloatTensor(train)\n",
    "test = torch.FloatTensor(test)\n",
    "input = Variable(train).unsqueeze(0)\n",
    "target = input\n",
    "torch_dataset = Data.TensorDataset(input, target)\n",
    "loader = Data.DataLoader(dataset=torch_dataset, batch_size=BATCH_SIZE, shuffle=True, num_workers=2,)"
   ]
  },
  {
   "cell_type": "code",
   "execution_count": 12,
   "metadata": {},
   "outputs": [],
   "source": [
    "class Net(torch.nn.Module):\n",
    "    def __init__(self):\n",
    "        super(Net, self).__init__()\n",
    "        self.fc1 = nn.Linear(num_items, 20)\n",
    "        self.fc2 = nn.Linear(20, 10)\n",
    "        self.fc3 = nn.Linear(10, 20)\n",
    "        self.fc4 = nn.Linear(20, num_items)\n",
    "        self.activation = nn.Sigmoid()\n",
    "        self.activation_t = nn.Tanh()\n",
    "        \n",
    "    def forward(self, x):\n",
    "        x = self.activation(self.fc1(x))\n",
    "        x = self.activation_t(self.fc2(x))\n",
    "        x = self.activation(self.fc3(x))\n",
    "        x = self.fc4(x)\n",
    "        return x"
   ]
  },
  {
   "cell_type": "code",
   "execution_count": 13,
   "metadata": {},
   "outputs": [],
   "source": [
    "net = Net()\n",
    "loss_func = nn.MSELoss()\n",
    "opt = torch.optim.Adam(net.parameters(), lr=LR, betas=(0.9, 0.99))"
   ]
  },
  {
   "cell_type": "code",
   "execution_count": 14,
   "metadata": {},
   "outputs": [
    {
     "name": "stdout",
     "output_type": "stream",
     "text": [
      "Epoch:  0 | Step:  0 | train loss:  0.1702938\n",
      "Epoch:  1 | Step:  0 | train loss:  0.16078098\n",
      "Epoch:  2 | Step:  0 | train loss:  0.15140396\n",
      "Epoch:  3 | Step:  0 | train loss:  0.14191265\n",
      "Epoch:  4 | Step:  0 | train loss:  0.13232112\n",
      "Epoch:  5 | Step:  0 | train loss:  0.122674026\n",
      "Epoch:  6 | Step:  0 | train loss:  0.1129463\n",
      "Epoch:  7 | Step:  0 | train loss:  0.103103176\n",
      "Epoch:  8 | Step:  0 | train loss:  0.09319996\n",
      "Epoch:  9 | Step:  0 | train loss:  0.08336309\n",
      "Epoch:  10 | Step:  0 | train loss:  0.07363341\n",
      "Epoch:  11 | Step:  0 | train loss:  0.06421376\n",
      "Epoch:  12 | Step:  0 | train loss:  0.055226002\n",
      "Epoch:  13 | Step:  0 | train loss:  0.046831142\n",
      "Epoch:  14 | Step:  0 | train loss:  0.03919196\n",
      "Epoch:  15 | Step:  0 | train loss:  0.0324472\n",
      "Epoch:  16 | Step:  0 | train loss:  0.02670423\n",
      "Epoch:  17 | Step:  0 | train loss:  0.022012586\n",
      "Epoch:  18 | Step:  0 | train loss:  0.018388309\n",
      "Epoch:  19 | Step:  0 | train loss:  0.015785119\n",
      "Epoch:  20 | Step:  0 | train loss:  0.014099518\n",
      "Epoch:  21 | Step:  0 | train loss:  0.013189542\n",
      "Epoch:  22 | Step:  0 | train loss:  0.012885787\n",
      "Epoch:  23 | Step:  0 | train loss:  0.013009297\n",
      "Epoch:  24 | Step:  0 | train loss:  0.013393466\n",
      "Epoch:  25 | Step:  0 | train loss:  0.0138913095\n",
      "Epoch:  26 | Step:  0 | train loss:  0.014386275\n",
      "Epoch:  27 | Step:  0 | train loss:  0.014798768\n",
      "Epoch:  28 | Step:  0 | train loss:  0.015074316\n",
      "Epoch:  29 | Step:  0 | train loss:  0.015183042\n",
      "Epoch:  30 | Step:  0 | train loss:  0.015120132\n",
      "Epoch:  31 | Step:  0 | train loss:  0.01489671\n",
      "Epoch:  32 | Step:  0 | train loss:  0.014538085\n",
      "Epoch:  33 | Step:  0 | train loss:  0.01407835\n",
      "Epoch:  34 | Step:  0 | train loss:  0.013554243\n",
      "Epoch:  35 | Step:  0 | train loss:  0.0130013395\n",
      "Epoch:  36 | Step:  0 | train loss:  0.012454803\n",
      "Epoch:  37 | Step:  0 | train loss:  0.011943988\n",
      "Epoch:  38 | Step:  0 | train loss:  0.011490352\n",
      "Epoch:  39 | Step:  0 | train loss:  0.011108675\n",
      "Epoch:  40 | Step:  0 | train loss:  0.010806274\n",
      "Epoch:  41 | Step:  0 | train loss:  0.010583582\n",
      "Epoch:  42 | Step:  0 | train loss:  0.010434913\n",
      "Epoch:  43 | Step:  0 | train loss:  0.010349826\n",
      "Epoch:  44 | Step:  0 | train loss:  0.010314939\n",
      "Epoch:  45 | Step:  0 | train loss:  0.010315025\n",
      "Epoch:  46 | Step:  0 | train loss:  0.010334903\n",
      "Epoch:  47 | Step:  0 | train loss:  0.010360669\n",
      "Epoch:  48 | Step:  0 | train loss:  0.010380956\n",
      "Epoch:  49 | Step:  0 | train loss:  0.010387395\n",
      "Epoch:  50 | Step:  0 | train loss:  0.010374991\n",
      "Epoch:  51 | Step:  0 | train loss:  0.010342208\n",
      "Epoch:  52 | Step:  0 | train loss:  0.010290492\n",
      "Epoch:  53 | Step:  0 | train loss:  0.010223593\n",
      "Epoch:  54 | Step:  0 | train loss:  0.010146831\n",
      "Epoch:  55 | Step:  0 | train loss:  0.010066258\n",
      "Epoch:  56 | Step:  0 | train loss:  0.009987784\n",
      "Epoch:  57 | Step:  0 | train loss:  0.009916442\n",
      "Epoch:  58 | Step:  0 | train loss:  0.009855959\n",
      "Epoch:  59 | Step:  0 | train loss:  0.009808508\n",
      "Epoch:  60 | Step:  0 | train loss:  0.009774671\n",
      "Epoch:  61 | Step:  0 | train loss:  0.009753585\n",
      "Epoch:  62 | Step:  0 | train loss:  0.00974327\n",
      "Epoch:  63 | Step:  0 | train loss:  0.0097410055\n",
      "Epoch:  64 | Step:  0 | train loss:  0.009743796\n",
      "Epoch:  65 | Step:  0 | train loss:  0.009748628\n",
      "Epoch:  66 | Step:  0 | train loss:  0.009752947\n",
      "Epoch:  67 | Step:  0 | train loss:  0.009754897\n",
      "Epoch:  68 | Step:  0 | train loss:  0.009753404\n",
      "Epoch:  69 | Step:  0 | train loss:  0.009748143\n",
      "Epoch:  70 | Step:  0 | train loss:  0.009739409\n",
      "Epoch:  71 | Step:  0 | train loss:  0.009727963\n",
      "Epoch:  72 | Step:  0 | train loss:  0.009714863\n",
      "Epoch:  73 | Step:  0 | train loss:  0.009701277\n",
      "Epoch:  74 | Step:  0 | train loss:  0.009688307\n",
      "Epoch:  75 | Step:  0 | train loss:  0.009676855\n",
      "Epoch:  76 | Step:  0 | train loss:  0.009667516\n",
      "Epoch:  77 | Step:  0 | train loss:  0.009660561\n",
      "Epoch:  78 | Step:  0 | train loss:  0.009655969\n",
      "Epoch:  79 | Step:  0 | train loss:  0.009653414\n",
      "Epoch:  80 | Step:  0 | train loss:  0.009652393\n",
      "Epoch:  81 | Step:  0 | train loss:  0.009652333\n",
      "Epoch:  82 | Step:  0 | train loss:  0.009652677\n",
      "Epoch:  83 | Step:  0 | train loss:  0.009652934\n",
      "Epoch:  84 | Step:  0 | train loss:  0.009652731\n",
      "Epoch:  85 | Step:  0 | train loss:  0.009651827\n",
      "Epoch:  86 | Step:  0 | train loss:  0.009650162\n",
      "Epoch:  87 | Step:  0 | train loss:  0.009647983\n",
      "Epoch:  88 | Step:  0 | train loss:  0.009645398\n",
      "Epoch:  89 | Step:  0 | train loss:  0.009642614\n",
      "Epoch:  90 | Step:  0 | train loss:  0.009639861\n",
      "Epoch:  91 | Step:  0 | train loss:  0.009637333\n",
      "Epoch:  92 | Step:  0 | train loss:  0.0096351635\n",
      "Epoch:  93 | Step:  0 | train loss:  0.009633403\n",
      "Epoch:  94 | Step:  0 | train loss:  0.00963207\n",
      "Epoch:  95 | Step:  0 | train loss:  0.009631144\n",
      "Epoch:  96 | Step:  0 | train loss:  0.009630496\n",
      "Epoch:  97 | Step:  0 | train loss:  0.009629972\n",
      "Epoch:  98 | Step:  0 | train loss:  0.00962937\n",
      "Epoch:  99 | Step:  0 | train loss:  0.009628755\n",
      "Epoch:  100 | Step:  0 | train loss:  0.009627827\n",
      "Epoch:  101 | Step:  0 | train loss:  0.009626817\n",
      "Epoch:  102 | Step:  0 | train loss:  0.00962573\n",
      "Epoch:  103 | Step:  0 | train loss:  0.009624546\n",
      "Epoch:  104 | Step:  0 | train loss:  0.0096233385\n",
      "Epoch:  105 | Step:  0 | train loss:  0.009622104\n",
      "Epoch:  106 | Step:  0 | train loss:  0.009620862\n",
      "Epoch:  107 | Step:  0 | train loss:  0.009619586\n",
      "Epoch:  108 | Step:  0 | train loss:  0.009618374\n",
      "Epoch:  109 | Step:  0 | train loss:  0.009617233\n",
      "Epoch:  110 | Step:  0 | train loss:  0.009616235\n",
      "Epoch:  111 | Step:  0 | train loss:  0.009615365\n",
      "Epoch:  112 | Step:  0 | train loss:  0.00961456\n",
      "Epoch:  113 | Step:  0 | train loss:  0.009613793\n",
      "Epoch:  114 | Step:  0 | train loss:  0.009613044\n",
      "Epoch:  115 | Step:  0 | train loss:  0.009612277\n",
      "Epoch:  116 | Step:  0 | train loss:  0.009611446\n",
      "Epoch:  117 | Step:  0 | train loss:  0.009610436\n",
      "Epoch:  118 | Step:  0 | train loss:  0.009609525\n",
      "Epoch:  119 | Step:  0 | train loss:  0.0096087\n",
      "Epoch:  120 | Step:  0 | train loss:  0.009607855\n",
      "Epoch:  121 | Step:  0 | train loss:  0.009606984\n",
      "Epoch:  122 | Step:  0 | train loss:  0.009606096\n",
      "Epoch:  123 | Step:  0 | train loss:  0.009605205\n",
      "Epoch:  124 | Step:  0 | train loss:  0.009604335\n",
      "Epoch:  125 | Step:  0 | train loss:  0.009603494\n",
      "Epoch:  126 | Step:  0 | train loss:  0.009602652\n",
      "Epoch:  127 | Step:  0 | train loss:  0.009601196\n",
      "Epoch:  128 | Step:  0 | train loss:  0.009600445\n",
      "Epoch:  129 | Step:  0 | train loss:  0.0095996335\n",
      "Epoch:  130 | Step:  0 | train loss:  0.009598751\n",
      "Epoch:  131 | Step:  0 | train loss:  0.009597858\n",
      "Epoch:  132 | Step:  0 | train loss:  0.009596989\n",
      "Epoch:  133 | Step:  0 | train loss:  0.009596063\n",
      "Epoch:  134 | Step:  0 | train loss:  0.009595121\n",
      "Epoch:  135 | Step:  0 | train loss:  0.009594281\n",
      "Epoch:  136 | Step:  0 | train loss:  0.009593499\n",
      "Epoch:  137 | Step:  0 | train loss:  0.0095927855\n",
      "Epoch:  138 | Step:  0 | train loss:  0.009592129\n",
      "Epoch:  139 | Step:  0 | train loss:  0.009591501\n",
      "Epoch:  140 | Step:  0 | train loss:  0.009590868\n",
      "Epoch:  141 | Step:  0 | train loss:  0.0095901955\n",
      "Epoch:  142 | Step:  0 | train loss:  0.009589426\n",
      "Epoch:  143 | Step:  0 | train loss:  0.009588412\n",
      "Epoch:  144 | Step:  0 | train loss:  0.009587299\n",
      "Epoch:  145 | Step:  0 | train loss:  0.009586287\n",
      "Epoch:  146 | Step:  0 | train loss:  0.0095850965\n",
      "Epoch:  147 | Step:  0 | train loss:  0.009583848\n",
      "Epoch:  148 | Step:  0 | train loss:  0.0095826145\n",
      "Epoch:  149 | Step:  0 | train loss:  0.009581369\n",
      "Epoch:  150 | Step:  0 | train loss:  0.009580145\n",
      "Epoch:  151 | Step:  0 | train loss:  0.009578856\n",
      "Epoch:  152 | Step:  0 | train loss:  0.00957741\n",
      "Epoch:  153 | Step:  0 | train loss:  0.009575789\n",
      "Epoch:  154 | Step:  0 | train loss:  0.009574245\n",
      "Epoch:  155 | Step:  0 | train loss:  0.009572768\n",
      "Epoch:  156 | Step:  0 | train loss:  0.009571299\n",
      "Epoch:  157 | Step:  0 | train loss:  0.009569759\n",
      "Epoch:  158 | Step:  0 | train loss:  0.009568058\n",
      "Epoch:  159 | Step:  0 | train loss:  0.0095661385\n",
      "Epoch:  160 | Step:  0 | train loss:  0.009563973\n",
      "Epoch:  161 | Step:  0 | train loss:  0.00956153\n",
      "Epoch:  162 | Step:  0 | train loss:  0.009558857\n",
      "Epoch:  163 | Step:  0 | train loss:  0.009556065\n",
      "Epoch:  164 | Step:  0 | train loss:  0.009552884\n",
      "Epoch:  165 | Step:  0 | train loss:  0.009548754\n",
      "Epoch:  166 | Step:  0 | train loss:  0.009544673\n"
     ]
    },
    {
     "name": "stdout",
     "output_type": "stream",
     "text": [
      "Epoch:  167 | Step:  0 | train loss:  0.009541221\n",
      "Epoch:  168 | Step:  0 | train loss:  0.0095382165\n",
      "Epoch:  169 | Step:  0 | train loss:  0.009535241\n",
      "Epoch:  170 | Step:  0 | train loss:  0.009531614\n",
      "Epoch:  171 | Step:  0 | train loss:  0.009522538\n",
      "Epoch:  172 | Step:  0 | train loss:  0.009518559\n",
      "Epoch:  173 | Step:  0 | train loss:  0.009514661\n",
      "Epoch:  174 | Step:  0 | train loss:  0.0095104445\n",
      "Epoch:  175 | Step:  0 | train loss:  0.009505554\n",
      "Epoch:  176 | Step:  0 | train loss:  0.009494686\n",
      "Epoch:  177 | Step:  0 | train loss:  0.009471618\n",
      "Epoch:  178 | Step:  0 | train loss:  0.009452474\n",
      "Epoch:  179 | Step:  0 | train loss:  0.009443435\n",
      "Epoch:  180 | Step:  0 | train loss:  0.009434538\n",
      "Epoch:  181 | Step:  0 | train loss:  0.0094234655\n",
      "Epoch:  182 | Step:  0 | train loss:  0.009409699\n",
      "Epoch:  183 | Step:  0 | train loss:  0.0093795955\n",
      "Epoch:  184 | Step:  0 | train loss:  0.009341056\n",
      "Epoch:  185 | Step:  0 | train loss:  0.009311398\n",
      "Epoch:  186 | Step:  0 | train loss:  0.009280057\n",
      "Epoch:  187 | Step:  0 | train loss:  0.009244153\n",
      "Epoch:  188 | Step:  0 | train loss:  0.009216589\n",
      "Epoch:  189 | Step:  0 | train loss:  0.009192408\n",
      "Epoch:  190 | Step:  0 | train loss:  0.009164234\n",
      "Epoch:  191 | Step:  0 | train loss:  0.009105039\n",
      "Epoch:  192 | Step:  0 | train loss:  0.009080176\n",
      "Epoch:  193 | Step:  0 | train loss:  0.009059347\n",
      "Epoch:  194 | Step:  0 | train loss:  0.009029296\n",
      "Epoch:  195 | Step:  0 | train loss:  0.009005957\n",
      "Epoch:  196 | Step:  0 | train loss:  0.008981615\n",
      "Epoch:  197 | Step:  0 | train loss:  0.008961867\n",
      "Epoch:  198 | Step:  0 | train loss:  0.008939235\n",
      "Epoch:  199 | Step:  0 | train loss:  0.008922163\n"
     ]
    }
   ],
   "source": [
    "loss_his = []\n",
    "for epoch in range(EPOCH):\n",
    "    for step, (b_x, b_y) in enumerate(loader):          # for each training step\n",
    "        output = net(b_x)  \n",
    "        output[target == 0] = 0\n",
    "        # get output for every net\n",
    "        loss = loss_func(output, b_y)  # compute loss for every net\n",
    "        opt.zero_grad()                # clear gradients for next train\n",
    "        loss.backward()                # backpropagation, compute gradients\n",
    "        opt.step()                     # apply gradients\n",
    "        loss_his.append(loss.data.numpy())     # loss recoder\n",
    "        print('Epoch: ', epoch, '| Step: ', step, '| train loss: ', loss.data.numpy())"
   ]
  },
  {
   "cell_type": "code",
   "execution_count": 15,
   "metadata": {},
   "outputs": [
    {
     "data": {
      "image/png": "[encoded data removed]",
      "text/plain": [
       "<Figure size 432x288 with 1 Axes>"
      ]
     },
     "metadata": {
      "needs_background": "light"
     },
     "output_type": "display_data"
    }
   ],
   "source": [
    "plt.plot(range(EPOCH), loss_his)\n",
    "plt.title('training loss')\n",
    "plt.xlabel('Epoch')\n",
    "plt.ylabel('Loss')\n",
    "plt.show()"
   ]
  },
  {
   "cell_type": "code",
   "execution_count": 16,
   "metadata": {
    "scrolled": false
   },
   "outputs": [
    {
     "data": {
      "text/plain": [
       "tensor([[[ 3.8582,  3.3811,  3.2836,  ..., -0.1012,  3.3142, -1.1228],\n",
       "         [ 3.5561,  3.1029,  3.0706,  ..., -0.1060,  3.0687, -1.0393],\n",
       "         [ 3.8874,  3.4117,  3.3106,  ..., -0.0993,  3.3367, -1.1222],\n",
       "         ...,\n",
       "         [ 4.0618,  3.5632,  3.4291,  ..., -0.1029,  3.4755, -1.1684],\n",
       "         [ 4.0079,  3.5156,  3.3934,  ..., -0.1009,  3.4321, -1.1539],\n",
       "         [ 4.0046,  3.5123,  3.3857,  ..., -0.1035,  3.4327, -1.1591]]],\n",
       "       grad_fn=<AddBackward0>)"
      ]
     },
     "execution_count": 16,
     "metadata": {},
     "output_type": "execute_result"
    }
   ],
   "source": [
    "test_var = Variable(test).unsqueeze(0)\n",
    "out = net(test_var)\n",
    "out"
   ]
  },
  {
   "cell_type": "code",
   "execution_count": 17,
   "metadata": {},
   "outputs": [],
   "source": [
    "out = out.detach().numpy()[0,:,:]"
   ]
  },
  {
   "cell_type": "code",
   "execution_count": 18,
   "metadata": {
    "scrolled": false
   },
   "outputs": [
    {
     "name": "stdout",
     "output_type": "stream",
     "text": [
      "Autoencoder RMSE: 1.2107372522220277\n"
     ]
    }
   ],
   "source": [
    "from sklearn.metrics import mean_squared_error, mean_absolute_error\n",
    "\n",
    "def get_mse(pred, actual):\n",
    "    # Ignore zero terms.\n",
    "    pred = pred[actual.nonzero()].flatten()\n",
    "    actual = actual[actual.nonzero()].flatten()\n",
    "    return mean_squared_error(actual, pred)\n",
    "def get_mae(pred, actual):\n",
    "    # Ignore zero terms.\n",
    "    pred = pred[actual.nonzero()].flatten()\n",
    "    actual = actual[actual.nonzero()].flatten()\n",
    "    return mean_squared_error(actual, pred)\n",
    "\n",
    "test = user_item_matrix(test_set)\n",
    "print('Autoencoder RMSE: ' + str(math.sqrt(get_mse(out, test))))\n",
    "print('Autoencoder MAE: ' + str(math.sqrt(get_mse(out, test))))"
   ]
  },
  {
   "cell_type": "code",
   "execution_count": null,
   "metadata": {},
   "outputs": [],
   "source": []
  },
  {
   "cell_type": "code",
   "execution_count": null,
   "metadata": {},
   "outputs": [],
   "source": []
  }
 ],
 "metadata": {
  "kernelspec": {
   "display_name": "Python 3",
   "language": "python",
   "name": "python3"
  },
  "language_info": {
   "codemirror_mode": {
    "name": "ipython",
    "version": 3
   },
   "file_extension": ".py",
   "mimetype": "text/x-python",
   "name": "python",
   "nbconvert_exporter": "python",
   "pygments_lexer": "ipython3",
   "version": "3.7.1"
  }
 },
 "nbformat": 4,
 "nbformat_minor": 2
}
