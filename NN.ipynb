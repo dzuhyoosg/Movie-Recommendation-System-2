{
 "cells": [
  {
   "cell_type": "code",
   "execution_count": 1,
   "metadata": {},
   "outputs": [],
   "source": [
    "import torch\n",
    "import torch.utils.data as Data\n",
    "import torch.nn.functional as F\n",
    "import torch.nn as nn\n",
    "import matplotlib.pyplot as plt\n",
    "import pandas as pd\n",
    "import numpy as np\n",
    "from torch.autograd import Variable"
   ]
  },
  {
   "cell_type": "code",
   "execution_count": 2,
   "metadata": {},
   "outputs": [],
   "source": [
    "LR = 0.01\n",
    "BATCH_SIZE = 32\n",
    "EPOCH = 200"
   ]
  },
  {
   "cell_type": "code",
   "execution_count": 3,
   "metadata": {},
   "outputs": [
    {
     "data": {
      "text/html": [
       "<div>\n",
       "<style scoped>\n",
       "    .dataframe tbody tr th:only-of-type {\n",
       "        vertical-align: middle;\n",
       "    }\n",
       "\n",
       "    .dataframe tbody tr th {\n",
       "        vertical-align: top;\n",
       "    }\n",
       "\n",
       "    .dataframe thead th {\n",
       "        text-align: right;\n",
       "    }\n",
       "</style>\n",
       "<table border=\"1\" class=\"dataframe\">\n",
       "  <thead>\n",
       "    <tr style=\"text-align: right;\">\n",
       "      <th></th>\n",
       "      <th>userId</th>\n",
       "      <th>movieId</th>\n",
       "      <th>rating</th>\n",
       "      <th>timestamp</th>\n",
       "    </tr>\n",
       "  </thead>\n",
       "  <tbody>\n",
       "    <tr>\n",
       "      <th>0</th>\n",
       "      <td>1</td>\n",
       "      <td>1</td>\n",
       "      <td>4.0</td>\n",
       "      <td>964982703</td>\n",
       "    </tr>\n",
       "    <tr>\n",
       "      <th>1</th>\n",
       "      <td>1</td>\n",
       "      <td>3</td>\n",
       "      <td>4.0</td>\n",
       "      <td>964981247</td>\n",
       "    </tr>\n",
       "    <tr>\n",
       "      <th>2</th>\n",
       "      <td>1</td>\n",
       "      <td>6</td>\n",
       "      <td>4.0</td>\n",
       "      <td>964982224</td>\n",
       "    </tr>\n",
       "    <tr>\n",
       "      <th>3</th>\n",
       "      <td>1</td>\n",
       "      <td>47</td>\n",
       "      <td>5.0</td>\n",
       "      <td>964983815</td>\n",
       "    </tr>\n",
       "    <tr>\n",
       "      <th>4</th>\n",
       "      <td>1</td>\n",
       "      <td>50</td>\n",
       "      <td>5.0</td>\n",
       "      <td>964982931</td>\n",
       "    </tr>\n",
       "  </tbody>\n",
       "</table>\n",
       "</div>"
      ],
      "text/plain": [
       "   userId  movieId  rating  timestamp\n",
       "0       1        1     4.0  964982703\n",
       "1       1        3     4.0  964981247\n",
       "2       1        6     4.0  964982224\n",
       "3       1       47     5.0  964983815\n",
       "4       1       50     5.0  964982931"
      ]
     },
     "execution_count": 3,
     "metadata": {},
     "output_type": "execute_result"
    }
   ],
   "source": [
    "df = pd.read_csv('./ml-latest-small/ratings.csv')\n",
    "df.head()"
   ]
  },
  {
   "cell_type": "code",
   "execution_count": 4,
   "metadata": {},
   "outputs": [
    {
     "data": {
      "text/plain": [
       "(75627, 25209)"
      ]
     },
     "execution_count": 4,
     "metadata": {},
     "output_type": "execute_result"
    }
   ],
   "source": [
    "from sklearn import model_selection as ms\n",
    "train_set, test_set = ms.train_test_split(df, test_size=0.25)\n",
    "len(train_set), len(test_set)"
   ]
  },
  {
   "cell_type": "code",
   "execution_count": 5,
   "metadata": {},
   "outputs": [],
   "source": [
    "training_set = np.array(train_set, dtype = 'int')\n",
    "testing_set = np.array(test_set, dtype = 'int')"
   ]
  },
  {
   "cell_type": "code",
   "execution_count": 6,
   "metadata": {},
   "outputs": [
    {
     "data": {
      "text/plain": [
       "(610, 9724)"
      ]
     },
     "execution_count": 6,
     "metadata": {},
     "output_type": "execute_result"
    }
   ],
   "source": [
    "num_users = df.userId.unique().shape[0]\n",
    "num_items = df.movieId.unique().shape[0]\n",
    "num_users, num_items"
   ]
  },
  {
   "cell_type": "code",
   "execution_count": 7,
   "metadata": {},
   "outputs": [],
   "source": [
    "movie_movieId = df.movieId.unique().tolist()\n",
    "movie_movieId.sort()\n",
    "d = dict()\n",
    "for i in range(0, len(movie_movieId)):\n",
    "    d[movie_movieId[i]] = i"
   ]
  },
  {
   "cell_type": "code",
   "execution_count": 8,
   "metadata": {},
   "outputs": [],
   "source": [
    "def user_item_matrix(data):\n",
    "    ratings = np.zeros((num_users, num_items))\n",
    "    for row in data.itertuples():\n",
    "        ratings[row[1]-1, d[row[2]]] = row[3]\n",
    "    return ratings"
   ]
  },
  {
   "cell_type": "code",
   "execution_count": 9,
   "metadata": {},
   "outputs": [],
   "source": [
    "ratings = user_item_matrix(df)\n",
    "train = user_item_matrix(train_set)\n",
    "test = user_item_matrix(test_set)"
   ]
  },
  {
   "cell_type": "code",
   "execution_count": 10,
   "metadata": {},
   "outputs": [
    {
     "data": {
      "text/plain": [
       "torch.Size([1, 610, 9724])"
      ]
     },
     "execution_count": 10,
     "metadata": {},
     "output_type": "execute_result"
    }
   ],
   "source": [
    "train = torch.FloatTensor(train)\n",
    "input = Variable(train).unsqueeze(0)\n",
    "input.shape"
   ]
  },
  {
   "cell_type": "code",
   "execution_count": 11,
   "metadata": {},
   "outputs": [],
   "source": [
    "train = torch.FloatTensor(train)\n",
    "test = torch.FloatTensor(test)\n",
    "input = Variable(train).unsqueeze(0)\n",
    "target = input\n",
    "torch_dataset = Data.TensorDataset(input, target)\n",
    "loader = Data.DataLoader(dataset=torch_dataset, batch_size=BATCH_SIZE, shuffle=True, num_workers=2,)"
   ]
  },
  {
   "cell_type": "code",
   "execution_count": 12,
   "metadata": {},
   "outputs": [],
   "source": [
    "class Net(torch.nn.Module):\n",
    "    def __init__(self):\n",
    "        super(Net, self).__init__()\n",
    "        self.fc1 = nn.Linear(num_items, 20)\n",
    "        self.fc2 = nn.Linear(20, 10)\n",
    "        self.fc3 = nn.Linear(10, 20)\n",
    "        self.fc4 = nn.Linear(20, num_items)\n",
    "        self.activation = nn.Sigmoid()\n",
    "        self.activation_t = nn.ReLU()\n",
    "        \n",
    "    def forward(self, x):\n",
    "        x = self.activation(self.fc1(x))\n",
    "        x = self.activation_t(self.fc2(x))\n",
    "        x = self.activation(self.fc3(x))\n",
    "        x = self.fc4(x)\n",
    "        return x"
   ]
  },
  {
   "cell_type": "code",
   "execution_count": 13,
   "metadata": {},
   "outputs": [],
   "source": [
    "net = Net()\n",
    "loss_func = nn.MSELoss()\n",
    "opt = torch.optim.Adam(net.parameters(), lr=LR, betas=(0.9, 0.99))"
   ]
  },
  {
   "cell_type": "code",
   "execution_count": 14,
   "metadata": {},
   "outputs": [
    {
     "name": "stdout",
     "output_type": "stream",
     "text": [
      "Epoch:  0 | Step:  0 | train loss:  0.17093757\n",
      "Epoch:  1 | Step:  0 | train loss:  0.16165143\n",
      "Epoch:  2 | Step:  0 | train loss:  0.15256897\n",
      "Epoch:  3 | Step:  0 | train loss:  0.14355434\n",
      "Epoch:  4 | Step:  0 | train loss:  0.13465391\n",
      "Epoch:  5 | Step:  0 | train loss:  0.12593271\n",
      "Epoch:  6 | Step:  0 | train loss:  0.117445774\n",
      "Epoch:  7 | Step:  0 | train loss:  0.109210126\n",
      "Epoch:  8 | Step:  0 | train loss:  0.10117807\n",
      "Epoch:  9 | Step:  0 | train loss:  0.093316734\n",
      "Epoch:  10 | Step:  0 | train loss:  0.085613444\n",
      "Epoch:  11 | Step:  0 | train loss:  0.078049645\n",
      "Epoch:  12 | Step:  0 | train loss:  0.07058457\n",
      "Epoch:  13 | Step:  0 | train loss:  0.06325416\n",
      "Epoch:  14 | Step:  0 | train loss:  0.05600365\n",
      "Epoch:  15 | Step:  0 | train loss:  0.048936885\n",
      "Epoch:  16 | Step:  0 | train loss:  0.042190157\n",
      "Epoch:  17 | Step:  0 | train loss:  0.035790578\n",
      "Epoch:  18 | Step:  0 | train loss:  0.02989061\n",
      "Epoch:  19 | Step:  0 | train loss:  0.024678001\n",
      "Epoch:  20 | Step:  0 | train loss:  0.020260815\n",
      "Epoch:  21 | Step:  0 | train loss:  0.016763015\n",
      "Epoch:  22 | Step:  0 | train loss:  0.014345268\n",
      "Epoch:  23 | Step:  0 | train loss:  0.01327685\n",
      "Epoch:  24 | Step:  0 | train loss:  0.013446601\n",
      "Epoch:  25 | Step:  0 | train loss:  0.014129354\n",
      "Epoch:  26 | Step:  0 | train loss:  0.014851491\n",
      "Epoch:  27 | Step:  0 | train loss:  0.015453923\n",
      "Epoch:  28 | Step:  0 | train loss:  0.015801936\n",
      "Epoch:  29 | Step:  0 | train loss:  0.01573894\n",
      "Epoch:  30 | Step:  0 | train loss:  0.015390302\n",
      "Epoch:  31 | Step:  0 | train loss:  0.014740635\n",
      "Epoch:  32 | Step:  0 | train loss:  0.01395941\n",
      "Epoch:  33 | Step:  0 | train loss:  0.01309106\n",
      "Epoch:  34 | Step:  0 | train loss:  0.012235443\n",
      "Epoch:  35 | Step:  0 | train loss:  0.011456818\n",
      "Epoch:  36 | Step:  0 | train loss:  0.0107972855\n",
      "Epoch:  37 | Step:  0 | train loss:  0.010303453\n",
      "Epoch:  38 | Step:  0 | train loss:  0.009977053\n",
      "Epoch:  39 | Step:  0 | train loss:  0.009802776\n",
      "Epoch:  40 | Step:  0 | train loss:  0.009758735\n",
      "Epoch:  41 | Step:  0 | train loss:  0.009809924\n",
      "Epoch:  42 | Step:  0 | train loss:  0.0099217445\n",
      "Epoch:  43 | Step:  0 | train loss:  0.010057811\n",
      "Epoch:  44 | Step:  0 | train loss:  0.010189963\n",
      "Epoch:  45 | Step:  0 | train loss:  0.010299386\n",
      "Epoch:  46 | Step:  0 | train loss:  0.010371591\n",
      "Epoch:  47 | Step:  0 | train loss:  0.010400375\n",
      "Epoch:  48 | Step:  0 | train loss:  0.010384634\n",
      "Epoch:  49 | Step:  0 | train loss:  0.010329359\n",
      "Epoch:  50 | Step:  0 | train loss:  0.010242089\n",
      "Epoch:  51 | Step:  0 | train loss:  0.010132669\n",
      "Epoch:  52 | Step:  0 | train loss:  0.01001162\n",
      "Epoch:  53 | Step:  0 | train loss:  0.009889772\n",
      "Epoch:  54 | Step:  0 | train loss:  0.009776531\n",
      "Epoch:  55 | Step:  0 | train loss:  0.009679189\n",
      "Epoch:  56 | Step:  0 | train loss:  0.009602748\n",
      "Epoch:  57 | Step:  0 | train loss:  0.00954939\n",
      "Epoch:  58 | Step:  0 | train loss:  0.009517634\n",
      "Epoch:  59 | Step:  0 | train loss:  0.009502924\n",
      "Epoch:  60 | Step:  0 | train loss:  0.009499372\n",
      "Epoch:  61 | Step:  0 | train loss:  0.0094979135\n",
      "Epoch:  62 | Step:  0 | train loss:  0.009491501\n",
      "Epoch:  63 | Step:  0 | train loss:  0.009479385\n",
      "Epoch:  64 | Step:  0 | train loss:  0.009464283\n",
      "Epoch:  65 | Step:  0 | train loss:  0.009452167\n",
      "Epoch:  66 | Step:  0 | train loss:  0.00944844\n",
      "Epoch:  67 | Step:  0 | train loss:  0.009450681\n",
      "Epoch:  68 | Step:  0 | train loss:  0.00944673\n",
      "Epoch:  69 | Step:  0 | train loss:  0.0094344895\n",
      "Epoch:  70 | Step:  0 | train loss:  0.009421816\n",
      "Epoch:  71 | Step:  0 | train loss:  0.00941435\n",
      "Epoch:  72 | Step:  0 | train loss:  0.00941044\n",
      "Epoch:  73 | Step:  0 | train loss:  0.009404706\n",
      "Epoch:  74 | Step:  0 | train loss:  0.009394347\n",
      "Epoch:  75 | Step:  0 | train loss:  0.00938126\n",
      "Epoch:  76 | Step:  0 | train loss:  0.009367909\n",
      "Epoch:  77 | Step:  0 | train loss:  0.009356197\n",
      "Epoch:  78 | Step:  0 | train loss:  0.009346352\n",
      "Epoch:  79 | Step:  0 | train loss:  0.00933339\n",
      "Epoch:  80 | Step:  0 | train loss:  0.009312834\n",
      "Epoch:  81 | Step:  0 | train loss:  0.009288658\n",
      "Epoch:  82 | Step:  0 | train loss:  0.009274682\n",
      "Epoch:  83 | Step:  0 | train loss:  0.009264016\n",
      "Epoch:  84 | Step:  0 | train loss:  0.009249138\n",
      "Epoch:  85 | Step:  0 | train loss:  0.009228588\n",
      "Epoch:  86 | Step:  0 | train loss:  0.009211248\n",
      "Epoch:  87 | Step:  0 | train loss:  0.009195931\n",
      "Epoch:  88 | Step:  0 | train loss:  0.009172786\n",
      "Epoch:  89 | Step:  0 | train loss:  0.00915332\n",
      "Epoch:  90 | Step:  0 | train loss:  0.00912504\n",
      "Epoch:  91 | Step:  0 | train loss:  0.00910336\n",
      "Epoch:  92 | Step:  0 | train loss:  0.009077136\n",
      "Epoch:  93 | Step:  0 | train loss:  0.009053345\n",
      "Epoch:  94 | Step:  0 | train loss:  0.009024772\n",
      "Epoch:  95 | Step:  0 | train loss:  0.00899791\n",
      "Epoch:  96 | Step:  0 | train loss:  0.008976626\n",
      "Epoch:  97 | Step:  0 | train loss:  0.008952535\n",
      "Epoch:  98 | Step:  0 | train loss:  0.008927972\n",
      "Epoch:  99 | Step:  0 | train loss:  0.008901182\n",
      "Epoch:  100 | Step:  0 | train loss:  0.008862303\n",
      "Epoch:  101 | Step:  0 | train loss:  0.008851777\n",
      "Epoch:  102 | Step:  0 | train loss:  0.008825645\n",
      "Epoch:  103 | Step:  0 | train loss:  0.008809465\n",
      "Epoch:  104 | Step:  0 | train loss:  0.008791437\n",
      "Epoch:  105 | Step:  0 | train loss:  0.00877346\n",
      "Epoch:  106 | Step:  0 | train loss:  0.008759083\n",
      "Epoch:  107 | Step:  0 | train loss:  0.00874737\n",
      "Epoch:  108 | Step:  0 | train loss:  0.008722893\n",
      "Epoch:  109 | Step:  0 | train loss:  0.008708589\n",
      "Epoch:  110 | Step:  0 | train loss:  0.0086925505\n",
      "Epoch:  111 | Step:  0 | train loss:  0.008665735\n",
      "Epoch:  112 | Step:  0 | train loss:  0.008660355\n",
      "Epoch:  113 | Step:  0 | train loss:  0.008647882\n",
      "Epoch:  114 | Step:  0 | train loss:  0.008633582\n",
      "Epoch:  115 | Step:  0 | train loss:  0.0086114835\n",
      "Epoch:  116 | Step:  0 | train loss:  0.008586236\n",
      "Epoch:  117 | Step:  0 | train loss:  0.008572474\n",
      "Epoch:  118 | Step:  0 | train loss:  0.008560805\n",
      "Epoch:  119 | Step:  0 | train loss:  0.008550439\n",
      "Epoch:  120 | Step:  0 | train loss:  0.008544925\n",
      "Epoch:  121 | Step:  0 | train loss:  0.008536747\n",
      "Epoch:  122 | Step:  0 | train loss:  0.008530943\n",
      "Epoch:  123 | Step:  0 | train loss:  0.008525407\n",
      "Epoch:  124 | Step:  0 | train loss:  0.008521601\n",
      "Epoch:  125 | Step:  0 | train loss:  0.008516026\n",
      "Epoch:  126 | Step:  0 | train loss:  0.008508351\n",
      "Epoch:  127 | Step:  0 | train loss:  0.008502105\n",
      "Epoch:  128 | Step:  0 | train loss:  0.008497841\n",
      "Epoch:  129 | Step:  0 | train loss:  0.008494144\n",
      "Epoch:  130 | Step:  0 | train loss:  0.00849\n",
      "Epoch:  131 | Step:  0 | train loss:  0.008486298\n",
      "Epoch:  132 | Step:  0 | train loss:  0.008482507\n",
      "Epoch:  133 | Step:  0 | train loss:  0.008476872\n",
      "Epoch:  134 | Step:  0 | train loss:  0.008471409\n",
      "Epoch:  135 | Step:  0 | train loss:  0.008466817\n",
      "Epoch:  136 | Step:  0 | train loss:  0.008463896\n",
      "Epoch:  137 | Step:  0 | train loss:  0.008459166\n",
      "Epoch:  138 | Step:  0 | train loss:  0.008455499\n",
      "Epoch:  139 | Step:  0 | train loss:  0.008441111\n",
      "Epoch:  140 | Step:  0 | train loss:  0.008428424\n",
      "Epoch:  141 | Step:  0 | train loss:  0.008422583\n",
      "Epoch:  142 | Step:  0 | train loss:  0.008414596\n",
      "Epoch:  143 | Step:  0 | train loss:  0.008418136\n",
      "Epoch:  144 | Step:  0 | train loss:  0.008401856\n",
      "Epoch:  145 | Step:  0 | train loss:  0.008399763\n",
      "Epoch:  146 | Step:  0 | train loss:  0.008385322\n",
      "Epoch:  147 | Step:  0 | train loss:  0.008376199\n",
      "Epoch:  148 | Step:  0 | train loss:  0.008360901\n",
      "Epoch:  149 | Step:  0 | train loss:  0.008356071\n",
      "Epoch:  150 | Step:  0 | train loss:  0.008348061\n",
      "Epoch:  151 | Step:  0 | train loss:  0.008327227\n",
      "Epoch:  152 | Step:  0 | train loss:  0.008316306\n",
      "Epoch:  153 | Step:  0 | train loss:  0.0083120335\n",
      "Epoch:  154 | Step:  0 | train loss:  0.008305536\n",
      "Epoch:  155 | Step:  0 | train loss:  0.008300828\n",
      "Epoch:  156 | Step:  0 | train loss:  0.008291781\n",
      "Epoch:  157 | Step:  0 | train loss:  0.008288786\n",
      "Epoch:  158 | Step:  0 | train loss:  0.008274304\n",
      "Epoch:  159 | Step:  0 | train loss:  0.008267304\n",
      "Epoch:  160 | Step:  0 | train loss:  0.008252906\n",
      "Epoch:  161 | Step:  0 | train loss:  0.008239463\n",
      "Epoch:  162 | Step:  0 | train loss:  0.008230456\n",
      "Epoch:  163 | Step:  0 | train loss:  0.008229959\n",
      "Epoch:  164 | Step:  0 | train loss:  0.008223356\n",
      "Epoch:  165 | Step:  0 | train loss:  0.008216192\n",
      "Epoch:  166 | Step:  0 | train loss:  0.008205187\n"
     ]
    },
    {
     "name": "stdout",
     "output_type": "stream",
     "text": [
      "Epoch:  167 | Step:  0 | train loss:  0.008199232\n",
      "Epoch:  168 | Step:  0 | train loss:  0.008192011\n",
      "Epoch:  169 | Step:  0 | train loss:  0.008184702\n",
      "Epoch:  170 | Step:  0 | train loss:  0.008178298\n",
      "Epoch:  171 | Step:  0 | train loss:  0.008170194\n",
      "Epoch:  172 | Step:  0 | train loss:  0.008158084\n",
      "Epoch:  173 | Step:  0 | train loss:  0.00815029\n",
      "Epoch:  174 | Step:  0 | train loss:  0.0081452485\n",
      "Epoch:  175 | Step:  0 | train loss:  0.008141\n",
      "Epoch:  176 | Step:  0 | train loss:  0.008128934\n",
      "Epoch:  177 | Step:  0 | train loss:  0.008121428\n",
      "Epoch:  178 | Step:  0 | train loss:  0.00811921\n",
      "Epoch:  179 | Step:  0 | train loss:  0.008108524\n",
      "Epoch:  180 | Step:  0 | train loss:  0.008103378\n",
      "Epoch:  181 | Step:  0 | train loss:  0.008096751\n",
      "Epoch:  182 | Step:  0 | train loss:  0.008092305\n",
      "Epoch:  183 | Step:  0 | train loss:  0.008081287\n",
      "Epoch:  184 | Step:  0 | train loss:  0.008073909\n",
      "Epoch:  185 | Step:  0 | train loss:  0.008058286\n",
      "Epoch:  186 | Step:  0 | train loss:  0.008051123\n",
      "Epoch:  187 | Step:  0 | train loss:  0.008045477\n",
      "Epoch:  188 | Step:  0 | train loss:  0.008049013\n",
      "Epoch:  189 | Step:  0 | train loss:  0.008027933\n",
      "Epoch:  190 | Step:  0 | train loss:  0.008010302\n",
      "Epoch:  191 | Step:  0 | train loss:  0.008000316\n",
      "Epoch:  192 | Step:  0 | train loss:  0.007992209\n",
      "Epoch:  193 | Step:  0 | train loss:  0.007983043\n",
      "Epoch:  194 | Step:  0 | train loss:  0.007972821\n",
      "Epoch:  195 | Step:  0 | train loss:  0.00796225\n",
      "Epoch:  196 | Step:  0 | train loss:  0.007949222\n",
      "Epoch:  197 | Step:  0 | train loss:  0.007930598\n",
      "Epoch:  198 | Step:  0 | train loss:  0.007926111\n",
      "Epoch:  199 | Step:  0 | train loss:  0.007911398\n"
     ]
    }
   ],
   "source": [
    "loss_his = []\n",
    "for epoch in range(EPOCH):\n",
    "    for step, (b_x, b_y) in enumerate(loader):          # for each training step\n",
    "        output = net(b_x)  \n",
    "        output[target == 0] = 0\n",
    "        # get output for every net\n",
    "        loss = loss_func(output, b_y)  # compute loss for every net\n",
    "        opt.zero_grad()                # clear gradients for next train\n",
    "        loss.backward()                # backpropagation, compute gradients\n",
    "        opt.step()                     # apply gradients\n",
    "        loss_his.append(loss.data.numpy())     # loss recoder\n",
    "        print('Epoch: ', epoch, '| Step: ', step, '| train loss: ', loss.data.numpy())"
   ]
  },
  {
   "cell_type": "code",
   "execution_count": 15,
   "metadata": {},
   "outputs": [
    {
     "data": {
      "image/png": "[encoded data removed]",
      "text/plain": [
       "<Figure size 432x288 with 1 Axes>"
      ]
     },
     "metadata": {
      "needs_background": "light"
     },
     "output_type": "display_data"
    }
   ],
   "source": [
    "plt.plot(range(EPOCH), loss_his)\n",
    "plt.title('training loss')\n",
    "plt.xlabel('Epoch')\n",
    "plt.ylabel('Loss')\n",
    "plt.show()"
   ]
  },
  {
   "cell_type": "code",
   "execution_count": 16,
   "metadata": {
    "scrolled": false
   },
   "outputs": [
    {
     "data": {
      "text/plain": [
       "tensor([[[ 3.8652e+00,  3.4876e+00,  3.1461e+00,  ...,  3.2545e+00,\n",
       "           5.4733e-01, -4.3099e-01],\n",
       "         [ 4.2673e+00,  3.9057e+00,  3.5450e+00,  ...,  3.5891e+00,\n",
       "           7.0051e-01, -4.7614e-01],\n",
       "         [ 3.8388e+00,  3.4803e+00,  3.1106e+00,  ...,  3.2526e+00,\n",
       "           6.4846e-01, -4.2748e-01],\n",
       "         ...,\n",
       "         [ 4.2499e+00,  3.8838e+00,  3.5393e+00,  ...,  3.5715e+00,\n",
       "           6.5260e-01, -4.9448e-01],\n",
       "         [ 4.0520e+00,  3.7079e+00,  3.3298e+00,  ...,  3.4153e+00,\n",
       "           6.6125e-01, -4.5705e-01],\n",
       "         [ 3.7368e+00,  3.3691e+00,  3.0250e+00,  ...,  3.1574e+00,\n",
       "           5.5656e-01, -4.1503e-01]]], grad_fn=<ThAddBackward>)"
      ]
     },
     "execution_count": 16,
     "metadata": {},
     "output_type": "execute_result"
    }
   ],
   "source": [
    "test_var = Variable(test).unsqueeze(0)\n",
    "out = net(test_var)\n",
    "out"
   ]
  },
  {
   "cell_type": "code",
   "execution_count": 17,
   "metadata": {},
   "outputs": [],
   "source": [
    "out = out.detach().numpy()[0,:,:]"
   ]
  },
  {
   "cell_type": "code",
   "execution_count": 18,
   "metadata": {
    "scrolled": false
   },
   "outputs": [
    {
     "name": "stdout",
     "output_type": "stream",
     "text": [
      "1.5663564123064484\n"
     ]
    }
   ],
   "source": [
    "from sklearn.metrics import mean_squared_error\n",
    "\n",
    "def get_mse(pred, actual):\n",
    "    # Ignore nonzero terms.\n",
    "    pred = pred[actual.nonzero()].flatten()\n",
    "    actual = actual[actual.nonzero()].flatten()\n",
    "    return mean_squared_error(actual, pred)\n",
    "\n",
    "test = user_item_matrix(test_set)\n",
    "print('Autoencoder RMSEget_mse(out, test))"
   ]
  },
  {
   "cell_type": "code",
   "execution_count": null,
   "metadata": {},
   "outputs": [],
   "source": []
  }
 ],
 "metadata": {
  "kernelspec": {
   "display_name": "Python 3",
   "language": "python",
   "name": "python3"
  },
  "language_info": {
   "codemirror_mode": {
    "name": "ipython",
    "version": 3
   },
   "file_extension": ".py",
   "mimetype": "text/x-python",
   "name": "python",
   "nbconvert_exporter": "python",
   "pygments_lexer": "ipython3",
   "version": "3.6.7"
  }
 },
 "nbformat": 4,
 "nbformat_minor": 2
}
