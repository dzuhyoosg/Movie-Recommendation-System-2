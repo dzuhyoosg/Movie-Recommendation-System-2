{
 "cells": [
  {
   "cell_type": "code",
   "execution_count": 1,
   "metadata": {},
   "outputs": [],
   "source": [
    "import torch\n",
    "import torch.utils.data as Data\n",
    "import torch.nn.functional as F\n",
    "import torch.nn as nn\n",
    "import matplotlib.pyplot as plt\n",
    "import pandas as pd\n",
    "import numpy as np\n",
    "import math\n",
    "from torch.autograd import Variable"
   ]
  },
  {
   "cell_type": "code",
   "execution_count": 19,
   "metadata": {},
   "outputs": [],
   "source": [
    "LR = 0.01\n",
    "BATCH_SIZE = 32\n",
    "EPOCH = 200"
   ]
  },
  {
   "cell_type": "code",
   "execution_count": 3,
   "metadata": {},
   "outputs": [
    {
     "data": {
      "text/html": [
       "<div>\n",
       "<style scoped>\n",
       "    .dataframe tbody tr th:only-of-type {\n",
       "        vertical-align: middle;\n",
       "    }\n",
       "\n",
       "    .dataframe tbody tr th {\n",
       "        vertical-align: top;\n",
       "    }\n",
       "\n",
       "    .dataframe thead th {\n",
       "        text-align: right;\n",
       "    }\n",
       "</style>\n",
       "<table border=\"1\" class=\"dataframe\">\n",
       "  <thead>\n",
       "    <tr style=\"text-align: right;\">\n",
       "      <th></th>\n",
       "      <th>userId</th>\n",
       "      <th>movieId</th>\n",
       "      <th>rating</th>\n",
       "      <th>timestamp</th>\n",
       "    </tr>\n",
       "  </thead>\n",
       "  <tbody>\n",
       "    <tr>\n",
       "      <th>0</th>\n",
       "      <td>1</td>\n",
       "      <td>1</td>\n",
       "      <td>4.0</td>\n",
       "      <td>964982703</td>\n",
       "    </tr>\n",
       "    <tr>\n",
       "      <th>1</th>\n",
       "      <td>1</td>\n",
       "      <td>3</td>\n",
       "      <td>4.0</td>\n",
       "      <td>964981247</td>\n",
       "    </tr>\n",
       "    <tr>\n",
       "      <th>2</th>\n",
       "      <td>1</td>\n",
       "      <td>6</td>\n",
       "      <td>4.0</td>\n",
       "      <td>964982224</td>\n",
       "    </tr>\n",
       "    <tr>\n",
       "      <th>3</th>\n",
       "      <td>1</td>\n",
       "      <td>47</td>\n",
       "      <td>5.0</td>\n",
       "      <td>964983815</td>\n",
       "    </tr>\n",
       "    <tr>\n",
       "      <th>4</th>\n",
       "      <td>1</td>\n",
       "      <td>50</td>\n",
       "      <td>5.0</td>\n",
       "      <td>964982931</td>\n",
       "    </tr>\n",
       "  </tbody>\n",
       "</table>\n",
       "</div>"
      ],
      "text/plain": [
       "   userId  movieId  rating  timestamp\n",
       "0       1        1     4.0  964982703\n",
       "1       1        3     4.0  964981247\n",
       "2       1        6     4.0  964982224\n",
       "3       1       47     5.0  964983815\n",
       "4       1       50     5.0  964982931"
      ]
     },
     "execution_count": 3,
     "metadata": {},
     "output_type": "execute_result"
    }
   ],
   "source": [
    "df = pd.read_csv('./ml-latest-small/ratings.csv')\n",
    "df.head()"
   ]
  },
  {
   "cell_type": "code",
   "execution_count": 4,
   "metadata": {},
   "outputs": [
    {
     "data": {
      "text/plain": [
       "(75627, 25209)"
      ]
     },
     "execution_count": 4,
     "metadata": {},
     "output_type": "execute_result"
    }
   ],
   "source": [
    "from sklearn import model_selection as ms\n",
    "train_set, test_set = ms.train_test_split(df, test_size=0.25)\n",
    "len(train_set), len(test_set)"
   ]
  },
  {
   "cell_type": "code",
   "execution_count": 5,
   "metadata": {},
   "outputs": [],
   "source": [
    "training_set = np.array(train_set, dtype = 'int')\n",
    "testing_set = np.array(test_set, dtype = 'int')"
   ]
  },
  {
   "cell_type": "code",
   "execution_count": 6,
   "metadata": {},
   "outputs": [
    {
     "data": {
      "text/plain": [
       "(610, 9724)"
      ]
     },
     "execution_count": 6,
     "metadata": {},
     "output_type": "execute_result"
    }
   ],
   "source": [
    "num_users = df.userId.unique().shape[0]\n",
    "num_items = df.movieId.unique().shape[0]\n",
    "num_users, num_items"
   ]
  },
  {
   "cell_type": "code",
   "execution_count": 7,
   "metadata": {},
   "outputs": [],
   "source": [
    "movie_movieId = df.movieId.unique().tolist()\n",
    "movie_movieId.sort()\n",
    "d = dict()\n",
    "for i in range(0, len(movie_movieId)):\n",
    "    d[movie_movieId[i]] = i"
   ]
  },
  {
   "cell_type": "code",
   "execution_count": 8,
   "metadata": {},
   "outputs": [],
   "source": [
    "def user_item_matrix(data):\n",
    "    ratings = np.zeros((num_users, num_items))\n",
    "    for row in data.itertuples():\n",
    "        ratings[row[1]-1, d[row[2]]] = row[3]\n",
    "    return ratings"
   ]
  },
  {
   "cell_type": "code",
   "execution_count": 9,
   "metadata": {},
   "outputs": [],
   "source": [
    "ratings = user_item_matrix(df)\n",
    "train = user_item_matrix(train_set)\n",
    "test = user_item_matrix(test_set)"
   ]
  },
  {
   "cell_type": "code",
   "execution_count": 10,
   "metadata": {},
   "outputs": [
    {
     "data": {
      "text/plain": [
       "torch.Size([1, 610, 9724])"
      ]
     },
     "execution_count": 10,
     "metadata": {},
     "output_type": "execute_result"
    }
   ],
   "source": [
    "train = torch.FloatTensor(train)\n",
    "input = Variable(train).unsqueeze(0)\n",
    "input.shape"
   ]
  },
  {
   "cell_type": "code",
   "execution_count": 11,
   "metadata": {},
   "outputs": [],
   "source": [
    "train = torch.FloatTensor(train)\n",
    "test = torch.FloatTensor(test)\n",
    "input = Variable(train).unsqueeze(0)\n",
    "target = input\n",
    "torch_dataset = Data.TensorDataset(input, target)\n",
    "loader = Data.DataLoader(dataset=torch_dataset, batch_size=BATCH_SIZE, shuffle=True, num_workers=2,)"
   ]
  },
  {
   "cell_type": "code",
   "execution_count": 12,
   "metadata": {},
   "outputs": [],
   "source": [
    "class Net(torch.nn.Module):\n",
    "    def __init__(self):\n",
    "        super(Net, self).__init__()\n",
    "        self.fc1 = nn.Linear(num_items, 20)\n",
    "        self.fc2 = nn.Linear(20, 10)\n",
    "        self.fc3 = nn.Linear(10, 20)\n",
    "        self.fc4 = nn.Linear(20, num_items)\n",
    "        self.activation = nn.Sigmoid()\n",
    "        self.activation_t = nn.Tanh()\n",
    "        \n",
    "    def forward(self, x):\n",
    "        x = self.activation(self.fc1(x))\n",
    "        x = self.activation_t(self.fc2(x))\n",
    "        x = self.activation(self.fc3(x))\n",
    "        x = self.fc4(x)\n",
    "        return x"
   ]
  },
  {
   "cell_type": "code",
   "execution_count": 13,
   "metadata": {},
   "outputs": [],
   "source": [
    "net = Net()\n",
    "loss_func = nn.MSELoss()\n",
    "opt = torch.optim.Adam(net.parameters(), lr=LR, betas=(0.9, 0.99))"
   ]
  },
  {
   "cell_type": "code",
   "execution_count": 14,
   "metadata": {},
   "outputs": [
    {
     "name": "stdout",
     "output_type": "stream",
     "text": [
      "Epoch:  0 | Step:  0 | train loss:  0.1723583\n",
      "Epoch:  1 | Step:  0 | train loss:  0.16284505\n",
      "Epoch:  2 | Step:  0 | train loss:  0.15371983\n",
      "Epoch:  3 | Step:  0 | train loss:  0.14454582\n",
      "Epoch:  4 | Step:  0 | train loss:  0.13526487\n",
      "Epoch:  5 | Step:  0 | train loss:  0.1258189\n",
      "Epoch:  6 | Step:  0 | train loss:  0.11621912\n",
      "Epoch:  7 | Step:  0 | train loss:  0.10651051\n",
      "Epoch:  8 | Step:  0 | train loss:  0.09676116\n",
      "Epoch:  9 | Step:  0 | train loss:  0.087046176\n",
      "Epoch:  10 | Step:  0 | train loss:  0.077450715\n",
      "Epoch:  11 | Step:  0 | train loss:  0.06808608\n",
      "Epoch:  12 | Step:  0 | train loss:  0.05907274\n",
      "Epoch:  13 | Step:  0 | train loss:  0.05055981\n",
      "Epoch:  14 | Step:  0 | train loss:  0.04269665\n",
      "Epoch:  15 | Step:  0 | train loss:  0.035631064\n",
      "Epoch:  16 | Step:  0 | train loss:  0.029491697\n",
      "Epoch:  17 | Step:  0 | train loss:  0.024377426\n",
      "Epoch:  18 | Step:  0 | train loss:  0.020307442\n",
      "Epoch:  19 | Step:  0 | train loss:  0.017249169\n",
      "Epoch:  20 | Step:  0 | train loss:  0.015114124\n",
      "Epoch:  21 | Step:  0 | train loss:  0.013789122\n",
      "Epoch:  22 | Step:  0 | train loss:  0.013124925\n",
      "Epoch:  23 | Step:  0 | train loss:  0.012963389\n",
      "Epoch:  24 | Step:  0 | train loss:  0.013145168\n",
      "Epoch:  25 | Step:  0 | train loss:  0.013522422\n",
      "Epoch:  26 | Step:  0 | train loss:  0.013968533\n",
      "Epoch:  27 | Step:  0 | train loss:  0.014383689\n",
      "Epoch:  28 | Step:  0 | train loss:  0.014697066\n",
      "Epoch:  29 | Step:  0 | train loss:  0.014866013\n",
      "Epoch:  30 | Step:  0 | train loss:  0.014872971\n",
      "Epoch:  31 | Step:  0 | train loss:  0.014720953\n",
      "Epoch:  32 | Step:  0 | train loss:  0.014428519\n",
      "Epoch:  33 | Step:  0 | train loss:  0.014024729\n",
      "Epoch:  34 | Step:  0 | train loss:  0.0135443425\n",
      "Epoch:  35 | Step:  0 | train loss:  0.013023619\n",
      "Epoch:  36 | Step:  0 | train loss:  0.012496892\n",
      "Epoch:  37 | Step:  0 | train loss:  0.011994002\n",
      "Epoch:  38 | Step:  0 | train loss:  0.01153855\n",
      "Epoch:  39 | Step:  0 | train loss:  0.011147002\n",
      "Epoch:  40 | Step:  0 | train loss:  0.010828529\n",
      "Epoch:  41 | Step:  0 | train loss:  0.010585459\n",
      "Epoch:  42 | Step:  0 | train loss:  0.010414183\n",
      "Epoch:  43 | Step:  0 | train loss:  0.010306373\n",
      "Epoch:  44 | Step:  0 | train loss:  0.010250375\n",
      "Epoch:  45 | Step:  0 | train loss:  0.010232659\n",
      "Epoch:  46 | Step:  0 | train loss:  0.010239222\n",
      "Epoch:  47 | Step:  0 | train loss:  0.010256839\n",
      "Epoch:  48 | Step:  0 | train loss:  0.010274094\n",
      "Epoch:  49 | Step:  0 | train loss:  0.010282131\n",
      "Epoch:  50 | Step:  0 | train loss:  0.010275088\n",
      "Epoch:  51 | Step:  0 | train loss:  0.010250171\n",
      "Epoch:  52 | Step:  0 | train loss:  0.010207419\n",
      "Epoch:  53 | Step:  0 | train loss:  0.01014927\n",
      "Epoch:  54 | Step:  0 | train loss:  0.010079902\n",
      "Epoch:  55 | Step:  0 | train loss:  0.010004503\n",
      "Epoch:  56 | Step:  0 | train loss:  0.009928523\n",
      "Epoch:  57 | Step:  0 | train loss:  0.009857004\n",
      "Epoch:  58 | Step:  0 | train loss:  0.009794056\n",
      "Epoch:  59 | Step:  0 | train loss:  0.009742485\n",
      "Epoch:  60 | Step:  0 | train loss:  0.009703733\n",
      "Epoch:  61 | Step:  0 | train loss:  0.00967773\n",
      "Epoch:  62 | Step:  0 | train loss:  0.009663131\n",
      "Epoch:  63 | Step:  0 | train loss:  0.009657665\n",
      "Epoch:  64 | Step:  0 | train loss:  0.009658532\n",
      "Epoch:  65 | Step:  0 | train loss:  0.009662794\n",
      "Epoch:  66 | Step:  0 | train loss:  0.009667802\n",
      "Epoch:  67 | Step:  0 | train loss:  0.009671408\n",
      "Epoch:  68 | Step:  0 | train loss:  0.009672075\n",
      "Epoch:  69 | Step:  0 | train loss:  0.009669038\n",
      "Epoch:  70 | Step:  0 | train loss:  0.009662282\n",
      "Epoch:  71 | Step:  0 | train loss:  0.0096523445\n",
      "Epoch:  72 | Step:  0 | train loss:  0.009640137\n",
      "Epoch:  73 | Step:  0 | train loss:  0.009626832\n",
      "Epoch:  74 | Step:  0 | train loss:  0.009613624\n",
      "Epoch:  75 | Step:  0 | train loss:  0.009601517\n",
      "Epoch:  76 | Step:  0 | train loss:  0.009591247\n",
      "Epoch:  77 | Step:  0 | train loss:  0.009583231\n",
      "Epoch:  78 | Step:  0 | train loss:  0.009577546\n",
      "Epoch:  79 | Step:  0 | train loss:  0.009573958\n",
      "Epoch:  80 | Step:  0 | train loss:  0.009572011\n",
      "Epoch:  81 | Step:  0 | train loss:  0.009571252\n",
      "Epoch:  82 | Step:  0 | train loss:  0.009571138\n",
      "Epoch:  83 | Step:  0 | train loss:  0.009571086\n",
      "Epoch:  84 | Step:  0 | train loss:  0.009570667\n",
      "Epoch:  85 | Step:  0 | train loss:  0.009569577\n",
      "Epoch:  86 | Step:  0 | train loss:  0.009567641\n",
      "Epoch:  87 | Step:  0 | train loss:  0.009564998\n",
      "Epoch:  88 | Step:  0 | train loss:  0.009561834\n",
      "Epoch:  89 | Step:  0 | train loss:  0.009558214\n",
      "Epoch:  90 | Step:  0 | train loss:  0.009554374\n",
      "Epoch:  91 | Step:  0 | train loss:  0.00955068\n",
      "Epoch:  92 | Step:  0 | train loss:  0.009547556\n",
      "Epoch:  93 | Step:  0 | train loss:  0.009544841\n",
      "Epoch:  94 | Step:  0 | train loss:  0.009542502\n",
      "Epoch:  95 | Step:  0 | train loss:  0.00954048\n",
      "Epoch:  96 | Step:  0 | train loss:  0.009538672\n",
      "Epoch:  97 | Step:  0 | train loss:  0.009536957\n",
      "Epoch:  98 | Step:  0 | train loss:  0.00953521\n",
      "Epoch:  99 | Step:  0 | train loss:  0.009533322\n",
      "Epoch:  100 | Step:  0 | train loss:  0.009531216\n",
      "Epoch:  101 | Step:  0 | train loss:  0.009528845\n",
      "Epoch:  102 | Step:  0 | train loss:  0.009526166\n",
      "Epoch:  103 | Step:  0 | train loss:  0.00952308\n",
      "Epoch:  104 | Step:  0 | train loss:  0.00951987\n",
      "Epoch:  105 | Step:  0 | train loss:  0.009516751\n",
      "Epoch:  106 | Step:  0 | train loss:  0.009513537\n",
      "Epoch:  107 | Step:  0 | train loss:  0.009510248\n",
      "Epoch:  108 | Step:  0 | train loss:  0.00950708\n",
      "Epoch:  109 | Step:  0 | train loss:  0.009503901\n",
      "Epoch:  110 | Step:  0 | train loss:  0.009500594\n",
      "Epoch:  111 | Step:  0 | train loss:  0.0094971135\n",
      "Epoch:  112 | Step:  0 | train loss:  0.009493616\n",
      "Epoch:  113 | Step:  0 | train loss:  0.009489883\n",
      "Epoch:  114 | Step:  0 | train loss:  0.0094854785\n",
      "Epoch:  115 | Step:  0 | train loss:  0.009480806\n",
      "Epoch:  116 | Step:  0 | train loss:  0.009476144\n",
      "Epoch:  117 | Step:  0 | train loss:  0.009471293\n",
      "Epoch:  118 | Step:  0 | train loss:  0.009465564\n",
      "Epoch:  119 | Step:  0 | train loss:  0.009460145\n",
      "Epoch:  120 | Step:  0 | train loss:  0.009453928\n",
      "Epoch:  121 | Step:  0 | train loss:  0.009447374\n",
      "Epoch:  122 | Step:  0 | train loss:  0.009440794\n",
      "Epoch:  123 | Step:  0 | train loss:  0.009432764\n",
      "Epoch:  124 | Step:  0 | train loss:  0.009425794\n",
      "Epoch:  125 | Step:  0 | train loss:  0.009419019\n",
      "Epoch:  126 | Step:  0 | train loss:  0.00941142\n",
      "Epoch:  127 | Step:  0 | train loss:  0.009399767\n",
      "Epoch:  128 | Step:  0 | train loss:  0.009388\n",
      "Epoch:  129 | Step:  0 | train loss:  0.009375251\n",
      "Epoch:  130 | Step:  0 | train loss:  0.009362318\n",
      "Epoch:  131 | Step:  0 | train loss:  0.009349512\n",
      "Epoch:  132 | Step:  0 | train loss:  0.009335064\n",
      "Epoch:  133 | Step:  0 | train loss:  0.009317282\n",
      "Epoch:  134 | Step:  0 | train loss:  0.009301757\n",
      "Epoch:  135 | Step:  0 | train loss:  0.009288836\n",
      "Epoch:  136 | Step:  0 | train loss:  0.009276357\n",
      "Epoch:  137 | Step:  0 | train loss:  0.009263289\n",
      "Epoch:  138 | Step:  0 | train loss:  0.009251844\n",
      "Epoch:  139 | Step:  0 | train loss:  0.009238822\n",
      "Epoch:  140 | Step:  0 | train loss:  0.009224491\n",
      "Epoch:  141 | Step:  0 | train loss:  0.00920402\n",
      "Epoch:  142 | Step:  0 | train loss:  0.009189335\n",
      "Epoch:  143 | Step:  0 | train loss:  0.009175921\n",
      "Epoch:  144 | Step:  0 | train loss:  0.009163285\n",
      "Epoch:  145 | Step:  0 | train loss:  0.009148789\n",
      "Epoch:  146 | Step:  0 | train loss:  0.009131627\n",
      "Epoch:  147 | Step:  0 | train loss:  0.009109351\n",
      "Epoch:  148 | Step:  0 | train loss:  0.009090294\n",
      "Epoch:  149 | Step:  0 | train loss:  0.009073926\n",
      "Epoch:  150 | Step:  0 | train loss:  0.009053915\n",
      "Epoch:  151 | Step:  0 | train loss:  0.009038842\n",
      "Epoch:  152 | Step:  0 | train loss:  0.009020712\n",
      "Epoch:  153 | Step:  0 | train loss:  0.009001745\n",
      "Epoch:  154 | Step:  0 | train loss:  0.008986055\n",
      "Epoch:  155 | Step:  0 | train loss:  0.00895882\n",
      "Epoch:  156 | Step:  0 | train loss:  0.008945147\n",
      "Epoch:  157 | Step:  0 | train loss:  0.008931424\n",
      "Epoch:  158 | Step:  0 | train loss:  0.008918031\n",
      "Epoch:  159 | Step:  0 | train loss:  0.00890502\n",
      "Epoch:  160 | Step:  0 | train loss:  0.008891946\n",
      "Epoch:  161 | Step:  0 | train loss:  0.008878945\n",
      "Epoch:  162 | Step:  0 | train loss:  0.00886382\n",
      "Epoch:  163 | Step:  0 | train loss:  0.00885024\n",
      "Epoch:  164 | Step:  0 | train loss:  0.008835684\n",
      "Epoch:  165 | Step:  0 | train loss:  0.008810405\n",
      "Epoch:  166 | Step:  0 | train loss:  0.008796674\n"
     ]
    },
    {
     "name": "stdout",
     "output_type": "stream",
     "text": [
      "Epoch:  167 | Step:  0 | train loss:  0.008764559\n",
      "Epoch:  168 | Step:  0 | train loss:  0.008750137\n",
      "Epoch:  169 | Step:  0 | train loss:  0.008737882\n",
      "Epoch:  170 | Step:  0 | train loss:  0.008712377\n",
      "Epoch:  171 | Step:  0 | train loss:  0.008705175\n",
      "Epoch:  172 | Step:  0 | train loss:  0.008667415\n",
      "Epoch:  173 | Step:  0 | train loss:  0.008645235\n",
      "Epoch:  174 | Step:  0 | train loss:  0.008633391\n",
      "Epoch:  175 | Step:  0 | train loss:  0.008617702\n",
      "Epoch:  176 | Step:  0 | train loss:  0.00860562\n",
      "Epoch:  177 | Step:  0 | train loss:  0.008592694\n",
      "Epoch:  178 | Step:  0 | train loss:  0.0085784625\n",
      "Epoch:  179 | Step:  0 | train loss:  0.00856883\n",
      "Epoch:  180 | Step:  0 | train loss:  0.008558336\n",
      "Epoch:  181 | Step:  0 | train loss:  0.008548065\n",
      "Epoch:  182 | Step:  0 | train loss:  0.008537876\n",
      "Epoch:  183 | Step:  0 | train loss:  0.008527402\n",
      "Epoch:  184 | Step:  0 | train loss:  0.008516761\n",
      "Epoch:  185 | Step:  0 | train loss:  0.008506684\n",
      "Epoch:  186 | Step:  0 | train loss:  0.008496743\n",
      "Epoch:  187 | Step:  0 | train loss:  0.008484904\n",
      "Epoch:  188 | Step:  0 | train loss:  0.008474298\n",
      "Epoch:  189 | Step:  0 | train loss:  0.00846868\n",
      "Epoch:  190 | Step:  0 | train loss:  0.008457335\n",
      "Epoch:  191 | Step:  0 | train loss:  0.00844707\n",
      "Epoch:  192 | Step:  0 | train loss:  0.008436993\n",
      "Epoch:  193 | Step:  0 | train loss:  0.008425465\n",
      "Epoch:  194 | Step:  0 | train loss:  0.008411481\n",
      "Epoch:  195 | Step:  0 | train loss:  0.008396522\n",
      "Epoch:  196 | Step:  0 | train loss:  0.008383189\n",
      "Epoch:  197 | Step:  0 | train loss:  0.008365844\n",
      "Epoch:  198 | Step:  0 | train loss:  0.0083549945\n",
      "Epoch:  199 | Step:  0 | train loss:  0.0083342455\n"
     ]
    }
   ],
   "source": [
    "loss_his = []\n",
    "for epoch in range(EPOCH):\n",
    "    for step, (b_x, b_y) in enumerate(loader): \n",
    "        # for each training step\n",
    "        output = net(b_x)  \n",
    "        output[target == 0] = 0\n",
    "        # get output for every net\n",
    "        loss = loss_func(output, b_y)  # compute loss for every net\n",
    "        opt.zero_grad()                # clear gradients for next train\n",
    "        loss.backward()                # backpropagation, compute gradients\n",
    "        opt.step()                     # apply gradients\n",
    "        loss_his.append(loss.data.numpy())     # loss recoder\n",
    "        print('Epoch: ', epoch, '| Step: ', step, '| train loss: ', loss.data.numpy())"
   ]
  },
  {
   "cell_type": "code",
   "execution_count": 15,
   "metadata": {},
   "outputs": [
    {
     "data": {
      "image/png": "[encoded data removed]",
      "text/plain": [
       "<Figure size 432x288 with 1 Axes>"
      ]
     },
     "metadata": {
      "needs_background": "light"
     },
     "output_type": "display_data"
    }
   ],
   "source": [
    "plt.plot(range(EPOCH), loss_his)\n",
    "plt.title('training loss')\n",
    "plt.xlabel('Epoch')\n",
    "plt.ylabel('Loss')\n",
    "plt.show()"
   ]
  },
  {
   "cell_type": "code",
   "execution_count": 16,
   "metadata": {
    "scrolled": false
   },
   "outputs": [
    {
     "data": {
      "text/plain": [
       "tensor([[[3.7162, 3.1888, 2.9771,  ..., 3.0120, 3.1203, 3.9134],\n",
       "         [4.1860, 3.6123, 3.4825,  ..., 3.4452, 3.4573, 4.5200],\n",
       "         [4.1594, 3.5873, 3.4581,  ..., 3.4188, 3.4363, 4.4928],\n",
       "         ...,\n",
       "         [4.0424, 3.4853, 3.3263,  ..., 3.3155, 3.3572, 4.3315],\n",
       "         [3.8762, 3.3319, 3.1525,  ..., 3.1566, 3.2341, 4.1315],\n",
       "         [3.9696, 3.4200, 3.2480,  ..., 3.2486, 3.3055, 4.2374]]],\n",
       "       grad_fn=<AddBackward0>)"
      ]
     },
     "execution_count": 16,
     "metadata": {},
     "output_type": "execute_result"
    }
   ],
   "source": [
    "test_var = Variable(test).unsqueeze(0)\n",
    "out = net(test_var)\n",
    "out"
   ]
  },
  {
   "cell_type": "code",
   "execution_count": 17,
   "metadata": {},
   "outputs": [],
   "source": [
    "out = out.detach().numpy()[0,:,:]"
   ]
  },
  {
   "cell_type": "code",
   "execution_count": 18,
   "metadata": {
    "scrolled": false
   },
   "outputs": [
    {
     "name": "stdout",
     "output_type": "stream",
     "text": [
      "Autoencoder RMSE: 1.211782239605736\n",
      "Autoencoder MAE: 1.4684161962238933\n"
     ]
    }
   ],
   "source": [
    "from sklearn.metrics import mean_squared_error, mean_absolute_error\n",
    "\n",
    "def get_mse(pred, actual):\n",
    "    # Ignore zero terms.\n",
    "    pred = pred[actual.nonzero()].flatten()\n",
    "    actual = actual[actual.nonzero()].flatten()\n",
    "    return mean_squared_error(actual, pred)\n",
    "def get_mae(pred, actual):\n",
    "    # Ignore zero terms.\n",
    "    pred = pred[actual.nonzero()].flatten()\n",
    "    actual = actual[actual.nonzero()].flatten()\n",
    "    return mean_squared_error(actual, pred)\n",
    "\n",
    "test = user_item_matrix(test_set)\n",
    "print('Autoencoder RMSE: ' + str(math.sqrt(get_mse(out, test))))\n",
    "print('Autoencoder MAE: ' + str(get_mae(out, test)))"
   ]
  },
  {
   "cell_type": "code",
   "execution_count": null,
   "metadata": {},
   "outputs": [],
   "source": []
  }
 ],
 "metadata": {
  "kernelspec": {
   "display_name": "Python 3",
   "language": "python",
   "name": "python3"
  },
  "language_info": {
   "codemirror_mode": {
    "name": "ipython",
    "version": 3
   },
   "file_extension": ".py",
   "mimetype": "text/x-python",
   "name": "python",
   "nbconvert_exporter": "python",
   "pygments_lexer": "ipython3",
   "version": "3.7.1"
  }
 },
 "nbformat": 4,
 "nbformat_minor": 2
}
