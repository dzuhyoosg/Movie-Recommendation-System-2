{
 "cells": [
  {
   "cell_type": "code",
   "execution_count": 1,
   "metadata": {},
   "outputs": [],
   "source": [
    "import pandas as pd\n",
    "import numpy as np\n",
    "import math\n",
    "import warnings\n",
    "from sklearn.model_selection import train_test_split"
   ]
  },
  {
   "cell_type": "code",
   "execution_count": 2,
   "metadata": {},
   "outputs": [
    {
     "data": {
      "text/html": [
       "<div>\n",
       "<style scoped>\n",
       "    .dataframe tbody tr th:only-of-type {\n",
       "        vertical-align: middle;\n",
       "    }\n",
       "\n",
       "    .dataframe tbody tr th {\n",
       "        vertical-align: top;\n",
       "    }\n",
       "\n",
       "    .dataframe thead th {\n",
       "        text-align: right;\n",
       "    }\n",
       "</style>\n",
       "<table border=\"1\" class=\"dataframe\">\n",
       "  <thead>\n",
       "    <tr style=\"text-align: right;\">\n",
       "      <th></th>\n",
       "      <th>userId</th>\n",
       "      <th>movieId</th>\n",
       "      <th>rating</th>\n",
       "      <th>timestamp</th>\n",
       "    </tr>\n",
       "  </thead>\n",
       "  <tbody>\n",
       "    <tr>\n",
       "      <th>0</th>\n",
       "      <td>1</td>\n",
       "      <td>1</td>\n",
       "      <td>4.0</td>\n",
       "      <td>964982703</td>\n",
       "    </tr>\n",
       "    <tr>\n",
       "      <th>1</th>\n",
       "      <td>1</td>\n",
       "      <td>3</td>\n",
       "      <td>4.0</td>\n",
       "      <td>964981247</td>\n",
       "    </tr>\n",
       "    <tr>\n",
       "      <th>2</th>\n",
       "      <td>1</td>\n",
       "      <td>6</td>\n",
       "      <td>4.0</td>\n",
       "      <td>964982224</td>\n",
       "    </tr>\n",
       "    <tr>\n",
       "      <th>3</th>\n",
       "      <td>1</td>\n",
       "      <td>47</td>\n",
       "      <td>5.0</td>\n",
       "      <td>964983815</td>\n",
       "    </tr>\n",
       "    <tr>\n",
       "      <th>4</th>\n",
       "      <td>1</td>\n",
       "      <td>50</td>\n",
       "      <td>5.0</td>\n",
       "      <td>964982931</td>\n",
       "    </tr>\n",
       "  </tbody>\n",
       "</table>\n",
       "</div>"
      ],
      "text/plain": [
       "   userId  movieId  rating  timestamp\n",
       "0       1        1     4.0  964982703\n",
       "1       1        3     4.0  964981247\n",
       "2       1        6     4.0  964982224\n",
       "3       1       47     5.0  964983815\n",
       "4       1       50     5.0  964982931"
      ]
     },
     "execution_count": 2,
     "metadata": {},
     "output_type": "execute_result"
    }
   ],
   "source": [
    "df = pd.read_csv(\"./ml-latest-small/ratings.csv\")\n",
    "# df = pd.read_csv(\"/home/tianyou/ml-latest/ratings.csv\")\n",
    "df.head()"
   ]
  },
  {
   "cell_type": "code",
   "execution_count": 3,
   "metadata": {},
   "outputs": [
    {
     "data": {
      "text/plain": [
       "(610, 9724)"
      ]
     },
     "execution_count": 3,
     "metadata": {},
     "output_type": "execute_result"
    }
   ],
   "source": [
    "n_users = df.userId.unique().shape[0]\n",
    "n_items = df.movieId.unique().shape[0]\n",
    "n_users, n_items"
   ]
  },
  {
   "cell_type": "code",
   "execution_count": 4,
   "metadata": {},
   "outputs": [],
   "source": [
    "movie_movieId = df.movieId.unique().tolist()\n",
    "movie_movieId.sort()\n",
    "d = dict()\n",
    "for i in range(0, len(movie_movieId)):\n",
    "    d[movie_movieId[i]] = i"
   ]
  },
  {
   "cell_type": "code",
   "execution_count": 5,
   "metadata": {},
   "outputs": [],
   "source": [
    "def user_item_matrix(data):\n",
    "    ratings = np.zeros((n_users, n_items))\n",
    "    for row in data.itertuples():\n",
    "        ratings[row[1]-1, d[row[2]]] = row[3]\n",
    "    return ratings"
   ]
  },
  {
   "cell_type": "code",
   "execution_count": 6,
   "metadata": {},
   "outputs": [],
   "source": [
    "train_set, test_set = train_test_split(df)"
   ]
  },
  {
   "cell_type": "code",
   "execution_count": 7,
   "metadata": {},
   "outputs": [
    {
     "data": {
      "text/plain": [
       "array([[4. , 0. , 4. , ..., 0. , 0. , 0. ],\n",
       "       [0. , 0. , 0. , ..., 0. , 0. , 0. ],\n",
       "       [0. , 0. , 0. , ..., 0. , 0. , 0. ],\n",
       "       ...,\n",
       "       [2.5, 2. , 2. , ..., 0. , 0. , 0. ],\n",
       "       [3. , 0. , 0. , ..., 0. , 0. , 0. ],\n",
       "       [5. , 0. , 0. , ..., 0. , 0. , 0. ]])"
      ]
     },
     "execution_count": 7,
     "metadata": {},
     "output_type": "execute_result"
    }
   ],
   "source": [
    "ratings = user_item_matrix(df)\n",
    "train = user_item_matrix(train_set)\n",
    "test = user_item_matrix(test_set)\n",
    "train"
   ]
  },
  {
   "cell_type": "code",
   "execution_count": 8,
   "metadata": {},
   "outputs": [
    {
     "name": "stdout",
     "output_type": "stream",
     "text": [
      "Sparsity: 1.70%\n"
     ]
    }
   ],
   "source": [
    "sparsity = float(len(ratings.nonzero()[0]))\n",
    "sparsity /= (ratings.shape[0] * ratings.shape[1])\n",
    "sparsity *= 100\n",
    "print ('Sparsity: {:4.2f}%'.format(sparsity))"
   ]
  },
  {
   "cell_type": "code",
   "execution_count": 21,
   "metadata": {},
   "outputs": [],
   "source": [
    "def normalize(data, kind='user'):\n",
    "    data2 = data.copy()\n",
    "    data2[data2 == 0] = np.nan\n",
    "    # print(np.nanmean(data[0]))\n",
    "    if kind == 'user':\n",
    "        for i in range(0, data2.shape[0]):\n",
    "            data2[i] = data2[i] - np.nanmean(data2[i])\n",
    "            # data[i][data[i] == 0] = np.nanmean(data[i])\n",
    "            \n",
    "    if kind == 'item':\n",
    "        for j in range(0, data.shape[1]):\n",
    "            data2.T[j] = data2.T[j] - np.nanmean(data2.T[j])\n",
    "\n",
    "    data[np.isnan(data2)] = 0\n",
    "    return (data2)"
   ]
  },
  {
   "cell_type": "code",
   "execution_count": 22,
   "metadata": {
    "scrolled": true
   },
   "outputs": [],
   "source": [
    "with warnings.catch_warnings():\n",
    "    warnings.simplefilter(\"ignore\", category=RuntimeWarning)\n",
    "    user_norm_matrix = normalize(train, kind = 'user')\n",
    "    item_norm_matrix = normalize(train, kind = 'item')"
   ]
  },
  {
   "cell_type": "code",
   "execution_count": 27,
   "metadata": {},
   "outputs": [],
   "source": [
    "def similarity(ratings, kind='user', epsilon=1e-12):\n",
    "    # epsilon -> small number for handling dived-by-zero errors\n",
    "    if kind == 'user':\n",
    "        sim = ratings.dot(ratings.T) + epsilon\n",
    "    elif kind == 'item':\n",
    "        sim = ratings.T.dot(ratings) + epsilon\n",
    "    norms = np.array([np.sqrt(np.diagonal(sim))])\n",
    "    return (sim / norms / norms.T)"
   ]
  },
  {
   "cell_type": "code",
   "execution_count": 30,
   "metadata": {},
   "outputs": [
    {
     "name": "stdout",
     "output_type": "stream",
     "text": [
      "[[1.00000000e+00 1.62018917e-02 1.06449929e-02 ... 2.51880403e-01\n",
      "  8.89341981e-02 1.27796661e-01]\n",
      " [1.62018917e-02 1.00000000e+00 2.93772236e-15 ... 4.76525637e-02\n",
      "  3.25522570e-02 8.73564116e-02]\n",
      " [1.06449929e-02 2.93772236e-15 1.00000000e+00 ... 2.44899123e-02\n",
      "  3.39484700e-15 1.96090942e-02]\n",
      " ...\n",
      " [2.51880403e-01 4.76525637e-02 2.44899123e-02 ... 1.00000000e+00\n",
      "  1.09444591e-01 2.24551417e-01]\n",
      " [8.89341981e-02 3.25522570e-02 3.39484700e-15 ... 1.09444591e-01\n",
      "  1.00000000e+00 5.13623567e-02]\n",
      " [1.27796661e-01 8.73564116e-02 1.96090942e-02 ... 2.24551417e-01\n",
      "  5.13623567e-02 1.00000000e+00]]\n",
      "[[ 1.00000000e+00 -3.14447765e-04 -8.23113021e-03 ...  2.65088540e-02\n",
      "   7.58379364e-02 -3.64483848e-02]\n",
      " [-3.14447765e-04  1.00000000e+00  2.79773272e-14 ... -7.57344625e-03\n",
      "   1.65149217e-02  6.13750399e-02]\n",
      " [-8.23113021e-03  2.79773272e-14  1.00000000e+00 ... -8.99614065e-03\n",
      "   4.53811335e-14  1.44108876e-02]\n",
      " ...\n",
      " [ 2.65088540e-02 -7.57344625e-03 -8.99614065e-03 ...  1.00000000e+00\n",
      "   4.31644623e-02 -4.91696466e-02]\n",
      " [ 7.58379364e-02  1.65149217e-02  4.53811335e-14 ...  4.31644623e-02\n",
      "   1.00000000e+00 -3.75578628e-02]\n",
      " [-3.64483848e-02  6.13750399e-02  1.44108876e-02 ... -4.91696466e-02\n",
      "  -3.75578628e-02  1.00000000e+00]]\n"
     ]
    }
   ],
   "source": [
    "user_norm_sim_matrix = similarity(user_norm_matrix, kind = 'user')\n",
    "item_norm_sim_matrix = similarity(item_norm_matrix, kind = 'item')\n",
    "user_sim_matrix = similarity(train, kind = 'user')\n",
    "item_sim_matrix = similarity(train, kind = 'item')\n",
    "print(user_sim_matrix)\n",
    "print(user_norm_sim_matrix)"
   ]
  },
  {
   "cell_type": "code",
   "execution_count": 31,
   "metadata": {},
   "outputs": [],
   "source": [
    "def predict_fast_simple(ratings, similarity, kind='user'):\n",
    "    if kind == 'user':\n",
    "        result = similarity.dot(ratings) / np.array([np.abs(similarity).sum(axis=1)]).T\n",
    "        # result[result < 0.5] = 1\n",
    "        return result\n",
    "    elif kind == 'item':\n",
    "        result = ratings.dot(similarity) / np.array([np.abs(similarity).sum(axis=1)])\n",
    "        # result[result < 0.5] = 1\n",
    "        return result"
   ]
  },
  {
   "cell_type": "code",
   "execution_count": 32,
   "metadata": {},
   "outputs": [
    {
     "name": "stdout",
     "output_type": "stream",
     "text": [
      "[[1.42085807e+00 6.60984598e-01 3.61082646e-01 ... 2.33749817e-17\n",
      "  0.00000000e+00 3.04833709e-03]\n",
      " [1.12711811e+00 5.05598183e-01 9.44425150e-02 ... 1.27488312e-02\n",
      "  0.00000000e+00 1.76286261e-02]\n",
      " [1.23721847e+00 6.32616760e-01 2.96095824e-01 ... 9.63451704e-16\n",
      "  0.00000000e+00 1.05141400e-15]\n",
      " ...\n",
      " [1.39438008e+00 7.54045016e-01 3.08938548e-01 ... 9.85206888e-04\n",
      "  0.00000000e+00 8.71170446e-03]\n",
      " [1.40704092e+00 6.59251609e-01 2.75399569e-01 ... 9.05772246e-17\n",
      "  0.00000000e+00 5.14003598e-03]\n",
      " [1.38121090e+00 6.81781927e-01 2.12144760e-01 ... 5.27606686e-03\n",
      "  0.00000000e+00 1.12487270e-02]]\n",
      "[[2.50825061e-01 2.15450321e-01 3.18590517e-01 ... 2.36836297e-13\n",
      "  4.66794425e-08 1.41680594e-01]\n",
      " [2.59438708e-02 2.32028258e-02 1.24269464e-02 ... 4.48325306e-02\n",
      "  6.10613175e-09 1.89652250e-01]\n",
      " [8.45909956e-03 8.37636223e-03 1.06310630e-02 ... 4.69949682e-14\n",
      "  9.26251147e-09 1.17210742e-13]\n",
      " ...\n",
      " [5.26696906e-01 5.21186627e-01 5.69746113e-01 ... 4.73446115e-02\n",
      "  1.33169194e-07 1.10421407e+00]\n",
      " [3.55545326e-02 2.84801953e-02 3.24221271e-02 ... 3.66839541e-14\n",
      "  7.23025376e-09 4.95297949e-02]\n",
      " [7.93406499e-01 6.11482592e-01 4.48986063e-01 ... 4.14171174e-01\n",
      "  4.44421682e-07 1.69594989e+00]]\n"
     ]
    }
   ],
   "source": [
    "user_norm_prediction = predict_fast_simple(train, user_norm_sim_matrix, kind = 'user')\n",
    "item_norm_prediction = predict_fast_simple(train, item_norm_sim_matrix, kind = 'item')\n",
    "user_prediction = predict_fast_simple(train, user_sim_matrix, kind = 'user')\n",
    "item_prediction = predict_fast_simple(train, item_sim_matrix, kind = 'item')\n",
    "print(user_prediction)\n",
    "print(item_prediction)"
   ]
  },
  {
   "cell_type": "code",
   "execution_count": 33,
   "metadata": {},
   "outputs": [],
   "source": [
    "from sklearn.metrics import mean_squared_error\n",
    "\n",
    "def get_mse(pred, actual):\n",
    "    # Ignore nonzero terms.\n",
    "    pred = pred[actual.nonzero()].flatten()\n",
    "    actual = actual[actual.nonzero()].flatten()\n",
    "    return mean_squared_error(actual, pred)"
   ]
  },
  {
   "cell_type": "code",
   "execution_count": 34,
   "metadata": {},
   "outputs": [
    {
     "name": "stdout",
     "output_type": "stream",
     "text": [
      "User_norm-based CF MSE: 13.471213720416953\n",
      "Item_norm-based CF MSE: 13.206030342254401\n",
      "User-based CF MSE: 10.61668438671962\n",
      "Item-based CF MSE: 11.493179853447685\n"
     ]
    }
   ],
   "source": [
    "print ('User_norm-based CF MSE: ' + str(get_mse(user_norm_prediction, test)))\n",
    "print ('Item_norm-based CF MSE: ' + str(get_mse(item_norm_prediction, test)))\n",
    "print ('User-based CF MSE: ' + str(get_mse(user_prediction, test)))\n",
    "print ('Item-based CF MSE: ' + str(get_mse(item_prediction, test)))"
   ]
  },
  {
   "cell_type": "code",
   "execution_count": 35,
   "metadata": {},
   "outputs": [],
   "source": [
    "def predict_topk(ratings, similarity, kind='user', k=40):\n",
    "    pred = np.zeros(ratings.shape)\n",
    "    if kind == 'user':\n",
    "        for i in range(ratings.shape[0]):\n",
    "            top_k_users = [np.argsort(similarity[:,i])[:-k-1:-1]]\n",
    "            for j in range(ratings.shape[1]):\n",
    "                pred[i, j] = similarity[i, :][top_k_users].dot(ratings[:, j][top_k_users]) \n",
    "                pred[i, j] /= np.sum(np.abs(similarity[i, :][top_k_users]))\n",
    "    if kind == 'item':\n",
    "        for j in range(ratings.shape[1]):\n",
    "            top_k_items = [np.argsort(similarity[:,j])[:-k-1:-1]]\n",
    "            for i in range(ratings.shape[0]):\n",
    "                pred[i, j] = similarity[j, :][top_k_items].dot(ratings[i, :][top_k_items].T) \n",
    "                pred[i, j] /= np.sum(np.abs(similarity[j, :][top_k_items]))        \n",
    "    \n",
    "    return pred"
   ]
  },
  {
   "cell_type": "code",
   "execution_count": 38,
   "metadata": {},
   "outputs": [
    {
     "name": "stdout",
     "output_type": "stream",
     "text": [
      "Top-k User-based CF MSE: 8.839542603533665\n",
      "Top-k Item-based CF MSE: 9.564088460889241\n"
     ]
    }
   ],
   "source": [
    "with warnings.catch_warnings():\n",
    "    warnings.simplefilter(\"ignore\", category=FutureWarning)\n",
    "    pred = predict_topk(train, user_sim_matrix, kind='user', k=15)\n",
    "    print ('Top-k User-based CF MSE: ' + str(get_mse(pred, test)))\n",
    "\n",
    "    pred = predict_topk(train, item_sim_matrix, kind='item', k=15)\n",
    "    print ('Top-k Item-based CF MSE: ' + str(get_mse(pred, test)))"
   ]
  },
  {
   "cell_type": "code",
   "execution_count": 43,
   "metadata": {},
   "outputs": [],
   "source": [
    "k_array = [5, 15, 30, 50, 100, 200]\n",
    "user_train_mse = []\n",
    "user_test_mse = []\n",
    "item_test_mse = []\n",
    "item_train_mse = []\n",
    "\n",
    "for k in k_array:\n",
    "    with warnings.catch_warnings():\n",
    "        warnings.simplefilter(\"ignore\", category=FutureWarning)\n",
    "        user_pred = predict_topk(train, user_sim_matrix, kind='user', k=k)\n",
    "        item_pred = predict_topk(train, item_sim_matrix, kind='item', k=k)\n",
    "\n",
    "    user_train_mse += [get_mse(user_pred, train)]\n",
    "    user_test_mse += [get_mse(user_pred, test)]\n",
    "    \n",
    "    item_train_mse += [get_mse(item_pred, train)]\n",
    "    item_test_mse += [get_mse(item_pred, test)]  "
   ]
  },
  {
   "cell_type": "code",
   "execution_count": 44,
   "metadata": {},
   "outputs": [
    {
     "data": {
      "image/png": "[encoded data removed]",
      "text/plain": [
       "<Figure size 576x576 with 1 Axes>"
      ]
     },
     "metadata": {},
     "output_type": "display_data"
    }
   ],
   "source": [
    "%matplotlib inline\n",
    "import matplotlib.pyplot as plt\n",
    "import seaborn as sns\n",
    "sns.set()\n",
    "\n",
    "pal = sns.color_palette(\"Set2\", 2)\n",
    "\n",
    "plt.figure(figsize=(8, 8))\n",
    "plt.plot(k_array, user_train_mse, c=pal[0], label='User-based train', alpha=0.5, linewidth=5)\n",
    "plt.plot(k_array, user_test_mse, c=pal[0], label='User-based test', linewidth=5)\n",
    "plt.plot(k_array, item_train_mse, c=pal[1], label='Item-based train', alpha=0.5, linewidth=5)\n",
    "plt.plot(k_array, item_test_mse, c=pal[1], label='Item-based test', linewidth=5)\n",
    "plt.legend(loc='best', fontsize=20)\n",
    "plt.xticks(fontsize=16);\n",
    "plt.yticks(fontsize=16);\n",
    "plt.xlabel('k', fontsize=30);\n",
    "plt.ylabel('MSE', fontsize=30);"
   ]
  },
  {
   "cell_type": "code",
   "execution_count": null,
   "metadata": {},
   "outputs": [],
   "source": []
  }
 ],
 "metadata": {
  "kernelspec": {
   "display_name": "Python 3",
   "language": "python",
   "name": "python3"
  },
  "language_info": {
   "codemirror_mode": {
    "name": "ipython",
    "version": 3
   },
   "file_extension": ".py",
   "mimetype": "text/x-python",
   "name": "python",
   "nbconvert_exporter": "python",
   "pygments_lexer": "ipython3",
   "version": "3.6.5"
  }
 },
 "nbformat": 4,
 "nbformat_minor": 2
}
