{
 "cells": [
  {
   "cell_type": "code",
   "execution_count": 1,
   "metadata": {},
   "outputs": [],
   "source": [
    "import pandas as pd\n",
    "import numpy as np\n",
    "import math\n",
    "import warnings\n",
    "from sklearn.model_selection import train_test_split"
   ]
  },
  {
   "cell_type": "code",
   "execution_count": 2,
   "metadata": {},
   "outputs": [
    {
     "data": {
      "text/html": [
       "<div>\n",
       "<style scoped>\n",
       "    .dataframe tbody tr th:only-of-type {\n",
       "        vertical-align: middle;\n",
       "    }\n",
       "\n",
       "    .dataframe tbody tr th {\n",
       "        vertical-align: top;\n",
       "    }\n",
       "\n",
       "    .dataframe thead th {\n",
       "        text-align: right;\n",
       "    }\n",
       "</style>\n",
       "<table border=\"1\" class=\"dataframe\">\n",
       "  <thead>\n",
       "    <tr style=\"text-align: right;\">\n",
       "      <th></th>\n",
       "      <th>userId</th>\n",
       "      <th>movieId</th>\n",
       "      <th>rating</th>\n",
       "      <th>timestamp</th>\n",
       "    </tr>\n",
       "  </thead>\n",
       "  <tbody>\n",
       "    <tr>\n",
       "      <th>0</th>\n",
       "      <td>1</td>\n",
       "      <td>1</td>\n",
       "      <td>4.0</td>\n",
       "      <td>964982703</td>\n",
       "    </tr>\n",
       "    <tr>\n",
       "      <th>1</th>\n",
       "      <td>1</td>\n",
       "      <td>3</td>\n",
       "      <td>4.0</td>\n",
       "      <td>964981247</td>\n",
       "    </tr>\n",
       "    <tr>\n",
       "      <th>2</th>\n",
       "      <td>1</td>\n",
       "      <td>6</td>\n",
       "      <td>4.0</td>\n",
       "      <td>964982224</td>\n",
       "    </tr>\n",
       "    <tr>\n",
       "      <th>3</th>\n",
       "      <td>1</td>\n",
       "      <td>47</td>\n",
       "      <td>5.0</td>\n",
       "      <td>964983815</td>\n",
       "    </tr>\n",
       "    <tr>\n",
       "      <th>4</th>\n",
       "      <td>1</td>\n",
       "      <td>50</td>\n",
       "      <td>5.0</td>\n",
       "      <td>964982931</td>\n",
       "    </tr>\n",
       "  </tbody>\n",
       "</table>\n",
       "</div>"
      ],
      "text/plain": [
       "   userId  movieId  rating  timestamp\n",
       "0       1        1     4.0  964982703\n",
       "1       1        3     4.0  964981247\n",
       "2       1        6     4.0  964982224\n",
       "3       1       47     5.0  964983815\n",
       "4       1       50     5.0  964982931"
      ]
     },
     "execution_count": 2,
     "metadata": {},
     "output_type": "execute_result"
    }
   ],
   "source": [
    "df = pd.read_csv(\"./ml-latest-small/ratings.csv\")\n",
    "# df = pd.read_csv(\"/home/tianyou/ml-latest/ratings.csv\")\n",
    "df.head()"
   ]
  },
  {
   "cell_type": "code",
   "execution_count": 3,
   "metadata": {},
   "outputs": [
    {
     "data": {
      "text/plain": [
       "(610, 9724)"
      ]
     },
     "execution_count": 3,
     "metadata": {},
     "output_type": "execute_result"
    }
   ],
   "source": [
    "n_users = df.userId.unique().shape[0]\n",
    "n_items = df.movieId.unique().shape[0]\n",
    "n_users, n_items"
   ]
  },
  {
   "cell_type": "code",
   "execution_count": 4,
   "metadata": {},
   "outputs": [],
   "source": [
    "movie_movieId = df.movieId.unique().tolist()\n",
    "movie_movieId.sort()\n",
    "d = dict()\n",
    "for i in range(0, len(movie_movieId)):\n",
    "    d[movie_movieId[i]] = i"
   ]
  },
  {
   "cell_type": "code",
   "execution_count": 5,
   "metadata": {},
   "outputs": [],
   "source": [
    "def user_item_matrix(data):\n",
    "    ratings = np.zeros((n_users, n_items))\n",
    "    for row in data.itertuples():\n",
    "        ratings[row[1]-1, d[row[2]]] = row[3]\n",
    "    return ratings"
   ]
  },
  {
   "cell_type": "code",
   "execution_count": 6,
   "metadata": {},
   "outputs": [],
   "source": [
    "train_set, test_set = train_test_split(df)"
   ]
  },
  {
   "cell_type": "code",
   "execution_count": 7,
   "metadata": {},
   "outputs": [
    {
     "data": {
      "text/plain": [
       "array([[4., 0., 4., ..., 0., 0., 0.],\n",
       "       [0., 0., 0., ..., 0., 0., 0.],\n",
       "       [0., 0., 0., ..., 0., 0., 0.],\n",
       "       ...,\n",
       "       [0., 0., 2., ..., 0., 0., 0.],\n",
       "       [3., 0., 0., ..., 0., 0., 0.],\n",
       "       [5., 0., 0., ..., 0., 0., 0.]])"
      ]
     },
     "execution_count": 7,
     "metadata": {},
     "output_type": "execute_result"
    }
   ],
   "source": [
    "ratings = user_item_matrix(df)\n",
    "train = user_item_matrix(train_set)\n",
    "test = user_item_matrix(test_set)\n",
    "train"
   ]
  },
  {
   "cell_type": "code",
   "execution_count": 8,
   "metadata": {},
   "outputs": [
    {
     "name": "stdout",
     "output_type": "stream",
     "text": [
      "Sparsity: 1.70%\n"
     ]
    }
   ],
   "source": [
    "sparsity = float(len(ratings.nonzero()[0]))\n",
    "sparsity /= (ratings.shape[0] * ratings.shape[1])\n",
    "sparsity *= 100\n",
    "print ('Sparsity: {:4.2f}%'.format(sparsity))"
   ]
  },
  {
   "cell_type": "code",
   "execution_count": 9,
   "metadata": {},
   "outputs": [],
   "source": [
    "def normalize(data, kind='user'):\n",
    "    data2 = data.copy()\n",
    "    data2[data2 == 0] = np.nan\n",
    "    # print(np.nanmean(data[0]))\n",
    "    if kind == 'user':\n",
    "        for i in range(0, data2.shape[0]):\n",
    "            data2[i] = data2[i] - np.nanmean(data2[i])\n",
    "            # data[i][data[i] == 0] = np.nanmean(data[i])\n",
    "            \n",
    "    if kind == 'item':\n",
    "        for j in range(0, data.shape[1]):\n",
    "            data2.T[j] = data2.T[j] - np.nanmean(data2.T[j])\n",
    "\n",
    "    data2[np.isnan(data2)] = 0\n",
    "    return (data2)"
   ]
  },
  {
   "cell_type": "code",
   "execution_count": 10,
   "metadata": {
    "scrolled": true
   },
   "outputs": [],
   "source": [
    "with warnings.catch_warnings():\n",
    "    warnings.simplefilter(\"ignore\", category=RuntimeWarning)\n",
    "    user_norm_matrix = normalize(train, kind = 'user')\n",
    "    item_norm_matrix = normalize(train, kind = 'item')"
   ]
  },
  {
   "cell_type": "code",
   "execution_count": 11,
   "metadata": {},
   "outputs": [],
   "source": [
    "def similarity(ratings, kind='user', epsilon=1e-12):\n",
    "    # epsilon -> small number for handling dived-by-zero errors\n",
    "    if kind == 'user':\n",
    "        sim = ratings.dot(ratings.T) + epsilon\n",
    "    elif kind == 'item':\n",
    "        sim = ratings.T.dot(ratings) + epsilon\n",
    "    norms = np.array([np.sqrt(np.diagonal(sim))])\n",
    "    return (sim / norms / norms.T)"
   ]
  },
  {
   "cell_type": "code",
   "execution_count": 12,
   "metadata": {},
   "outputs": [
    {
     "name": "stdout",
     "output_type": "stream",
     "text": [
      "[[-0.33908046  0.         -0.33908046 ...  0.          0.\n",
      "   0.        ]\n",
      " [ 0.          0.          0.         ...  0.          0.\n",
      "   0.        ]\n",
      " [ 0.          0.          0.         ...  0.          0.\n",
      "   0.        ]\n",
      " ...\n",
      " [ 0.          0.         -1.12620579 ...  0.          0.\n",
      "   0.        ]\n",
      " [-0.22580645  0.          0.         ...  0.          0.\n",
      "   0.        ]\n",
      " [ 1.30727092  0.          0.         ...  0.          0.\n",
      "   0.        ]]\n"
     ]
    }
   ],
   "source": [
    "print(user_norm_matrix)"
   ]
  },
  {
   "cell_type": "code",
   "execution_count": 13,
   "metadata": {},
   "outputs": [
    {
     "name": "stdout",
     "output_type": "stream",
     "text": [
      "[[1.00000000e+00 3.59805901e-02 3.69362226e-02 ... 2.32540608e-01\n",
      "  7.20418307e-02 1.26043164e-01]\n",
      " [3.59805901e-02 1.00000000e+00 3.17553041e-15 ... 5.06720497e-02\n",
      "  3.47171882e-02 7.92074004e-02]\n",
      " [3.69362226e-02 3.17553041e-15 1.00000000e+00 ... 1.46988586e-02\n",
      "  3.34640988e-15 1.89293732e-02]\n",
      " ...\n",
      " [2.32540608e-01 5.06720497e-02 1.46988586e-02 ... 1.00000000e+00\n",
      "  8.00144720e-02 2.58209531e-01]\n",
      " [7.20418307e-02 3.47171882e-02 3.34640988e-15 ... 8.00144720e-02\n",
      "  1.00000000e+00 3.24220974e-02]\n",
      " [1.26043164e-01 7.92074004e-02 1.89293732e-02 ... 2.58209531e-01\n",
      "  3.24220974e-02 1.00000000e+00]]\n",
      "[[ 1.00000000e+00  6.89237453e-04  4.52820591e-03 ...  6.14359105e-02\n",
      "   5.55142332e-03  1.36591477e-02]\n",
      " [ 6.89237453e-04  1.00000000e+00  2.34234385e-14 ... -9.25599919e-03\n",
      "  -8.06522996e-02  2.65235694e-02]\n",
      " [ 4.52820591e-03  2.34234385e-14  1.00000000e+00 ... -5.44299426e-03\n",
      "   4.05463377e-14  1.01193175e-03]\n",
      " ...\n",
      " [ 6.14359105e-02 -9.25599919e-03 -5.44299426e-03 ...  1.00000000e+00\n",
      "   2.97014235e-02  4.54415043e-02]\n",
      " [ 5.55142332e-03 -8.06522996e-02  4.05463377e-14 ...  2.97014235e-02\n",
      "   1.00000000e+00 -7.31238870e-03]\n",
      " [ 1.36591477e-02  2.65235694e-02  1.01193175e-03 ...  4.54415043e-02\n",
      "  -7.31238870e-03  1.00000000e+00]]\n"
     ]
    }
   ],
   "source": [
    "user_norm_sim_matrix = similarity(user_norm_matrix, kind = 'user')\n",
    "item_norm_sim_matrix = similarity(item_norm_matrix, kind = 'item')\n",
    "user_sim_matrix = similarity(train, kind = 'user')\n",
    "item_sim_matrix = similarity(train, kind = 'item')\n",
    "print(user_sim_matrix)\n",
    "print(user_norm_sim_matrix)"
   ]
  },
  {
   "cell_type": "code",
   "execution_count": 14,
   "metadata": {},
   "outputs": [],
   "source": [
    "def predict_fast_simple(ratings, similarity, kind='user'):\n",
    "    if kind == 'user':\n",
    "        result = similarity.dot(ratings) / np.array([similarity.mean(axis=1)]).T\n",
    "        # result[result < 0.5] = 1\n",
    "        return result\n",
    "    elif kind == 'item':\n",
    "        result = ratings.dot(similarity) / np.array([similarity.mean(axis=1)])\n",
    "        # result[result < 0.5] = 1\n",
    "        return result"
   ]
  },
  {
   "cell_type": "code",
   "execution_count": 15,
   "metadata": {},
   "outputs": [
    {
     "name": "stdout",
     "output_type": "stream",
     "text": [
      "[[4.  0.  4.  ... 0.  0.  0. ]\n",
      " [0.  0.  0.  ... 0.  0.  0. ]\n",
      " [0.  0.  0.  ... 0.  0.  0. ]\n",
      " ...\n",
      " [2.5 2.  2.  ... 0.  0.  0. ]\n",
      " [3.  0.  0.  ... 0.  0.  0. ]\n",
      " [5.  0.  0.  ... 0.  0.  0. ]]\n"
     ]
    }
   ],
   "source": [
    "print(ratings)"
   ]
  },
  {
   "cell_type": "code",
   "execution_count": 16,
   "metadata": {},
   "outputs": [
    {
     "name": "stdout",
     "output_type": "stream",
     "text": [
      "[[8.44070536e+02 3.72732370e+02 2.04348230e+02 ... 0.00000000e+00\n",
      "  2.46367406e-01 2.21220441e+00]\n",
      " [6.12355936e+02 2.86990439e+02 7.70016678e+01 ... 0.00000000e+00\n",
      "  7.08937113e+00 1.74723140e+01]\n",
      " [6.58431643e+02 2.64195781e+02 2.44538814e+02 ... 0.00000000e+00\n",
      "  7.63167777e-13 7.88962731e-13]\n",
      " ...\n",
      " [7.95125670e+02 3.99232181e+02 1.82722319e+02 ... 0.00000000e+00\n",
      "  5.43907550e-01 4.81361723e+00]\n",
      " [8.32302175e+02 4.04731577e+02 1.84830638e+02 ... 0.00000000e+00\n",
      "  5.93062048e-14 7.35728945e-01]\n",
      " [8.22611466e+02 3.84257479e+02 1.25538988e+02 ... 0.00000000e+00\n",
      "  3.15118412e+00 8.69207729e+00]]\n",
      "[[2.39624244e+03 1.86903926e+03 2.45101518e+03 ... 4.07682718e-04\n",
      "  8.46435401e+01 1.46223562e+03]\n",
      " [1.92054438e+02 1.79458850e+02 1.07281697e+02 ... 4.93771347e-05\n",
      "  3.64168349e+02 2.50595643e+03]\n",
      " [5.57278053e+01 4.00916207e+01 7.30619137e+01 ... 9.45116021e-05\n",
      "  5.08053915e-10 1.07045684e-09]\n",
      " ...\n",
      " [5.00372306e+03 4.59002693e+03 4.99730946e+03 ... 1.26849295e-03\n",
      "  4.72346527e+02 9.47733697e+03]\n",
      " [3.23118779e+02 2.69563948e+02 2.77703869e+02 ... 7.60214030e-05\n",
      "  4.08658520e-10 1.52654995e+02]\n",
      " [7.86256759e+03 6.17024686e+03 4.19726427e+03 ... 4.18216016e-03\n",
      "  3.93930586e+03 2.06739005e+04]]\n"
     ]
    }
   ],
   "source": [
    "user_norm_prediction = predict_fast_simple(train, user_norm_sim_matrix, kind = 'user')\n",
    "item_norm_prediction = predict_fast_simple(train, item_norm_sim_matrix, kind = 'item')\n",
    "user_prediction = predict_fast_simple(train, user_sim_matrix, kind = 'user')\n",
    "item_prediction = predict_fast_simple(train, item_sim_matrix, kind = 'item')\n",
    "print(user_prediction)\n",
    "print(item_prediction)"
   ]
  },
  {
   "cell_type": "code",
   "execution_count": 17,
   "metadata": {},
   "outputs": [],
   "source": [
    "from sklearn.metrics import mean_squared_error\n",
    "\n",
    "def get_mse(pred, actual):\n",
    "    # Ignore nonzero terms.\n",
    "    pred = pred[actual.nonzero()].flatten()\n",
    "    actual = actual[actual.nonzero()].flatten()\n",
    "    return mean_squared_error(actual, pred)"
   ]
  },
  {
   "cell_type": "code",
   "execution_count": 18,
   "metadata": {},
   "outputs": [
    {
     "name": "stdout",
     "output_type": "stream",
     "text": [
      "User_norm-based CF MSE: 602315692.1897125\n",
      "Item_norm-based CF MSE: 3884998313.973418\n",
      "User-based CF MSE: 125865.64302172961\n",
      "Item-based CF MSE: 14555094.932008695\n"
     ]
    }
   ],
   "source": [
    "print ('User_norm-based CF MSE: ' + str(get_mse(user_norm_prediction, test)))\n",
    "print ('Item_norm-based CF MSE: ' + str(get_mse(item_norm_prediction, test)))\n",
    "print ('User-based CF MSE: ' + str(get_mse(user_prediction, test)))\n",
    "print ('Item-based CF MSE: ' + str(get_mse(item_prediction, test)))"
   ]
  },
  {
   "cell_type": "code",
   "execution_count": 19,
   "metadata": {},
   "outputs": [],
   "source": [
    "def predict_topk(ratings, similarity, kind='user', k=40):\n",
    "    pred = np.zeros(ratings.shape)\n",
    "    if kind == 'user':\n",
    "        for i in range(ratings.shape[0]):\n",
    "            top_k_users = [np.argsort(similarity[:,i])[:-k-1:-1]]\n",
    "            for j in range(ratings.shape[1]):\n",
    "                pred[i, j] = similarity[i, :][top_k_users].dot(ratings[:, j][top_k_users]) \n",
    "                pred[i, j] /= np.sum(np.abs(similarity[i, :][top_k_users]))\n",
    "    if kind == 'item':\n",
    "        for j in range(ratings.shape[1]):\n",
    "            top_k_items = [np.argsort(similarity[:,j])[:-k-1:-1]]\n",
    "            for i in range(ratings.shape[0]):\n",
    "                pred[i, j] = similarity[j, :][top_k_items].dot(ratings[i, :][top_k_items].T) \n",
    "                pred[i, j] /= np.sum(np.abs(similarity[j, :][top_k_items]))        \n",
    "    \n",
    "    return pred"
   ]
  },
  {
   "cell_type": "code",
   "execution_count": 20,
   "metadata": {},
   "outputs": [
    {
     "name": "stdout",
     "output_type": "stream",
     "text": [
      "Top-k User-based CF MSE: 8.842667080664894\n",
      "Top-k Item-based CF MSE: 9.574220244554263\n"
     ]
    }
   ],
   "source": [
    "with warnings.catch_warnings():\n",
    "    warnings.simplefilter(\"ignore\", category=FutureWarning)\n",
    "    pred = predict_topk(train, user_sim_matrix, kind='user', k=15)\n",
    "    print ('Top-k User-based CF MSE: ' + str(get_mse(pred, test)))\n",
    "\n",
    "    pred = predict_topk(train, item_sim_matrix, kind='item', k=15)\n",
    "    print ('Top-k Item-based CF MSE: ' + str(get_mse(pred, test)))"
   ]
  },
  {
   "cell_type": "code",
   "execution_count": 21,
   "metadata": {},
   "outputs": [],
   "source": [
    "k_array = [5, 15, 30, 50, 100, 200]\n",
    "user_train_mse = []\n",
    "user_test_mse = []\n",
    "item_test_mse = []\n",
    "item_train_mse = []\n",
    "\n",
    "for k in k_array:\n",
    "    with warnings.catch_warnings():\n",
    "        warnings.simplefilter(\"ignore\", category=FutureWarning)\n",
    "        user_pred = predict_topk(train, user_sim_matrix, kind='user', k=k)\n",
    "        item_pred = predict_topk(train, item_sim_matrix, kind='item', k=k)\n",
    "\n",
    "    user_train_mse += [get_mse(user_pred, train)]\n",
    "    user_test_mse += [get_mse(user_pred, test)]\n",
    "    \n",
    "    item_train_mse += [get_mse(item_pred, train)]\n",
    "    item_test_mse += [get_mse(item_pred, test)]  "
   ]
  },
  {
   "cell_type": "code",
   "execution_count": 22,
   "metadata": {},
   "outputs": [
    {
     "data": {
      "image/png": "[encoded data removed]",
      "text/plain": [
       "<Figure size 576x576 with 1 Axes>"
      ]
     },
     "metadata": {},
     "output_type": "display_data"
    }
   ],
   "source": [
    "%matplotlib inline\n",
    "import matplotlib.pyplot as plt\n",
    "import seaborn as sns\n",
    "sns.set()\n",
    "\n",
    "pal = sns.color_palette(\"Set2\", 2)\n",
    "\n",
    "plt.figure(figsize=(8, 8))\n",
    "plt.plot(k_array, user_train_mse, c=pal[0], label='User-based train', alpha=0.5, linewidth=5)\n",
    "plt.plot(k_array, user_test_mse, c=pal[0], label='User-based test', linewidth=5)\n",
    "plt.plot(k_array, item_train_mse, c=pal[1], label='Item-based train', alpha=0.5, linewidth=5)\n",
    "plt.plot(k_array, item_test_mse, c=pal[1], label='Item-based test', linewidth=5)\n",
    "plt.legend(loc='best', fontsize=20)\n",
    "plt.xticks(fontsize=16);\n",
    "plt.yticks(fontsize=16);\n",
    "plt.xlabel('k', fontsize=30);\n",
    "plt.ylabel('MSE', fontsize=30);"
   ]
  },
  {
   "cell_type": "code",
   "execution_count": null,
   "metadata": {},
   "outputs": [],
   "source": []
  }
 ],
 "metadata": {
  "kernelspec": {
   "display_name": "Python 3",
   "language": "python",
   "name": "python3"
  },
  "language_info": {
   "codemirror_mode": {
    "name": "ipython",
    "version": 3
   },
   "file_extension": ".py",
   "mimetype": "text/x-python",
   "name": "python",
   "nbconvert_exporter": "python",
   "pygments_lexer": "ipython3",
   "version": "3.6.5"
  }
 },
 "nbformat": 4,
 "nbformat_minor": 2
}
