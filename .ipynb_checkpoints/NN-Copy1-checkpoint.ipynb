{
 "cells": [
  {
   "cell_type": "code",
   "execution_count": 1,
   "metadata": {},
   "outputs": [],
   "source": [
    "import torch\n",
    "import torch.utils.data as Data\n",
    "import torch.nn.functional as F\n",
    "import torch.nn as nn\n",
    "import matplotlib.pyplot as plt\n",
    "import pandas as pd\n",
    "import numpy as np\n",
    "import math\n",
    "from torch.autograd import Variable"
   ]
  },
  {
   "cell_type": "code",
   "execution_count": 2,
   "metadata": {},
   "outputs": [],
   "source": [
    "LR = 0.01\n",
    "BATCH_SIZE = 32\n",
    "EPOCH = 200"
   ]
  },
  {
   "cell_type": "code",
   "execution_count": 3,
   "metadata": {},
   "outputs": [
    {
     "data": {
      "text/html": [
       "<div>\n",
       "<style scoped>\n",
       "    .dataframe tbody tr th:only-of-type {\n",
       "        vertical-align: middle;\n",
       "    }\n",
       "\n",
       "    .dataframe tbody tr th {\n",
       "        vertical-align: top;\n",
       "    }\n",
       "\n",
       "    .dataframe thead th {\n",
       "        text-align: right;\n",
       "    }\n",
       "</style>\n",
       "<table border=\"1\" class=\"dataframe\">\n",
       "  <thead>\n",
       "    <tr style=\"text-align: right;\">\n",
       "      <th></th>\n",
       "      <th>userId</th>\n",
       "      <th>movieId</th>\n",
       "      <th>rating</th>\n",
       "      <th>timestamp</th>\n",
       "    </tr>\n",
       "  </thead>\n",
       "  <tbody>\n",
       "    <tr>\n",
       "      <th>0</th>\n",
       "      <td>1</td>\n",
       "      <td>1</td>\n",
       "      <td>4.0</td>\n",
       "      <td>964982703</td>\n",
       "    </tr>\n",
       "    <tr>\n",
       "      <th>1</th>\n",
       "      <td>1</td>\n",
       "      <td>3</td>\n",
       "      <td>4.0</td>\n",
       "      <td>964981247</td>\n",
       "    </tr>\n",
       "    <tr>\n",
       "      <th>2</th>\n",
       "      <td>1</td>\n",
       "      <td>6</td>\n",
       "      <td>4.0</td>\n",
       "      <td>964982224</td>\n",
       "    </tr>\n",
       "    <tr>\n",
       "      <th>3</th>\n",
       "      <td>1</td>\n",
       "      <td>47</td>\n",
       "      <td>5.0</td>\n",
       "      <td>964983815</td>\n",
       "    </tr>\n",
       "    <tr>\n",
       "      <th>4</th>\n",
       "      <td>1</td>\n",
       "      <td>50</td>\n",
       "      <td>5.0</td>\n",
       "      <td>964982931</td>\n",
       "    </tr>\n",
       "  </tbody>\n",
       "</table>\n",
       "</div>"
      ],
      "text/plain": [
       "   userId  movieId  rating  timestamp\n",
       "0       1        1     4.0  964982703\n",
       "1       1        3     4.0  964981247\n",
       "2       1        6     4.0  964982224\n",
       "3       1       47     5.0  964983815\n",
       "4       1       50     5.0  964982931"
      ]
     },
     "execution_count": 3,
     "metadata": {},
     "output_type": "execute_result"
    }
   ],
   "source": [
    "df = pd.read_csv('./ml-latest-small/ratings.csv')\n",
    "df.head()"
   ]
  },
  {
   "cell_type": "code",
   "execution_count": 4,
   "metadata": {},
   "outputs": [
    {
     "data": {
      "text/plain": [
       "(75627, 25209)"
      ]
     },
     "execution_count": 4,
     "metadata": {},
     "output_type": "execute_result"
    }
   ],
   "source": [
    "from sklearn import model_selection as ms\n",
    "train_set, test_set = ms.train_test_split(df, test_size=0.25)\n",
    "len(train_set), len(test_set)"
   ]
  },
  {
   "cell_type": "code",
   "execution_count": 5,
   "metadata": {},
   "outputs": [],
   "source": [
    "training_set = np.array(train_set, dtype = 'int')\n",
    "testing_set = np.array(test_set, dtype = 'int')"
   ]
  },
  {
   "cell_type": "code",
   "execution_count": 6,
   "metadata": {},
   "outputs": [
    {
     "data": {
      "text/plain": [
       "(610, 9724)"
      ]
     },
     "execution_count": 6,
     "metadata": {},
     "output_type": "execute_result"
    }
   ],
   "source": [
    "num_users = df.userId.unique().shape[0]\n",
    "num_items = df.movieId.unique().shape[0]\n",
    "num_users, num_items"
   ]
  },
  {
   "cell_type": "code",
   "execution_count": 7,
   "metadata": {},
   "outputs": [],
   "source": [
    "movie_movieId = df.movieId.unique().tolist()\n",
    "movie_movieId.sort()\n",
    "d = dict()\n",
    "for i in range(0, len(movie_movieId)):\n",
    "    d[movie_movieId[i]] = i"
   ]
  },
  {
   "cell_type": "code",
   "execution_count": 8,
   "metadata": {},
   "outputs": [],
   "source": [
    "def user_item_matrix(data):\n",
    "    ratings = np.zeros((num_users, num_items))\n",
    "    for row in data.itertuples():\n",
    "        ratings[row[1]-1, d[row[2]]] = row[3]\n",
    "    return ratings"
   ]
  },
  {
   "cell_type": "code",
   "execution_count": 9,
   "metadata": {},
   "outputs": [],
   "source": [
    "ratings = user_item_matrix(df)\n",
    "train = user_item_matrix(train_set)\n",
    "test = user_item_matrix(test_set)"
   ]
  },
  {
   "cell_type": "code",
   "execution_count": 10,
   "metadata": {},
   "outputs": [
    {
     "data": {
      "text/plain": [
       "torch.Size([1, 610, 9724])"
      ]
     },
     "execution_count": 10,
     "metadata": {},
     "output_type": "execute_result"
    }
   ],
   "source": [
    "train = torch.FloatTensor(train)\n",
    "input = Variable(train).unsqueeze(0)\n",
    "input.shape"
   ]
  },
  {
   "cell_type": "code",
   "execution_count": 11,
   "metadata": {},
   "outputs": [],
   "source": [
    "train = torch.FloatTensor(train)\n",
    "test = torch.FloatTensor(test)\n",
    "input = Variable(train).unsqueeze(0)\n",
    "target = input\n",
    "torch_dataset = Data.TensorDataset(input, target)\n",
    "loader = Data.DataLoader(dataset=torch_dataset, batch_size=BATCH_SIZE, shuffle=True, num_workers=2,)"
   ]
  },
  {
   "cell_type": "code",
   "execution_count": 12,
   "metadata": {},
   "outputs": [],
   "source": [
    "class Net(torch.nn.Module):\n",
    "    def __init__(self):\n",
    "        super(Net, self).__init__()\n",
    "        self.fc1 = nn.Linear(num_items, 20)\n",
    "        self.fc2 = nn.Linear(20, 10)\n",
    "        self.fc3 = nn.Linear(10, 20)\n",
    "        self.fc4 = nn.Linear(20, num_items)\n",
    "        self.activation = nn.Sigmoid()\n",
    "        self.activation_t = nn.Tanh()\n",
    "        \n",
    "    def forward(self, x):\n",
    "        x = self.activation(self.fc1(x))\n",
    "        x = self.activation_t(self.fc2(x))\n",
    "        x = self.activation(self.fc3(x))\n",
    "        x = self.fc4(x)\n",
    "        return x"
   ]
  },
  {
   "cell_type": "code",
   "execution_count": 13,
   "metadata": {},
   "outputs": [],
   "source": [
    "net = Net()\n",
    "net.cuda()\n",
    "loss_func = nn.MSELoss()\n",
    "opt = torch.optim.Adam(net.parameters(), lr=LR, betas=(0.9, 0.99))"
   ]
  },
  {
   "cell_type": "code",
   "execution_count": 14,
   "metadata": {},
   "outputs": [
    {
     "name": "stdout",
     "output_type": "stream",
     "text": [
      "Epoch:  0 | Step:  0 | train loss:  0.17166975\n",
      "Epoch:  1 | Step:  0 | train loss:  0.16247357\n",
      "Epoch:  2 | Step:  0 | train loss:  0.15365733\n",
      "Epoch:  3 | Step:  0 | train loss:  0.14473553\n",
      "Epoch:  4 | Step:  0 | train loss:  0.13569339\n",
      "Epoch:  5 | Step:  0 | train loss:  0.12650669\n",
      "Epoch:  6 | Step:  0 | train loss:  0.11719755\n",
      "Epoch:  7 | Step:  0 | train loss:  0.1077225\n",
      "Epoch:  8 | Step:  0 | train loss:  0.09806876\n",
      "Epoch:  9 | Step:  0 | train loss:  0.08826178\n",
      "Epoch:  10 | Step:  0 | train loss:  0.07852322\n",
      "Epoch:  11 | Step:  0 | train loss:  0.068975665\n",
      "Epoch:  12 | Step:  0 | train loss:  0.059837062\n",
      "Epoch:  13 | Step:  0 | train loss:  0.051265348\n",
      "Epoch:  14 | Step:  0 | train loss:  0.04337899\n",
      "Epoch:  15 | Step:  0 | train loss:  0.03629859\n",
      "Epoch:  16 | Step:  0 | train loss:  0.030129638\n",
      "Epoch:  17 | Step:  0 | train loss:  0.02493813\n",
      "Epoch:  18 | Step:  0 | train loss:  0.020748546\n",
      "Epoch:  19 | Step:  0 | train loss:  0.017542228\n",
      "Epoch:  20 | Step:  0 | train loss:  0.015256477\n",
      "Epoch:  21 | Step:  0 | train loss:  0.013790998\n",
      "Epoch:  22 | Step:  0 | train loss:  0.013013789\n",
      "Epoch:  23 | Step:  0 | train loss:  0.01277446\n",
      "Epoch:  24 | Step:  0 | train loss:  0.01291744\n",
      "Epoch:  25 | Step:  0 | train loss:  0.01329354\n",
      "Epoch:  26 | Step:  0 | train loss:  0.013769697\n",
      "Epoch:  27 | Step:  0 | train loss:  0.014237167\n",
      "Epoch:  28 | Step:  0 | train loss:  0.014615675\n",
      "Epoch:  29 | Step:  0 | train loss:  0.014853846\n",
      "Epoch:  30 | Step:  0 | train loss:  0.014926257\n",
      "Epoch:  31 | Step:  0 | train loss:  0.014830687\n",
      "Epoch:  32 | Step:  0 | train loss:  0.014581572\n",
      "Epoch:  33 | Step:  0 | train loss:  0.014205961\n",
      "Epoch:  34 | Step:  0 | train loss:  0.0137384115\n",
      "Epoch:  35 | Step:  0 | train loss:  0.013216201\n",
      "Epoch:  36 | Step:  0 | train loss:  0.012675779\n",
      "Epoch:  37 | Step:  0 | train loss:  0.012149909\n",
      "Epoch:  38 | Step:  0 | train loss:  0.01166563\n",
      "Epoch:  39 | Step:  0 | train loss:  0.011242781\n",
      "Epoch:  40 | Step:  0 | train loss:  0.010893627\n",
      "Epoch:  41 | Step:  0 | train loss:  0.010623116\n",
      "Epoch:  42 | Step:  0 | train loss:  0.010429587\n",
      "Epoch:  43 | Step:  0 | train loss:  0.010305895\n",
      "Epoch:  44 | Step:  0 | train loss:  0.010240808\n",
      "Epoch:  45 | Step:  0 | train loss:  0.010220542\n",
      "Epoch:  46 | Step:  0 | train loss:  0.010230301\n",
      "Epoch:  47 | Step:  0 | train loss:  0.010255702\n",
      "Epoch:  48 | Step:  0 | train loss:  0.010283944\n",
      "Epoch:  49 | Step:  0 | train loss:  0.010304701\n",
      "Epoch:  50 | Step:  0 | train loss:  0.010310686\n",
      "Epoch:  51 | Step:  0 | train loss:  0.010297869\n",
      "Epoch:  52 | Step:  0 | train loss:  0.010265332\n",
      "Epoch:  53 | Step:  0 | train loss:  0.0102148475\n",
      "Epoch:  54 | Step:  0 | train loss:  0.01015025\n",
      "Epoch:  55 | Step:  0 | train loss:  0.010076677\n",
      "Epoch:  56 | Step:  0 | train loss:  0.00999979\n",
      "Epoch:  57 | Step:  0 | train loss:  0.009925054\n",
      "Epoch:  58 | Step:  0 | train loss:  0.009857136\n",
      "Epoch:  59 | Step:  0 | train loss:  0.009799489\n",
      "Epoch:  60 | Step:  0 | train loss:  0.0097541325\n",
      "Epoch:  61 | Step:  0 | train loss:  0.009721626\n",
      "Epoch:  62 | Step:  0 | train loss:  0.009701212\n",
      "Epoch:  63 | Step:  0 | train loss:  0.009691093\n",
      "Epoch:  64 | Step:  0 | train loss:  0.009688783\n",
      "Epoch:  65 | Step:  0 | train loss:  0.009691489\n",
      "Epoch:  66 | Step:  0 | train loss:  0.009696474\n",
      "Epoch:  67 | Step:  0 | train loss:  0.00970136\n",
      "Epoch:  68 | Step:  0 | train loss:  0.009704328\n",
      "Epoch:  69 | Step:  0 | train loss:  0.009704239\n",
      "Epoch:  70 | Step:  0 | train loss:  0.009700641\n",
      "Epoch:  71 | Step:  0 | train loss:  0.009693696\n",
      "Epoch:  72 | Step:  0 | train loss:  0.00968404\n",
      "Epoch:  73 | Step:  0 | train loss:  0.009672611\n",
      "Epoch:  74 | Step:  0 | train loss:  0.009660471\n",
      "Epoch:  75 | Step:  0 | train loss:  0.0096486425\n",
      "Epoch:  76 | Step:  0 | train loss:  0.0096379835\n",
      "Epoch:  77 | Step:  0 | train loss:  0.009629094\n",
      "Epoch:  78 | Step:  0 | train loss:  0.009622284\n",
      "Epoch:  79 | Step:  0 | train loss:  0.009617574\n",
      "Epoch:  80 | Step:  0 | train loss:  0.009614736\n",
      "Epoch:  81 | Step:  0 | train loss:  0.00961338\n",
      "Epoch:  82 | Step:  0 | train loss:  0.00961303\n",
      "Epoch:  83 | Step:  0 | train loss:  0.009613175\n",
      "Epoch:  84 | Step:  0 | train loss:  0.009613349\n",
      "Epoch:  85 | Step:  0 | train loss:  0.009613198\n",
      "Epoch:  86 | Step:  0 | train loss:  0.009612499\n",
      "Epoch:  87 | Step:  0 | train loss:  0.009611166\n",
      "Epoch:  88 | Step:  0 | train loss:  0.009609238\n",
      "Epoch:  89 | Step:  0 | train loss:  0.009606843\n",
      "Epoch:  90 | Step:  0 | train loss:  0.0096041495\n",
      "Epoch:  91 | Step:  0 | train loss:  0.009601395\n",
      "Epoch:  92 | Step:  0 | train loss:  0.009598806\n",
      "Epoch:  93 | Step:  0 | train loss:  0.0095964875\n",
      "Epoch:  94 | Step:  0 | train loss:  0.0095945075\n",
      "Epoch:  95 | Step:  0 | train loss:  0.009592872\n",
      "Epoch:  96 | Step:  0 | train loss:  0.009591535\n",
      "Epoch:  97 | Step:  0 | train loss:  0.009590419\n",
      "Epoch:  98 | Step:  0 | train loss:  0.0095894225\n",
      "Epoch:  99 | Step:  0 | train loss:  0.00958842\n",
      "Epoch:  100 | Step:  0 | train loss:  0.009587303\n",
      "Epoch:  101 | Step:  0 | train loss:  0.00958607\n",
      "Epoch:  102 | Step:  0 | train loss:  0.009584658\n",
      "Epoch:  103 | Step:  0 | train loss:  0.009583029\n",
      "Epoch:  104 | Step:  0 | train loss:  0.009581175\n",
      "Epoch:  105 | Step:  0 | train loss:  0.009579078\n",
      "Epoch:  106 | Step:  0 | train loss:  0.009577024\n",
      "Epoch:  107 | Step:  0 | train loss:  0.009574922\n",
      "Epoch:  108 | Step:  0 | train loss:  0.009572779\n",
      "Epoch:  109 | Step:  0 | train loss:  0.009570508\n",
      "Epoch:  110 | Step:  0 | train loss:  0.009568129\n",
      "Epoch:  111 | Step:  0 | train loss:  0.009565808\n",
      "Epoch:  112 | Step:  0 | train loss:  0.009563334\n",
      "Epoch:  113 | Step:  0 | train loss:  0.009560644\n",
      "Epoch:  114 | Step:  0 | train loss:  0.009557972\n",
      "Epoch:  115 | Step:  0 | train loss:  0.009555196\n",
      "Epoch:  116 | Step:  0 | train loss:  0.009552384\n",
      "Epoch:  117 | Step:  0 | train loss:  0.009549388\n",
      "Epoch:  118 | Step:  0 | train loss:  0.009546141\n",
      "Epoch:  119 | Step:  0 | train loss:  0.009542472\n",
      "Epoch:  120 | Step:  0 | train loss:  0.009538193\n",
      "Epoch:  121 | Step:  0 | train loss:  0.009534375\n",
      "Epoch:  122 | Step:  0 | train loss:  0.009530083\n",
      "Epoch:  123 | Step:  0 | train loss:  0.009524659\n",
      "Epoch:  124 | Step:  0 | train loss:  0.009519102\n",
      "Epoch:  125 | Step:  0 | train loss:  0.009513052\n",
      "Epoch:  126 | Step:  0 | train loss:  0.009506139\n",
      "Epoch:  127 | Step:  0 | train loss:  0.009499025\n",
      "Epoch:  128 | Step:  0 | train loss:  0.0094908895\n",
      "Epoch:  129 | Step:  0 | train loss:  0.0094825355\n",
      "Epoch:  130 | Step:  0 | train loss:  0.009471426\n",
      "Epoch:  131 | Step:  0 | train loss:  0.009462253\n",
      "Epoch:  132 | Step:  0 | train loss:  0.009452674\n",
      "Epoch:  133 | Step:  0 | train loss:  0.009441828\n",
      "Epoch:  134 | Step:  0 | train loss:  0.009430455\n",
      "Epoch:  135 | Step:  0 | train loss:  0.009416588\n",
      "Epoch:  136 | Step:  0 | train loss:  0.009400112\n",
      "Epoch:  137 | Step:  0 | train loss:  0.009390389\n",
      "Epoch:  138 | Step:  0 | train loss:  0.009368092\n",
      "Epoch:  139 | Step:  0 | train loss:  0.009350216\n",
      "Epoch:  140 | Step:  0 | train loss:  0.009333902\n",
      "Epoch:  141 | Step:  0 | train loss:  0.009317461\n",
      "Epoch:  142 | Step:  0 | train loss:  0.0092992885\n",
      "Epoch:  143 | Step:  0 | train loss:  0.009281872\n",
      "Epoch:  144 | Step:  0 | train loss:  0.009266447\n",
      "Epoch:  145 | Step:  0 | train loss:  0.009250339\n",
      "Epoch:  146 | Step:  0 | train loss:  0.00922935\n",
      "Epoch:  147 | Step:  0 | train loss:  0.009212411\n",
      "Epoch:  148 | Step:  0 | train loss:  0.009195187\n",
      "Epoch:  149 | Step:  0 | train loss:  0.009174996\n",
      "Epoch:  150 | Step:  0 | train loss:  0.00914417\n",
      "Epoch:  151 | Step:  0 | train loss:  0.009113851\n",
      "Epoch:  152 | Step:  0 | train loss:  0.009092086\n",
      "Epoch:  153 | Step:  0 | train loss:  0.0090671815\n",
      "Epoch:  154 | Step:  0 | train loss:  0.009035406\n",
      "Epoch:  155 | Step:  0 | train loss:  0.009010324\n",
      "Epoch:  156 | Step:  0 | train loss:  0.0089793485\n",
      "Epoch:  157 | Step:  0 | train loss:  0.008957938\n",
      "Epoch:  158 | Step:  0 | train loss:  0.008928319\n",
      "Epoch:  159 | Step:  0 | train loss:  0.008901702\n",
      "Epoch:  160 | Step:  0 | train loss:  0.0088694515\n",
      "Epoch:  161 | Step:  0 | train loss:  0.008845355\n",
      "Epoch:  162 | Step:  0 | train loss:  0.008822031\n",
      "Epoch:  163 | Step:  0 | train loss:  0.008800079\n",
      "Epoch:  164 | Step:  0 | train loss:  0.008779463\n",
      "Epoch:  165 | Step:  0 | train loss:  0.008760427\n",
      "Epoch:  166 | Step:  0 | train loss:  0.008742422\n"
     ]
    },
    {
     "name": "stdout",
     "output_type": "stream",
     "text": [
      "Epoch:  167 | Step:  0 | train loss:  0.008725546\n",
      "Epoch:  168 | Step:  0 | train loss:  0.008712235\n",
      "Epoch:  169 | Step:  0 | train loss:  0.008687944\n",
      "Epoch:  170 | Step:  0 | train loss:  0.008662749\n",
      "Epoch:  171 | Step:  0 | train loss:  0.008646383\n",
      "Epoch:  172 | Step:  0 | train loss:  0.00863038\n",
      "Epoch:  173 | Step:  0 | train loss:  0.008615358\n",
      "Epoch:  174 | Step:  0 | train loss:  0.008607693\n",
      "Epoch:  175 | Step:  0 | train loss:  0.008584587\n",
      "Epoch:  176 | Step:  0 | train loss:  0.008569182\n",
      "Epoch:  177 | Step:  0 | train loss:  0.008554611\n",
      "Epoch:  178 | Step:  0 | train loss:  0.008543596\n",
      "Epoch:  179 | Step:  0 | train loss:  0.008531639\n",
      "Epoch:  180 | Step:  0 | train loss:  0.008513199\n",
      "Epoch:  181 | Step:  0 | train loss:  0.008502852\n",
      "Epoch:  182 | Step:  0 | train loss:  0.008489466\n",
      "Epoch:  183 | Step:  0 | train loss:  0.008478098\n",
      "Epoch:  184 | Step:  0 | train loss:  0.008505488\n",
      "Epoch:  185 | Step:  0 | train loss:  0.008480638\n",
      "Epoch:  186 | Step:  0 | train loss:  0.008566011\n",
      "Epoch:  187 | Step:  0 | train loss:  0.008460856\n",
      "Epoch:  188 | Step:  0 | train loss:  0.008431855\n",
      "Epoch:  189 | Step:  0 | train loss:  0.008415752\n",
      "Epoch:  190 | Step:  0 | train loss:  0.008409731\n",
      "Epoch:  191 | Step:  0 | train loss:  0.0084146\n",
      "Epoch:  192 | Step:  0 | train loss:  0.008402783\n",
      "Epoch:  193 | Step:  0 | train loss:  0.00839194\n",
      "Epoch:  194 | Step:  0 | train loss:  0.008390978\n",
      "Epoch:  195 | Step:  0 | train loss:  0.008377027\n",
      "Epoch:  196 | Step:  0 | train loss:  0.008363729\n",
      "Epoch:  197 | Step:  0 | train loss:  0.008354356\n",
      "Epoch:  198 | Step:  0 | train loss:  0.008347849\n",
      "Epoch:  199 | Step:  0 | train loss:  0.008331275\n"
     ]
    }
   ],
   "source": [
    "loss_his = []\n",
    "for epoch in range(EPOCH):\n",
    "    for step, (x, y) in enumerate(loader): \n",
    "        b_x = x.cuda()    # Tensor on GPU\n",
    "        b_y = y.cuda()    # Tensor on GPU\n",
    "        # for each training step\n",
    "        output = net(b_x)  \n",
    "        output[target == 0] = 0\n",
    "        # get output for every net\n",
    "        loss = loss_func(output, b_y)  # compute loss for every net\n",
    "        opt.zero_grad()                # clear gradients for next train\n",
    "        loss.backward()                # backpropagation, compute gradients\n",
    "        opt.step()                     # apply gradients\n",
    "        loss_his.append(loss.data.numpy())     # loss recoder\n",
    "        print('Epoch: ', epoch, '| Step: ', step, '| train loss: ', loss.data.numpy())"
   ]
  },
  {
   "cell_type": "code",
   "execution_count": 15,
   "metadata": {},
   "outputs": [
    {
     "data": {
      "image/png": "[encoded data removed]",
      "text/plain": [
       "<Figure size 432x288 with 1 Axes>"
      ]
     },
     "metadata": {
      "needs_background": "light"
     },
     "output_type": "display_data"
    }
   ],
   "source": [
    "plt.plot(range(EPOCH), loss_his)\n",
    "plt.title('training loss')\n",
    "plt.xlabel('Epoch')\n",
    "plt.ylabel('Loss')\n",
    "plt.show()"
   ]
  },
  {
   "cell_type": "code",
   "execution_count": 16,
   "metadata": {
    "scrolled": false
   },
   "outputs": [
    {
     "data": {
      "text/plain": [
       "tensor([[[4.1846, 3.7818, 3.4564,  ..., 3.4973, 3.4957, 4.4164],\n",
       "         [3.4967, 3.1559, 2.9297,  ..., 3.0665, 2.9483, 3.8570],\n",
       "         [4.1311, 3.7362, 3.4150,  ..., 3.4607, 3.4500, 4.3657],\n",
       "         ...,\n",
       "         [4.1508, 3.7510, 3.4317,  ..., 3.4763, 3.4686, 4.3879],\n",
       "         [4.1817, 3.7792, 3.4543,  ..., 3.4955, 3.4933, 4.4138],\n",
       "         [4.1529, 3.7528, 3.4332,  ..., 3.4776, 3.4702, 4.3897]]],\n",
       "       grad_fn=<AddBackward0>)"
      ]
     },
     "execution_count": 16,
     "metadata": {},
     "output_type": "execute_result"
    }
   ],
   "source": [
    "test_var = Variable(test).unsqueeze(0)\n",
    "out = net(test_var)\n",
    "out"
   ]
  },
  {
   "cell_type": "code",
   "execution_count": 17,
   "metadata": {},
   "outputs": [],
   "source": [
    "out = out.detach().numpy()[0,:,:]"
   ]
  },
  {
   "cell_type": "code",
   "execution_count": 20,
   "metadata": {
    "scrolled": false
   },
   "outputs": [
    {
     "name": "stdout",
     "output_type": "stream",
     "text": [
      "Autoencoder RMSE: 1.2222300946698292\n",
      "Autoencoder MAE: 1.4938464043166197\n"
     ]
    }
   ],
   "source": [
    "from sklearn.metrics import mean_squared_error, mean_absolute_error\n",
    "\n",
    "def get_mse(pred, actual):\n",
    "    # Ignore zero terms.\n",
    "    pred = pred[actual.nonzero()].flatten()\n",
    "    actual = actual[actual.nonzero()].flatten()\n",
    "    return mean_squared_error(actual, pred)\n",
    "def get_mae(pred, actual):\n",
    "    # Ignore zero terms.\n",
    "    pred = pred[actual.nonzero()].flatten()\n",
    "    actual = actual[actual.nonzero()].flatten()\n",
    "    return mean_squared_error(actual, pred)\n",
    "\n",
    "test = user_item_matrix(test_set)\n",
    "print('Autoencoder RMSE: ' + str(math.sqrt(get_mse(out, test))))\n",
    "print('Autoencoder MAE: ' + str(get_mae(out, test)))"
   ]
  },
  {
   "cell_type": "code",
   "execution_count": null,
   "metadata": {},
   "outputs": [],
   "source": []
  }
 ],
 "metadata": {
  "kernelspec": {
   "display_name": "Python 3",
   "language": "python",
   "name": "python3"
  },
  "language_info": {
   "codemirror_mode": {
    "name": "ipython",
    "version": 3
   },
   "file_extension": ".py",
   "mimetype": "text/x-python",
   "name": "python",
   "nbconvert_exporter": "python",
   "pygments_lexer": "ipython3",
   "version": "3.7.1"
  }
 },
 "nbformat": 4,
 "nbformat_minor": 2
}
