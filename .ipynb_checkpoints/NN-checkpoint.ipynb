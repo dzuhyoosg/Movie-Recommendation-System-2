{
 "cells": [
  {
   "cell_type": "code",
   "execution_count": 1,
   "metadata": {},
   "outputs": [],
   "source": [
    "import torch\n",
    "import torch.utils.data as Data\n",
    "import torch.nn.functional as F\n",
    "import torch.nn as nn\n",
    "import matplotlib.pyplot as plt\n",
    "import pandas as pd\n",
    "import numpy as np\n",
    "from torch.autograd import Variable"
   ]
  },
  {
   "cell_type": "code",
   "execution_count": 2,
   "metadata": {},
   "outputs": [],
   "source": [
    "LR = 0.01\n",
    "BATCH_SIZE = 32\n",
    "EPOCH = 200"
   ]
  },
  {
   "cell_type": "code",
   "execution_count": 3,
   "metadata": {},
   "outputs": [
    {
     "data": {
      "text/html": [
       "<div>\n",
       "<style scoped>\n",
       "    .dataframe tbody tr th:only-of-type {\n",
       "        vertical-align: middle;\n",
       "    }\n",
       "\n",
       "    .dataframe tbody tr th {\n",
       "        vertical-align: top;\n",
       "    }\n",
       "\n",
       "    .dataframe thead th {\n",
       "        text-align: right;\n",
       "    }\n",
       "</style>\n",
       "<table border=\"1\" class=\"dataframe\">\n",
       "  <thead>\n",
       "    <tr style=\"text-align: right;\">\n",
       "      <th></th>\n",
       "      <th>userId</th>\n",
       "      <th>movieId</th>\n",
       "      <th>rating</th>\n",
       "      <th>timestamp</th>\n",
       "    </tr>\n",
       "  </thead>\n",
       "  <tbody>\n",
       "    <tr>\n",
       "      <th>0</th>\n",
       "      <td>1</td>\n",
       "      <td>1</td>\n",
       "      <td>4.0</td>\n",
       "      <td>964982703</td>\n",
       "    </tr>\n",
       "    <tr>\n",
       "      <th>1</th>\n",
       "      <td>1</td>\n",
       "      <td>3</td>\n",
       "      <td>4.0</td>\n",
       "      <td>964981247</td>\n",
       "    </tr>\n",
       "    <tr>\n",
       "      <th>2</th>\n",
       "      <td>1</td>\n",
       "      <td>6</td>\n",
       "      <td>4.0</td>\n",
       "      <td>964982224</td>\n",
       "    </tr>\n",
       "    <tr>\n",
       "      <th>3</th>\n",
       "      <td>1</td>\n",
       "      <td>47</td>\n",
       "      <td>5.0</td>\n",
       "      <td>964983815</td>\n",
       "    </tr>\n",
       "    <tr>\n",
       "      <th>4</th>\n",
       "      <td>1</td>\n",
       "      <td>50</td>\n",
       "      <td>5.0</td>\n",
       "      <td>964982931</td>\n",
       "    </tr>\n",
       "  </tbody>\n",
       "</table>\n",
       "</div>"
      ],
      "text/plain": [
       "   userId  movieId  rating  timestamp\n",
       "0       1        1     4.0  964982703\n",
       "1       1        3     4.0  964981247\n",
       "2       1        6     4.0  964982224\n",
       "3       1       47     5.0  964983815\n",
       "4       1       50     5.0  964982931"
      ]
     },
     "execution_count": 3,
     "metadata": {},
     "output_type": "execute_result"
    }
   ],
   "source": [
    "df = pd.read_csv('./ml-latest-small/ratings.csv')\n",
    "df.head()"
   ]
  },
  {
   "cell_type": "code",
   "execution_count": 4,
   "metadata": {},
   "outputs": [
    {
     "data": {
      "text/plain": [
       "(75627, 25209)"
      ]
     },
     "execution_count": 4,
     "metadata": {},
     "output_type": "execute_result"
    }
   ],
   "source": [
    "from sklearn import model_selection as ms\n",
    "train_set, test_set = ms.train_test_split(df, test_size=0.25)\n",
    "len(train_set), len(test_set)"
   ]
  },
  {
   "cell_type": "code",
   "execution_count": 5,
   "metadata": {},
   "outputs": [],
   "source": [
    "training_set = np.array(train_set, dtype = 'int')\n",
    "testing_set = np.array(test_set, dtype = 'int')"
   ]
  },
  {
   "cell_type": "code",
   "execution_count": 6,
   "metadata": {},
   "outputs": [
    {
     "data": {
      "text/plain": [
       "(610, 9724)"
      ]
     },
     "execution_count": 6,
     "metadata": {},
     "output_type": "execute_result"
    }
   ],
   "source": [
    "num_users = df.userId.unique().shape[0]\n",
    "num_items = df.movieId.unique().shape[0]\n",
    "num_users, num_items"
   ]
  },
  {
   "cell_type": "code",
   "execution_count": 7,
   "metadata": {},
   "outputs": [],
   "source": [
    "movie_movieId = df.movieId.unique().tolist()\n",
    "movie_movieId.sort()\n",
    "d = dict()\n",
    "for i in range(0, len(movie_movieId)):\n",
    "    d[movie_movieId[i]] = i"
   ]
  },
  {
   "cell_type": "code",
   "execution_count": 8,
   "metadata": {},
   "outputs": [],
   "source": [
    "def user_item_matrix(data):\n",
    "    ratings = np.zeros((num_users, num_items))\n",
    "    for row in data.itertuples():\n",
    "        ratings[row[1]-1, d[row[2]]] = row[3]\n",
    "    return ratings"
   ]
  },
  {
   "cell_type": "code",
   "execution_count": 9,
   "metadata": {},
   "outputs": [],
   "source": [
    "ratings = user_item_matrix(df)\n",
    "train = user_item_matrix(train_set)\n",
    "test = user_item_matrix(test_set)"
   ]
  },
  {
   "cell_type": "code",
   "execution_count": 10,
   "metadata": {},
   "outputs": [
    {
     "data": {
      "text/plain": [
       "torch.Size([1, 610, 9724])"
      ]
     },
     "execution_count": 10,
     "metadata": {},
     "output_type": "execute_result"
    }
   ],
   "source": [
    "train = torch.FloatTensor(train)\n",
    "input = Variable(train).unsqueeze(0)\n",
    "input.shape"
   ]
  },
  {
   "cell_type": "code",
   "execution_count": 11,
   "metadata": {},
   "outputs": [],
   "source": [
    "train = torch.FloatTensor(train)\n",
    "test = torch.FloatTensor(test)\n",
    "input = Variable(train).unsqueeze(0)\n",
    "target = input\n",
    "torch_dataset = Data.TensorDataset(input, target)\n",
    "loader = Data.DataLoader(dataset=torch_dataset, batch_size=BATCH_SIZE, shuffle=True, num_workers=2,)"
   ]
  },
  {
   "cell_type": "code",
   "execution_count": 12,
   "metadata": {},
   "outputs": [],
   "source": [
    "class Net(torch.nn.Module):\n",
    "    def __init__(self):\n",
    "        super(Net, self).__init__()\n",
    "        self.fc1 = nn.Linear(num_items, 20)\n",
    "        self.fc2 = nn.Linear(20, 10)\n",
    "        self.fc3 = nn.Linear(10, 20)\n",
    "        self.fc4 = nn.Linear(20, num_items)\n",
    "        self.activation = nn.Sigmoid()\n",
    "        self.activation_t = nn.ReLU()\n",
    "        \n",
    "    def forward(self, x):\n",
    "        x = self.activation(self.fc1(x))\n",
    "        x = self.activation_t(self.fc2(x))\n",
    "        x = self.activation(self.fc3(x))\n",
    "        x = self.fc4(x)\n",
    "        return x"
   ]
  },
  {
   "cell_type": "code",
   "execution_count": 13,
   "metadata": {},
   "outputs": [],
   "source": [
    "net = Net()\n",
    "loss_func = nn.MSELoss()\n",
    "opt = torch.optim.Adam(net.parameters(), lr=LR, betas=(0.9, 0.99))"
   ]
  },
  {
   "cell_type": "code",
   "execution_count": 14,
   "metadata": {},
   "outputs": [
    {
     "name": "stdout",
     "output_type": "stream",
     "text": [
      "Epoch:  0 | Step:  0 | train loss:  0.1714545\n",
      "Epoch:  1 | Step:  0 | train loss:  0.16235329\n",
      "Epoch:  2 | Step:  0 | train loss:  0.15320891\n",
      "Epoch:  3 | Step:  0 | train loss:  0.14375944\n",
      "Epoch:  4 | Step:  0 | train loss:  0.13422026\n",
      "Epoch:  5 | Step:  0 | train loss:  0.124658205\n",
      "Epoch:  6 | Step:  0 | train loss:  0.11509145\n",
      "Epoch:  7 | Step:  0 | train loss:  0.10542398\n",
      "Epoch:  8 | Step:  0 | train loss:  0.09562868\n",
      "Epoch:  9 | Step:  0 | train loss:  0.0855278\n",
      "Epoch:  10 | Step:  0 | train loss:  0.07522773\n",
      "Epoch:  11 | Step:  0 | train loss:  0.064958654\n",
      "Epoch:  12 | Step:  0 | train loss:  0.05480925\n",
      "Epoch:  13 | Step:  0 | train loss:  0.045225646\n",
      "Epoch:  14 | Step:  0 | train loss:  0.036797103\n",
      "Epoch:  15 | Step:  0 | train loss:  0.029668422\n",
      "Epoch:  16 | Step:  0 | train loss:  0.023857968\n",
      "Epoch:  17 | Step:  0 | train loss:  0.019487152\n",
      "Epoch:  18 | Step:  0 | train loss:  0.016486151\n",
      "Epoch:  19 | Step:  0 | train loss:  0.014673841\n",
      "Epoch:  20 | Step:  0 | train loss:  0.013821855\n",
      "Epoch:  21 | Step:  0 | train loss:  0.013670017\n",
      "Epoch:  22 | Step:  0 | train loss:  0.013967502\n",
      "Epoch:  23 | Step:  0 | train loss:  0.01448145\n",
      "Epoch:  24 | Step:  0 | train loss:  0.015036384\n",
      "Epoch:  25 | Step:  0 | train loss:  0.015511709\n",
      "Epoch:  26 | Step:  0 | train loss:  0.015830453\n",
      "Epoch:  27 | Step:  0 | train loss:  0.01595493\n",
      "Epoch:  28 | Step:  0 | train loss:  0.015878357\n",
      "Epoch:  29 | Step:  0 | train loss:  0.015616819\n",
      "Epoch:  30 | Step:  0 | train loss:  0.015202012\n",
      "Epoch:  31 | Step:  0 | train loss:  0.0146748135\n",
      "Epoch:  32 | Step:  0 | train loss:  0.014079675\n",
      "Epoch:  33 | Step:  0 | train loss:  0.013459831\n",
      "Epoch:  34 | Step:  0 | train loss:  0.012853562\n",
      "Epoch:  35 | Step:  0 | train loss:  0.012291641\n",
      "Epoch:  36 | Step:  0 | train loss:  0.011796015\n",
      "Epoch:  37 | Step:  0 | train loss:  0.0113796545\n",
      "Epoch:  38 | Step:  0 | train loss:  0.01104727\n",
      "Epoch:  39 | Step:  0 | train loss:  0.010796619\n",
      "Epoch:  40 | Step:  0 | train loss:  0.010620063\n",
      "Epoch:  41 | Step:  0 | train loss:  0.010506206\n",
      "Epoch:  42 | Step:  0 | train loss:  0.010441449\n",
      "Epoch:  43 | Step:  0 | train loss:  0.01041138\n",
      "Epoch:  44 | Step:  0 | train loss:  0.010401998\n",
      "Epoch:  45 | Step:  0 | train loss:  0.010400735\n",
      "Epoch:  46 | Step:  0 | train loss:  0.010397268\n",
      "Epoch:  47 | Step:  0 | train loss:  0.010384066\n",
      "Epoch:  48 | Step:  0 | train loss:  0.010356634\n",
      "Epoch:  49 | Step:  0 | train loss:  0.010313449\n",
      "Epoch:  50 | Step:  0 | train loss:  0.010255624\n",
      "Epoch:  51 | Step:  0 | train loss:  0.010186343\n",
      "Epoch:  52 | Step:  0 | train loss:  0.010110164\n",
      "Epoch:  53 | Step:  0 | train loss:  0.010032184\n",
      "Epoch:  54 | Step:  0 | train loss:  0.009957284\n",
      "Epoch:  55 | Step:  0 | train loss:  0.009889535\n",
      "Epoch:  56 | Step:  0 | train loss:  0.009831839\n",
      "Epoch:  57 | Step:  0 | train loss:  0.009785755\n",
      "Epoch:  58 | Step:  0 | train loss:  0.009751516\n",
      "Epoch:  59 | Step:  0 | train loss:  0.009728209\n",
      "Epoch:  60 | Step:  0 | train loss:  0.009714045\n",
      "Epoch:  61 | Step:  0 | train loss:  0.00970671\n",
      "Epoch:  62 | Step:  0 | train loss:  0.009703724\n",
      "Epoch:  63 | Step:  0 | train loss:  0.009702734\n",
      "Epoch:  64 | Step:  0 | train loss:  0.009701769\n",
      "Epoch:  65 | Step:  0 | train loss:  0.00969938\n",
      "Epoch:  66 | Step:  0 | train loss:  0.00969471\n",
      "Epoch:  67 | Step:  0 | train loss:  0.009687467\n",
      "Epoch:  68 | Step:  0 | train loss:  0.009677842\n",
      "Epoch:  69 | Step:  0 | train loss:  0.009666387\n",
      "Epoch:  70 | Step:  0 | train loss:  0.009653865\n",
      "Epoch:  71 | Step:  0 | train loss:  0.009641115\n",
      "Epoch:  72 | Step:  0 | train loss:  0.009628921\n",
      "Epoch:  73 | Step:  0 | train loss:  0.009617926\n",
      "Epoch:  74 | Step:  0 | train loss:  0.009608565\n",
      "Epoch:  75 | Step:  0 | train loss:  0.009601047\n",
      "Epoch:  76 | Step:  0 | train loss:  0.00959536\n",
      "Epoch:  77 | Step:  0 | train loss:  0.009591306\n",
      "Epoch:  78 | Step:  0 | train loss:  0.009588555\n",
      "Epoch:  79 | Step:  0 | train loss:  0.0095867105\n",
      "Epoch:  80 | Step:  0 | train loss:  0.009585358\n",
      "Epoch:  81 | Step:  0 | train loss:  0.009584127\n",
      "Epoch:  82 | Step:  0 | train loss:  0.0095827235\n",
      "Epoch:  83 | Step:  0 | train loss:  0.009580958\n",
      "Epoch:  84 | Step:  0 | train loss:  0.009578748\n",
      "Epoch:  85 | Step:  0 | train loss:  0.009576091\n",
      "Epoch:  86 | Step:  0 | train loss:  0.009573018\n",
      "Epoch:  87 | Step:  0 | train loss:  0.009569732\n",
      "Epoch:  88 | Step:  0 | train loss:  0.009566341\n",
      "Epoch:  89 | Step:  0 | train loss:  0.00956303\n",
      "Epoch:  90 | Step:  0 | train loss:  0.009559951\n",
      "Epoch:  91 | Step:  0 | train loss:  0.009557152\n",
      "Epoch:  92 | Step:  0 | train loss:  0.009554454\n",
      "Epoch:  93 | Step:  0 | train loss:  0.009551254\n",
      "Epoch:  94 | Step:  0 | train loss:  0.009548298\n",
      "Epoch:  95 | Step:  0 | train loss:  0.00954611\n",
      "Epoch:  96 | Step:  0 | train loss:  0.009543289\n",
      "Epoch:  97 | Step:  0 | train loss:  0.009540353\n",
      "Epoch:  98 | Step:  0 | train loss:  0.009537046\n",
      "Epoch:  99 | Step:  0 | train loss:  0.009533163\n",
      "Epoch:  100 | Step:  0 | train loss:  0.009529452\n",
      "Epoch:  101 | Step:  0 | train loss:  0.0095246425\n",
      "Epoch:  102 | Step:  0 | train loss:  0.009516432\n",
      "Epoch:  103 | Step:  0 | train loss:  0.009511219\n",
      "Epoch:  104 | Step:  0 | train loss:  0.009505726\n",
      "Epoch:  105 | Step:  0 | train loss:  0.009497626\n",
      "Epoch:  106 | Step:  0 | train loss:  0.009491636\n",
      "Epoch:  107 | Step:  0 | train loss:  0.009485395\n",
      "Epoch:  108 | Step:  0 | train loss:  0.009478945\n",
      "Epoch:  109 | Step:  0 | train loss:  0.009469087\n",
      "Epoch:  110 | Step:  0 | train loss:  0.00945795\n",
      "Epoch:  111 | Step:  0 | train loss:  0.009449503\n",
      "Epoch:  112 | Step:  0 | train loss:  0.009439548\n",
      "Epoch:  113 | Step:  0 | train loss:  0.009430762\n",
      "Epoch:  114 | Step:  0 | train loss:  0.00942401\n",
      "Epoch:  115 | Step:  0 | train loss:  0.009418363\n",
      "Epoch:  116 | Step:  0 | train loss:  0.00941272\n",
      "Epoch:  117 | Step:  0 | train loss:  0.0094069475\n",
      "Epoch:  118 | Step:  0 | train loss:  0.009401602\n",
      "Epoch:  119 | Step:  0 | train loss:  0.00939637\n",
      "Epoch:  120 | Step:  0 | train loss:  0.009390686\n",
      "Epoch:  121 | Step:  0 | train loss:  0.00938437\n",
      "Epoch:  122 | Step:  0 | train loss:  0.009376541\n",
      "Epoch:  123 | Step:  0 | train loss:  0.009369653\n",
      "Epoch:  124 | Step:  0 | train loss:  0.009362209\n",
      "Epoch:  125 | Step:  0 | train loss:  0.009352784\n",
      "Epoch:  126 | Step:  0 | train loss:  0.009342654\n",
      "Epoch:  127 | Step:  0 | train loss:  0.009335026\n",
      "Epoch:  128 | Step:  0 | train loss:  0.009326668\n",
      "Epoch:  129 | Step:  0 | train loss:  0.009317167\n",
      "Epoch:  130 | Step:  0 | train loss:  0.009304308\n",
      "Epoch:  131 | Step:  0 | train loss:  0.0092890775\n",
      "Epoch:  132 | Step:  0 | train loss:  0.009273448\n",
      "Epoch:  133 | Step:  0 | train loss:  0.009254853\n",
      "Epoch:  134 | Step:  0 | train loss:  0.009232807\n",
      "Epoch:  135 | Step:  0 | train loss:  0.009209895\n",
      "Epoch:  136 | Step:  0 | train loss:  0.009182048\n",
      "Epoch:  137 | Step:  0 | train loss:  0.009147831\n",
      "Epoch:  138 | Step:  0 | train loss:  0.009109181\n",
      "Epoch:  139 | Step:  0 | train loss:  0.009074277\n",
      "Epoch:  140 | Step:  0 | train loss:  0.009029298\n",
      "Epoch:  141 | Step:  0 | train loss:  0.008982484\n",
      "Epoch:  142 | Step:  0 | train loss:  0.00892608\n",
      "Epoch:  143 | Step:  0 | train loss:  0.008861465\n",
      "Epoch:  144 | Step:  0 | train loss:  0.008791878\n",
      "Epoch:  145 | Step:  0 | train loss:  0.008739178\n",
      "Epoch:  146 | Step:  0 | train loss:  0.008692436\n",
      "Epoch:  147 | Step:  0 | train loss:  0.00864833\n",
      "Epoch:  148 | Step:  0 | train loss:  0.0086141955\n",
      "Epoch:  149 | Step:  0 | train loss:  0.008591879\n",
      "Epoch:  150 | Step:  0 | train loss:  0.008550479\n",
      "Epoch:  151 | Step:  0 | train loss:  0.008544526\n",
      "Epoch:  152 | Step:  0 | train loss:  0.008552549\n",
      "Epoch:  153 | Step:  0 | train loss:  0.008507144\n",
      "Epoch:  154 | Step:  0 | train loss:  0.008507357\n",
      "Epoch:  155 | Step:  0 | train loss:  0.008505157\n",
      "Epoch:  156 | Step:  0 | train loss:  0.0084867515\n",
      "Epoch:  157 | Step:  0 | train loss:  0.008474836\n",
      "Epoch:  158 | Step:  0 | train loss:  0.008467384\n",
      "Epoch:  159 | Step:  0 | train loss:  0.008470476\n",
      "Epoch:  160 | Step:  0 | train loss:  0.008453426\n",
      "Epoch:  161 | Step:  0 | train loss:  0.008435971\n",
      "Epoch:  162 | Step:  0 | train loss:  0.008432152\n",
      "Epoch:  163 | Step:  0 | train loss:  0.008417294\n",
      "Epoch:  164 | Step:  0 | train loss:  0.008405465\n",
      "Epoch:  165 | Step:  0 | train loss:  0.008364763\n",
      "Epoch:  166 | Step:  0 | train loss:  0.008351958\n"
     ]
    },
    {
     "name": "stdout",
     "output_type": "stream",
     "text": [
      "Epoch:  167 | Step:  0 | train loss:  0.00834526\n",
      "Epoch:  168 | Step:  0 | train loss:  0.008338408\n",
      "Epoch:  169 | Step:  0 | train loss:  0.008318281\n",
      "Epoch:  170 | Step:  0 | train loss:  0.008309253\n",
      "Epoch:  171 | Step:  0 | train loss:  0.008298546\n",
      "Epoch:  172 | Step:  0 | train loss:  0.008277877\n",
      "Epoch:  173 | Step:  0 | train loss:  0.008275408\n",
      "Epoch:  174 | Step:  0 | train loss:  0.008265298\n",
      "Epoch:  175 | Step:  0 | train loss:  0.008252696\n",
      "Epoch:  176 | Step:  0 | train loss:  0.008246388\n",
      "Epoch:  177 | Step:  0 | train loss:  0.008241717\n",
      "Epoch:  178 | Step:  0 | train loss:  0.008234271\n",
      "Epoch:  179 | Step:  0 | train loss:  0.008225619\n",
      "Epoch:  180 | Step:  0 | train loss:  0.008215844\n",
      "Epoch:  181 | Step:  0 | train loss:  0.008203404\n",
      "Epoch:  182 | Step:  0 | train loss:  0.008200728\n",
      "Epoch:  183 | Step:  0 | train loss:  0.008184218\n",
      "Epoch:  184 | Step:  0 | train loss:  0.008169106\n",
      "Epoch:  185 | Step:  0 | train loss:  0.008100799\n",
      "Epoch:  186 | Step:  0 | train loss:  0.008083685\n",
      "Epoch:  187 | Step:  0 | train loss:  0.008077351\n",
      "Epoch:  188 | Step:  0 | train loss:  0.008064553\n",
      "Epoch:  189 | Step:  0 | train loss:  0.008050481\n",
      "Epoch:  190 | Step:  0 | train loss:  0.0080311075\n",
      "Epoch:  191 | Step:  0 | train loss:  0.008006252\n",
      "Epoch:  192 | Step:  0 | train loss:  0.007992015\n",
      "Epoch:  193 | Step:  0 | train loss:  0.007971938\n",
      "Epoch:  194 | Step:  0 | train loss:  0.007957875\n",
      "Epoch:  195 | Step:  0 | train loss:  0.007951063\n",
      "Epoch:  196 | Step:  0 | train loss:  0.007936965\n",
      "Epoch:  197 | Step:  0 | train loss:  0.007929397\n",
      "Epoch:  198 | Step:  0 | train loss:  0.007917701\n",
      "Epoch:  199 | Step:  0 | train loss:  0.007907298\n"
     ]
    }
   ],
   "source": [
    "loss_his = []\n",
    "for epoch in range(EPOCH):\n",
    "    for step, (b_x, b_y) in enumerate(loader):          # for each training step\n",
    "        output = net(b_x)  \n",
    "        output[target == 0] = 0\n",
    "        # get output for every net\n",
    "        loss = loss_func(output, b_y)  # compute loss for every net\n",
    "        opt.zero_grad()                # clear gradients for next train\n",
    "        loss.backward()                # backpropagation, compute gradients\n",
    "        opt.step()                     # apply gradients\n",
    "        loss_his.append(loss.data.numpy())     # loss recoder\n",
    "        print('Epoch: ', epoch, '| Step: ', step, '| train loss: ', loss.data.numpy())"
   ]
  },
  {
   "cell_type": "code",
   "execution_count": 15,
   "metadata": {},
   "outputs": [
    {
     "data": {
      "image/png": "[encoded data removed]",
      "text/plain": [
       "<Figure size 432x288 with 1 Axes>"
      ]
     },
     "metadata": {
      "needs_background": "light"
     },
     "output_type": "display_data"
    }
   ],
   "source": [
    "plt.plot(range(200), loss_his)\n",
    "plt.title('training loss')\n",
    "plt.xlabel('Epochs')\n",
    "plt.ylabel('Loss')\n",
    "plt.show()"
   ]
  },
  {
   "cell_type": "code",
   "execution_count": 21,
   "metadata": {},
   "outputs": [
    {
     "data": {
      "text/plain": [
       "tensor([[[ 3.8163e+00,  3.3626e+00,  3.0566e+00,  ...,  2.9495e+00,\n",
       "           3.1083e+00,  3.8543e+00],\n",
       "         [ 4.1198e+00,  3.7621e+00,  3.3828e+00,  ...,  3.2095e+00,\n",
       "           3.3109e+00,  4.1500e+00],\n",
       "         [ 4.0444e+00,  3.6753e+00,  3.3184e+00,  ...,  3.1614e+00,\n",
       "           3.2451e+00,  4.0561e+00],\n",
       "         ...,\n",
       "         [ 3.7956e+00,  3.3361e+00,  3.0353e+00,  ...,  2.9321e+00,\n",
       "           3.0934e+00,  3.8338e+00],\n",
       "         [ 3.9480e+00,  3.5365e+00,  3.2000e+00,  ...,  3.0642e+00,\n",
       "           3.1980e+00,  3.9823e+00],\n",
       "         [ 3.7956e+00,  3.3361e+00,  3.0353e+00,  ...,  2.9320e+00,\n",
       "           3.0934e+00,  3.8338e+00]]], grad_fn=<ThAddBackward>)"
      ]
     },
     "execution_count": 21,
     "metadata": {},
     "output_type": "execute_result"
    }
   ],
   "source": [
    "test_var = Variable(test).unsqueeze(0)\n",
    "out = net(test_var)\n",
    "out"
   ]
  },
  {
   "cell_type": "code",
   "execution_count": 20,
   "metadata": {},
   "outputs": [
    {
     "ename": "RuntimeError",
     "evalue": "Can't call numpy() on Variable that requires grad. Use var.detach().numpy() instead.",
     "output_type": "error",
     "traceback": [
      "\u001b[0;31m---------------------------------------------------------------------------\u001b[0m",
      "\u001b[0;31mRuntimeError\u001b[0m                              Traceback (most recent call last)",
      "\u001b[0;32m<ipython-input-20-624d0d57408e>\u001b[0m in \u001b[0;36m<module>\u001b[0;34m\u001b[0m\n\u001b[1;32m      7\u001b[0m     \u001b[0;32mreturn\u001b[0m \u001b[0mmean_squared_error\u001b[0m\u001b[0;34m(\u001b[0m\u001b[0mactual\u001b[0m\u001b[0;34m,\u001b[0m \u001b[0mpred\u001b[0m\u001b[0;34m)\u001b[0m\u001b[0;34m\u001b[0m\u001b[0;34m\u001b[0m\u001b[0m\n\u001b[1;32m      8\u001b[0m \u001b[0;34m\u001b[0m\u001b[0m\n\u001b[0;32m----> 9\u001b[0;31m \u001b[0mprint\u001b[0m\u001b[0;34m(\u001b[0m\u001b[0mget_mse\u001b[0m\u001b[0;34m(\u001b[0m\u001b[0mout\u001b[0m\u001b[0;34m,\u001b[0m \u001b[0mtest\u001b[0m\u001b[0;34m)\u001b[0m\u001b[0;34m)\u001b[0m\u001b[0;34m\u001b[0m\u001b[0;34m\u001b[0m\u001b[0m\n\u001b[0m",
      "\u001b[0;32m<ipython-input-20-624d0d57408e>\u001b[0m in \u001b[0;36mget_mse\u001b[0;34m(pred, actual)\u001b[0m\n\u001b[1;32m      5\u001b[0m     \u001b[0mpred\u001b[0m \u001b[0;34m=\u001b[0m \u001b[0mpred\u001b[0m\u001b[0;34m.\u001b[0m\u001b[0mflatten\u001b[0m\u001b[0;34m(\u001b[0m\u001b[0;34m)\u001b[0m\u001b[0;34m\u001b[0m\u001b[0;34m\u001b[0m\u001b[0m\n\u001b[1;32m      6\u001b[0m     \u001b[0mactual\u001b[0m \u001b[0;34m=\u001b[0m \u001b[0mactual\u001b[0m\u001b[0;34m.\u001b[0m\u001b[0mflatten\u001b[0m\u001b[0;34m(\u001b[0m\u001b[0;34m)\u001b[0m\u001b[0;34m\u001b[0m\u001b[0;34m\u001b[0m\u001b[0m\n\u001b[0;32m----> 7\u001b[0;31m     \u001b[0;32mreturn\u001b[0m \u001b[0mmean_squared_error\u001b[0m\u001b[0;34m(\u001b[0m\u001b[0mactual\u001b[0m\u001b[0;34m,\u001b[0m \u001b[0mpred\u001b[0m\u001b[0;34m)\u001b[0m\u001b[0;34m\u001b[0m\u001b[0;34m\u001b[0m\u001b[0m\n\u001b[0m\u001b[1;32m      8\u001b[0m \u001b[0;34m\u001b[0m\u001b[0m\n\u001b[1;32m      9\u001b[0m \u001b[0mprint\u001b[0m\u001b[0;34m(\u001b[0m\u001b[0mget_mse\u001b[0m\u001b[0;34m(\u001b[0m\u001b[0mout\u001b[0m\u001b[0;34m,\u001b[0m \u001b[0mtest\u001b[0m\u001b[0;34m)\u001b[0m\u001b[0;34m)\u001b[0m\u001b[0;34m\u001b[0m\u001b[0;34m\u001b[0m\u001b[0m\n",
      "\u001b[0;32m~/anaconda3/envs/cu/lib/python3.6/site-packages/sklearn/metrics/regression.py\u001b[0m in \u001b[0;36mmean_squared_error\u001b[0;34m(y_true, y_pred, sample_weight, multioutput)\u001b[0m\n\u001b[1;32m    237\u001b[0m     \"\"\"\n\u001b[1;32m    238\u001b[0m     y_type, y_true, y_pred, multioutput = _check_reg_targets(\n\u001b[0;32m--> 239\u001b[0;31m         y_true, y_pred, multioutput)\n\u001b[0m\u001b[1;32m    240\u001b[0m     \u001b[0mcheck_consistent_length\u001b[0m\u001b[0;34m(\u001b[0m\u001b[0my_true\u001b[0m\u001b[0;34m,\u001b[0m \u001b[0my_pred\u001b[0m\u001b[0;34m,\u001b[0m \u001b[0msample_weight\u001b[0m\u001b[0;34m)\u001b[0m\u001b[0;34m\u001b[0m\u001b[0;34m\u001b[0m\u001b[0m\n\u001b[1;32m    241\u001b[0m     output_errors = np.average((y_true - y_pred) ** 2, axis=0,\n",
      "\u001b[0;32m~/anaconda3/envs/cu/lib/python3.6/site-packages/sklearn/metrics/regression.py\u001b[0m in \u001b[0;36m_check_reg_targets\u001b[0;34m(y_true, y_pred, multioutput)\u001b[0m\n\u001b[1;32m     75\u001b[0m     \u001b[0mcheck_consistent_length\u001b[0m\u001b[0;34m(\u001b[0m\u001b[0my_true\u001b[0m\u001b[0;34m,\u001b[0m \u001b[0my_pred\u001b[0m\u001b[0;34m)\u001b[0m\u001b[0;34m\u001b[0m\u001b[0;34m\u001b[0m\u001b[0m\n\u001b[1;32m     76\u001b[0m     \u001b[0my_true\u001b[0m \u001b[0;34m=\u001b[0m \u001b[0mcheck_array\u001b[0m\u001b[0;34m(\u001b[0m\u001b[0my_true\u001b[0m\u001b[0;34m,\u001b[0m \u001b[0mensure_2d\u001b[0m\u001b[0;34m=\u001b[0m\u001b[0;32mFalse\u001b[0m\u001b[0;34m)\u001b[0m\u001b[0;34m\u001b[0m\u001b[0;34m\u001b[0m\u001b[0m\n\u001b[0;32m---> 77\u001b[0;31m     \u001b[0my_pred\u001b[0m \u001b[0;34m=\u001b[0m \u001b[0mcheck_array\u001b[0m\u001b[0;34m(\u001b[0m\u001b[0my_pred\u001b[0m\u001b[0;34m,\u001b[0m \u001b[0mensure_2d\u001b[0m\u001b[0;34m=\u001b[0m\u001b[0;32mFalse\u001b[0m\u001b[0;34m)\u001b[0m\u001b[0;34m\u001b[0m\u001b[0;34m\u001b[0m\u001b[0m\n\u001b[0m\u001b[1;32m     78\u001b[0m \u001b[0;34m\u001b[0m\u001b[0m\n\u001b[1;32m     79\u001b[0m     \u001b[0;32mif\u001b[0m \u001b[0my_true\u001b[0m\u001b[0;34m.\u001b[0m\u001b[0mndim\u001b[0m \u001b[0;34m==\u001b[0m \u001b[0;36m1\u001b[0m\u001b[0;34m:\u001b[0m\u001b[0;34m\u001b[0m\u001b[0;34m\u001b[0m\u001b[0m\n",
      "\u001b[0;32m~/anaconda3/envs/cu/lib/python3.6/site-packages/sklearn/utils/validation.py\u001b[0m in \u001b[0;36mcheck_array\u001b[0;34m(array, accept_sparse, accept_large_sparse, dtype, order, copy, force_all_finite, ensure_2d, allow_nd, ensure_min_samples, ensure_min_features, warn_on_dtype, estimator)\u001b[0m\n\u001b[1;32m    525\u001b[0m             \u001b[0;32mtry\u001b[0m\u001b[0;34m:\u001b[0m\u001b[0;34m\u001b[0m\u001b[0;34m\u001b[0m\u001b[0m\n\u001b[1;32m    526\u001b[0m                 \u001b[0mwarnings\u001b[0m\u001b[0;34m.\u001b[0m\u001b[0msimplefilter\u001b[0m\u001b[0;34m(\u001b[0m\u001b[0;34m'error'\u001b[0m\u001b[0;34m,\u001b[0m \u001b[0mComplexWarning\u001b[0m\u001b[0;34m)\u001b[0m\u001b[0;34m\u001b[0m\u001b[0;34m\u001b[0m\u001b[0m\n\u001b[0;32m--> 527\u001b[0;31m                 \u001b[0marray\u001b[0m \u001b[0;34m=\u001b[0m \u001b[0mnp\u001b[0m\u001b[0;34m.\u001b[0m\u001b[0masarray\u001b[0m\u001b[0;34m(\u001b[0m\u001b[0marray\u001b[0m\u001b[0;34m,\u001b[0m \u001b[0mdtype\u001b[0m\u001b[0;34m=\u001b[0m\u001b[0mdtype\u001b[0m\u001b[0;34m,\u001b[0m \u001b[0morder\u001b[0m\u001b[0;34m=\u001b[0m\u001b[0morder\u001b[0m\u001b[0;34m)\u001b[0m\u001b[0;34m\u001b[0m\u001b[0;34m\u001b[0m\u001b[0m\n\u001b[0m\u001b[1;32m    528\u001b[0m             \u001b[0;32mexcept\u001b[0m \u001b[0mComplexWarning\u001b[0m\u001b[0;34m:\u001b[0m\u001b[0;34m\u001b[0m\u001b[0;34m\u001b[0m\u001b[0m\n\u001b[1;32m    529\u001b[0m                 raise ValueError(\"Complex data not supported\\n\"\n",
      "\u001b[0;32m~/anaconda3/envs/cu/lib/python3.6/site-packages/numpy/core/numeric.py\u001b[0m in \u001b[0;36masarray\u001b[0;34m(a, dtype, order)\u001b[0m\n\u001b[1;32m    499\u001b[0m \u001b[0;34m\u001b[0m\u001b[0m\n\u001b[1;32m    500\u001b[0m     \"\"\"\n\u001b[0;32m--> 501\u001b[0;31m     \u001b[0;32mreturn\u001b[0m \u001b[0marray\u001b[0m\u001b[0;34m(\u001b[0m\u001b[0ma\u001b[0m\u001b[0;34m,\u001b[0m \u001b[0mdtype\u001b[0m\u001b[0;34m,\u001b[0m \u001b[0mcopy\u001b[0m\u001b[0;34m=\u001b[0m\u001b[0;32mFalse\u001b[0m\u001b[0;34m,\u001b[0m \u001b[0morder\u001b[0m\u001b[0;34m=\u001b[0m\u001b[0morder\u001b[0m\u001b[0;34m)\u001b[0m\u001b[0;34m\u001b[0m\u001b[0;34m\u001b[0m\u001b[0m\n\u001b[0m\u001b[1;32m    502\u001b[0m \u001b[0;34m\u001b[0m\u001b[0m\n\u001b[1;32m    503\u001b[0m \u001b[0;34m\u001b[0m\u001b[0m\n",
      "\u001b[0;32m~/anaconda3/envs/cu/lib/python3.6/site-packages/torch/tensor.py\u001b[0m in \u001b[0;36m__array__\u001b[0;34m(self, dtype)\u001b[0m\n\u001b[1;32m    395\u001b[0m     \u001b[0;32mdef\u001b[0m \u001b[0m__array__\u001b[0m\u001b[0;34m(\u001b[0m\u001b[0mself\u001b[0m\u001b[0;34m,\u001b[0m \u001b[0mdtype\u001b[0m\u001b[0;34m=\u001b[0m\u001b[0;32mNone\u001b[0m\u001b[0;34m)\u001b[0m\u001b[0;34m:\u001b[0m\u001b[0;34m\u001b[0m\u001b[0;34m\u001b[0m\u001b[0m\n\u001b[1;32m    396\u001b[0m         \u001b[0;32mif\u001b[0m \u001b[0mdtype\u001b[0m \u001b[0;32mis\u001b[0m \u001b[0;32mNone\u001b[0m\u001b[0;34m:\u001b[0m\u001b[0;34m\u001b[0m\u001b[0;34m\u001b[0m\u001b[0m\n\u001b[0;32m--> 397\u001b[0;31m             \u001b[0;32mreturn\u001b[0m \u001b[0mself\u001b[0m\u001b[0;34m.\u001b[0m\u001b[0mcpu\u001b[0m\u001b[0;34m(\u001b[0m\u001b[0;34m)\u001b[0m\u001b[0;34m.\u001b[0m\u001b[0mnumpy\u001b[0m\u001b[0;34m(\u001b[0m\u001b[0;34m)\u001b[0m\u001b[0;34m\u001b[0m\u001b[0;34m\u001b[0m\u001b[0m\n\u001b[0m\u001b[1;32m    398\u001b[0m         \u001b[0;32melse\u001b[0m\u001b[0;34m:\u001b[0m\u001b[0;34m\u001b[0m\u001b[0;34m\u001b[0m\u001b[0m\n\u001b[1;32m    399\u001b[0m             \u001b[0;32mreturn\u001b[0m \u001b[0mself\u001b[0m\u001b[0;34m.\u001b[0m\u001b[0mcpu\u001b[0m\u001b[0;34m(\u001b[0m\u001b[0;34m)\u001b[0m\u001b[0;34m.\u001b[0m\u001b[0mnumpy\u001b[0m\u001b[0;34m(\u001b[0m\u001b[0;34m)\u001b[0m\u001b[0;34m.\u001b[0m\u001b[0mastype\u001b[0m\u001b[0;34m(\u001b[0m\u001b[0mdtype\u001b[0m\u001b[0;34m,\u001b[0m \u001b[0mcopy\u001b[0m\u001b[0;34m=\u001b[0m\u001b[0;32mFalse\u001b[0m\u001b[0;34m)\u001b[0m\u001b[0;34m\u001b[0m\u001b[0;34m\u001b[0m\u001b[0m\n",
      "\u001b[0;31mRuntimeError\u001b[0m: Can't call numpy() on Variable that requires grad. Use var.detach().numpy() instead."
     ]
    }
   ],
   "source": [
    "from sklearn.metrics import mean_squared_error\n",
    "\n",
    "def get_mse(pred, actual):\n",
    "    # Ignore nonzero terms.\n",
    "    pred = pred.flatten()\n",
    "    actual = actual.flatten()\n",
    "    return mean_squared_error(actual, pred)\n",
    "\n",
    "print(get_mse(out, test))"
   ]
  },
  {
   "cell_type": "code",
   "execution_count": null,
   "metadata": {},
   "outputs": [],
   "source": []
  }
 ],
 "metadata": {
  "kernelspec": {
   "display_name": "Python 3",
   "language": "python",
   "name": "python3"
  },
  "language_info": {
   "codemirror_mode": {
    "name": "ipython",
    "version": 3
   },
   "file_extension": ".py",
   "mimetype": "text/x-python",
   "name": "python",
   "nbconvert_exporter": "python",
   "pygments_lexer": "ipython3",
   "version": "3.6.7"
  }
 },
 "nbformat": 4,
 "nbformat_minor": 2
}
