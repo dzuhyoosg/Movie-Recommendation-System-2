{
 "cells": [
  {
   "cell_type": "code",
   "execution_count": 1,
   "metadata": {
    "collapsed": true
   },
   "outputs": [],
   "source": [
    "import pandas as pd\n",
    "items = pd.read_csv('movies.csv', encoding='latin-1')\n",
    "ratings = pd.read_csv('ratings.csv', encoding='latin-1')\n",
    "number_of_users = ratings.userId.unique().shape[0]\n",
    "number_of_items = ratings.movieId.unique().shape[0]"
   ]
  },
  {
   "cell_type": "code",
   "execution_count": 2,
   "metadata": {},
   "outputs": [
    {
     "name": "stdout",
     "output_type": "stream",
     "text": [
      "This non-commercial license of GraphLab Create for academic use is assigned to xwang147@u.rochester.edu and will expire on April 20, 2019.\n"
     ]
    },
    {
     "name": "stderr",
     "output_type": "stream",
     "text": [
      "[INFO] graphlab.cython.cy_server: GraphLab Create v2.1 started. Logging: /tmp/graphlab_server_1525656170.log\n"
     ]
    },
    {
     "data": {
      "text/html": [
       "<pre>Finished parsing file /Users/ericwang/Desktop/MovieRecommender/CF/movies.csv</pre>"
      ],
      "text/plain": [
       "Finished parsing file /Users/ericwang/Desktop/MovieRecommender/CF/movies.csv"
      ]
     },
     "metadata": {},
     "output_type": "display_data"
    },
    {
     "data": {
      "text/html": [
       "<pre>Parsing completed. Parsed 100 lines in 0.108381 secs.</pre>"
      ],
      "text/plain": [
       "Parsing completed. Parsed 100 lines in 0.108381 secs."
      ]
     },
     "metadata": {},
     "output_type": "display_data"
    },
    {
     "name": "stdout",
     "output_type": "stream",
     "text": [
      "------------------------------------------------------\n",
      "Inferred types from first 100 line(s) of file as \n",
      "column_type_hints=[int,str,str,str,str,str,str,str,str,str,str,str]\n",
      "If parsing fails due to incorrect types, you can correct\n",
      "the inferred type list above and pass it to read_csv in\n",
      "the column_type_hints argument\n",
      "------------------------------------------------------\n"
     ]
    },
    {
     "data": {
      "text/html": [
       "<pre>Finished parsing file /Users/ericwang/Desktop/MovieRecommender/CF/movies.csv</pre>"
      ],
      "text/plain": [
       "Finished parsing file /Users/ericwang/Desktop/MovieRecommender/CF/movies.csv"
      ]
     },
     "metadata": {},
     "output_type": "display_data"
    },
    {
     "data": {
      "text/html": [
       "<pre>Parsing completed. Parsed 9125 lines in 0.04794 secs.</pre>"
      ],
      "text/plain": [
       "Parsing completed. Parsed 9125 lines in 0.04794 secs."
      ]
     },
     "metadata": {},
     "output_type": "display_data"
    }
   ],
   "source": [
    "from sklearn import cross_validation\n",
    "training_set, testing_set = cross_validation.train_test_split(ratings,test_size=0.25)\n",
    "import graphlab\n",
    "item_data = graphlab.SFrame.read_csv('movies.csv')\n",
    "train_data = graphlab.SFrame(training_set)\n",
    "test_data = graphlab.SFrame(testing_set)"
   ]
  },
  {
   "cell_type": "code",
   "execution_count": 3,
   "metadata": {},
   "outputs": [
    {
     "name": "stdout",
     "output_type": "stream",
     "text": [
      "WARNING: The ItemContentRecommender model is still in beta.\n",
      "WARNING: This feature transformer is still in beta, and some interpretation rules may change in the future.\n",
      "('Applying transform:\\n', Class             : AutoVectorizer\n",
      "\n",
      "Model Fields\n",
      "------------\n",
      "Features          : ['title', 'genre', 'genre.1', 'genre.2', 'genre.3', 'genre.4', 'genre.5', 'genre.6', 'genre.7', 'genre.8', 'genre.9']\n",
      "Excluded Features : ['movieId']\n",
      "\n",
      "Column   Type  Interpretation  Transforms                         Output Type\n",
      "-------  ----  --------------  ---------------------------------  -----------\n",
      "title    str   short_text      3-Character NGram Counts -> TFIDF  dict       \n",
      "genre    str   categorical     None                               str        \n",
      "genre.1  str   categorical     None                               str        \n",
      "genre.2  str   categorical     None                               str        \n",
      "genre.3  str   categorical     None                               str        \n",
      "genre.4  str   categorical     None                               str        \n",
      "genre.5  str   categorical     None                               str        \n",
      "genre.6  str   categorical     None                               str        \n",
      "genre.7  str   categorical     None                               str        \n",
      "genre.8  str   categorical     None                               str        \n",
      "genre.9  str   categorical     None                               str        \n",
      "\n",
      ")\n"
     ]
    },
    {
     "data": {
      "text/html": [
       "<pre>Recsys training: model = item_content_recommender</pre>"
      ],
      "text/plain": [
       "Recsys training: model = item_content_recommender"
      ]
     },
     "metadata": {},
     "output_type": "display_data"
    },
    {
     "name": "stdout",
     "output_type": "stream",
     "text": [
      "Defaulting to brute force instead of ball tree because there are multiple distance components.\n"
     ]
    },
    {
     "data": {
      "text/html": [
       "<pre>Starting brute force nearest neighbors model training.</pre>"
      ],
      "text/plain": [
       "Starting brute force nearest neighbors model training."
      ]
     },
     "metadata": {},
     "output_type": "display_data"
    },
    {
     "data": {
      "text/html": [
       "<pre>Starting pairwise querying.</pre>"
      ],
      "text/plain": [
       "Starting pairwise querying."
      ]
     },
     "metadata": {},
     "output_type": "display_data"
    },
    {
     "data": {
      "text/html": [
       "<pre>+--------------+---------+-------------+--------------+</pre>"
      ],
      "text/plain": [
       "+--------------+---------+-------------+--------------+"
      ]
     },
     "metadata": {},
     "output_type": "display_data"
    },
    {
     "data": {
      "text/html": [
       "<pre>| Query points | # Pairs | % Complete. | Elapsed Time |</pre>"
      ],
      "text/plain": [
       "| Query points | # Pairs | % Complete. | Elapsed Time |"
      ]
     },
     "metadata": {},
     "output_type": "display_data"
    },
    {
     "data": {
      "text/html": [
       "<pre>+--------------+---------+-------------+--------------+</pre>"
      ],
      "text/plain": [
       "+--------------+---------+-------------+--------------+"
      ]
     },
     "metadata": {},
     "output_type": "display_data"
    },
    {
     "data": {
      "text/html": [
       "<pre>| 1            | 9125    | 0.0109589   | 65.637ms     |</pre>"
      ],
      "text/plain": [
       "| 1            | 9125    | 0.0109589   | 65.637ms     |"
      ]
     },
     "metadata": {},
     "output_type": "display_data"
    },
    {
     "data": {
      "text/html": [
       "<pre>| 255          | 2326875 | 2.79452     | 1.06s        |</pre>"
      ],
      "text/plain": [
       "| 255          | 2326875 | 2.79452     | 1.06s        |"
      ]
     },
     "metadata": {},
     "output_type": "display_data"
    },
    {
     "data": {
      "text/html": [
       "<pre>| 511          | 4662875 | 5.6         | 2.06s        |</pre>"
      ],
      "text/plain": [
       "| 511          | 4662875 | 5.6         | 2.06s        |"
      ]
     },
     "metadata": {},
     "output_type": "display_data"
    },
    {
     "data": {
      "text/html": [
       "<pre>| 861          | 7856625 | 9.43562     | 3.06s        |</pre>"
      ],
      "text/plain": [
       "| 861          | 7856625 | 9.43562     | 3.06s        |"
      ]
     },
     "metadata": {},
     "output_type": "display_data"
    },
    {
     "data": {
      "text/html": [
       "<pre>| 1101         | 1e+07   | 12.0658     | 4.07s        |</pre>"
      ],
      "text/plain": [
       "| 1101         | 1e+07   | 12.0658     | 4.07s        |"
      ]
     },
     "metadata": {},
     "output_type": "display_data"
    },
    {
     "data": {
      "text/html": [
       "<pre>| 1405         | 1.3e+07 | 15.3973     | 5.07s        |</pre>"
      ],
      "text/plain": [
       "| 1405         | 1.3e+07 | 15.3973     | 5.07s        |"
      ]
     },
     "metadata": {},
     "output_type": "display_data"
    },
    {
     "data": {
      "text/html": [
       "<pre>| 1631         | 1.5e+07 | 17.874      | 6.07s        |</pre>"
      ],
      "text/plain": [
       "| 1631         | 1.5e+07 | 17.874      | 6.07s        |"
      ]
     },
     "metadata": {},
     "output_type": "display_data"
    },
    {
     "data": {
      "text/html": [
       "<pre>| 1972         | 1.8e+07 | 21.611      | 7.06s        |</pre>"
      ],
      "text/plain": [
       "| 1972         | 1.8e+07 | 21.611      | 7.06s        |"
      ]
     },
     "metadata": {},
     "output_type": "display_data"
    },
    {
     "data": {
      "text/html": [
       "<pre>| 2354         | 2.1e+07 | 25.7973     | 8.06s        |</pre>"
      ],
      "text/plain": [
       "| 2354         | 2.1e+07 | 25.7973     | 8.06s        |"
      ]
     },
     "metadata": {},
     "output_type": "display_data"
    },
    {
     "data": {
      "text/html": [
       "<pre>| 2746         | 2.5e+07 | 30.0932     | 9.07s        |</pre>"
      ],
      "text/plain": [
       "| 2746         | 2.5e+07 | 30.0932     | 9.07s        |"
      ]
     },
     "metadata": {},
     "output_type": "display_data"
    },
    {
     "data": {
      "text/html": [
       "<pre>| 3130         | 2.9e+07 | 34.3014     | 10.06s       |</pre>"
      ],
      "text/plain": [
       "| 3130         | 2.9e+07 | 34.3014     | 10.06s       |"
      ]
     },
     "metadata": {},
     "output_type": "display_data"
    },
    {
     "data": {
      "text/html": [
       "<pre>| 3506         | 3.2e+07 | 38.4219     | 11.07s       |</pre>"
      ],
      "text/plain": [
       "| 3506         | 3.2e+07 | 38.4219     | 11.07s       |"
      ]
     },
     "metadata": {},
     "output_type": "display_data"
    },
    {
     "data": {
      "text/html": [
       "<pre>| 3731         | 3.4e+07 | 40.8877     | 12.07s       |</pre>"
      ],
      "text/plain": [
       "| 3731         | 3.4e+07 | 40.8877     | 12.07s       |"
      ]
     },
     "metadata": {},
     "output_type": "display_data"
    },
    {
     "data": {
      "text/html": [
       "<pre>| 4101         | 3.7e+07 | 44.9425     | 13.07s       |</pre>"
      ],
      "text/plain": [
       "| 4101         | 3.7e+07 | 44.9425     | 13.07s       |"
      ]
     },
     "metadata": {},
     "output_type": "display_data"
    },
    {
     "data": {
      "text/html": [
       "<pre>| 4484         | 4.1e+07 | 49.1397     | 14.07s       |</pre>"
      ],
      "text/plain": [
       "| 4484         | 4.1e+07 | 49.1397     | 14.07s       |"
      ]
     },
     "metadata": {},
     "output_type": "display_data"
    },
    {
     "data": {
      "text/html": [
       "<pre>| 4870         | 4.4e+07 | 53.3699     | 15.07s       |</pre>"
      ],
      "text/plain": [
       "| 4870         | 4.4e+07 | 53.3699     | 15.07s       |"
      ]
     },
     "metadata": {},
     "output_type": "display_data"
    },
    {
     "data": {
      "text/html": [
       "<pre>| 5262         | 4.8e+07 | 57.6658     | 16.07s       |</pre>"
      ],
      "text/plain": [
       "| 5262         | 4.8e+07 | 57.6658     | 16.07s       |"
      ]
     },
     "metadata": {},
     "output_type": "display_data"
    },
    {
     "data": {
      "text/html": [
       "<pre>| 5653         | 5.2e+07 | 61.9507     | 17.07s       |</pre>"
      ],
      "text/plain": [
       "| 5653         | 5.2e+07 | 61.9507     | 17.07s       |"
      ]
     },
     "metadata": {},
     "output_type": "display_data"
    },
    {
     "data": {
      "text/html": [
       "<pre>| 6047         | 5.5e+07 | 66.2685     | 18.07s       |</pre>"
      ],
      "text/plain": [
       "| 6047         | 5.5e+07 | 66.2685     | 18.07s       |"
      ]
     },
     "metadata": {},
     "output_type": "display_data"
    },
    {
     "data": {
      "text/html": [
       "<pre>| 6427         | 5.9e+07 | 70.4329     | 19.07s       |</pre>"
      ],
      "text/plain": [
       "| 6427         | 5.9e+07 | 70.4329     | 19.07s       |"
      ]
     },
     "metadata": {},
     "output_type": "display_data"
    },
    {
     "data": {
      "text/html": [
       "<pre>| 6821         | 6.2e+07 | 74.7507     | 20.07s       |</pre>"
      ],
      "text/plain": [
       "| 6821         | 6.2e+07 | 74.7507     | 20.07s       |"
      ]
     },
     "metadata": {},
     "output_type": "display_data"
    },
    {
     "data": {
      "text/html": [
       "<pre>| 7181         | 6.6e+07 | 78.6959     | 21.07s       |</pre>"
      ],
      "text/plain": [
       "| 7181         | 6.6e+07 | 78.6959     | 21.07s       |"
      ]
     },
     "metadata": {},
     "output_type": "display_data"
    },
    {
     "data": {
      "text/html": [
       "<pre>| 7566         | 6.9e+07 | 82.9151     | 22.07s       |</pre>"
      ],
      "text/plain": [
       "| 7566         | 6.9e+07 | 82.9151     | 22.07s       |"
      ]
     },
     "metadata": {},
     "output_type": "display_data"
    },
    {
     "data": {
      "text/html": [
       "<pre>| 7948         | 7.3e+07 | 87.1014     | 23.07s       |</pre>"
      ],
      "text/plain": [
       "| 7948         | 7.3e+07 | 87.1014     | 23.07s       |"
      ]
     },
     "metadata": {},
     "output_type": "display_data"
    },
    {
     "data": {
      "text/html": [
       "<pre>| 8336         | 7.6e+07 | 91.3534     | 24.07s       |</pre>"
      ],
      "text/plain": [
       "| 8336         | 7.6e+07 | 91.3534     | 24.07s       |"
      ]
     },
     "metadata": {},
     "output_type": "display_data"
    },
    {
     "data": {
      "text/html": [
       "<pre>| 8658         |         | 94.8822     | 25.07s       |</pre>"
      ],
      "text/plain": [
       "| 8658         |         | 94.8822     | 25.07s       |"
      ]
     },
     "metadata": {},
     "output_type": "display_data"
    },
    {
     "data": {
      "text/html": [
       "<pre>| 8987         | 8.2e+07 | 98.4877     | 26.07s       |</pre>"
      ],
      "text/plain": [
       "| 8987         | 8.2e+07 | 98.4877     | 26.07s       |"
      ]
     },
     "metadata": {},
     "output_type": "display_data"
    },
    {
     "data": {
      "text/html": [
       "<pre>| Done         |         | 100         | 26.51s       |</pre>"
      ],
      "text/plain": [
       "| Done         |         | 100         | 26.51s       |"
      ]
     },
     "metadata": {},
     "output_type": "display_data"
    },
    {
     "data": {
      "text/html": [
       "<pre>+--------------+---------+-------------+--------------+</pre>"
      ],
      "text/plain": [
       "+--------------+---------+-------------+--------------+"
      ]
     },
     "metadata": {},
     "output_type": "display_data"
    },
    {
     "data": {
      "text/html": [
       "<pre>Warning: Ignoring columns timestamp;</pre>"
      ],
      "text/plain": [
       "Warning: Ignoring columns timestamp;"
      ]
     },
     "metadata": {},
     "output_type": "display_data"
    },
    {
     "data": {
      "text/html": [
       "<pre>    To use these columns in scoring predictions, use a model that allows the use of additional features.</pre>"
      ],
      "text/plain": [
       "    To use these columns in scoring predictions, use a model that allows the use of additional features."
      ]
     },
     "metadata": {},
     "output_type": "display_data"
    },
    {
     "data": {
      "text/html": [
       "<pre>Preparing data set.</pre>"
      ],
      "text/plain": [
       "Preparing data set."
      ]
     },
     "metadata": {},
     "output_type": "display_data"
    },
    {
     "data": {
      "text/html": [
       "<pre>    Data has 75003 observations with 671 users and 9125 items.</pre>"
      ],
      "text/plain": [
       "    Data has 75003 observations with 671 users and 9125 items."
      ]
     },
     "metadata": {},
     "output_type": "display_data"
    },
    {
     "data": {
      "text/html": [
       "<pre>    Data prepared in: 0.793906s</pre>"
      ],
      "text/plain": [
       "    Data prepared in: 0.793906s"
      ]
     },
     "metadata": {},
     "output_type": "display_data"
    },
    {
     "data": {
      "text/html": [
       "<pre>Loading user-provided nearest items.</pre>"
      ],
      "text/plain": [
       "Loading user-provided nearest items."
      ]
     },
     "metadata": {},
     "output_type": "display_data"
    },
    {
     "data": {
      "text/html": [
       "<pre>Generating candidate set for working with new users.</pre>"
      ],
      "text/plain": [
       "Generating candidate set for working with new users."
      ]
     },
     "metadata": {},
     "output_type": "display_data"
    },
    {
     "data": {
      "text/html": [
       "<pre>Finished training in 0.105681s</pre>"
      ],
      "text/plain": [
       "Finished training in 0.105681s"
      ]
     },
     "metadata": {},
     "output_type": "display_data"
    }
   ],
   "source": [
    "#create content-based recommender\n",
    "item_content_model = graphlab.item_content_recommender.create(item_data,item_id='movieId',observation_data=train_data,user_id='userId',target='rating')"
   ]
  },
  {
   "cell_type": "code",
   "execution_count": 4,
   "metadata": {},
   "outputs": [
    {
     "name": "stdout",
     "output_type": "stream",
     "text": [
      "('\\nOverall RMSE: ', 3.6439167668741383)\n",
      "\n",
      "Per User RMSE (best)\n",
      "+--------+-------+---------------+\n",
      "| userId | count |      rmse     |\n",
      "+--------+-------+---------------+\n",
      "|  579   |   4   | 1.08430300936 |\n",
      "+--------+-------+---------------+\n",
      "[1 rows x 3 columns]\n",
      "\n",
      "\n",
      "Per User RMSE (worst)\n",
      "+--------+-------+---------------+\n",
      "| userId | count |      rmse     |\n",
      "+--------+-------+---------------+\n",
      "|  114   |   7   | 4.86973158545 |\n",
      "+--------+-------+---------------+\n",
      "[1 rows x 3 columns]\n",
      "\n",
      "\n",
      "Per Item RMSE (best)\n",
      "+---------+-------+----------------+\n",
      "| movieId | count |      rmse      |\n",
      "+---------+-------+----------------+\n",
      "|  113345 |   1   | 0.424698862713 |\n",
      "+---------+-------+----------------+\n",
      "[1 rows x 3 columns]\n",
      "\n",
      "\n",
      "Per Item RMSE (worst)\n",
      "+---------+-------+------+\n",
      "| movieId | count | rmse |\n",
      "+---------+-------+------+\n",
      "|   2267  |   1   | 5.0  |\n",
      "+---------+-------+------+\n",
      "[1 rows x 3 columns]\n",
      "\n"
     ]
    },
    {
     "data": {
      "text/plain": [
       "{'rmse_by_item': Columns:\n",
       " \tmovieId\tint\n",
       " \tcount\tint\n",
       " \trmse\tfloat\n",
       " \n",
       " Rows: 5393\n",
       " \n",
       " Data:\n",
       " +---------+-------+---------------+\n",
       " | movieId | count |      rmse     |\n",
       " +---------+-------+---------------+\n",
       " |   7899  |   1   | 2.97408619549 |\n",
       " |   5288  |   1   | 3.99274527807 |\n",
       " |   3143  |   1   | 3.90706007972 |\n",
       " |   6769  |   1   | 4.95779619534 |\n",
       " |   2779  |   5   | 3.87808028801 |\n",
       " |   3988  |   4   | 2.60710347744 |\n",
       " |   2847  |   1   | 3.98464985781 |\n",
       " |  64614  |   7   | 3.77664281953 |\n",
       " |   2925  |   1   | 4.98490713525 |\n",
       " |   2871  |   13  | 4.01522722571 |\n",
       " +---------+-------+---------------+\n",
       " [5393 rows x 3 columns]\n",
       " Note: Only the head of the SFrame is printed.\n",
       " You can use print_rows(num_rows=m, num_columns=n) to print more rows and columns.,\n",
       " 'rmse_by_user': Columns:\n",
       " \tuserId\tint\n",
       " \tcount\tint\n",
       " \trmse\tfloat\n",
       " \n",
       " Rows: 671\n",
       " \n",
       " Data:\n",
       " +--------+-------+---------------+\n",
       " | userId | count |      rmse     |\n",
       " +--------+-------+---------------+\n",
       " |  118   |   44  | 4.04345737371 |\n",
       " |  435   |   7   | 4.20016059982 |\n",
       " |  537   |   70  | 3.89694537914 |\n",
       " |  526   |   7   | 4.17158014124 |\n",
       " |  232   |  163  | 4.00681887176 |\n",
       " |  310   |   7   | 3.45749851334 |\n",
       " |   49   |   20  |  3.5139256821 |\n",
       " |   13   |   20  | 3.66696557629 |\n",
       " |  511   |   5   | 4.09514019391 |\n",
       " |  363   |   47  | 3.78826387112 |\n",
       " +--------+-------+---------------+\n",
       " [671 rows x 3 columns]\n",
       " Note: Only the head of the SFrame is printed.\n",
       " You can use print_rows(num_rows=m, num_columns=n) to print more rows and columns.,\n",
       " 'rmse_overall': 3.6439167668741383}"
      ]
     },
     "execution_count": 4,
     "metadata": {},
     "output_type": "execute_result"
    }
   ],
   "source": [
    "#evaluate content-based recommender\n",
    "item_content_model.evaluate(test_data,metric='rmse')"
   ]
  },
  {
   "cell_type": "code",
   "execution_count": 5,
   "metadata": {},
   "outputs": [
    {
     "data": {
      "text/html": [
       "<pre>Recsys training: model = factorization_recommender</pre>"
      ],
      "text/plain": [
       "Recsys training: model = factorization_recommender"
      ]
     },
     "metadata": {},
     "output_type": "display_data"
    },
    {
     "data": {
      "text/html": [
       "<pre>Preparing data set.</pre>"
      ],
      "text/plain": [
       "Preparing data set."
      ]
     },
     "metadata": {},
     "output_type": "display_data"
    },
    {
     "data": {
      "text/html": [
       "<pre>    Data has 75003 observations with 671 users and 9125 items.</pre>"
      ],
      "text/plain": [
       "    Data has 75003 observations with 671 users and 9125 items."
      ]
     },
     "metadata": {},
     "output_type": "display_data"
    },
    {
     "data": {
      "text/html": [
       "<pre>    Data prepared in: 0.33299s</pre>"
      ],
      "text/plain": [
       "    Data prepared in: 0.33299s"
      ]
     },
     "metadata": {},
     "output_type": "display_data"
    },
    {
     "data": {
      "text/html": [
       "<pre>Training factorization_recommender for recommendations.</pre>"
      ],
      "text/plain": [
       "Training factorization_recommender for recommendations."
      ]
     },
     "metadata": {},
     "output_type": "display_data"
    },
    {
     "data": {
      "text/html": [
       "<pre>+--------------------------------+--------------------------------------------------+----------+</pre>"
      ],
      "text/plain": [
       "+--------------------------------+--------------------------------------------------+----------+"
      ]
     },
     "metadata": {},
     "output_type": "display_data"
    },
    {
     "data": {
      "text/html": [
       "<pre>| Parameter                      | Description                                      | Value    |</pre>"
      ],
      "text/plain": [
       "| Parameter                      | Description                                      | Value    |"
      ]
     },
     "metadata": {},
     "output_type": "display_data"
    },
    {
     "data": {
      "text/html": [
       "<pre>+--------------------------------+--------------------------------------------------+----------+</pre>"
      ],
      "text/plain": [
       "+--------------------------------+--------------------------------------------------+----------+"
      ]
     },
     "metadata": {},
     "output_type": "display_data"
    },
    {
     "data": {
      "text/html": [
       "<pre>| num_factors                    | Factor Dimension                                 | 8        |</pre>"
      ],
      "text/plain": [
       "| num_factors                    | Factor Dimension                                 | 8        |"
      ]
     },
     "metadata": {},
     "output_type": "display_data"
    },
    {
     "data": {
      "text/html": [
       "<pre>| regularization                 | L2 Regularization on Factors                     | 1e-08    |</pre>"
      ],
      "text/plain": [
       "| regularization                 | L2 Regularization on Factors                     | 1e-08    |"
      ]
     },
     "metadata": {},
     "output_type": "display_data"
    },
    {
     "data": {
      "text/html": [
       "<pre>| solver                         | Solver used for training                         | adagrad  |</pre>"
      ],
      "text/plain": [
       "| solver                         | Solver used for training                         | adagrad  |"
      ]
     },
     "metadata": {},
     "output_type": "display_data"
    },
    {
     "data": {
      "text/html": [
       "<pre>| linear_regularization          | L2 Regularization on Linear Coefficients         | 1e-10    |</pre>"
      ],
      "text/plain": [
       "| linear_regularization          | L2 Regularization on Linear Coefficients         | 1e-10    |"
      ]
     },
     "metadata": {},
     "output_type": "display_data"
    },
    {
     "data": {
      "text/html": [
       "<pre>| side_data_factorization        | Assign Factors for Side Data                     | True     |</pre>"
      ],
      "text/plain": [
       "| side_data_factorization        | Assign Factors for Side Data                     | True     |"
      ]
     },
     "metadata": {},
     "output_type": "display_data"
    },
    {
     "data": {
      "text/html": [
       "<pre>| max_iterations                 | Maximum Number of Iterations                     | 50       |</pre>"
      ],
      "text/plain": [
       "| max_iterations                 | Maximum Number of Iterations                     | 50       |"
      ]
     },
     "metadata": {},
     "output_type": "display_data"
    },
    {
     "data": {
      "text/html": [
       "<pre>+--------------------------------+--------------------------------------------------+----------+</pre>"
      ],
      "text/plain": [
       "+--------------------------------+--------------------------------------------------+----------+"
      ]
     },
     "metadata": {},
     "output_type": "display_data"
    },
    {
     "data": {
      "text/html": [
       "<pre>  Optimizing model using SGD; tuning step size.</pre>"
      ],
      "text/plain": [
       "  Optimizing model using SGD; tuning step size."
      ]
     },
     "metadata": {},
     "output_type": "display_data"
    },
    {
     "data": {
      "text/html": [
       "<pre>  Using 10000 / 75003 points for tuning the step size.</pre>"
      ],
      "text/plain": [
       "  Using 10000 / 75003 points for tuning the step size."
      ]
     },
     "metadata": {},
     "output_type": "display_data"
    },
    {
     "data": {
      "text/html": [
       "<pre>+---------+-------------------+------------------------------------------+</pre>"
      ],
      "text/plain": [
       "+---------+-------------------+------------------------------------------+"
      ]
     },
     "metadata": {},
     "output_type": "display_data"
    },
    {
     "data": {
      "text/html": [
       "<pre>| Attempt | Initial Step Size | Estimated Objective Value                |</pre>"
      ],
      "text/plain": [
       "| Attempt | Initial Step Size | Estimated Objective Value                |"
      ]
     },
     "metadata": {},
     "output_type": "display_data"
    },
    {
     "data": {
      "text/html": [
       "<pre>+---------+-------------------+------------------------------------------+</pre>"
      ],
      "text/plain": [
       "+---------+-------------------+------------------------------------------+"
      ]
     },
     "metadata": {},
     "output_type": "display_data"
    },
    {
     "data": {
      "text/html": [
       "<pre>| 0       | 3.57143           | Not Viable                               |</pre>"
      ],
      "text/plain": [
       "| 0       | 3.57143           | Not Viable                               |"
      ]
     },
     "metadata": {},
     "output_type": "display_data"
    },
    {
     "data": {
      "text/html": [
       "<pre>| 1       | 0.892857          | Not Viable                               |</pre>"
      ],
      "text/plain": [
       "| 1       | 0.892857          | Not Viable                               |"
      ]
     },
     "metadata": {},
     "output_type": "display_data"
    },
    {
     "data": {
      "text/html": [
       "<pre>| 2       | 0.223214          | 0.117062                                 |</pre>"
      ],
      "text/plain": [
       "| 2       | 0.223214          | 0.117062                                 |"
      ]
     },
     "metadata": {},
     "output_type": "display_data"
    },
    {
     "data": {
      "text/html": [
       "<pre>| 3       | 0.111607          | 0.147682                                 |</pre>"
      ],
      "text/plain": [
       "| 3       | 0.111607          | 0.147682                                 |"
      ]
     },
     "metadata": {},
     "output_type": "display_data"
    },
    {
     "data": {
      "text/html": [
       "<pre>| 4       | 0.0558036         | 0.314394                                 |</pre>"
      ],
      "text/plain": [
       "| 4       | 0.0558036         | 0.314394                                 |"
      ]
     },
     "metadata": {},
     "output_type": "display_data"
    },
    {
     "data": {
      "text/html": [
       "<pre>+---------+-------------------+------------------------------------------+</pre>"
      ],
      "text/plain": [
       "+---------+-------------------+------------------------------------------+"
      ]
     },
     "metadata": {},
     "output_type": "display_data"
    },
    {
     "data": {
      "text/html": [
       "<pre>| Final   | 0.223214          | 0.117062                                 |</pre>"
      ],
      "text/plain": [
       "| Final   | 0.223214          | 0.117062                                 |"
      ]
     },
     "metadata": {},
     "output_type": "display_data"
    },
    {
     "data": {
      "text/html": [
       "<pre>+---------+-------------------+------------------------------------------+</pre>"
      ],
      "text/plain": [
       "+---------+-------------------+------------------------------------------+"
      ]
     },
     "metadata": {},
     "output_type": "display_data"
    },
    {
     "data": {
      "text/html": [
       "<pre>Starting Optimization.</pre>"
      ],
      "text/plain": [
       "Starting Optimization."
      ]
     },
     "metadata": {},
     "output_type": "display_data"
    },
    {
     "data": {
      "text/html": [
       "<pre>+---------+--------------+-------------------+-----------------------+-------------+</pre>"
      ],
      "text/plain": [
       "+---------+--------------+-------------------+-----------------------+-------------+"
      ]
     },
     "metadata": {},
     "output_type": "display_data"
    },
    {
     "data": {
      "text/html": [
       "<pre>| Iter.   | Elapsed Time | Approx. Objective | Approx. Training RMSE | Step Size   |</pre>"
      ],
      "text/plain": [
       "| Iter.   | Elapsed Time | Approx. Objective | Approx. Training RMSE | Step Size   |"
      ]
     },
     "metadata": {},
     "output_type": "display_data"
    },
    {
     "data": {
      "text/html": [
       "<pre>+---------+--------------+-------------------+-----------------------+-------------+</pre>"
      ],
      "text/plain": [
       "+---------+--------------+-------------------+-----------------------+-------------+"
      ]
     },
     "metadata": {},
     "output_type": "display_data"
    },
    {
     "data": {
      "text/html": [
       "<pre>| Initial | 141us        | 1.11714           | 1.05695               |             |</pre>"
      ],
      "text/plain": [
       "| Initial | 141us        | 1.11714           | 1.05695               |             |"
      ]
     },
     "metadata": {},
     "output_type": "display_data"
    },
    {
     "data": {
      "text/html": [
       "<pre>+---------+--------------+-------------------+-----------------------+-------------+</pre>"
      ],
      "text/plain": [
       "+---------+--------------+-------------------+-----------------------+-------------+"
      ]
     },
     "metadata": {},
     "output_type": "display_data"
    },
    {
     "data": {
      "text/html": [
       "<pre>| 1       | 302.782ms    | 1.09076           | 1.04435               | 0.223214    |</pre>"
      ],
      "text/plain": [
       "| 1       | 302.782ms    | 1.09076           | 1.04435               | 0.223214    |"
      ]
     },
     "metadata": {},
     "output_type": "display_data"
    },
    {
     "data": {
      "text/html": [
       "<pre>| 2       | 462.036ms    | 0.70189           | 0.837745              | 0.223214    |</pre>"
      ],
      "text/plain": [
       "| 2       | 462.036ms    | 0.70189           | 0.837745              | 0.223214    |"
      ]
     },
     "metadata": {},
     "output_type": "display_data"
    },
    {
     "data": {
      "text/html": [
       "<pre>| 3       | 697.79ms     | 0.583499          | 0.763823              | 0.223214    |</pre>"
      ],
      "text/plain": [
       "| 3       | 697.79ms     | 0.583499          | 0.763823              | 0.223214    |"
      ]
     },
     "metadata": {},
     "output_type": "display_data"
    },
    {
     "data": {
      "text/html": [
       "<pre>| 4       | 883.772ms    | 0.525447          | 0.724825              | 0.223214    |</pre>"
      ],
      "text/plain": [
       "| 4       | 883.772ms    | 0.525447          | 0.724825              | 0.223214    |"
      ]
     },
     "metadata": {},
     "output_type": "display_data"
    },
    {
     "data": {
      "text/html": [
       "<pre>| 5       | 1.09s        | 0.485966          | 0.697057              | 0.223214    |</pre>"
      ],
      "text/plain": [
       "| 5       | 1.09s        | 0.485966          | 0.697057              | 0.223214    |"
      ]
     },
     "metadata": {},
     "output_type": "display_data"
    },
    {
     "data": {
      "text/html": [
       "<pre>| 6       | 1.22s        | 0.455618          | 0.674936              | 0.223214    |</pre>"
      ],
      "text/plain": [
       "| 6       | 1.22s        | 0.455618          | 0.674936              | 0.223214    |"
      ]
     },
     "metadata": {},
     "output_type": "display_data"
    },
    {
     "data": {
      "text/html": [
       "<pre>| 10      | 1.87s        | 0.391633          | 0.625739              | 0.223214    |</pre>"
      ],
      "text/plain": [
       "| 10      | 1.87s        | 0.391633          | 0.625739              | 0.223214    |"
      ]
     },
     "metadata": {},
     "output_type": "display_data"
    },
    {
     "data": {
      "text/html": [
       "<pre>| 11      | 2.04s        | 0.382623          | 0.618497              | 0.223214    |</pre>"
      ],
      "text/plain": [
       "| 11      | 2.04s        | 0.382623          | 0.618497              | 0.223214    |"
      ]
     },
     "metadata": {},
     "output_type": "display_data"
    },
    {
     "data": {
      "text/html": [
       "<pre>| 20      | 3.44s        | 0.337615          | 0.580969              | 0.223214    |</pre>"
      ],
      "text/plain": [
       "| 20      | 3.44s        | 0.337615          | 0.580969              | 0.223214    |"
      ]
     },
     "metadata": {},
     "output_type": "display_data"
    },
    {
     "data": {
      "text/html": [
       "<pre>| 30      | 4.88s        | 0.31589           | 0.561959              | 0.223214    |</pre>"
      ],
      "text/plain": [
       "| 30      | 4.88s        | 0.31589           | 0.561959              | 0.223214    |"
      ]
     },
     "metadata": {},
     "output_type": "display_data"
    },
    {
     "data": {
      "text/html": [
       "<pre>| 40      | 6.36s        | 0.304317          | 0.551563              | 0.223214    |</pre>"
      ],
      "text/plain": [
       "| 40      | 6.36s        | 0.304317          | 0.551563              | 0.223214    |"
      ]
     },
     "metadata": {},
     "output_type": "display_data"
    },
    {
     "data": {
      "text/html": [
       "<pre>| 50      | 7.96s        | 0.296006          | 0.543974              | 0.223214    |</pre>"
      ],
      "text/plain": [
       "| 50      | 7.96s        | 0.296006          | 0.543974              | 0.223214    |"
      ]
     },
     "metadata": {},
     "output_type": "display_data"
    },
    {
     "data": {
      "text/html": [
       "<pre>+---------+--------------+-------------------+-----------------------+-------------+</pre>"
      ],
      "text/plain": [
       "+---------+--------------+-------------------+-----------------------+-------------+"
      ]
     },
     "metadata": {},
     "output_type": "display_data"
    },
    {
     "data": {
      "text/html": [
       "<pre>Optimization Complete: Maximum number of passes through the data reached.</pre>"
      ],
      "text/plain": [
       "Optimization Complete: Maximum number of passes through the data reached."
      ]
     },
     "metadata": {},
     "output_type": "display_data"
    },
    {
     "data": {
      "text/html": [
       "<pre>Computing final objective value and training RMSE.</pre>"
      ],
      "text/plain": [
       "Computing final objective value and training RMSE."
      ]
     },
     "metadata": {},
     "output_type": "display_data"
    },
    {
     "data": {
      "text/html": [
       "<pre>       Final objective value: 0.289026</pre>"
      ],
      "text/plain": [
       "       Final objective value: 0.289026"
      ]
     },
     "metadata": {},
     "output_type": "display_data"
    },
    {
     "data": {
      "text/html": [
       "<pre>       Final training RMSE: 0.537521</pre>"
      ],
      "text/plain": [
       "       Final training RMSE: 0.537521"
      ]
     },
     "metadata": {},
     "output_type": "display_data"
    }
   ],
   "source": [
    "#create factorization model\n",
    "factorization_model = graphlab.factorization_recommender.create(train_data,user_id='userId',item_id='movieId',target='rating',item_data=item_data)"
   ]
  },
  {
   "cell_type": "code",
   "execution_count": 6,
   "metadata": {},
   "outputs": [
    {
     "name": "stdout",
     "output_type": "stream",
     "text": [
      "('\\nOverall RMSE: ', 1.0967028807754542)\n",
      "\n",
      "Per User RMSE (best)\n",
      "+--------+-------+----------------+\n",
      "| userId | count |      rmse      |\n",
      "+--------+-------+----------------+\n",
      "|   50   |   6   | 0.123159515573 |\n",
      "+--------+-------+----------------+\n",
      "[1 rows x 3 columns]\n",
      "\n",
      "\n",
      "Per User RMSE (worst)\n",
      "+--------+-------+---------------+\n",
      "| userId | count |      rmse     |\n",
      "+--------+-------+---------------+\n",
      "|  348   |   12  | 3.01754769951 |\n",
      "+--------+-------+---------------+\n",
      "[1 rows x 3 columns]\n",
      "\n",
      "\n",
      "Per Item RMSE (best)\n",
      "+---------+-------+------------------+\n",
      "| movieId | count |       rmse       |\n",
      "+---------+-------+------------------+\n",
      "|   3990  |   1   | 0.00102790242491 |\n",
      "+---------+-------+------------------+\n",
      "[1 rows x 3 columns]\n",
      "\n",
      "\n",
      "Per Item RMSE (worst)\n",
      "+---------+-------+--------------+\n",
      "| movieId | count |     rmse     |\n",
      "+---------+-------+--------------+\n",
      "|   3696  |   1   | 5.6056562209 |\n",
      "+---------+-------+--------------+\n",
      "[1 rows x 3 columns]\n",
      "\n"
     ]
    },
    {
     "data": {
      "text/plain": [
       "{'rmse_by_item': Columns:\n",
       " \tmovieId\tint\n",
       " \tcount\tint\n",
       " \trmse\tfloat\n",
       " \n",
       " Rows: 5393\n",
       " \n",
       " Data:\n",
       " +---------+-------+----------------+\n",
       " | movieId | count |      rmse      |\n",
       " +---------+-------+----------------+\n",
       " |   7899  |   1   | 0.385133612469 |\n",
       " |   5288  |   1   | 0.086001780721 |\n",
       " |   3143  |   1   | 0.494912838526 |\n",
       " |   6769  |   1   | 1.59656408739  |\n",
       " |   2779  |   5   | 0.371201619234 |\n",
       " |   3988  |   4   | 0.865027622605 |\n",
       " |   2847  |   1   | 0.095394471638 |\n",
       " |  64614  |   7   | 1.19945122268  |\n",
       " |   2925  |   1   | 0.333615951525 |\n",
       " |   2871  |   13  | 1.03122261501  |\n",
       " +---------+-------+----------------+\n",
       " [5393 rows x 3 columns]\n",
       " Note: Only the head of the SFrame is printed.\n",
       " You can use print_rows(num_rows=m, num_columns=n) to print more rows and columns.,\n",
       " 'rmse_by_user': Columns:\n",
       " \tuserId\tint\n",
       " \tcount\tint\n",
       " \trmse\tfloat\n",
       " \n",
       " Rows: 671\n",
       " \n",
       " Data:\n",
       " +--------+-------+----------------+\n",
       " | userId | count |      rmse      |\n",
       " +--------+-------+----------------+\n",
       " |  118   |   44  | 0.752466909829 |\n",
       " |  435   |   7   | 1.04588189016  |\n",
       " |  537   |   70  | 1.22404502869  |\n",
       " |  526   |   7   | 0.549394045277 |\n",
       " |  232   |  163  | 1.32334793227  |\n",
       " |  310   |   7   |  1.6433127729  |\n",
       " |   49   |   20  | 1.28229340004  |\n",
       " |   13   |   20  | 0.894667927932 |\n",
       " |  511   |   5   | 0.945163914342 |\n",
       " |  363   |   47  | 1.25177252069  |\n",
       " +--------+-------+----------------+\n",
       " [671 rows x 3 columns]\n",
       " Note: Only the head of the SFrame is printed.\n",
       " You can use print_rows(num_rows=m, num_columns=n) to print more rows and columns.,\n",
       " 'rmse_overall': 1.0967028807754542}"
      ]
     },
     "execution_count": 6,
     "metadata": {},
     "output_type": "execute_result"
    }
   ],
   "source": [
    "#evaluate factorization model\n",
    "factorization_model.evaluate(test_data,metric='rmse')"
   ]
  },
  {
   "cell_type": "code",
   "execution_count": 7,
   "metadata": {},
   "outputs": [
    {
     "data": {
      "text/html": [
       "<pre>Recsys training: model = popularity</pre>"
      ],
      "text/plain": [
       "Recsys training: model = popularity"
      ]
     },
     "metadata": {},
     "output_type": "display_data"
    },
    {
     "data": {
      "text/html": [
       "<pre>Warning: Ignoring columns timestamp;</pre>"
      ],
      "text/plain": [
       "Warning: Ignoring columns timestamp;"
      ]
     },
     "metadata": {},
     "output_type": "display_data"
    },
    {
     "data": {
      "text/html": [
       "<pre>    To use these columns in scoring predictions, use a model that allows the use of additional features.</pre>"
      ],
      "text/plain": [
       "    To use these columns in scoring predictions, use a model that allows the use of additional features."
      ]
     },
     "metadata": {},
     "output_type": "display_data"
    },
    {
     "data": {
      "text/html": [
       "<pre>Preparing data set.</pre>"
      ],
      "text/plain": [
       "Preparing data set."
      ]
     },
     "metadata": {},
     "output_type": "display_data"
    },
    {
     "data": {
      "text/html": [
       "<pre>    Data has 75003 observations with 671 users and 9125 items.</pre>"
      ],
      "text/plain": [
       "    Data has 75003 observations with 671 users and 9125 items."
      ]
     },
     "metadata": {},
     "output_type": "display_data"
    },
    {
     "data": {
      "text/html": [
       "<pre>    Data prepared in: 0.269509s</pre>"
      ],
      "text/plain": [
       "    Data prepared in: 0.269509s"
      ]
     },
     "metadata": {},
     "output_type": "display_data"
    },
    {
     "data": {
      "text/html": [
       "<pre>75003 observations to process; with 9125 unique items.</pre>"
      ],
      "text/plain": [
       "75003 observations to process; with 9125 unique items."
      ]
     },
     "metadata": {},
     "output_type": "display_data"
    }
   ],
   "source": [
    "#create popularity model\n",
    "popularity_model = graphlab.popularity_recommender.create(train_data,user_id='userId',item_id='movieId',target='rating',item_data=item_data)"
   ]
  },
  {
   "cell_type": "code",
   "execution_count": 8,
   "metadata": {},
   "outputs": [
    {
     "name": "stdout",
     "output_type": "stream",
     "text": [
      "('\\nOverall RMSE: ', 1.176296438567179)\n",
      "\n",
      "Per User RMSE (best)\n",
      "+--------+-------+----------------+\n",
      "| userId | count |      rmse      |\n",
      "+--------+-------+----------------+\n",
      "|   14   |   2   | 0.122159768359 |\n",
      "+--------+-------+----------------+\n",
      "[1 rows x 3 columns]\n",
      "\n",
      "\n",
      "Per User RMSE (worst)\n",
      "+--------+-------+---------------+\n",
      "| userId | count |      rmse     |\n",
      "+--------+-------+---------------+\n",
      "|  609   |   30  | 2.64633859938 |\n",
      "+--------+-------+---------------+\n",
      "[1 rows x 3 columns]\n",
      "\n",
      "\n",
      "Per Item RMSE (best)\n",
      "+---------+-------+------+\n",
      "| movieId | count | rmse |\n",
      "+---------+-------+------+\n",
      "|   4976  |   1   | 0.0  |\n",
      "+---------+-------+------+\n",
      "[1 rows x 3 columns]\n",
      "\n",
      "\n",
      "Per Item RMSE (worst)\n",
      "+---------+-------+------+\n",
      "| movieId | count | rmse |\n",
      "+---------+-------+------+\n",
      "|   6769  |   1   | 5.0  |\n",
      "+---------+-------+------+\n",
      "[1 rows x 3 columns]\n",
      "\n"
     ]
    },
    {
     "data": {
      "text/plain": [
       "{'rmse_by_item': Columns:\n",
       " \tmovieId\tint\n",
       " \tcount\tint\n",
       " \trmse\tfloat\n",
       " \n",
       " Rows: 5393\n",
       " \n",
       " Data:\n",
       " +---------+-------+----------------+\n",
       " | movieId | count |      rmse      |\n",
       " +---------+-------+----------------+\n",
       " |   7899  |   1   |      0.25      |\n",
       " |   5288  |   1   |      0.0       |\n",
       " |   3143  |   1   |      4.0       |\n",
       " |   6769  |   1   |      5.0       |\n",
       " |   2779  |   5   | 0.392308870662 |\n",
       " |   3988  |   4   | 0.442605919527 |\n",
       " |   2847  |   1   |      0.5       |\n",
       " |  64614  |   7   | 0.892944619462 |\n",
       " |   2925  |   1   | 0.916666666667 |\n",
       " |   2871  |   13  | 0.488848584348 |\n",
       " +---------+-------+----------------+\n",
       " [5393 rows x 3 columns]\n",
       " Note: Only the head of the SFrame is printed.\n",
       " You can use print_rows(num_rows=m, num_columns=n) to print more rows and columns.,\n",
       " 'rmse_by_user': Columns:\n",
       " \tuserId\tint\n",
       " \tcount\tint\n",
       " \trmse\tfloat\n",
       " \n",
       " Rows: 671\n",
       " \n",
       " Data:\n",
       " +--------+-------+----------------+\n",
       " | userId | count |      rmse      |\n",
       " +--------+-------+----------------+\n",
       " |  118   |   44  | 0.774897014805 |\n",
       " |  435   |   7   | 1.02024580641  |\n",
       " |  537   |   70  | 0.960344075169 |\n",
       " |  526   |   7   | 0.901954223056 |\n",
       " |  232   |  163  | 1.15983669611  |\n",
       " |  310   |   7   | 1.03335723705  |\n",
       " |   49   |   20  | 1.05033512549  |\n",
       " |   13   |   20  | 0.654206766986 |\n",
       " |  511   |   5   | 0.910221926938 |\n",
       " |  363   |   47  | 0.996652073165 |\n",
       " +--------+-------+----------------+\n",
       " [671 rows x 3 columns]\n",
       " Note: Only the head of the SFrame is printed.\n",
       " You can use print_rows(num_rows=m, num_columns=n) to print more rows and columns.,\n",
       " 'rmse_overall': 1.176296438567179}"
      ]
     },
     "execution_count": 8,
     "metadata": {},
     "output_type": "execute_result"
    }
   ],
   "source": [
    "#evaluate popularity model\n",
    "popularity_model.evaluate(test_data,metric='rmse')"
   ]
  },
  {
   "cell_type": "code",
   "execution_count": null,
   "metadata": {
    "collapsed": true
   },
   "outputs": [],
   "source": []
  }
 ],
 "metadata": {
  "kernelspec": {
   "display_name": "Python 3",
   "language": "python",
   "name": "python3"
  },
  "language_info": {
   "codemirror_mode": {
    "name": "ipython",
    "version": 3
   },
   "file_extension": ".py",
   "mimetype": "text/x-python",
   "name": "python",
   "nbconvert_exporter": "python",
   "pygments_lexer": "ipython3",
   "version": "3.6.2"
  }
 },
 "nbformat": 4,
 "nbformat_minor": 1
}
