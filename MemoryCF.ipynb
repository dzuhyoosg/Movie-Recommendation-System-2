{
 "cells": [
  {
   "cell_type": "code",
   "execution_count": 20,
   "metadata": {
    "collapsed": true
   },
   "outputs": [],
   "source": [
    "import pandas as pd\n",
    "items = pd.read_csv('Desktop/movies.csv', encoding='latin-1')"
   ]
  },
  {
   "cell_type": "code",
   "execution_count": 21,
   "metadata": {},
   "outputs": [
    {
     "name": "stdout",
     "output_type": "stream",
     "text": [
      "(45843, 3)\n"
     ]
    },
    {
     "data": {
      "text/html": [
       "<div>\n",
       "<table border=\"1\" class=\"dataframe\">\n",
       "  <thead>\n",
       "    <tr style=\"text-align: right;\">\n",
       "      <th></th>\n",
       "      <th>movieId</th>\n",
       "      <th>title</th>\n",
       "      <th>genres</th>\n",
       "    </tr>\n",
       "  </thead>\n",
       "  <tbody>\n",
       "    <tr>\n",
       "      <th>0</th>\n",
       "      <td>1</td>\n",
       "      <td>Toy Story (1995)</td>\n",
       "      <td>Adventure|Animation|Children|Comedy|Fantasy</td>\n",
       "    </tr>\n",
       "    <tr>\n",
       "      <th>1</th>\n",
       "      <td>2</td>\n",
       "      <td>Jumanji (1995)</td>\n",
       "      <td>Adventure|Children|Fantasy</td>\n",
       "    </tr>\n",
       "    <tr>\n",
       "      <th>2</th>\n",
       "      <td>3</td>\n",
       "      <td>Grumpier Old Men (1995)</td>\n",
       "      <td>Comedy|Romance</td>\n",
       "    </tr>\n",
       "    <tr>\n",
       "      <th>3</th>\n",
       "      <td>4</td>\n",
       "      <td>Waiting to Exhale (1995)</td>\n",
       "      <td>Comedy|Drama|Romance</td>\n",
       "    </tr>\n",
       "    <tr>\n",
       "      <th>4</th>\n",
       "      <td>5</td>\n",
       "      <td>Father of the Bride Part II (1995)</td>\n",
       "      <td>Comedy</td>\n",
       "    </tr>\n",
       "  </tbody>\n",
       "</table>\n",
       "</div>"
      ],
      "text/plain": [
       "   movieId                               title  \\\n",
       "0        1                    Toy Story (1995)   \n",
       "1        2                      Jumanji (1995)   \n",
       "2        3             Grumpier Old Men (1995)   \n",
       "3        4            Waiting to Exhale (1995)   \n",
       "4        5  Father of the Bride Part II (1995)   \n",
       "\n",
       "                                        genres  \n",
       "0  Adventure|Animation|Children|Comedy|Fantasy  \n",
       "1                   Adventure|Children|Fantasy  \n",
       "2                               Comedy|Romance  \n",
       "3                         Comedy|Drama|Romance  \n",
       "4                                       Comedy  "
      ]
     },
     "execution_count": 21,
     "metadata": {},
     "output_type": "execute_result"
    }
   ],
   "source": [
    "print items.shape\n",
    "items.head()"
   ]
  },
  {
   "cell_type": "code",
   "execution_count": 22,
   "metadata": {},
   "outputs": [
    {
     "data": {
      "text/html": [
       "<div>\n",
       "<table border=\"1\" class=\"dataframe\">\n",
       "  <thead>\n",
       "    <tr style=\"text-align: right;\">\n",
       "      <th></th>\n",
       "      <th>userId</th>\n",
       "      <th>movieId</th>\n",
       "      <th>rating</th>\n",
       "      <th>timestamp</th>\n",
       "    </tr>\n",
       "  </thead>\n",
       "  <tbody>\n",
       "    <tr>\n",
       "      <th>0</th>\n",
       "      <td>1</td>\n",
       "      <td>110</td>\n",
       "      <td>1.0</td>\n",
       "      <td>1425941529</td>\n",
       "    </tr>\n",
       "    <tr>\n",
       "      <th>1</th>\n",
       "      <td>1</td>\n",
       "      <td>147</td>\n",
       "      <td>4.5</td>\n",
       "      <td>1425942435</td>\n",
       "    </tr>\n",
       "    <tr>\n",
       "      <th>2</th>\n",
       "      <td>1</td>\n",
       "      <td>858</td>\n",
       "      <td>5.0</td>\n",
       "      <td>1425941523</td>\n",
       "    </tr>\n",
       "    <tr>\n",
       "      <th>3</th>\n",
       "      <td>1</td>\n",
       "      <td>1221</td>\n",
       "      <td>5.0</td>\n",
       "      <td>1425941546</td>\n",
       "    </tr>\n",
       "    <tr>\n",
       "      <th>4</th>\n",
       "      <td>1</td>\n",
       "      <td>1246</td>\n",
       "      <td>5.0</td>\n",
       "      <td>1425941556</td>\n",
       "    </tr>\n",
       "  </tbody>\n",
       "</table>\n",
       "</div>"
      ],
      "text/plain": [
       "   userId  movieId  rating   timestamp\n",
       "0       1      110     1.0  1425941529\n",
       "1       1      147     4.5  1425942435\n",
       "2       1      858     5.0  1425941523\n",
       "3       1     1221     5.0  1425941546\n",
       "4       1     1246     5.0  1425941556"
      ]
     },
     "execution_count": 22,
     "metadata": {},
     "output_type": "execute_result"
    }
   ],
   "source": [
    "ratings = pd.read_csv('Desktop/ratings.csv', encoding='latin-1')\n",
    "ratings.head()"
   ]
  },
  {
   "cell_type": "code",
   "execution_count": 23,
   "metadata": {},
   "outputs": [
    {
     "name": "stdout",
     "output_type": "stream",
     "text": [
      "270896\n",
      "45115\n"
     ]
    }
   ],
   "source": [
    "number_of_users = ratings.userId.unique().shape[0]\n",
    "number_of_items = ratings.movieId.unique().shape[0]\n",
    "print number_of_users\n",
    "print number_of_items"
   ]
  },
  {
   "cell_type": "code",
   "execution_count": 24,
   "metadata": {
    "collapsed": true
   },
   "outputs": [],
   "source": [
    "from sklearn import cross_validation\n",
    "training_set, testing_set = cross_validation.train_test_split(ratings,test_size=0.25)"
   ]
  },
  {
   "cell_type": "code",
   "execution_count": 25,
   "metadata": {
    "collapsed": true
   },
   "outputs": [],
   "source": [
    "import graphlab\n",
    "train_data = graphlab.SFrame(training_set)\n",
    "test_data = graphlab.SFrame(testing_set)"
   ]
  },
  {
   "cell_type": "code",
   "execution_count": 26,
   "metadata": {},
   "outputs": [
    {
     "data": {
      "text/html": [
       "<pre>Recsys training: model = item_similarity</pre>"
      ],
      "text/plain": [
       "Recsys training: model = item_similarity"
      ]
     },
     "metadata": {},
     "output_type": "display_data"
    },
    {
     "data": {
      "text/html": [
       "<pre>Warning: Ignoring columns timestamp;</pre>"
      ],
      "text/plain": [
       "Warning: Ignoring columns timestamp;"
      ]
     },
     "metadata": {},
     "output_type": "display_data"
    },
    {
     "data": {
      "text/html": [
       "<pre>    To use these columns in scoring predictions, use a model that allows the use of additional features.</pre>"
      ],
      "text/plain": [
       "    To use these columns in scoring predictions, use a model that allows the use of additional features."
      ]
     },
     "metadata": {},
     "output_type": "display_data"
    },
    {
     "data": {
      "text/html": [
       "<pre>Preparing data set.</pre>"
      ],
      "text/plain": [
       "Preparing data set."
      ]
     },
     "metadata": {},
     "output_type": "display_data"
    },
    {
     "data": {
      "text/html": [
       "<pre>    Data has 19518216 observations with 269349 users and 42873 items.</pre>"
      ],
      "text/plain": [
       "    Data has 19518216 observations with 269349 users and 42873 items."
      ]
     },
     "metadata": {},
     "output_type": "display_data"
    },
    {
     "data": {
      "text/html": [
       "<pre>    Data prepared in: 28.3561s</pre>"
      ],
      "text/plain": [
       "    Data prepared in: 28.3561s"
      ]
     },
     "metadata": {},
     "output_type": "display_data"
    },
    {
     "data": {
      "text/html": [
       "<pre>Training model from provided data.</pre>"
      ],
      "text/plain": [
       "Training model from provided data."
      ]
     },
     "metadata": {},
     "output_type": "display_data"
    },
    {
     "data": {
      "text/html": [
       "<pre>Gathering per-item and per-user statistics.</pre>"
      ],
      "text/plain": [
       "Gathering per-item and per-user statistics."
      ]
     },
     "metadata": {},
     "output_type": "display_data"
    },
    {
     "data": {
      "text/html": [
       "<pre>+--------------------------------+------------+</pre>"
      ],
      "text/plain": [
       "+--------------------------------+------------+"
      ]
     },
     "metadata": {},
     "output_type": "display_data"
    },
    {
     "data": {
      "text/html": [
       "<pre>| Elapsed Time (Item Statistics) | % Complete |</pre>"
      ],
      "text/plain": [
       "| Elapsed Time (Item Statistics) | % Complete |"
      ]
     },
     "metadata": {},
     "output_type": "display_data"
    },
    {
     "data": {
      "text/html": [
       "<pre>+--------------------------------+------------+</pre>"
      ],
      "text/plain": [
       "+--------------------------------+------------+"
      ]
     },
     "metadata": {},
     "output_type": "display_data"
    },
    {
     "data": {
      "text/html": [
       "<pre>| 37.735ms                       | 0.25       |</pre>"
      ],
      "text/plain": [
       "| 37.735ms                       | 0.25       |"
      ]
     },
     "metadata": {},
     "output_type": "display_data"
    },
    {
     "data": {
      "text/html": [
       "<pre>| 1.04s                          | 84.5       |</pre>"
      ],
      "text/plain": [
       "| 1.04s                          | 84.5       |"
      ]
     },
     "metadata": {},
     "output_type": "display_data"
    },
    {
     "data": {
      "text/html": [
       "<pre>| 1.07s                          | 100        |</pre>"
      ],
      "text/plain": [
       "| 1.07s                          | 100        |"
      ]
     },
     "metadata": {},
     "output_type": "display_data"
    },
    {
     "data": {
      "text/html": [
       "<pre>+--------------------------------+------------+</pre>"
      ],
      "text/plain": [
       "+--------------------------------+------------+"
      ]
     },
     "metadata": {},
     "output_type": "display_data"
    },
    {
     "data": {
      "text/html": [
       "<pre>Setting up lookup tables.</pre>"
      ],
      "text/plain": [
       "Setting up lookup tables."
      ]
     },
     "metadata": {},
     "output_type": "display_data"
    },
    {
     "data": {
      "text/html": [
       "<pre>Processing data in one pass using dense lookup tables.</pre>"
      ],
      "text/plain": [
       "Processing data in one pass using dense lookup tables."
      ]
     },
     "metadata": {},
     "output_type": "display_data"
    },
    {
     "data": {
      "text/html": [
       "<pre>+-------------------------------------+------------------+-----------------+</pre>"
      ],
      "text/plain": [
       "+-------------------------------------+------------------+-----------------+"
      ]
     },
     "metadata": {},
     "output_type": "display_data"
    },
    {
     "data": {
      "text/html": [
       "<pre>| Elapsed Time (Constructing Lookups) | Total % Complete | Items Processed |</pre>"
      ],
      "text/plain": [
       "| Elapsed Time (Constructing Lookups) | Total % Complete | Items Processed |"
      ]
     },
     "metadata": {},
     "output_type": "display_data"
    },
    {
     "data": {
      "text/html": [
       "<pre>+-------------------------------------+------------------+-----------------+</pre>"
      ],
      "text/plain": [
       "+-------------------------------------+------------------+-----------------+"
      ]
     },
     "metadata": {},
     "output_type": "display_data"
    },
    {
     "data": {
      "text/html": [
       "<pre>| 8.25s                               | 0                | 0               |</pre>"
      ],
      "text/plain": [
       "| 8.25s                               | 0                | 0               |"
      ]
     },
     "metadata": {},
     "output_type": "display_data"
    },
    {
     "data": {
      "text/html": [
       "<pre>| 9.53s                               | 0                | 63              |</pre>"
      ],
      "text/plain": [
       "| 9.53s                               | 0                | 63              |"
      ]
     },
     "metadata": {},
     "output_type": "display_data"
    },
    {
     "data": {
      "text/html": [
       "<pre>| 10.30s                              | 0                | 85              |</pre>"
      ],
      "text/plain": [
       "| 10.30s                              | 0                | 85              |"
      ]
     },
     "metadata": {},
     "output_type": "display_data"
    },
    {
     "data": {
      "text/html": [
       "<pre>| 11.40s                              | 0.25             | 129             |</pre>"
      ],
      "text/plain": [
       "| 11.40s                              | 0.25             | 129             |"
      ]
     },
     "metadata": {},
     "output_type": "display_data"
    },
    {
     "data": {
      "text/html": [
       "<pre>| 12.69s                              | 0.5              | 259             |</pre>"
      ],
      "text/plain": [
       "| 12.69s                              | 0.5              | 259             |"
      ]
     },
     "metadata": {},
     "output_type": "display_data"
    },
    {
     "data": {
      "text/html": [
       "<pre>| 13.27s                              | 0.5              | 279             |</pre>"
      ],
      "text/plain": [
       "| 13.27s                              | 0.5              | 279             |"
      ]
     },
     "metadata": {},
     "output_type": "display_data"
    },
    {
     "data": {
      "text/html": [
       "<pre>| 14.40s                              | 0.75             | 416             |</pre>"
      ],
      "text/plain": [
       "| 14.40s                              | 0.75             | 416             |"
      ]
     },
     "metadata": {},
     "output_type": "display_data"
    },
    {
     "data": {
      "text/html": [
       "<pre>| 15.32s                              | 1                | 452             |</pre>"
      ],
      "text/plain": [
       "| 15.32s                              | 1                | 452             |"
      ]
     },
     "metadata": {},
     "output_type": "display_data"
    },
    {
     "data": {
      "text/html": [
       "<pre>| 16.60s                              | 1.25             | 537             |</pre>"
      ],
      "text/plain": [
       "| 16.60s                              | 1.25             | 537             |"
      ]
     },
     "metadata": {},
     "output_type": "display_data"
    },
    {
     "data": {
      "text/html": [
       "<pre>| 18.08s                              | 1.25             | 599             |</pre>"
      ],
      "text/plain": [
       "| 18.08s                              | 1.25             | 599             |"
      ]
     },
     "metadata": {},
     "output_type": "display_data"
    },
    {
     "data": {
      "text/html": [
       "<pre>| 18.45s                              | 1.25             | 600             |</pre>"
      ],
      "text/plain": [
       "| 18.45s                              | 1.25             | 600             |"
      ]
     },
     "metadata": {},
     "output_type": "display_data"
    },
    {
     "data": {
      "text/html": [
       "<pre>| 19.82s                              | 1.5              | 668             |</pre>"
      ],
      "text/plain": [
       "| 19.82s                              | 1.5              | 668             |"
      ]
     },
     "metadata": {},
     "output_type": "display_data"
    },
    {
     "data": {
      "text/html": [
       "<pre>| 20.35s                              | 1.5              | 674             |</pre>"
      ],
      "text/plain": [
       "| 20.35s                              | 1.5              | 674             |"
      ]
     },
     "metadata": {},
     "output_type": "display_data"
    },
    {
     "data": {
      "text/html": [
       "<pre>| 21.40s                              | 1.75             | 842             |</pre>"
      ],
      "text/plain": [
       "| 21.40s                              | 1.75             | 842             |"
      ]
     },
     "metadata": {},
     "output_type": "display_data"
    },
    {
     "data": {
      "text/html": [
       "<pre>| 22.96s                              | 2                | 859             |</pre>"
      ],
      "text/plain": [
       "| 22.96s                              | 2                | 859             |"
      ]
     },
     "metadata": {},
     "output_type": "display_data"
    },
    {
     "data": {
      "text/html": [
       "<pre>| 23.31s                              | 2                | 861             |</pre>"
      ],
      "text/plain": [
       "| 23.31s                              | 2                | 861             |"
      ]
     },
     "metadata": {},
     "output_type": "display_data"
    },
    {
     "data": {
      "text/html": [
       "<pre>| 24.50s                              | 2                | 871             |</pre>"
      ],
      "text/plain": [
       "| 24.50s                              | 2                | 871             |"
      ]
     },
     "metadata": {},
     "output_type": "display_data"
    },
    {
     "data": {
      "text/html": [
       "<pre>| 26.79s                              | 2.25             | 1004            |</pre>"
      ],
      "text/plain": [
       "| 26.79s                              | 2.25             | 1004            |"
      ]
     },
     "metadata": {},
     "output_type": "display_data"
    },
    {
     "data": {
      "text/html": [
       "<pre>| 27.81s                              | 2.25             | 1026            |</pre>"
      ],
      "text/plain": [
       "| 27.81s                              | 2.25             | 1026            |"
      ]
     },
     "metadata": {},
     "output_type": "display_data"
    },
    {
     "data": {
      "text/html": [
       "<pre>| 29.26s                              | 2.5              | 1134            |</pre>"
      ],
      "text/plain": [
       "| 29.26s                              | 2.5              | 1134            |"
      ]
     },
     "metadata": {},
     "output_type": "display_data"
    },
    {
     "data": {
      "text/html": [
       "<pre>| 29.96s                              | 2.5              | 1163            |</pre>"
      ],
      "text/plain": [
       "| 29.96s                              | 2.5              | 1163            |"
      ]
     },
     "metadata": {},
     "output_type": "display_data"
    },
    {
     "data": {
      "text/html": [
       "<pre>| 30.82s                              | 2.5              | 1170            |</pre>"
      ],
      "text/plain": [
       "| 30.82s                              | 2.5              | 1170            |"
      ]
     },
     "metadata": {},
     "output_type": "display_data"
    },
    {
     "data": {
      "text/html": [
       "<pre>| 31.81s                              | 2.75             | 1259            |</pre>"
      ],
      "text/plain": [
       "| 31.81s                              | 2.75             | 1259            |"
      ]
     },
     "metadata": {},
     "output_type": "display_data"
    },
    {
     "data": {
      "text/html": [
       "<pre>| 32.92s                              | 3                | 1317            |</pre>"
      ],
      "text/plain": [
       "| 32.92s                              | 3                | 1317            |"
      ]
     },
     "metadata": {},
     "output_type": "display_data"
    },
    {
     "data": {
      "text/html": [
       "<pre>| 34.11s                              | 3                | 1333            |</pre>"
      ],
      "text/plain": [
       "| 34.11s                              | 3                | 1333            |"
      ]
     },
     "metadata": {},
     "output_type": "display_data"
    },
    {
     "data": {
      "text/html": [
       "<pre>| 35.22s                              | 3                | 1376            |</pre>"
      ],
      "text/plain": [
       "| 35.22s                              | 3                | 1376            |"
      ]
     },
     "metadata": {},
     "output_type": "display_data"
    },
    {
     "data": {
      "text/html": [
       "<pre>| 35.83s                              | 3                | 1390            |</pre>"
      ],
      "text/plain": [
       "| 35.83s                              | 3                | 1390            |"
      ]
     },
     "metadata": {},
     "output_type": "display_data"
    },
    {
     "data": {
      "text/html": [
       "<pre>| 36.83s                              | 3.25             | 1453            |</pre>"
      ],
      "text/plain": [
       "| 36.83s                              | 3.25             | 1453            |"
      ]
     },
     "metadata": {},
     "output_type": "display_data"
    },
    {
     "data": {
      "text/html": [
       "<pre>| 37.87s                              | 3.5              | 1586            |</pre>"
      ],
      "text/plain": [
       "| 37.87s                              | 3.5              | 1586            |"
      ]
     },
     "metadata": {},
     "output_type": "display_data"
    },
    {
     "data": {
      "text/html": [
       "<pre>| 39.00s                              | 3.75             | 1617            |</pre>"
      ],
      "text/plain": [
       "| 39.00s                              | 3.75             | 1617            |"
      ]
     },
     "metadata": {},
     "output_type": "display_data"
    },
    {
     "data": {
      "text/html": [
       "<pre>| 39.91s                              | 3.75             | 1643            |</pre>"
      ],
      "text/plain": [
       "| 39.91s                              | 3.75             | 1643            |"
      ]
     },
     "metadata": {},
     "output_type": "display_data"
    },
    {
     "data": {
      "text/html": [
       "<pre>| 40.85s                              | 3.75             | 1682            |</pre>"
      ],
      "text/plain": [
       "| 40.85s                              | 3.75             | 1682            |"
      ]
     },
     "metadata": {},
     "output_type": "display_data"
    },
    {
     "data": {
      "text/html": [
       "<pre>| 41.97s                              | 4                | 1762            |</pre>"
      ],
      "text/plain": [
       "| 41.97s                              | 4                | 1762            |"
      ]
     },
     "metadata": {},
     "output_type": "display_data"
    },
    {
     "data": {
      "text/html": [
       "<pre>| 42.88s                              | 4                | 1818            |</pre>"
      ],
      "text/plain": [
       "| 42.88s                              | 4                | 1818            |"
      ]
     },
     "metadata": {},
     "output_type": "display_data"
    },
    {
     "data": {
      "text/html": [
       "<pre>| 43.95s                              | 4.25             | 1863            |</pre>"
      ],
      "text/plain": [
       "| 43.95s                              | 4.25             | 1863            |"
      ]
     },
     "metadata": {},
     "output_type": "display_data"
    },
    {
     "data": {
      "text/html": [
       "<pre>| 44.88s                              | 4.25             | 1928            |</pre>"
      ],
      "text/plain": [
       "| 44.88s                              | 4.25             | 1928            |"
      ]
     },
     "metadata": {},
     "output_type": "display_data"
    },
    {
     "data": {
      "text/html": [
       "<pre>| 45.87s                              | 4.5              | 1982            |</pre>"
      ],
      "text/plain": [
       "| 45.87s                              | 4.5              | 1982            |"
      ]
     },
     "metadata": {},
     "output_type": "display_data"
    },
    {
     "data": {
      "text/html": [
       "<pre>| 46.93s                              | 4.75             | 2053            |</pre>"
      ],
      "text/plain": [
       "| 46.93s                              | 4.75             | 2053            |"
      ]
     },
     "metadata": {},
     "output_type": "display_data"
    },
    {
     "data": {
      "text/html": [
       "<pre>| 48.26s                              | 5                | 2155            |</pre>"
      ],
      "text/plain": [
       "| 48.26s                              | 5                | 2155            |"
      ]
     },
     "metadata": {},
     "output_type": "display_data"
    },
    {
     "data": {
      "text/html": [
       "<pre>| 48.88s                              | 5                | 2192            |</pre>"
      ],
      "text/plain": [
       "| 48.88s                              | 5                | 2192            |"
      ]
     },
     "metadata": {},
     "output_type": "display_data"
    },
    {
     "data": {
      "text/html": [
       "<pre>| 49.98s                              | 5.25             | 2265            |</pre>"
      ],
      "text/plain": [
       "| 49.98s                              | 5.25             | 2265            |"
      ]
     },
     "metadata": {},
     "output_type": "display_data"
    },
    {
     "data": {
      "text/html": [
       "<pre>| 52.19s                              | 5.5              | 2434            |</pre>"
      ],
      "text/plain": [
       "| 52.19s                              | 5.5              | 2434            |"
      ]
     },
     "metadata": {},
     "output_type": "display_data"
    },
    {
     "data": {
      "text/html": [
       "<pre>| 53.59s                              | 5.5              | 2448            |</pre>"
      ],
      "text/plain": [
       "| 53.59s                              | 5.5              | 2448            |"
      ]
     },
     "metadata": {},
     "output_type": "display_data"
    },
    {
     "data": {
      "text/html": [
       "<pre>| 54.28s                              | 5.5              | 2459            |</pre>"
      ],
      "text/plain": [
       "| 54.28s                              | 5.5              | 2459            |"
      ]
     },
     "metadata": {},
     "output_type": "display_data"
    },
    {
     "data": {
      "text/html": [
       "<pre>| 55.68s                              | 5.75             | 2476            |</pre>"
      ],
      "text/plain": [
       "| 55.68s                              | 5.75             | 2476            |"
      ]
     },
     "metadata": {},
     "output_type": "display_data"
    },
    {
     "data": {
      "text/html": [
       "<pre>| 56.26s                              | 5.75             | 2485            |</pre>"
      ],
      "text/plain": [
       "| 56.26s                              | 5.75             | 2485            |"
      ]
     },
     "metadata": {},
     "output_type": "display_data"
    },
    {
     "data": {
      "text/html": [
       "<pre>| 57.21s                              | 5.75             | 2500            |</pre>"
      ],
      "text/plain": [
       "| 57.21s                              | 5.75             | 2500            |"
      ]
     },
     "metadata": {},
     "output_type": "display_data"
    },
    {
     "data": {
      "text/html": [
       "<pre>| 58.42s                              | 5.75             | 2518            |</pre>"
      ],
      "text/plain": [
       "| 58.42s                              | 5.75             | 2518            |"
      ]
     },
     "metadata": {},
     "output_type": "display_data"
    },
    {
     "data": {
      "text/html": [
       "<pre>| 59.36s                              | 5.75             | 2535            |</pre>"
      ],
      "text/plain": [
       "| 59.36s                              | 5.75             | 2535            |"
      ]
     },
     "metadata": {},
     "output_type": "display_data"
    },
    {
     "data": {
      "text/html": [
       "<pre>| 1m 0s                               | 5.75             | 2562            |</pre>"
      ],
      "text/plain": [
       "| 1m 0s                               | 5.75             | 2562            |"
      ]
     },
     "metadata": {},
     "output_type": "display_data"
    },
    {
     "data": {
      "text/html": [
       "<pre>| 1m 1s                               | 6                | 2583            |</pre>"
      ],
      "text/plain": [
       "| 1m 1s                               | 6                | 2583            |"
      ]
     },
     "metadata": {},
     "output_type": "display_data"
    },
    {
     "data": {
      "text/html": [
       "<pre>| 1m 2s                               | 6                | 2640            |</pre>"
      ],
      "text/plain": [
       "| 1m 2s                               | 6                | 2640            |"
      ]
     },
     "metadata": {},
     "output_type": "display_data"
    },
    {
     "data": {
      "text/html": [
       "<pre>| 1m 3s                               | 6.25             | 2681            |</pre>"
      ],
      "text/plain": [
       "| 1m 3s                               | 6.25             | 2681            |"
      ]
     },
     "metadata": {},
     "output_type": "display_data"
    },
    {
     "data": {
      "text/html": [
       "<pre>| 1m 4s                               | 6.25             | 2700            |</pre>"
      ],
      "text/plain": [
       "| 1m 4s                               | 6.25             | 2700            |"
      ]
     },
     "metadata": {},
     "output_type": "display_data"
    },
    {
     "data": {
      "text/html": [
       "<pre>| 1m 5s                               | 6.25             | 2774            |</pre>"
      ],
      "text/plain": [
       "| 1m 5s                               | 6.25             | 2774            |"
      ]
     },
     "metadata": {},
     "output_type": "display_data"
    },
    {
     "data": {
      "text/html": [
       "<pre>| 1m 6s                               | 6.5              | 2840            |</pre>"
      ],
      "text/plain": [
       "| 1m 6s                               | 6.5              | 2840            |"
      ]
     },
     "metadata": {},
     "output_type": "display_data"
    },
    {
     "data": {
      "text/html": [
       "<pre>| 1m 7s                               | 6.5              | 2845            |</pre>"
      ],
      "text/plain": [
       "| 1m 7s                               | 6.5              | 2845            |"
      ]
     },
     "metadata": {},
     "output_type": "display_data"
    },
    {
     "data": {
      "text/html": [
       "<pre>| 1m 8s                               | 6.5              | 2878            |</pre>"
      ],
      "text/plain": [
       "| 1m 8s                               | 6.5              | 2878            |"
      ]
     },
     "metadata": {},
     "output_type": "display_data"
    },
    {
     "data": {
      "text/html": [
       "<pre>| 1m 9s                               | 6.5              | 2886            |</pre>"
      ],
      "text/plain": [
       "| 1m 9s                               | 6.5              | 2886            |"
      ]
     },
     "metadata": {},
     "output_type": "display_data"
    },
    {
     "data": {
      "text/html": [
       "<pre>| 1m 10s                              | 6.75             | 2908            |</pre>"
      ],
      "text/plain": [
       "| 1m 10s                              | 6.75             | 2908            |"
      ]
     },
     "metadata": {},
     "output_type": "display_data"
    },
    {
     "data": {
      "text/html": [
       "<pre>| 1m 11s                              | 6.75             | 2913            |</pre>"
      ],
      "text/plain": [
       "| 1m 11s                              | 6.75             | 2913            |"
      ]
     },
     "metadata": {},
     "output_type": "display_data"
    },
    {
     "data": {
      "text/html": [
       "<pre>| 1m 12s                              | 6.75             | 2935            |</pre>"
      ],
      "text/plain": [
       "| 1m 12s                              | 6.75             | 2935            |"
      ]
     },
     "metadata": {},
     "output_type": "display_data"
    },
    {
     "data": {
      "text/html": [
       "<pre>| 1m 13s                              | 6.75             | 2985            |</pre>"
      ],
      "text/plain": [
       "| 1m 13s                              | 6.75             | 2985            |"
      ]
     },
     "metadata": {},
     "output_type": "display_data"
    },
    {
     "data": {
      "text/html": [
       "<pre>| 1m 14s                              | 7                | 3016            |</pre>"
      ],
      "text/plain": [
       "| 1m 14s                              | 7                | 3016            |"
      ]
     },
     "metadata": {},
     "output_type": "display_data"
    },
    {
     "data": {
      "text/html": [
       "<pre>| 1m 15s                              | 7                | 3065            |</pre>"
      ],
      "text/plain": [
       "| 1m 15s                              | 7                | 3065            |"
      ]
     },
     "metadata": {},
     "output_type": "display_data"
    },
    {
     "data": {
      "text/html": [
       "<pre>| 1m 16s                              | 7.25             | 3209            |</pre>"
      ],
      "text/plain": [
       "| 1m 16s                              | 7.25             | 3209            |"
      ]
     },
     "metadata": {},
     "output_type": "display_data"
    },
    {
     "data": {
      "text/html": [
       "<pre>| 1m 17s                              | 8.25             | 3540            |</pre>"
      ],
      "text/plain": [
       "| 1m 17s                              | 8.25             | 3540            |"
      ]
     },
     "metadata": {},
     "output_type": "display_data"
    },
    {
     "data": {
      "text/html": [
       "<pre>| 1m 18s                              | 8.25             | 3569            |</pre>"
      ],
      "text/plain": [
       "| 1m 18s                              | 8.25             | 3569            |"
      ]
     },
     "metadata": {},
     "output_type": "display_data"
    },
    {
     "data": {
      "text/html": [
       "<pre>| 1m 19s                              | 8.25             | 3605            |</pre>"
      ],
      "text/plain": [
       "| 1m 19s                              | 8.25             | 3605            |"
      ]
     },
     "metadata": {},
     "output_type": "display_data"
    },
    {
     "data": {
      "text/html": [
       "<pre>| 1m 20s                              | 8.25             | 3616            |</pre>"
      ],
      "text/plain": [
       "| 1m 20s                              | 8.25             | 3616            |"
      ]
     },
     "metadata": {},
     "output_type": "display_data"
    },
    {
     "data": {
      "text/html": [
       "<pre>| 1m 21s                              | 8.25             | 3637            |</pre>"
      ],
      "text/plain": [
       "| 1m 21s                              | 8.25             | 3637            |"
      ]
     },
     "metadata": {},
     "output_type": "display_data"
    },
    {
     "data": {
      "text/html": [
       "<pre>| 1m 22s                              | 8.5              | 3693            |</pre>"
      ],
      "text/plain": [
       "| 1m 22s                              | 8.5              | 3693            |"
      ]
     },
     "metadata": {},
     "output_type": "display_data"
    },
    {
     "data": {
      "text/html": [
       "<pre>| 1m 23s                              | 8.5              | 3729            |</pre>"
      ],
      "text/plain": [
       "| 1m 23s                              | 8.5              | 3729            |"
      ]
     },
     "metadata": {},
     "output_type": "display_data"
    },
    {
     "data": {
      "text/html": [
       "<pre>| 1m 24s                              | 9                | 3916            |</pre>"
      ],
      "text/plain": [
       "| 1m 24s                              | 9                | 3916            |"
      ]
     },
     "metadata": {},
     "output_type": "display_data"
    },
    {
     "data": {
      "text/html": [
       "<pre>| 1m 25s                              | 9.25             | 4010            |</pre>"
      ],
      "text/plain": [
       "| 1m 25s                              | 9.25             | 4010            |"
      ]
     },
     "metadata": {},
     "output_type": "display_data"
    },
    {
     "data": {
      "text/html": [
       "<pre>| 1m 26s                              | 9.25             | 4057            |</pre>"
      ],
      "text/plain": [
       "| 1m 26s                              | 9.25             | 4057            |"
      ]
     },
     "metadata": {},
     "output_type": "display_data"
    },
    {
     "data": {
      "text/html": [
       "<pre>| 1m 27s                              | 9.5              | 4090            |</pre>"
      ],
      "text/plain": [
       "| 1m 27s                              | 9.5              | 4090            |"
      ]
     },
     "metadata": {},
     "output_type": "display_data"
    },
    {
     "data": {
      "text/html": [
       "<pre>| 1m 28s                              | 9.5              | 4138            |</pre>"
      ],
      "text/plain": [
       "| 1m 28s                              | 9.5              | 4138            |"
      ]
     },
     "metadata": {},
     "output_type": "display_data"
    },
    {
     "data": {
      "text/html": [
       "<pre>| 1m 29s                              | 9.75             | 4194            |</pre>"
      ],
      "text/plain": [
       "| 1m 29s                              | 9.75             | 4194            |"
      ]
     },
     "metadata": {},
     "output_type": "display_data"
    },
    {
     "data": {
      "text/html": [
       "<pre>| 1m 30s                              | 9.75             | 4270            |</pre>"
      ],
      "text/plain": [
       "| 1m 30s                              | 9.75             | 4270            |"
      ]
     },
     "metadata": {},
     "output_type": "display_data"
    },
    {
     "data": {
      "text/html": [
       "<pre>| 1m 31s                              | 10               | 4319            |</pre>"
      ],
      "text/plain": [
       "| 1m 31s                              | 10               | 4319            |"
      ]
     },
     "metadata": {},
     "output_type": "display_data"
    },
    {
     "data": {
      "text/html": [
       "<pre>| 1m 32s                              | 10               | 4379            |</pre>"
      ],
      "text/plain": [
       "| 1m 32s                              | 10               | 4379            |"
      ]
     },
     "metadata": {},
     "output_type": "display_data"
    },
    {
     "data": {
      "text/html": [
       "<pre>| 1m 34s                              | 10.5             | 4503            |</pre>"
      ],
      "text/plain": [
       "| 1m 34s                              | 10.5             | 4503            |"
      ]
     },
     "metadata": {},
     "output_type": "display_data"
    },
    {
     "data": {
      "text/html": [
       "<pre>| 1m 34s                              | 10.5             | 4509            |</pre>"
      ],
      "text/plain": [
       "| 1m 34s                              | 10.5             | 4509            |"
      ]
     },
     "metadata": {},
     "output_type": "display_data"
    },
    {
     "data": {
      "text/html": [
       "<pre>| 1m 35s                              | 10.75            | 4662            |</pre>"
      ],
      "text/plain": [
       "| 1m 35s                              | 10.75            | 4662            |"
      ]
     },
     "metadata": {},
     "output_type": "display_data"
    },
    {
     "data": {
      "text/html": [
       "<pre>| 1m 36s                              | 10.75            | 4669            |</pre>"
      ],
      "text/plain": [
       "| 1m 36s                              | 10.75            | 4669            |"
      ]
     },
     "metadata": {},
     "output_type": "display_data"
    },
    {
     "data": {
      "text/html": [
       "<pre>| 1m 37s                              | 11               | 4722            |</pre>"
      ],
      "text/plain": [
       "| 1m 37s                              | 11               | 4722            |"
      ]
     },
     "metadata": {},
     "output_type": "display_data"
    },
    {
     "data": {
      "text/html": [
       "<pre>| 1m 40s                              | 11               | 4770            |</pre>"
      ],
      "text/plain": [
       "| 1m 40s                              | 11               | 4770            |"
      ]
     },
     "metadata": {},
     "output_type": "display_data"
    },
    {
     "data": {
      "text/html": [
       "<pre>| 1m 42s                              | 11               | 4778            |</pre>"
      ],
      "text/plain": [
       "| 1m 42s                              | 11               | 4778            |"
      ]
     },
     "metadata": {},
     "output_type": "display_data"
    },
    {
     "data": {
      "text/html": [
       "<pre>| 1m 42s                              | 11               | 4782            |</pre>"
      ],
      "text/plain": [
       "| 1m 42s                              | 11               | 4782            |"
      ]
     },
     "metadata": {},
     "output_type": "display_data"
    },
    {
     "data": {
      "text/html": [
       "<pre>| 1m 44s                              | 11               | 4812            |</pre>"
      ],
      "text/plain": [
       "| 1m 44s                              | 11               | 4812            |"
      ]
     },
     "metadata": {},
     "output_type": "display_data"
    },
    {
     "data": {
      "text/html": [
       "<pre>| 1m 44s                              | 11.25            | 4854            |</pre>"
      ],
      "text/plain": [
       "| 1m 44s                              | 11.25            | 4854            |"
      ]
     },
     "metadata": {},
     "output_type": "display_data"
    },
    {
     "data": {
      "text/html": [
       "<pre>| 1m 46s                              | 11.25            | 4866            |</pre>"
      ],
      "text/plain": [
       "| 1m 46s                              | 11.25            | 4866            |"
      ]
     },
     "metadata": {},
     "output_type": "display_data"
    },
    {
     "data": {
      "text/html": [
       "<pre>| 1m 46s                              | 11.25            | 4874            |</pre>"
      ],
      "text/plain": [
       "| 1m 46s                              | 11.25            | 4874            |"
      ]
     },
     "metadata": {},
     "output_type": "display_data"
    },
    {
     "data": {
      "text/html": [
       "<pre>| 1m 48s                              | 11.25            | 4882            |</pre>"
      ],
      "text/plain": [
       "| 1m 48s                              | 11.25            | 4882            |"
      ]
     },
     "metadata": {},
     "output_type": "display_data"
    },
    {
     "data": {
      "text/html": [
       "<pre>| 1m 48s                              | 11.5             | 4932            |</pre>"
      ],
      "text/plain": [
       "| 1m 48s                              | 11.5             | 4932            |"
      ]
     },
     "metadata": {},
     "output_type": "display_data"
    },
    {
     "data": {
      "text/html": [
       "<pre>| 1m 49s                              | 11.5             | 4948            |</pre>"
      ],
      "text/plain": [
       "| 1m 49s                              | 11.5             | 4948            |"
      ]
     },
     "metadata": {},
     "output_type": "display_data"
    },
    {
     "data": {
      "text/html": [
       "<pre>| 1m 51s                              | 11.5             | 5003            |</pre>"
      ],
      "text/plain": [
       "| 1m 51s                              | 11.5             | 5003            |"
      ]
     },
     "metadata": {},
     "output_type": "display_data"
    },
    {
     "data": {
      "text/html": [
       "<pre>| 1m 51s                              | 11.5             | 5006            |</pre>"
      ],
      "text/plain": [
       "| 1m 51s                              | 11.5             | 5006            |"
      ]
     },
     "metadata": {},
     "output_type": "display_data"
    },
    {
     "data": {
      "text/html": [
       "<pre>| 1m 53s                              | 11.75            | 5054            |</pre>"
      ],
      "text/plain": [
       "| 1m 53s                              | 11.75            | 5054            |"
      ]
     },
     "metadata": {},
     "output_type": "display_data"
    },
    {
     "data": {
      "text/html": [
       "<pre>| 1m 54s                              | 11.75            | 5061            |</pre>"
      ],
      "text/plain": [
       "| 1m 54s                              | 11.75            | 5061            |"
      ]
     },
     "metadata": {},
     "output_type": "display_data"
    },
    {
     "data": {
      "text/html": [
       "<pre>| 1m 56s                              | 11.75            | 5072            |</pre>"
      ],
      "text/plain": [
       "| 1m 56s                              | 11.75            | 5072            |"
      ]
     },
     "metadata": {},
     "output_type": "display_data"
    },
    {
     "data": {
      "text/html": [
       "<pre>| 1m 56s                              | 11.75            | 5085            |</pre>"
      ],
      "text/plain": [
       "| 1m 56s                              | 11.75            | 5085            |"
      ]
     },
     "metadata": {},
     "output_type": "display_data"
    },
    {
     "data": {
      "text/html": [
       "<pre>| 1m 59s                              | 11.75            | 5125            |</pre>"
      ],
      "text/plain": [
       "| 1m 59s                              | 11.75            | 5125            |"
      ]
     },
     "metadata": {},
     "output_type": "display_data"
    },
    {
     "data": {
      "text/html": [
       "<pre>| 2m 0s                               | 11.75            | 5131            |</pre>"
      ],
      "text/plain": [
       "| 2m 0s                               | 11.75            | 5131            |"
      ]
     },
     "metadata": {},
     "output_type": "display_data"
    },
    {
     "data": {
      "text/html": [
       "<pre>| 2m 1s                               | 12               | 5151            |</pre>"
      ],
      "text/plain": [
       "| 2m 1s                               | 12               | 5151            |"
      ]
     },
     "metadata": {},
     "output_type": "display_data"
    },
    {
     "data": {
      "text/html": [
       "<pre>| 2m 2s                               | 12               | 5164            |</pre>"
      ],
      "text/plain": [
       "| 2m 2s                               | 12               | 5164            |"
      ]
     },
     "metadata": {},
     "output_type": "display_data"
    },
    {
     "data": {
      "text/html": [
       "<pre>| 2m 3s                               | 12               | 5187            |</pre>"
      ],
      "text/plain": [
       "| 2m 3s                               | 12               | 5187            |"
      ]
     },
     "metadata": {},
     "output_type": "display_data"
    },
    {
     "data": {
      "text/html": [
       "<pre>| 2m 4s                               | 12               | 5205            |</pre>"
      ],
      "text/plain": [
       "| 2m 4s                               | 12               | 5205            |"
      ]
     },
     "metadata": {},
     "output_type": "display_data"
    },
    {
     "data": {
      "text/html": [
       "<pre>| 2m 5s                               | 12               | 5216            |</pre>"
      ],
      "text/plain": [
       "| 2m 5s                               | 12               | 5216            |"
      ]
     },
     "metadata": {},
     "output_type": "display_data"
    },
    {
     "data": {
      "text/html": [
       "<pre>| 2m 6s                               | 12               | 5233            |</pre>"
      ],
      "text/plain": [
       "| 2m 6s                               | 12               | 5233            |"
      ]
     },
     "metadata": {},
     "output_type": "display_data"
    },
    {
     "data": {
      "text/html": [
       "<pre>| 2m 7s                               | 12.25            | 5287            |</pre>"
      ],
      "text/plain": [
       "| 2m 7s                               | 12.25            | 5287            |"
      ]
     },
     "metadata": {},
     "output_type": "display_data"
    },
    {
     "data": {
      "text/html": [
       "<pre>| 2m 8s                               | 12.25            | 5290            |</pre>"
      ],
      "text/plain": [
       "| 2m 8s                               | 12.25            | 5290            |"
      ]
     },
     "metadata": {},
     "output_type": "display_data"
    },
    {
     "data": {
      "text/html": [
       "<pre>| 2m 9s                               | 12.25            | 5297            |</pre>"
      ],
      "text/plain": [
       "| 2m 9s                               | 12.25            | 5297            |"
      ]
     },
     "metadata": {},
     "output_type": "display_data"
    },
    {
     "data": {
      "text/html": [
       "<pre>| 2m 10s                              | 12.25            | 5312            |</pre>"
      ],
      "text/plain": [
       "| 2m 10s                              | 12.25            | 5312            |"
      ]
     },
     "metadata": {},
     "output_type": "display_data"
    },
    {
     "data": {
      "text/html": [
       "<pre>| 2m 11s                              | 12.25            | 5330            |</pre>"
      ],
      "text/plain": [
       "| 2m 11s                              | 12.25            | 5330            |"
      ]
     },
     "metadata": {},
     "output_type": "display_data"
    },
    {
     "data": {
      "text/html": [
       "<pre>| 2m 12s                              | 12.5             | 5373            |</pre>"
      ],
      "text/plain": [
       "| 2m 12s                              | 12.5             | 5373            |"
      ]
     },
     "metadata": {},
     "output_type": "display_data"
    },
    {
     "data": {
      "text/html": [
       "<pre>| 2m 13s                              | 12.5             | 5396            |</pre>"
      ],
      "text/plain": [
       "| 2m 13s                              | 12.5             | 5396            |"
      ]
     },
     "metadata": {},
     "output_type": "display_data"
    },
    {
     "data": {
      "text/html": [
       "<pre>| 2m 14s                              | 12.5             | 5422            |</pre>"
      ],
      "text/plain": [
       "| 2m 14s                              | 12.5             | 5422            |"
      ]
     },
     "metadata": {},
     "output_type": "display_data"
    },
    {
     "data": {
      "text/html": [
       "<pre>| 2m 15s                              | 12.75            | 5475            |</pre>"
      ],
      "text/plain": [
       "| 2m 15s                              | 12.75            | 5475            |"
      ]
     },
     "metadata": {},
     "output_type": "display_data"
    },
    {
     "data": {
      "text/html": [
       "<pre>| 2m 16s                              | 12.75            | 5527            |</pre>"
      ],
      "text/plain": [
       "| 2m 16s                              | 12.75            | 5527            |"
      ]
     },
     "metadata": {},
     "output_type": "display_data"
    },
    {
     "data": {
      "text/html": [
       "<pre>| 2m 17s                              | 12.75            | 5538            |</pre>"
      ],
      "text/plain": [
       "| 2m 17s                              | 12.75            | 5538            |"
      ]
     },
     "metadata": {},
     "output_type": "display_data"
    },
    {
     "data": {
      "text/html": [
       "<pre>| 2m 18s                              | 13               | 5575            |</pre>"
      ],
      "text/plain": [
       "| 2m 18s                              | 13               | 5575            |"
      ]
     },
     "metadata": {},
     "output_type": "display_data"
    },
    {
     "data": {
      "text/html": [
       "<pre>| 2m 19s                              | 13.25            | 5688            |</pre>"
      ],
      "text/plain": [
       "| 2m 19s                              | 13.25            | 5688            |"
      ]
     },
     "metadata": {},
     "output_type": "display_data"
    },
    {
     "data": {
      "text/html": [
       "<pre>| 2m 20s                              | 13.25            | 5711            |</pre>"
      ],
      "text/plain": [
       "| 2m 20s                              | 13.25            | 5711            |"
      ]
     },
     "metadata": {},
     "output_type": "display_data"
    },
    {
     "data": {
      "text/html": [
       "<pre>| 2m 21s                              | 13.25            | 5737            |</pre>"
      ],
      "text/plain": [
       "| 2m 21s                              | 13.25            | 5737            |"
      ]
     },
     "metadata": {},
     "output_type": "display_data"
    },
    {
     "data": {
      "text/html": [
       "<pre>| 2m 22s                              | 13.5             | 5859            |</pre>"
      ],
      "text/plain": [
       "| 2m 22s                              | 13.5             | 5859            |"
      ]
     },
     "metadata": {},
     "output_type": "display_data"
    },
    {
     "data": {
      "text/html": [
       "<pre>| 2m 23s                              | 13.75            | 5920            |</pre>"
      ],
      "text/plain": [
       "| 2m 23s                              | 13.75            | 5920            |"
      ]
     },
     "metadata": {},
     "output_type": "display_data"
    },
    {
     "data": {
      "text/html": [
       "<pre>| 2m 24s                              | 13.75            | 5946            |</pre>"
      ],
      "text/plain": [
       "| 2m 24s                              | 13.75            | 5946            |"
      ]
     },
     "metadata": {},
     "output_type": "display_data"
    },
    {
     "data": {
      "text/html": [
       "<pre>| 2m 25s                              | 13.75            | 5969            |</pre>"
      ],
      "text/plain": [
       "| 2m 25s                              | 13.75            | 5969            |"
      ]
     },
     "metadata": {},
     "output_type": "display_data"
    },
    {
     "data": {
      "text/html": [
       "<pre>| 2m 26s                              | 13.75            | 5998            |</pre>"
      ],
      "text/plain": [
       "| 2m 26s                              | 13.75            | 5998            |"
      ]
     },
     "metadata": {},
     "output_type": "display_data"
    },
    {
     "data": {
      "text/html": [
       "<pre>| 2m 27s                              | 14               | 6108            |</pre>"
      ],
      "text/plain": [
       "| 2m 27s                              | 14               | 6108            |"
      ]
     },
     "metadata": {},
     "output_type": "display_data"
    },
    {
     "data": {
      "text/html": [
       "<pre>| 2m 28s                              | 14.5             | 6306            |</pre>"
      ],
      "text/plain": [
       "| 2m 28s                              | 14.5             | 6306            |"
      ]
     },
     "metadata": {},
     "output_type": "display_data"
    },
    {
     "data": {
      "text/html": [
       "<pre>| 2m 29s                              | 14.75            | 6356            |</pre>"
      ],
      "text/plain": [
       "| 2m 29s                              | 14.75            | 6356            |"
      ]
     },
     "metadata": {},
     "output_type": "display_data"
    },
    {
     "data": {
      "text/html": [
       "<pre>| 2m 30s                              | 14.75            | 6398            |</pre>"
      ],
      "text/plain": [
       "| 2m 30s                              | 14.75            | 6398            |"
      ]
     },
     "metadata": {},
     "output_type": "display_data"
    },
    {
     "data": {
      "text/html": [
       "<pre>| 2m 31s                              | 14.75            | 6425            |</pre>"
      ],
      "text/plain": [
       "| 2m 31s                              | 14.75            | 6425            |"
      ]
     },
     "metadata": {},
     "output_type": "display_data"
    },
    {
     "data": {
      "text/html": [
       "<pre>| 2m 32s                              | 15               | 6464            |</pre>"
      ],
      "text/plain": [
       "| 2m 32s                              | 15               | 6464            |"
      ]
     },
     "metadata": {},
     "output_type": "display_data"
    },
    {
     "data": {
      "text/html": [
       "<pre>| 2m 33s                              | 15.5             | 6655            |</pre>"
      ],
      "text/plain": [
       "| 2m 33s                              | 15.5             | 6655            |"
      ]
     },
     "metadata": {},
     "output_type": "display_data"
    },
    {
     "data": {
      "text/html": [
       "<pre>| 2m 34s                              | 15.5             | 6678            |</pre>"
      ],
      "text/plain": [
       "| 2m 34s                              | 15.5             | 6678            |"
      ]
     },
     "metadata": {},
     "output_type": "display_data"
    },
    {
     "data": {
      "text/html": [
       "<pre>| 2m 35s                              | 15.75            | 6765            |</pre>"
      ],
      "text/plain": [
       "| 2m 35s                              | 15.75            | 6765            |"
      ]
     },
     "metadata": {},
     "output_type": "display_data"
    },
    {
     "data": {
      "text/html": [
       "<pre>| 2m 36s                              | 16               | 6892            |</pre>"
      ],
      "text/plain": [
       "| 2m 36s                              | 16               | 6892            |"
      ]
     },
     "metadata": {},
     "output_type": "display_data"
    },
    {
     "data": {
      "text/html": [
       "<pre>| 2m 37s                              | 16               | 6939            |</pre>"
      ],
      "text/plain": [
       "| 2m 37s                              | 16               | 6939            |"
      ]
     },
     "metadata": {},
     "output_type": "display_data"
    },
    {
     "data": {
      "text/html": [
       "<pre>| 2m 38s                              | 16.25            | 7050            |</pre>"
      ],
      "text/plain": [
       "| 2m 38s                              | 16.25            | 7050            |"
      ]
     },
     "metadata": {},
     "output_type": "display_data"
    },
    {
     "data": {
      "text/html": [
       "<pre>| 2m 39s                              | 16.25            | 7069            |</pre>"
      ],
      "text/plain": [
       "| 2m 39s                              | 16.25            | 7069            |"
      ]
     },
     "metadata": {},
     "output_type": "display_data"
    },
    {
     "data": {
      "text/html": [
       "<pre>| 2m 40s                              | 16.5             | 7116            |</pre>"
      ],
      "text/plain": [
       "| 2m 40s                              | 16.5             | 7116            |"
      ]
     },
     "metadata": {},
     "output_type": "display_data"
    },
    {
     "data": {
      "text/html": [
       "<pre>| 2m 41s                              | 16.75            | 7277            |</pre>"
      ],
      "text/plain": [
       "| 2m 41s                              | 16.75            | 7277            |"
      ]
     },
     "metadata": {},
     "output_type": "display_data"
    },
    {
     "data": {
      "text/html": [
       "<pre>| 2m 42s                              | 17               | 7311            |</pre>"
      ],
      "text/plain": [
       "| 2m 42s                              | 17               | 7311            |"
      ]
     },
     "metadata": {},
     "output_type": "display_data"
    },
    {
     "data": {
      "text/html": [
       "<pre>| 2m 43s                              | 17               | 7378            |</pre>"
      ],
      "text/plain": [
       "| 2m 43s                              | 17               | 7378            |"
      ]
     },
     "metadata": {},
     "output_type": "display_data"
    },
    {
     "data": {
      "text/html": [
       "<pre>| 2m 44s                              | 17.25            | 7447            |</pre>"
      ],
      "text/plain": [
       "| 2m 44s                              | 17.25            | 7447            |"
      ]
     },
     "metadata": {},
     "output_type": "display_data"
    },
    {
     "data": {
      "text/html": [
       "<pre>| 2m 45s                              | 17.25            | 7466            |</pre>"
      ],
      "text/plain": [
       "| 2m 45s                              | 17.25            | 7466            |"
      ]
     },
     "metadata": {},
     "output_type": "display_data"
    },
    {
     "data": {
      "text/html": [
       "<pre>| 2m 46s                              | 17.25            | 7492            |</pre>"
      ],
      "text/plain": [
       "| 2m 46s                              | 17.25            | 7492            |"
      ]
     },
     "metadata": {},
     "output_type": "display_data"
    },
    {
     "data": {
      "text/html": [
       "<pre>| 2m 47s                              | 17.5             | 7516            |</pre>"
      ],
      "text/plain": [
       "| 2m 47s                              | 17.5             | 7516            |"
      ]
     },
     "metadata": {},
     "output_type": "display_data"
    },
    {
     "data": {
      "text/html": [
       "<pre>| 2m 48s                              | 17.5             | 7532            |</pre>"
      ],
      "text/plain": [
       "| 2m 48s                              | 17.5             | 7532            |"
      ]
     },
     "metadata": {},
     "output_type": "display_data"
    },
    {
     "data": {
      "text/html": [
       "<pre>| 2m 49s                              | 17.5             | 7569            |</pre>"
      ],
      "text/plain": [
       "| 2m 49s                              | 17.5             | 7569            |"
      ]
     },
     "metadata": {},
     "output_type": "display_data"
    },
    {
     "data": {
      "text/html": [
       "<pre>| 2m 50s                              | 17.75            | 7688            |</pre>"
      ],
      "text/plain": [
       "| 2m 50s                              | 17.75            | 7688            |"
      ]
     },
     "metadata": {},
     "output_type": "display_data"
    },
    {
     "data": {
      "text/html": [
       "<pre>| 2m 51s                              | 18               | 7734            |</pre>"
      ],
      "text/plain": [
       "| 2m 51s                              | 18               | 7734            |"
      ]
     },
     "metadata": {},
     "output_type": "display_data"
    },
    {
     "data": {
      "text/html": [
       "<pre>| 2m 52s                              | 18               | 7770            |</pre>"
      ],
      "text/plain": [
       "| 2m 52s                              | 18               | 7770            |"
      ]
     },
     "metadata": {},
     "output_type": "display_data"
    },
    {
     "data": {
      "text/html": [
       "<pre>| 2m 53s                              | 18               | 7808            |</pre>"
      ],
      "text/plain": [
       "| 2m 53s                              | 18               | 7808            |"
      ]
     },
     "metadata": {},
     "output_type": "display_data"
    },
    {
     "data": {
      "text/html": [
       "<pre>| 2m 54s                              | 18               | 7817            |</pre>"
      ],
      "text/plain": [
       "| 2m 54s                              | 18               | 7817            |"
      ]
     },
     "metadata": {},
     "output_type": "display_data"
    },
    {
     "data": {
      "text/html": [
       "<pre>| 2m 55s                              | 18.25            | 7897            |</pre>"
      ],
      "text/plain": [
       "| 2m 55s                              | 18.25            | 7897            |"
      ]
     },
     "metadata": {},
     "output_type": "display_data"
    },
    {
     "data": {
      "text/html": [
       "<pre>| 2m 56s                              | 18.5             | 7948            |</pre>"
      ],
      "text/plain": [
       "| 2m 56s                              | 18.5             | 7948            |"
      ]
     },
     "metadata": {},
     "output_type": "display_data"
    },
    {
     "data": {
      "text/html": [
       "<pre>| 2m 57s                              | 18.75            | 8040            |</pre>"
      ],
      "text/plain": [
       "| 2m 57s                              | 18.75            | 8040            |"
      ]
     },
     "metadata": {},
     "output_type": "display_data"
    },
    {
     "data": {
      "text/html": [
       "<pre>| 2m 58s                              | 18.75            | 8119            |</pre>"
      ],
      "text/plain": [
       "| 2m 58s                              | 18.75            | 8119            |"
      ]
     },
     "metadata": {},
     "output_type": "display_data"
    },
    {
     "data": {
      "text/html": [
       "<pre>| 2m 59s                              | 19               | 8231            |</pre>"
      ],
      "text/plain": [
       "| 2m 59s                              | 19               | 8231            |"
      ]
     },
     "metadata": {},
     "output_type": "display_data"
    },
    {
     "data": {
      "text/html": [
       "<pre>| 3m 0s                               | 19.5             | 8368            |</pre>"
      ],
      "text/plain": [
       "| 3m 0s                               | 19.5             | 8368            |"
      ]
     },
     "metadata": {},
     "output_type": "display_data"
    },
    {
     "data": {
      "text/html": [
       "<pre>| 3m 1s                               | 19.5             | 8406            |</pre>"
      ],
      "text/plain": [
       "| 3m 1s                               | 19.5             | 8406            |"
      ]
     },
     "metadata": {},
     "output_type": "display_data"
    },
    {
     "data": {
      "text/html": [
       "<pre>| 3m 2s                               | 19.5             | 8447            |</pre>"
      ],
      "text/plain": [
       "| 3m 2s                               | 19.5             | 8447            |"
      ]
     },
     "metadata": {},
     "output_type": "display_data"
    },
    {
     "data": {
      "text/html": [
       "<pre>| 3m 3s                               | 19.75            | 8474            |</pre>"
      ],
      "text/plain": [
       "| 3m 3s                               | 19.75            | 8474            |"
      ]
     },
     "metadata": {},
     "output_type": "display_data"
    },
    {
     "data": {
      "text/html": [
       "<pre>| 3m 4s                               | 19.75            | 8570            |</pre>"
      ],
      "text/plain": [
       "| 3m 4s                               | 19.75            | 8570            |"
      ]
     },
     "metadata": {},
     "output_type": "display_data"
    },
    {
     "data": {
      "text/html": [
       "<pre>| 3m 5s                               | 20               | 8611            |</pre>"
      ],
      "text/plain": [
       "| 3m 5s                               | 20               | 8611            |"
      ]
     },
     "metadata": {},
     "output_type": "display_data"
    },
    {
     "data": {
      "text/html": [
       "<pre>| 3m 6s                               | 20               | 8674            |</pre>"
      ],
      "text/plain": [
       "| 3m 6s                               | 20               | 8674            |"
      ]
     },
     "metadata": {},
     "output_type": "display_data"
    },
    {
     "data": {
      "text/html": [
       "<pre>| 3m 7s                               | 20.25            | 8771            |</pre>"
      ],
      "text/plain": [
       "| 3m 7s                               | 20.25            | 8771            |"
      ]
     },
     "metadata": {},
     "output_type": "display_data"
    },
    {
     "data": {
      "text/html": [
       "<pre>| 3m 8s                               | 20.25            | 8772            |</pre>"
      ],
      "text/plain": [
       "| 3m 8s                               | 20.25            | 8772            |"
      ]
     },
     "metadata": {},
     "output_type": "display_data"
    },
    {
     "data": {
      "text/html": [
       "<pre>| 3m 9s                               | 20.5             | 8825            |</pre>"
      ],
      "text/plain": [
       "| 3m 9s                               | 20.5             | 8825            |"
      ]
     },
     "metadata": {},
     "output_type": "display_data"
    },
    {
     "data": {
      "text/html": [
       "<pre>| 3m 10s                              | 20.5             | 8838            |</pre>"
      ],
      "text/plain": [
       "| 3m 10s                              | 20.5             | 8838            |"
      ]
     },
     "metadata": {},
     "output_type": "display_data"
    },
    {
     "data": {
      "text/html": [
       "<pre>| 3m 11s                              | 20.5             | 8884            |</pre>"
      ],
      "text/plain": [
       "| 3m 11s                              | 20.5             | 8884            |"
      ]
     },
     "metadata": {},
     "output_type": "display_data"
    },
    {
     "data": {
      "text/html": [
       "<pre>| 3m 12s                              | 20.75            | 8942            |</pre>"
      ],
      "text/plain": [
       "| 3m 12s                              | 20.75            | 8942            |"
      ]
     },
     "metadata": {},
     "output_type": "display_data"
    },
    {
     "data": {
      "text/html": [
       "<pre>| 3m 13s                              | 21               | 9023            |</pre>"
      ],
      "text/plain": [
       "| 3m 13s                              | 21               | 9023            |"
      ]
     },
     "metadata": {},
     "output_type": "display_data"
    },
    {
     "data": {
      "text/html": [
       "<pre>| 3m 14s                              | 21               | 9096            |</pre>"
      ],
      "text/plain": [
       "| 3m 14s                              | 21               | 9096            |"
      ]
     },
     "metadata": {},
     "output_type": "display_data"
    },
    {
     "data": {
      "text/html": [
       "<pre>| 3m 15s                              | 21.25            | 9183            |</pre>"
      ],
      "text/plain": [
       "| 3m 15s                              | 21.25            | 9183            |"
      ]
     },
     "metadata": {},
     "output_type": "display_data"
    },
    {
     "data": {
      "text/html": [
       "<pre>| 3m 16s                              | 21.5             | 9263            |</pre>"
      ],
      "text/plain": [
       "| 3m 16s                              | 21.5             | 9263            |"
      ]
     },
     "metadata": {},
     "output_type": "display_data"
    },
    {
     "data": {
      "text/html": [
       "<pre>| 3m 17s                              | 21.75            | 9376            |</pre>"
      ],
      "text/plain": [
       "| 3m 17s                              | 21.75            | 9376            |"
      ]
     },
     "metadata": {},
     "output_type": "display_data"
    },
    {
     "data": {
      "text/html": [
       "<pre>| 3m 18s                              | 21.75            | 9386            |</pre>"
      ],
      "text/plain": [
       "| 3m 18s                              | 21.75            | 9386            |"
      ]
     },
     "metadata": {},
     "output_type": "display_data"
    },
    {
     "data": {
      "text/html": [
       "<pre>| 3m 19s                              | 21.75            | 9416            |</pre>"
      ],
      "text/plain": [
       "| 3m 19s                              | 21.75            | 9416            |"
      ]
     },
     "metadata": {},
     "output_type": "display_data"
    },
    {
     "data": {
      "text/html": [
       "<pre>| 3m 20s                              | 22               | 9479            |</pre>"
      ],
      "text/plain": [
       "| 3m 20s                              | 22               | 9479            |"
      ]
     },
     "metadata": {},
     "output_type": "display_data"
    },
    {
     "data": {
      "text/html": [
       "<pre>| 3m 21s                              | 22.25            | 9612            |</pre>"
      ],
      "text/plain": [
       "| 3m 21s                              | 22.25            | 9612            |"
      ]
     },
     "metadata": {},
     "output_type": "display_data"
    },
    {
     "data": {
      "text/html": [
       "<pre>| 3m 22s                              | 22.5             | 9652            |</pre>"
      ],
      "text/plain": [
       "| 3m 22s                              | 22.5             | 9652            |"
      ]
     },
     "metadata": {},
     "output_type": "display_data"
    },
    {
     "data": {
      "text/html": [
       "<pre>| 3m 23s                              | 22.5             | 9738            |</pre>"
      ],
      "text/plain": [
       "| 3m 23s                              | 22.5             | 9738            |"
      ]
     },
     "metadata": {},
     "output_type": "display_data"
    },
    {
     "data": {
      "text/html": [
       "<pre>| 3m 24s                              | 23.25            | 10016           |</pre>"
      ],
      "text/plain": [
       "| 3m 24s                              | 23.25            | 10016           |"
      ]
     },
     "metadata": {},
     "output_type": "display_data"
    },
    {
     "data": {
      "text/html": [
       "<pre>| 3m 25s                              | 23.25            | 10055           |</pre>"
      ],
      "text/plain": [
       "| 3m 25s                              | 23.25            | 10055           |"
      ]
     },
     "metadata": {},
     "output_type": "display_data"
    },
    {
     "data": {
      "text/html": [
       "<pre>| 3m 26s                              | 23.5             | 10092           |</pre>"
      ],
      "text/plain": [
       "| 3m 26s                              | 23.5             | 10092           |"
      ]
     },
     "metadata": {},
     "output_type": "display_data"
    },
    {
     "data": {
      "text/html": [
       "<pre>| 3m 27s                              | 23.5             | 10136           |</pre>"
      ],
      "text/plain": [
       "| 3m 27s                              | 23.5             | 10136           |"
      ]
     },
     "metadata": {},
     "output_type": "display_data"
    },
    {
     "data": {
      "text/html": [
       "<pre>| 3m 28s                              | 23.75            | 10186           |</pre>"
      ],
      "text/plain": [
       "| 3m 28s                              | 23.75            | 10186           |"
      ]
     },
     "metadata": {},
     "output_type": "display_data"
    },
    {
     "data": {
      "text/html": [
       "<pre>| 3m 29s                              | 23.75            | 10213           |</pre>"
      ],
      "text/plain": [
       "| 3m 29s                              | 23.75            | 10213           |"
      ]
     },
     "metadata": {},
     "output_type": "display_data"
    },
    {
     "data": {
      "text/html": [
       "<pre>| 3m 31s                              | 23.75            | 10284           |</pre>"
      ],
      "text/plain": [
       "| 3m 31s                              | 23.75            | 10284           |"
      ]
     },
     "metadata": {},
     "output_type": "display_data"
    },
    {
     "data": {
      "text/html": [
       "<pre>| 3m 32s                              | 24               | 10378           |</pre>"
      ],
      "text/plain": [
       "| 3m 32s                              | 24               | 10378           |"
      ]
     },
     "metadata": {},
     "output_type": "display_data"
    },
    {
     "data": {
      "text/html": [
       "<pre>| 3m 33s                              | 24.25            | 10422           |</pre>"
      ],
      "text/plain": [
       "| 3m 33s                              | 24.25            | 10422           |"
      ]
     },
     "metadata": {},
     "output_type": "display_data"
    },
    {
     "data": {
      "text/html": [
       "<pre>| 3m 34s                              | 24.25            | 10479           |</pre>"
      ],
      "text/plain": [
       "| 3m 34s                              | 24.25            | 10479           |"
      ]
     },
     "metadata": {},
     "output_type": "display_data"
    },
    {
     "data": {
      "text/html": [
       "<pre>| 3m 35s                              | 24.5             | 10574           |</pre>"
      ],
      "text/plain": [
       "| 3m 35s                              | 24.5             | 10574           |"
      ]
     },
     "metadata": {},
     "output_type": "display_data"
    },
    {
     "data": {
      "text/html": [
       "<pre>| 3m 36s                              | 24.75            | 10665           |</pre>"
      ],
      "text/plain": [
       "| 3m 36s                              | 24.75            | 10665           |"
      ]
     },
     "metadata": {},
     "output_type": "display_data"
    },
    {
     "data": {
      "text/html": [
       "<pre>| 3m 37s                              | 25.25            | 10849           |</pre>"
      ],
      "text/plain": [
       "| 3m 37s                              | 25.25            | 10849           |"
      ]
     },
     "metadata": {},
     "output_type": "display_data"
    },
    {
     "data": {
      "text/html": [
       "<pre>| 3m 38s                              | 25.25            | 10897           |</pre>"
      ],
      "text/plain": [
       "| 3m 38s                              | 25.25            | 10897           |"
      ]
     },
     "metadata": {},
     "output_type": "display_data"
    },
    {
     "data": {
      "text/html": [
       "<pre>| 3m 39s                              | 25.25            | 10919           |</pre>"
      ],
      "text/plain": [
       "| 3m 39s                              | 25.25            | 10919           |"
      ]
     },
     "metadata": {},
     "output_type": "display_data"
    },
    {
     "data": {
      "text/html": [
       "<pre>| 3m 40s                              | 25.5             | 10977           |</pre>"
      ],
      "text/plain": [
       "| 3m 40s                              | 25.5             | 10977           |"
      ]
     },
     "metadata": {},
     "output_type": "display_data"
    },
    {
     "data": {
      "text/html": [
       "<pre>| 3m 41s                              | 25.5             | 11011           |</pre>"
      ],
      "text/plain": [
       "| 3m 41s                              | 25.5             | 11011           |"
      ]
     },
     "metadata": {},
     "output_type": "display_data"
    },
    {
     "data": {
      "text/html": [
       "<pre>| 3m 43s                              | 25.5             | 11026           |</pre>"
      ],
      "text/plain": [
       "| 3m 43s                              | 25.5             | 11026           |"
      ]
     },
     "metadata": {},
     "output_type": "display_data"
    },
    {
     "data": {
      "text/html": [
       "<pre>| 3m 45s                              | 25.5             | 11035           |</pre>"
      ],
      "text/plain": [
       "| 3m 45s                              | 25.5             | 11035           |"
      ]
     },
     "metadata": {},
     "output_type": "display_data"
    },
    {
     "data": {
      "text/html": [
       "<pre>| 3m 46s                              | 25.75            | 11050           |</pre>"
      ],
      "text/plain": [
       "| 3m 46s                              | 25.75            | 11050           |"
      ]
     },
     "metadata": {},
     "output_type": "display_data"
    },
    {
     "data": {
      "text/html": [
       "<pre>| 3m 46s                              | 25.75            | 11091           |</pre>"
      ],
      "text/plain": [
       "| 3m 46s                              | 25.75            | 11091           |"
      ]
     },
     "metadata": {},
     "output_type": "display_data"
    },
    {
     "data": {
      "text/html": [
       "<pre>| 3m 48s                              | 26               | 11159           |</pre>"
      ],
      "text/plain": [
       "| 3m 48s                              | 26               | 11159           |"
      ]
     },
     "metadata": {},
     "output_type": "display_data"
    },
    {
     "name": "stderr",
     "output_type": "stream",
     "text": [
      "[ERROR] graphlab.toolkits._main: Toolkit error: Cancelled by user.\n"
     ]
    },
    {
     "ename": "ToolkitError",
     "evalue": "Cancelled by user.",
     "output_type": "error",
     "traceback": [
      "\u001b[0;31m---------------------------------------------------------------------------\u001b[0m",
      "\u001b[0;31mToolkitError\u001b[0m                              Traceback (most recent call last)",
      "\u001b[0;32m<ipython-input-26-fc0ca6528b69>\u001b[0m in \u001b[0;36m<module>\u001b[0;34m()\u001b[0m\n\u001b[0;32m----> 1\u001b[0;31m \u001b[0mitem_similarity_model\u001b[0m \u001b[0;34m=\u001b[0m \u001b[0mgraphlab\u001b[0m\u001b[0;34m.\u001b[0m\u001b[0mitem_similarity_recommender\u001b[0m\u001b[0;34m.\u001b[0m\u001b[0mcreate\u001b[0m\u001b[0;34m(\u001b[0m\u001b[0mtrain_data\u001b[0m\u001b[0;34m,\u001b[0m \u001b[0muser_id\u001b[0m\u001b[0;34m=\u001b[0m\u001b[0;34m'userId'\u001b[0m\u001b[0;34m,\u001b[0m \u001b[0mitem_id\u001b[0m\u001b[0;34m=\u001b[0m\u001b[0;34m'movieId'\u001b[0m\u001b[0;34m,\u001b[0m \u001b[0mtarget\u001b[0m\u001b[0;34m=\u001b[0m\u001b[0;34m'rating'\u001b[0m\u001b[0;34m,\u001b[0m \u001b[0msimilarity_type\u001b[0m\u001b[0;34m=\u001b[0m\u001b[0;34m'pearson'\u001b[0m\u001b[0;34m)\u001b[0m\u001b[0;34m\u001b[0m\u001b[0m\n\u001b[0m",
      "\u001b[0;32m/Users/ericwang/anaconda3/envs/gl-env/lib/python2.7/site-packages/graphlab/toolkits/recommender/item_similarity_recommender.pyc\u001b[0m in \u001b[0;36mcreate\u001b[0;34m(observation_data, user_id, item_id, target, user_data, item_data, nearest_items, similarity_type, threshold, only_top_k, verbose, target_memory_usage, **kwargs)\u001b[0m\n\u001b[1;32m    251\u001b[0m     \u001b[0mopts\u001b[0m\u001b[0;34m.\u001b[0m\u001b[0mupdate\u001b[0m\u001b[0;34m(\u001b[0m\u001b[0mkwargs\u001b[0m\u001b[0;34m)\u001b[0m\u001b[0;34m\u001b[0m\u001b[0m\n\u001b[1;32m    252\u001b[0m \u001b[0;34m\u001b[0m\u001b[0m\n\u001b[0;32m--> 253\u001b[0;31m     \u001b[0mresponse\u001b[0m \u001b[0;34m=\u001b[0m \u001b[0m_graphlab\u001b[0m\u001b[0;34m.\u001b[0m\u001b[0mtoolkits\u001b[0m\u001b[0;34m.\u001b[0m\u001b[0m_main\u001b[0m\u001b[0;34m.\u001b[0m\u001b[0mrun\u001b[0m\u001b[0;34m(\u001b[0m\u001b[0;34m'recsys_train'\u001b[0m\u001b[0;34m,\u001b[0m \u001b[0mopts\u001b[0m\u001b[0;34m,\u001b[0m \u001b[0mverbose\u001b[0m\u001b[0;34m)\u001b[0m\u001b[0;34m\u001b[0m\u001b[0m\n\u001b[0m\u001b[1;32m    254\u001b[0m     \u001b[0;32mreturn\u001b[0m \u001b[0mItemSimilarityRecommender\u001b[0m\u001b[0;34m(\u001b[0m\u001b[0mresponse\u001b[0m\u001b[0;34m[\u001b[0m\u001b[0;34m'model'\u001b[0m\u001b[0;34m]\u001b[0m\u001b[0;34m)\u001b[0m\u001b[0;34m\u001b[0m\u001b[0m\n\u001b[1;32m    255\u001b[0m \u001b[0;34m\u001b[0m\u001b[0m\n",
      "\u001b[0;32m/Users/ericwang/anaconda3/envs/gl-env/lib/python2.7/site-packages/graphlab/toolkits/_main.pyc\u001b[0m in \u001b[0;36mrun\u001b[0;34m(toolkit_name, options, verbose, show_progress)\u001b[0m\n\u001b[1;32m     87\u001b[0m         \u001b[0m_get_metric_tracker\u001b[0m\u001b[0;34m(\u001b[0m\u001b[0;34m)\u001b[0m\u001b[0;34m.\u001b[0m\u001b[0mtrack\u001b[0m\u001b[0;34m(\u001b[0m\u001b[0mmetric_name\u001b[0m\u001b[0;34m,\u001b[0m \u001b[0mvalue\u001b[0m\u001b[0;34m=\u001b[0m\u001b[0;36m1\u001b[0m\u001b[0;34m,\u001b[0m \u001b[0mproperties\u001b[0m\u001b[0;34m=\u001b[0m\u001b[0mtrack_props\u001b[0m\u001b[0;34m,\u001b[0m \u001b[0msend_sys_info\u001b[0m\u001b[0;34m=\u001b[0m\u001b[0mFalse\u001b[0m\u001b[0;34m)\u001b[0m\u001b[0;34m\u001b[0m\u001b[0m\n\u001b[1;32m     88\u001b[0m \u001b[0;34m\u001b[0m\u001b[0m\n\u001b[0;32m---> 89\u001b[0;31m         \u001b[0;32mraise\u001b[0m \u001b[0mToolkitError\u001b[0m\u001b[0;34m(\u001b[0m\u001b[0mstr\u001b[0m\u001b[0;34m(\u001b[0m\u001b[0mmessage\u001b[0m\u001b[0;34m)\u001b[0m\u001b[0;34m)\u001b[0m\u001b[0;34m\u001b[0m\u001b[0m\n\u001b[0m",
      "\u001b[0;31mToolkitError\u001b[0m: Cancelled by user."
     ]
    }
   ],
   "source": [
    "item_similarity_model = graphlab.item_similarity_recommender.create(train_data, user_id='userId', item_id='movieId', target='rating', similarity_type='pearson')"
   ]
  },
  {
   "cell_type": "code",
   "execution_count": 18,
   "metadata": {},
   "outputs": [
    {
     "name": "stdout",
     "output_type": "stream",
     "text": [
      "('\\nOverall RMSE: ', 1.1950189420862745)\n",
      "\n",
      "Per User RMSE (best)\n",
      "+--------+-------+----------------+\n",
      "| userId | count |      rmse      |\n",
      "+--------+-------+----------------+\n",
      "|  465   |   4   | 0.235294958512 |\n",
      "+--------+-------+----------------+\n",
      "[1 rows x 3 columns]\n",
      "\n",
      "\n",
      "Per User RMSE (worst)\n",
      "+--------+-------+---------------+\n",
      "| userId | count |      rmse     |\n",
      "+--------+-------+---------------+\n",
      "|   54   |   4   | 3.28054435441 |\n",
      "+--------+-------+---------------+\n",
      "[1 rows x 3 columns]\n",
      "\n",
      "\n",
      "Per Item RMSE (best)\n",
      "+---------+-------+------+\n",
      "| movieId | count | rmse |\n",
      "+---------+-------+------+\n",
      "|  97673  |   1   | 0.0  |\n",
      "+---------+-------+------+\n",
      "[1 rows x 3 columns]\n",
      "\n",
      "\n",
      "Per Item RMSE (worst)\n",
      "+---------+-------+------+\n",
      "| movieId | count | rmse |\n",
      "+---------+-------+------+\n",
      "|   764   |   1   | 5.0  |\n",
      "+---------+-------+------+\n",
      "[1 rows x 3 columns]\n",
      "\n"
     ]
    },
    {
     "data": {
      "text/plain": [
       "{'rmse_by_item': Columns:\n",
       " \tmovieId\tint\n",
       " \tcount\tint\n",
       " \trmse\tfloat\n",
       " \n",
       " Rows: 5478\n",
       " \n",
       " Data:\n",
       " +---------+-------+----------------+\n",
       " | movieId | count |      rmse      |\n",
       " +---------+-------+----------------+\n",
       " |  42728  |   1   |      3.0       |\n",
       " |   2779  |   3   | 1.10772392213  |\n",
       " |   118   |   1   | 2.23152978204  |\n",
       " |   3988  |   14  | 1.29241695905  |\n",
       " |   2847  |   1   | 0.497908484228 |\n",
       " |   8727  |   1   |      1.5       |\n",
       " |  64614  |   7   | 0.797596641408 |\n",
       " |   2925  |   1   | 0.254163995307 |\n",
       " |   2871  |   8   | 0.869609397751 |\n",
       " |   3913  |   1   |      1.0       |\n",
       " +---------+-------+----------------+\n",
       " [5478 rows x 3 columns]\n",
       " Note: Only the head of the SFrame is printed.\n",
       " You can use print_rows(num_rows=m, num_columns=n) to print more rows and columns.,\n",
       " 'rmse_by_user': Columns:\n",
       " \tuserId\tint\n",
       " \tcount\tint\n",
       " \trmse\tfloat\n",
       " \n",
       " Rows: 671\n",
       " \n",
       " Data:\n",
       " +--------+-------+----------------+\n",
       " | userId | count |      rmse      |\n",
       " +--------+-------+----------------+\n",
       " |  118   |   48  | 0.924442156982 |\n",
       " |  435   |   6   | 0.648884247598 |\n",
       " |  537   |   70  | 1.02036288551  |\n",
       " |  526   |   5   | 0.557382092013 |\n",
       " |  232   |  160  | 1.34524750927  |\n",
       " |  310   |   2   | 2.19476192156  |\n",
       " |   49   |   25  | 1.28871846504  |\n",
       " |   13   |   13  | 0.752697174176 |\n",
       " |  511   |   5   | 1.16246302393  |\n",
       " |  363   |   58  | 0.969881666422 |\n",
       " +--------+-------+----------------+\n",
       " [671 rows x 3 columns]\n",
       " Note: Only the head of the SFrame is printed.\n",
       " You can use print_rows(num_rows=m, num_columns=n) to print more rows and columns.,\n",
       " 'rmse_overall': 1.1950189420862745}"
      ]
     },
     "execution_count": 18,
     "metadata": {},
     "output_type": "execute_result"
    }
   ],
   "source": [
    "#RMSE Evaluation\n",
    "item_similarity_model.evaluate(test_data,metric='rmse')"
   ]
  },
  {
   "cell_type": "code",
   "execution_count": 8,
   "metadata": {},
   "outputs": [
    {
     "name": "stdout",
     "output_type": "stream",
     "text": [
      "+--------+---------+-------+------+\n",
      "| userId | movieId | score | rank |\n",
      "+--------+---------+-------+------+\n",
      "|   1    |  41527  |  5.0  |  1   |\n",
      "|   1    |  92210  |  5.0  |  2   |\n",
      "|   1    |  98587  |  5.0  |  3   |\n",
      "|   1    |   6598  |  5.0  |  4   |\n",
      "|   1    |   7096  |  5.0  |  5   |\n",
      "|   2    |  41527  |  5.0  |  1   |\n",
      "|   2    |  92210  |  5.0  |  2   |\n",
      "|   2    |  98587  |  5.0  |  3   |\n",
      "|   2    |   6598  |  5.0  |  4   |\n",
      "|   2    |   7096  |  5.0  |  5   |\n",
      "|   3    |  41527  |  5.0  |  1   |\n",
      "|   3    |  92210  |  5.0  |  2   |\n",
      "|   3    |  98587  |  5.0  |  3   |\n",
      "|   3    |   6598  |  5.0  |  4   |\n",
      "|   3    |   7096  |  5.0  |  5   |\n",
      "|   4    |  41527  |  5.0  |  1   |\n",
      "|   4    |  92210  |  5.0  |  2   |\n",
      "|   4    |  98587  |  5.0  |  3   |\n",
      "|   4    |   6598  |  5.0  |  4   |\n",
      "|   4    |   7096  |  5.0  |  5   |\n",
      "|   5    |  41527  |  5.0  |  1   |\n",
      "|   5    |  92210  |  5.0  |  2   |\n",
      "|   5    |  98587  |  5.0  |  3   |\n",
      "|   5    |   6598  |  5.0  |  4   |\n",
      "|   5    |   7096  |  5.0  |  5   |\n",
      "+--------+---------+-------+------+\n",
      "[25 rows x 4 columns]\n",
      "\n"
     ]
    }
   ],
   "source": [
    "item_sim_recommendation = item_similarity_model.recommend(users=range(1,6),k=5)\n",
    "item_sim_recommendation.print_rows(num_rows=25)"
   ]
  }
 ],
 "metadata": {
  "kernelspec": {
   "display_name": "Python 3",
   "language": "python",
   "name": "python3"
  },
  "language_info": {
   "codemirror_mode": {
    "name": "ipython",
    "version": 3
   },
   "file_extension": ".py",
   "mimetype": "text/x-python",
   "name": "python",
   "nbconvert_exporter": "python",
   "pygments_lexer": "ipython3",
   "version": "3.6.2"
  }
 },
 "nbformat": 4,
 "nbformat_minor": 2
}
