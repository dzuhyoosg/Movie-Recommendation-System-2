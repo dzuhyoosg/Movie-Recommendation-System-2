{
 "cells": [
  {
   "cell_type": "code",
   "execution_count": 3,
   "metadata": {
    "collapsed": true
   },
   "outputs": [],
   "source": [
    "import pandas as pd\n",
    "items = pd.read_csv('ml-latest/movies.csv', encoding='latin-1')"
   ]
  },
  {
   "cell_type": "code",
   "execution_count": 4,
   "metadata": {
    "collapsed": false
   },
   "outputs": [
    {
     "name": "stdout",
     "output_type": "stream",
     "text": [
      "(58098, 3)\n"
     ]
    },
    {
     "data": {
      "text/html": [
       "<div>\n",
       "<table border=\"1\" class=\"dataframe\">\n",
       "  <thead>\n",
       "    <tr style=\"text-align: right;\">\n",
       "      <th></th>\n",
       "      <th>movieId</th>\n",
       "      <th>title</th>\n",
       "      <th>genres</th>\n",
       "    </tr>\n",
       "  </thead>\n",
       "  <tbody>\n",
       "    <tr>\n",
       "      <th>0</th>\n",
       "      <td>1</td>\n",
       "      <td>Toy Story (1995)</td>\n",
       "      <td>Adventure|Animation|Children|Comedy|Fantasy</td>\n",
       "    </tr>\n",
       "    <tr>\n",
       "      <th>1</th>\n",
       "      <td>2</td>\n",
       "      <td>Jumanji (1995)</td>\n",
       "      <td>Adventure|Children|Fantasy</td>\n",
       "    </tr>\n",
       "    <tr>\n",
       "      <th>2</th>\n",
       "      <td>3</td>\n",
       "      <td>Grumpier Old Men (1995)</td>\n",
       "      <td>Comedy|Romance</td>\n",
       "    </tr>\n",
       "    <tr>\n",
       "      <th>3</th>\n",
       "      <td>4</td>\n",
       "      <td>Waiting to Exhale (1995)</td>\n",
       "      <td>Comedy|Drama|Romance</td>\n",
       "    </tr>\n",
       "    <tr>\n",
       "      <th>4</th>\n",
       "      <td>5</td>\n",
       "      <td>Father of the Bride Part II (1995)</td>\n",
       "      <td>Comedy</td>\n",
       "    </tr>\n",
       "  </tbody>\n",
       "</table>\n",
       "</div>"
      ],
      "text/plain": [
       "   movieId                               title  \\\n",
       "0        1                    Toy Story (1995)   \n",
       "1        2                      Jumanji (1995)   \n",
       "2        3             Grumpier Old Men (1995)   \n",
       "3        4            Waiting to Exhale (1995)   \n",
       "4        5  Father of the Bride Part II (1995)   \n",
       "\n",
       "                                        genres  \n",
       "0  Adventure|Animation|Children|Comedy|Fantasy  \n",
       "1                   Adventure|Children|Fantasy  \n",
       "2                               Comedy|Romance  \n",
       "3                         Comedy|Drama|Romance  \n",
       "4                                       Comedy  "
      ]
     },
     "execution_count": 4,
     "metadata": {},
     "output_type": "execute_result"
    }
   ],
   "source": [
    "print (items.shape)\n",
    "items.head()"
   ]
  },
  {
   "cell_type": "code",
   "execution_count": 5,
   "metadata": {
    "collapsed": false
   },
   "outputs": [
    {
     "data": {
      "text/html": [
       "<div>\n",
       "<table border=\"1\" class=\"dataframe\">\n",
       "  <thead>\n",
       "    <tr style=\"text-align: right;\">\n",
       "      <th></th>\n",
       "      <th>userId</th>\n",
       "      <th>movieId</th>\n",
       "      <th>rating</th>\n",
       "      <th>timestamp</th>\n",
       "    </tr>\n",
       "  </thead>\n",
       "  <tbody>\n",
       "    <tr>\n",
       "      <th>0</th>\n",
       "      <td>1</td>\n",
       "      <td>307</td>\n",
       "      <td>3.5</td>\n",
       "      <td>1256677221</td>\n",
       "    </tr>\n",
       "    <tr>\n",
       "      <th>1</th>\n",
       "      <td>1</td>\n",
       "      <td>481</td>\n",
       "      <td>3.5</td>\n",
       "      <td>1256677456</td>\n",
       "    </tr>\n",
       "    <tr>\n",
       "      <th>2</th>\n",
       "      <td>1</td>\n",
       "      <td>1091</td>\n",
       "      <td>1.5</td>\n",
       "      <td>1256677471</td>\n",
       "    </tr>\n",
       "    <tr>\n",
       "      <th>3</th>\n",
       "      <td>1</td>\n",
       "      <td>1257</td>\n",
       "      <td>4.5</td>\n",
       "      <td>1256677460</td>\n",
       "    </tr>\n",
       "    <tr>\n",
       "      <th>4</th>\n",
       "      <td>1</td>\n",
       "      <td>1449</td>\n",
       "      <td>4.5</td>\n",
       "      <td>1256677264</td>\n",
       "    </tr>\n",
       "  </tbody>\n",
       "</table>\n",
       "</div>"
      ],
      "text/plain": [
       "   userId  movieId  rating   timestamp\n",
       "0       1      307     3.5  1256677221\n",
       "1       1      481     3.5  1256677456\n",
       "2       1     1091     1.5  1256677471\n",
       "3       1     1257     4.5  1256677460\n",
       "4       1     1449     4.5  1256677264"
      ]
     },
     "execution_count": 5,
     "metadata": {},
     "output_type": "execute_result"
    }
   ],
   "source": [
    "ratings = pd.read_csv('ml-latest/ratings.csv', encoding='latin-1')\n",
    "ratings.head()"
   ]
  },
  {
   "cell_type": "code",
   "execution_count": 6,
   "metadata": {
    "collapsed": false
   },
   "outputs": [
    {
     "name": "stdout",
     "output_type": "stream",
     "text": [
      "283228\n",
      "53889\n"
     ]
    }
   ],
   "source": [
    "number_of_users = ratings.userId.unique().shape[0]\n",
    "number_of_items = ratings.movieId.unique().shape[0]\n",
    "print (number_of_users)\n",
    "print (number_of_items)"
   ]
  },
  {
   "cell_type": "code",
   "execution_count": 7,
   "metadata": {
    "collapsed": false
   },
   "outputs": [],
   "source": [
    "from sklearn import cross_validation\n",
    "training_set, testing_set = cross_validation.train_test_split(ratings,test_size=0.25)"
   ]
  },
  {
   "cell_type": "code",
   "execution_count": 8,
   "metadata": {
    "collapsed": false
   },
   "outputs": [
    {
     "name": "stderr",
     "output_type": "stream",
     "text": [
      "[INFO] graphlab.cython.cy_server: GraphLab Create v2.1 started. Logging: /tmp/graphlab_server_1544218814.log\n"
     ]
    },
    {
     "name": "stdout",
     "output_type": "stream",
     "text": [
      "This non-commercial license of GraphLab Create for academic use is assigned to zsong10@u.rochester.edu and will expire on November 25, 2019.\n"
     ]
    }
   ],
   "source": [
    "import graphlab\n",
    "train_data = graphlab.SFrame(training_set)\n",
    "test_data = graphlab.SFrame(testing_set)"
   ]
  },
  {
   "cell_type": "code",
   "execution_count": 9,
   "metadata": {
    "collapsed": false
   },
   "outputs": [
    {
     "data": {
      "text/html": [
       "<pre>Recsys training: model = item_similarity</pre>"
      ],
      "text/plain": [
       "Recsys training: model = item_similarity"
      ]
     },
     "metadata": {},
     "output_type": "display_data"
    },
    {
     "data": {
      "text/html": [
       "<pre>Warning: Ignoring columns timestamp;</pre>"
      ],
      "text/plain": [
       "Warning: Ignoring columns timestamp;"
      ]
     },
     "metadata": {},
     "output_type": "display_data"
    },
    {
     "data": {
      "text/html": [
       "<pre>    To use these columns in scoring predictions, use a model that allows the use of additional features.</pre>"
      ],
      "text/plain": [
       "    To use these columns in scoring predictions, use a model that allows the use of additional features."
      ]
     },
     "metadata": {},
     "output_type": "display_data"
    },
    {
     "data": {
      "text/html": [
       "<pre>Preparing data set.</pre>"
      ],
      "text/plain": [
       "Preparing data set."
      ]
     },
     "metadata": {},
     "output_type": "display_data"
    },
    {
     "data": {
      "text/html": [
       "<pre>    Data has 20815083 observations with 281504 users and 50967 items.</pre>"
      ],
      "text/plain": [
       "    Data has 20815083 observations with 281504 users and 50967 items."
      ]
     },
     "metadata": {},
     "output_type": "display_data"
    },
    {
     "data": {
      "text/html": [
       "<pre>    Data prepared in: 17.8226s</pre>"
      ],
      "text/plain": [
       "    Data prepared in: 17.8226s"
      ]
     },
     "metadata": {},
     "output_type": "display_data"
    },
    {
     "data": {
      "text/html": [
       "<pre>Training model from provided data.</pre>"
      ],
      "text/plain": [
       "Training model from provided data."
      ]
     },
     "metadata": {},
     "output_type": "display_data"
    },
    {
     "data": {
      "text/html": [
       "<pre>Gathering per-item and per-user statistics.</pre>"
      ],
      "text/plain": [
       "Gathering per-item and per-user statistics."
      ]
     },
     "metadata": {},
     "output_type": "display_data"
    },
    {
     "data": {
      "text/html": [
       "<pre>+--------------------------------+------------+</pre>"
      ],
      "text/plain": [
       "+--------------------------------+------------+"
      ]
     },
     "metadata": {},
     "output_type": "display_data"
    },
    {
     "data": {
      "text/html": [
       "<pre>| Elapsed Time (Item Statistics) | % Complete |</pre>"
      ],
      "text/plain": [
       "| Elapsed Time (Item Statistics) | % Complete |"
      ]
     },
     "metadata": {},
     "output_type": "display_data"
    },
    {
     "data": {
      "text/html": [
       "<pre>+--------------------------------+------------+</pre>"
      ],
      "text/plain": [
       "+--------------------------------+------------+"
      ]
     },
     "metadata": {},
     "output_type": "display_data"
    },
    {
     "data": {
      "text/html": [
       "<pre>| 25.067ms                       | 0.25       |</pre>"
      ],
      "text/plain": [
       "| 25.067ms                       | 0.25       |"
      ]
     },
     "metadata": {},
     "output_type": "display_data"
    },
    {
     "data": {
      "text/html": [
       "<pre>| 805.849ms                      | 100        |</pre>"
      ],
      "text/plain": [
       "| 805.849ms                      | 100        |"
      ]
     },
     "metadata": {},
     "output_type": "display_data"
    },
    {
     "data": {
      "text/html": [
       "<pre>+--------------------------------+------------+</pre>"
      ],
      "text/plain": [
       "+--------------------------------+------------+"
      ]
     },
     "metadata": {},
     "output_type": "display_data"
    },
    {
     "data": {
      "text/html": [
       "<pre>Setting up lookup tables.</pre>"
      ],
      "text/plain": [
       "Setting up lookup tables."
      ]
     },
     "metadata": {},
     "output_type": "display_data"
    },
    {
     "data": {
      "text/html": [
       "<pre>Processing data in 2 passes using dense lookup tables.</pre>"
      ],
      "text/plain": [
       "Processing data in 2 passes using dense lookup tables."
      ]
     },
     "metadata": {},
     "output_type": "display_data"
    },
    {
     "data": {
      "text/html": [
       "<pre>+-------------------------------------+------------------+-----------------+</pre>"
      ],
      "text/plain": [
       "+-------------------------------------+------------------+-----------------+"
      ]
     },
     "metadata": {},
     "output_type": "display_data"
    },
    {
     "data": {
      "text/html": [
       "<pre>| Elapsed Time (Constructing Lookups) | Total % Complete | Items Processed |</pre>"
      ],
      "text/plain": [
       "| Elapsed Time (Constructing Lookups) | Total % Complete | Items Processed |"
      ]
     },
     "metadata": {},
     "output_type": "display_data"
    },
    {
     "data": {
      "text/html": [
       "<pre>+-------------------------------------+------------------+-----------------+</pre>"
      ],
      "text/plain": [
       "+-------------------------------------+------------------+-----------------+"
      ]
     },
     "metadata": {},
     "output_type": "display_data"
    },
    {
     "data": {
      "text/html": [
       "<pre>| 8.26s                               | 0                | 0               |</pre>"
      ],
      "text/plain": [
       "| 8.26s                               | 0                | 0               |"
      ]
     },
     "metadata": {},
     "output_type": "display_data"
    },
    {
     "data": {
      "text/html": [
       "<pre>| 9.26s                               | 0                | 28              |</pre>"
      ],
      "text/plain": [
       "| 9.26s                               | 0                | 28              |"
      ]
     },
     "metadata": {},
     "output_type": "display_data"
    },
    {
     "data": {
      "text/html": [
       "<pre>| 10.27s                              | 0                | 76              |</pre>"
      ],
      "text/plain": [
       "| 10.27s                              | 0                | 76              |"
      ]
     },
     "metadata": {},
     "output_type": "display_data"
    },
    {
     "data": {
      "text/html": [
       "<pre>| 11.30s                              | 0                | 107             |</pre>"
      ],
      "text/plain": [
       "| 11.30s                              | 0                | 107             |"
      ]
     },
     "metadata": {},
     "output_type": "display_data"
    },
    {
     "data": {
      "text/html": [
       "<pre>| 12.29s                              | 0.5              | 343             |</pre>"
      ],
      "text/plain": [
       "| 12.29s                              | 0.5              | 343             |"
      ]
     },
     "metadata": {},
     "output_type": "display_data"
    },
    {
     "data": {
      "text/html": [
       "<pre>| 13.31s                              | 0.75             | 410             |</pre>"
      ],
      "text/plain": [
       "| 13.31s                              | 0.75             | 410             |"
      ]
     },
     "metadata": {},
     "output_type": "display_data"
    },
    {
     "data": {
      "text/html": [
       "<pre>| 14.28s                              | 0.75             | 483             |</pre>"
      ],
      "text/plain": [
       "| 14.28s                              | 0.75             | 483             |"
      ]
     },
     "metadata": {},
     "output_type": "display_data"
    },
    {
     "data": {
      "text/html": [
       "<pre>| 15.30s                              | 1                | 606             |</pre>"
      ],
      "text/plain": [
       "| 15.30s                              | 1                | 606             |"
      ]
     },
     "metadata": {},
     "output_type": "display_data"
    },
    {
     "data": {
      "text/html": [
       "<pre>| 16.31s                              | 1.25             | 645             |</pre>"
      ],
      "text/plain": [
       "| 16.31s                              | 1.25             | 645             |"
      ]
     },
     "metadata": {},
     "output_type": "display_data"
    },
    {
     "data": {
      "text/html": [
       "<pre>| 17.35s                              | 1.25             | 713             |</pre>"
      ],
      "text/plain": [
       "| 17.35s                              | 1.25             | 713             |"
      ]
     },
     "metadata": {},
     "output_type": "display_data"
    },
    {
     "data": {
      "text/html": [
       "<pre>| 18.30s                              | 1.5              | 867             |</pre>"
      ],
      "text/plain": [
       "| 18.30s                              | 1.5              | 867             |"
      ]
     },
     "metadata": {},
     "output_type": "display_data"
    },
    {
     "data": {
      "text/html": [
       "<pre>| 19.33s                              | 1.75             | 1007            |</pre>"
      ],
      "text/plain": [
       "| 19.33s                              | 1.75             | 1007            |"
      ]
     },
     "metadata": {},
     "output_type": "display_data"
    },
    {
     "data": {
      "text/html": [
       "<pre>| 20.30s                              | 2                | 1112            |</pre>"
      ],
      "text/plain": [
       "| 20.30s                              | 2                | 1112            |"
      ]
     },
     "metadata": {},
     "output_type": "display_data"
    },
    {
     "data": {
      "text/html": [
       "<pre>| 21.31s                              | 2.25             | 1273            |</pre>"
      ],
      "text/plain": [
       "| 21.31s                              | 2.25             | 1273            |"
      ]
     },
     "metadata": {},
     "output_type": "display_data"
    },
    {
     "data": {
      "text/html": [
       "<pre>| 22.34s                              | 2.75             | 1464            |</pre>"
      ],
      "text/plain": [
       "| 22.34s                              | 2.75             | 1464            |"
      ]
     },
     "metadata": {},
     "output_type": "display_data"
    },
    {
     "data": {
      "text/html": [
       "<pre>| 23.36s                              | 3.25             | 1665            |</pre>"
      ],
      "text/plain": [
       "| 23.36s                              | 3.25             | 1665            |"
      ]
     },
     "metadata": {},
     "output_type": "display_data"
    },
    {
     "data": {
      "text/html": [
       "<pre>| 24.32s                              | 3.5              | 1824            |</pre>"
      ],
      "text/plain": [
       "| 24.32s                              | 3.5              | 1824            |"
      ]
     },
     "metadata": {},
     "output_type": "display_data"
    },
    {
     "data": {
      "text/html": [
       "<pre>| 25.37s                              | 3.75             | 1930            |</pre>"
      ],
      "text/plain": [
       "| 25.37s                              | 3.75             | 1930            |"
      ]
     },
     "metadata": {},
     "output_type": "display_data"
    },
    {
     "data": {
      "text/html": [
       "<pre>| 26.53s                              | 4                | 2120            |</pre>"
      ],
      "text/plain": [
       "| 26.53s                              | 4                | 2120            |"
      ]
     },
     "metadata": {},
     "output_type": "display_data"
    },
    {
     "data": {
      "text/html": [
       "<pre>| 27.33s                              | 4.25             | 2250            |</pre>"
      ],
      "text/plain": [
       "| 27.33s                              | 4.25             | 2250            |"
      ]
     },
     "metadata": {},
     "output_type": "display_data"
    },
    {
     "data": {
      "text/html": [
       "<pre>| 28.43s                              | 4.75             | 2467            |</pre>"
      ],
      "text/plain": [
       "| 28.43s                              | 4.75             | 2467            |"
      ]
     },
     "metadata": {},
     "output_type": "display_data"
    },
    {
     "data": {
      "text/html": [
       "<pre>| 29.33s                              | 5                | 2585            |</pre>"
      ],
      "text/plain": [
       "| 29.33s                              | 5                | 2585            |"
      ]
     },
     "metadata": {},
     "output_type": "display_data"
    },
    {
     "data": {
      "text/html": [
       "<pre>| 30.45s                              | 5.25             | 2761            |</pre>"
      ],
      "text/plain": [
       "| 30.45s                              | 5.25             | 2761            |"
      ]
     },
     "metadata": {},
     "output_type": "display_data"
    },
    {
     "data": {
      "text/html": [
       "<pre>| 31.46s                              | 5.5              | 2880            |</pre>"
      ],
      "text/plain": [
       "| 31.46s                              | 5.5              | 2880            |"
      ]
     },
     "metadata": {},
     "output_type": "display_data"
    },
    {
     "data": {
      "text/html": [
       "<pre>| 32.35s                              | 6                | 3078            |</pre>"
      ],
      "text/plain": [
       "| 32.35s                              | 6                | 3078            |"
      ]
     },
     "metadata": {},
     "output_type": "display_data"
    },
    {
     "data": {
      "text/html": [
       "<pre>| 33.34s                              | 6                | 3164            |</pre>"
      ],
      "text/plain": [
       "| 33.34s                              | 6                | 3164            |"
      ]
     },
     "metadata": {},
     "output_type": "display_data"
    },
    {
     "data": {
      "text/html": [
       "<pre>| 34.35s                              | 6.5              | 3368            |</pre>"
      ],
      "text/plain": [
       "| 34.35s                              | 6.5              | 3368            |"
      ]
     },
     "metadata": {},
     "output_type": "display_data"
    },
    {
     "data": {
      "text/html": [
       "<pre>| 35.37s                              | 6.75             | 3550            |</pre>"
      ],
      "text/plain": [
       "| 35.37s                              | 6.75             | 3550            |"
      ]
     },
     "metadata": {},
     "output_type": "display_data"
    },
    {
     "data": {
      "text/html": [
       "<pre>| 36.36s                              | 7                | 3690            |</pre>"
      ],
      "text/plain": [
       "| 36.36s                              | 7                | 3690            |"
      ]
     },
     "metadata": {},
     "output_type": "display_data"
    },
    {
     "data": {
      "text/html": [
       "<pre>| 37.36s                              | 7.5              | 3892            |</pre>"
      ],
      "text/plain": [
       "| 37.36s                              | 7.5              | 3892            |"
      ]
     },
     "metadata": {},
     "output_type": "display_data"
    },
    {
     "data": {
      "text/html": [
       "<pre>| 38.36s                              | 7.75             | 4061            |</pre>"
      ],
      "text/plain": [
       "| 38.36s                              | 7.75             | 4061            |"
      ]
     },
     "metadata": {},
     "output_type": "display_data"
    },
    {
     "data": {
      "text/html": [
       "<pre>| 39.47s                              | 8.25             | 4302            |</pre>"
      ],
      "text/plain": [
       "| 39.47s                              | 8.25             | 4302            |"
      ]
     },
     "metadata": {},
     "output_type": "display_data"
    },
    {
     "data": {
      "text/html": [
       "<pre>| 40.36s                              | 8.75             | 4468            |</pre>"
      ],
      "text/plain": [
       "| 40.36s                              | 8.75             | 4468            |"
      ]
     },
     "metadata": {},
     "output_type": "display_data"
    },
    {
     "data": {
      "text/html": [
       "<pre>| 41.37s                              | 8.75             | 4578            |</pre>"
      ],
      "text/plain": [
       "| 41.37s                              | 8.75             | 4578            |"
      ]
     },
     "metadata": {},
     "output_type": "display_data"
    },
    {
     "data": {
      "text/html": [
       "<pre>| 42.37s                              | 9.25             | 4812            |</pre>"
      ],
      "text/plain": [
       "| 42.37s                              | 9.25             | 4812            |"
      ]
     },
     "metadata": {},
     "output_type": "display_data"
    },
    {
     "data": {
      "text/html": [
       "<pre>| 43.38s                              | 9.75             | 4976            |</pre>"
      ],
      "text/plain": [
       "| 43.38s                              | 9.75             | 4976            |"
      ]
     },
     "metadata": {},
     "output_type": "display_data"
    },
    {
     "data": {
      "text/html": [
       "<pre>| 44.38s                              | 10               | 5180            |</pre>"
      ],
      "text/plain": [
       "| 44.38s                              | 10               | 5180            |"
      ]
     },
     "metadata": {},
     "output_type": "display_data"
    },
    {
     "data": {
      "text/html": [
       "<pre>| 45.38s                              | 10.25            | 5316            |</pre>"
      ],
      "text/plain": [
       "| 45.38s                              | 10.25            | 5316            |"
      ]
     },
     "metadata": {},
     "output_type": "display_data"
    },
    {
     "data": {
      "text/html": [
       "<pre>| 46.38s                              | 10.75            | 5492            |</pre>"
      ],
      "text/plain": [
       "| 46.38s                              | 10.75            | 5492            |"
      ]
     },
     "metadata": {},
     "output_type": "display_data"
    },
    {
     "data": {
      "text/html": [
       "<pre>| 47.39s                              | 11.25            | 5745            |</pre>"
      ],
      "text/plain": [
       "| 47.39s                              | 11.25            | 5745            |"
      ]
     },
     "metadata": {},
     "output_type": "display_data"
    },
    {
     "data": {
      "text/html": [
       "<pre>| 48.39s                              | 11.5             | 5867            |</pre>"
      ],
      "text/plain": [
       "| 48.39s                              | 11.5             | 5867            |"
      ]
     },
     "metadata": {},
     "output_type": "display_data"
    },
    {
     "data": {
      "text/html": [
       "<pre>| 49.41s                              | 11.75            | 6065            |</pre>"
      ],
      "text/plain": [
       "| 49.41s                              | 11.75            | 6065            |"
      ]
     },
     "metadata": {},
     "output_type": "display_data"
    },
    {
     "data": {
      "text/html": [
       "<pre>| 50.46s                              | 12.25            | 6291            |</pre>"
      ],
      "text/plain": [
       "| 50.46s                              | 12.25            | 6291            |"
      ]
     },
     "metadata": {},
     "output_type": "display_data"
    },
    {
     "data": {
      "text/html": [
       "<pre>| 51.40s                              | 12.75            | 6500            |</pre>"
      ],
      "text/plain": [
       "| 51.40s                              | 12.75            | 6500            |"
      ]
     },
     "metadata": {},
     "output_type": "display_data"
    },
    {
     "data": {
      "text/html": [
       "<pre>| 52.40s                              | 13               | 6680            |</pre>"
      ],
      "text/plain": [
       "| 52.40s                              | 13               | 6680            |"
      ]
     },
     "metadata": {},
     "output_type": "display_data"
    },
    {
     "data": {
      "text/html": [
       "<pre>| 53.43s                              | 13.25            | 6880            |</pre>"
      ],
      "text/plain": [
       "| 53.43s                              | 13.25            | 6880            |"
      ]
     },
     "metadata": {},
     "output_type": "display_data"
    },
    {
     "data": {
      "text/html": [
       "<pre>| 54.41s                              | 13.75            | 7071            |</pre>"
      ],
      "text/plain": [
       "| 54.41s                              | 13.75            | 7071            |"
      ]
     },
     "metadata": {},
     "output_type": "display_data"
    },
    {
     "data": {
      "text/html": [
       "<pre>| 55.42s                              | 14.25            | 7309            |</pre>"
      ],
      "text/plain": [
       "| 55.42s                              | 14.25            | 7309            |"
      ]
     },
     "metadata": {},
     "output_type": "display_data"
    },
    {
     "data": {
      "text/html": [
       "<pre>| 56.41s                              | 14.5             | 7478            |</pre>"
      ],
      "text/plain": [
       "| 56.41s                              | 14.5             | 7478            |"
      ]
     },
     "metadata": {},
     "output_type": "display_data"
    },
    {
     "data": {
      "text/html": [
       "<pre>| 57.42s                              | 15               | 7656            |</pre>"
      ],
      "text/plain": [
       "| 57.42s                              | 15               | 7656            |"
      ]
     },
     "metadata": {},
     "output_type": "display_data"
    },
    {
     "data": {
      "text/html": [
       "<pre>| 58.43s                              | 15.25            | 7898            |</pre>"
      ],
      "text/plain": [
       "| 58.43s                              | 15.25            | 7898            |"
      ]
     },
     "metadata": {},
     "output_type": "display_data"
    },
    {
     "data": {
      "text/html": [
       "<pre>| 59.42s                              | 15.75            | 8065            |</pre>"
      ],
      "text/plain": [
       "| 59.42s                              | 15.75            | 8065            |"
      ]
     },
     "metadata": {},
     "output_type": "display_data"
    },
    {
     "data": {
      "text/html": [
       "<pre>| 1m 0s                               | 16               | 8229            |</pre>"
      ],
      "text/plain": [
       "| 1m 0s                               | 16               | 8229            |"
      ]
     },
     "metadata": {},
     "output_type": "display_data"
    },
    {
     "data": {
      "text/html": [
       "<pre>| 1m 1s                               | 16.5             | 8436            |</pre>"
      ],
      "text/plain": [
       "| 1m 1s                               | 16.5             | 8436            |"
      ]
     },
     "metadata": {},
     "output_type": "display_data"
    },
    {
     "data": {
      "text/html": [
       "<pre>| 1m 2s                               | 16.75            | 8640            |</pre>"
      ],
      "text/plain": [
       "| 1m 2s                               | 16.75            | 8640            |"
      ]
     },
     "metadata": {},
     "output_type": "display_data"
    },
    {
     "data": {
      "text/html": [
       "<pre>| 1m 3s                               | 17.25            | 8815            |</pre>"
      ],
      "text/plain": [
       "| 1m 3s                               | 17.25            | 8815            |"
      ]
     },
     "metadata": {},
     "output_type": "display_data"
    },
    {
     "data": {
      "text/html": [
       "<pre>| 1m 4s                               | 17.75            | 9057            |</pre>"
      ],
      "text/plain": [
       "| 1m 4s                               | 17.75            | 9057            |"
      ]
     },
     "metadata": {},
     "output_type": "display_data"
    },
    {
     "data": {
      "text/html": [
       "<pre>| 1m 5s                               | 18               | 9239            |</pre>"
      ],
      "text/plain": [
       "| 1m 5s                               | 18               | 9239            |"
      ]
     },
     "metadata": {},
     "output_type": "display_data"
    },
    {
     "data": {
      "text/html": [
       "<pre>| 1m 6s                               | 18.5             | 9443            |</pre>"
      ],
      "text/plain": [
       "| 1m 6s                               | 18.5             | 9443            |"
      ]
     },
     "metadata": {},
     "output_type": "display_data"
    },
    {
     "data": {
      "text/html": [
       "<pre>| 1m 7s                               | 18.75            | 9626            |</pre>"
      ],
      "text/plain": [
       "| 1m 7s                               | 18.75            | 9626            |"
      ]
     },
     "metadata": {},
     "output_type": "display_data"
    },
    {
     "data": {
      "text/html": [
       "<pre>| 1m 8s                               | 19.25            | 9843            |</pre>"
      ],
      "text/plain": [
       "| 1m 8s                               | 19.25            | 9843            |"
      ]
     },
     "metadata": {},
     "output_type": "display_data"
    },
    {
     "data": {
      "text/html": [
       "<pre>| 1m 9s                               | 19.5             | 10009           |</pre>"
      ],
      "text/plain": [
       "| 1m 9s                               | 19.5             | 10009           |"
      ]
     },
     "metadata": {},
     "output_type": "display_data"
    },
    {
     "data": {
      "text/html": [
       "<pre>| 1m 10s                              | 20               | 10211           |</pre>"
      ],
      "text/plain": [
       "| 1m 10s                              | 20               | 10211           |"
      ]
     },
     "metadata": {},
     "output_type": "display_data"
    },
    {
     "data": {
      "text/html": [
       "<pre>| 1m 11s                              | 20.25            | 10410           |</pre>"
      ],
      "text/plain": [
       "| 1m 11s                              | 20.25            | 10410           |"
      ]
     },
     "metadata": {},
     "output_type": "display_data"
    },
    {
     "data": {
      "text/html": [
       "<pre>| 1m 12s                              | 20.75            | 10612           |</pre>"
      ],
      "text/plain": [
       "| 1m 12s                              | 20.75            | 10612           |"
      ]
     },
     "metadata": {},
     "output_type": "display_data"
    },
    {
     "data": {
      "text/html": [
       "<pre>| 1m 13s                              | 21               | 10811           |</pre>"
      ],
      "text/plain": [
       "| 1m 13s                              | 21               | 10811           |"
      ]
     },
     "metadata": {},
     "output_type": "display_data"
    },
    {
     "data": {
      "text/html": [
       "<pre>| 1m 14s                              | 21.5             | 10989           |</pre>"
      ],
      "text/plain": [
       "| 1m 14s                              | 21.5             | 10989           |"
      ]
     },
     "metadata": {},
     "output_type": "display_data"
    },
    {
     "data": {
      "text/html": [
       "<pre>| 1m 15s                              | 21.75            | 11210           |</pre>"
      ],
      "text/plain": [
       "| 1m 15s                              | 21.75            | 11210           |"
      ]
     },
     "metadata": {},
     "output_type": "display_data"
    },
    {
     "data": {
      "text/html": [
       "<pre>| 1m 16s                              | 22.25            | 11375           |</pre>"
      ],
      "text/plain": [
       "| 1m 16s                              | 22.25            | 11375           |"
      ]
     },
     "metadata": {},
     "output_type": "display_data"
    },
    {
     "data": {
      "text/html": [
       "<pre>| 1m 17s                              | 22.5             | 11580           |</pre>"
      ],
      "text/plain": [
       "| 1m 17s                              | 22.5             | 11580           |"
      ]
     },
     "metadata": {},
     "output_type": "display_data"
    },
    {
     "data": {
      "text/html": [
       "<pre>| 1m 18s                              | 23               | 11803           |</pre>"
      ],
      "text/plain": [
       "| 1m 18s                              | 23               | 11803           |"
      ]
     },
     "metadata": {},
     "output_type": "display_data"
    },
    {
     "data": {
      "text/html": [
       "<pre>| 1m 19s                              | 23.5             | 12047           |</pre>"
      ],
      "text/plain": [
       "| 1m 19s                              | 23.5             | 12047           |"
      ]
     },
     "metadata": {},
     "output_type": "display_data"
    },
    {
     "data": {
      "text/html": [
       "<pre>| 1m 20s                              | 24               | 12259           |</pre>"
      ],
      "text/plain": [
       "| 1m 20s                              | 24               | 12259           |"
      ]
     },
     "metadata": {},
     "output_type": "display_data"
    },
    {
     "data": {
      "text/html": [
       "<pre>| 1m 21s                              | 24.25            | 12450           |</pre>"
      ],
      "text/plain": [
       "| 1m 21s                              | 24.25            | 12450           |"
      ]
     },
     "metadata": {},
     "output_type": "display_data"
    },
    {
     "data": {
      "text/html": [
       "<pre>| 1m 22s                              | 24.75            | 12659           |</pre>"
      ],
      "text/plain": [
       "| 1m 22s                              | 24.75            | 12659           |"
      ]
     },
     "metadata": {},
     "output_type": "display_data"
    },
    {
     "data": {
      "text/html": [
       "<pre>| 1m 23s                              | 25.25            | 12881           |</pre>"
      ],
      "text/plain": [
       "| 1m 23s                              | 25.25            | 12881           |"
      ]
     },
     "metadata": {},
     "output_type": "display_data"
    },
    {
     "data": {
      "text/html": [
       "<pre>| 1m 24s                              | 25.5             | 13101           |</pre>"
      ],
      "text/plain": [
       "| 1m 24s                              | 25.5             | 13101           |"
      ]
     },
     "metadata": {},
     "output_type": "display_data"
    },
    {
     "data": {
      "text/html": [
       "<pre>| 1m 25s                              | 26               | 13334           |</pre>"
      ],
      "text/plain": [
       "| 1m 25s                              | 26               | 13334           |"
      ]
     },
     "metadata": {},
     "output_type": "display_data"
    },
    {
     "data": {
      "text/html": [
       "<pre>| 1m 26s                              | 26.5             | 13525           |</pre>"
      ],
      "text/plain": [
       "| 1m 26s                              | 26.5             | 13525           |"
      ]
     },
     "metadata": {},
     "output_type": "display_data"
    },
    {
     "data": {
      "text/html": [
       "<pre>| 1m 27s                              | 26.75            | 13740           |</pre>"
      ],
      "text/plain": [
       "| 1m 27s                              | 26.75            | 13740           |"
      ]
     },
     "metadata": {},
     "output_type": "display_data"
    },
    {
     "data": {
      "text/html": [
       "<pre>| 1m 28s                              | 27.25            | 13914           |</pre>"
      ],
      "text/plain": [
       "| 1m 28s                              | 27.25            | 13914           |"
      ]
     },
     "metadata": {},
     "output_type": "display_data"
    },
    {
     "data": {
      "text/html": [
       "<pre>| 1m 29s                              | 27.5             | 14123           |</pre>"
      ],
      "text/plain": [
       "| 1m 29s                              | 27.5             | 14123           |"
      ]
     },
     "metadata": {},
     "output_type": "display_data"
    },
    {
     "data": {
      "text/html": [
       "<pre>| 1m 30s                              | 28               | 14364           |</pre>"
      ],
      "text/plain": [
       "| 1m 30s                              | 28               | 14364           |"
      ]
     },
     "metadata": {},
     "output_type": "display_data"
    },
    {
     "data": {
      "text/html": [
       "<pre>| 1m 31s                              | 28.5             | 14553           |</pre>"
      ],
      "text/plain": [
       "| 1m 31s                              | 28.5             | 14553           |"
      ]
     },
     "metadata": {},
     "output_type": "display_data"
    },
    {
     "data": {
      "text/html": [
       "<pre>| 1m 32s                              | 28.75            | 14754           |</pre>"
      ],
      "text/plain": [
       "| 1m 32s                              | 28.75            | 14754           |"
      ]
     },
     "metadata": {},
     "output_type": "display_data"
    },
    {
     "data": {
      "text/html": [
       "<pre>| 1m 33s                              | 29.25            | 14956           |</pre>"
      ],
      "text/plain": [
       "| 1m 33s                              | 29.25            | 14956           |"
      ]
     },
     "metadata": {},
     "output_type": "display_data"
    },
    {
     "data": {
      "text/html": [
       "<pre>| 1m 34s                              | 29.75            | 15173           |</pre>"
      ],
      "text/plain": [
       "| 1m 34s                              | 29.75            | 15173           |"
      ]
     },
     "metadata": {},
     "output_type": "display_data"
    },
    {
     "data": {
      "text/html": [
       "<pre>| 1m 35s                              | 30               | 15384           |</pre>"
      ],
      "text/plain": [
       "| 1m 35s                              | 30               | 15384           |"
      ]
     },
     "metadata": {},
     "output_type": "display_data"
    },
    {
     "data": {
      "text/html": [
       "<pre>| 1m 36s                              | 30.5             | 15596           |</pre>"
      ],
      "text/plain": [
       "| 1m 36s                              | 30.5             | 15596           |"
      ]
     },
     "metadata": {},
     "output_type": "display_data"
    },
    {
     "data": {
      "text/html": [
       "<pre>| 1m 37s                              | 31               | 15824           |</pre>"
      ],
      "text/plain": [
       "| 1m 37s                              | 31               | 15824           |"
      ]
     },
     "metadata": {},
     "output_type": "display_data"
    },
    {
     "data": {
      "text/html": [
       "<pre>| 1m 38s                              | 31.25            | 16032           |</pre>"
      ],
      "text/plain": [
       "| 1m 38s                              | 31.25            | 16032           |"
      ]
     },
     "metadata": {},
     "output_type": "display_data"
    },
    {
     "data": {
      "text/html": [
       "<pre>| 1m 39s                              | 31.75            | 16245           |</pre>"
      ],
      "text/plain": [
       "| 1m 39s                              | 31.75            | 16245           |"
      ]
     },
     "metadata": {},
     "output_type": "display_data"
    },
    {
     "data": {
      "text/html": [
       "<pre>| 1m 40s                              | 32.25            | 16449           |</pre>"
      ],
      "text/plain": [
       "| 1m 40s                              | 32.25            | 16449           |"
      ]
     },
     "metadata": {},
     "output_type": "display_data"
    },
    {
     "data": {
      "text/html": [
       "<pre>| 1m 41s                              | 32.5             | 16645           |</pre>"
      ],
      "text/plain": [
       "| 1m 41s                              | 32.5             | 16645           |"
      ]
     },
     "metadata": {},
     "output_type": "display_data"
    },
    {
     "data": {
      "text/html": [
       "<pre>| 1m 42s                              | 33               | 16862           |</pre>"
      ],
      "text/plain": [
       "| 1m 42s                              | 33               | 16862           |"
      ]
     },
     "metadata": {},
     "output_type": "display_data"
    },
    {
     "data": {
      "text/html": [
       "<pre>| 1m 43s                              | 33.5             | 17091           |</pre>"
      ],
      "text/plain": [
       "| 1m 43s                              | 33.5             | 17091           |"
      ]
     },
     "metadata": {},
     "output_type": "display_data"
    },
    {
     "data": {
      "text/html": [
       "<pre>| 1m 44s                              | 33.75            | 17295           |</pre>"
      ],
      "text/plain": [
       "| 1m 44s                              | 33.75            | 17295           |"
      ]
     },
     "metadata": {},
     "output_type": "display_data"
    },
    {
     "data": {
      "text/html": [
       "<pre>| 1m 45s                              | 34.25            | 17516           |</pre>"
      ],
      "text/plain": [
       "| 1m 45s                              | 34.25            | 17516           |"
      ]
     },
     "metadata": {},
     "output_type": "display_data"
    },
    {
     "data": {
      "text/html": [
       "<pre>| 1m 46s                              | 34.75            | 17732           |</pre>"
      ],
      "text/plain": [
       "| 1m 46s                              | 34.75            | 17732           |"
      ]
     },
     "metadata": {},
     "output_type": "display_data"
    },
    {
     "data": {
      "text/html": [
       "<pre>| 1m 47s                              | 35.25            | 17967           |</pre>"
      ],
      "text/plain": [
       "| 1m 47s                              | 35.25            | 17967           |"
      ]
     },
     "metadata": {},
     "output_type": "display_data"
    },
    {
     "data": {
      "text/html": [
       "<pre>| 1m 48s                              | 35.5             | 18153           |</pre>"
      ],
      "text/plain": [
       "| 1m 48s                              | 35.5             | 18153           |"
      ]
     },
     "metadata": {},
     "output_type": "display_data"
    },
    {
     "data": {
      "text/html": [
       "<pre>| 1m 49s                              | 35.75            | 18343           |</pre>"
      ],
      "text/plain": [
       "| 1m 49s                              | 35.75            | 18343           |"
      ]
     },
     "metadata": {},
     "output_type": "display_data"
    },
    {
     "data": {
      "text/html": [
       "<pre>| 1m 50s                              | 36.25            | 18553           |</pre>"
      ],
      "text/plain": [
       "| 1m 50s                              | 36.25            | 18553           |"
      ]
     },
     "metadata": {},
     "output_type": "display_data"
    },
    {
     "data": {
      "text/html": [
       "<pre>| 1m 51s                              | 36.75            | 18776           |</pre>"
      ],
      "text/plain": [
       "| 1m 51s                              | 36.75            | 18776           |"
      ]
     },
     "metadata": {},
     "output_type": "display_data"
    },
    {
     "data": {
      "text/html": [
       "<pre>| 1m 52s                              | 37               | 18976           |</pre>"
      ],
      "text/plain": [
       "| 1m 52s                              | 37               | 18976           |"
      ]
     },
     "metadata": {},
     "output_type": "display_data"
    },
    {
     "data": {
      "text/html": [
       "<pre>| 1m 53s                              | 37.5             | 19178           |</pre>"
      ],
      "text/plain": [
       "| 1m 53s                              | 37.5             | 19178           |"
      ]
     },
     "metadata": {},
     "output_type": "display_data"
    },
    {
     "data": {
      "text/html": [
       "<pre>| 1m 54s                              | 38               | 19405           |</pre>"
      ],
      "text/plain": [
       "| 1m 54s                              | 38               | 19405           |"
      ]
     },
     "metadata": {},
     "output_type": "display_data"
    },
    {
     "data": {
      "text/html": [
       "<pre>| 1m 55s                              | 38.5             | 19640           |</pre>"
      ],
      "text/plain": [
       "| 1m 55s                              | 38.5             | 19640           |"
      ]
     },
     "metadata": {},
     "output_type": "display_data"
    },
    {
     "data": {
      "text/html": [
       "<pre>| 1m 56s                              | 38.75            | 19859           |</pre>"
      ],
      "text/plain": [
       "| 1m 56s                              | 38.75            | 19859           |"
      ]
     },
     "metadata": {},
     "output_type": "display_data"
    },
    {
     "data": {
      "text/html": [
       "<pre>| 1m 57s                              | 39.25            | 20070           |</pre>"
      ],
      "text/plain": [
       "| 1m 57s                              | 39.25            | 20070           |"
      ]
     },
     "metadata": {},
     "output_type": "display_data"
    },
    {
     "data": {
      "text/html": [
       "<pre>| 1m 58s                              | 39.75            | 20285           |</pre>"
      ],
      "text/plain": [
       "| 1m 58s                              | 39.75            | 20285           |"
      ]
     },
     "metadata": {},
     "output_type": "display_data"
    },
    {
     "data": {
      "text/html": [
       "<pre>| 1m 59s                              | 40               | 20503           |</pre>"
      ],
      "text/plain": [
       "| 1m 59s                              | 40               | 20503           |"
      ]
     },
     "metadata": {},
     "output_type": "display_data"
    },
    {
     "data": {
      "text/html": [
       "<pre>| 2m 0s                               | 40.5             | 20721           |</pre>"
      ],
      "text/plain": [
       "| 2m 0s                               | 40.5             | 20721           |"
      ]
     },
     "metadata": {},
     "output_type": "display_data"
    },
    {
     "data": {
      "text/html": [
       "<pre>| 2m 1s                               | 41               | 20948           |</pre>"
      ],
      "text/plain": [
       "| 2m 1s                               | 41               | 20948           |"
      ]
     },
     "metadata": {},
     "output_type": "display_data"
    },
    {
     "data": {
      "text/html": [
       "<pre>| 2m 2s                               | 41.5             | 21161           |</pre>"
      ],
      "text/plain": [
       "| 2m 2s                               | 41.5             | 21161           |"
      ]
     },
     "metadata": {},
     "output_type": "display_data"
    },
    {
     "data": {
      "text/html": [
       "<pre>| 2m 3s                               | 41.75            | 21359           |</pre>"
      ],
      "text/plain": [
       "| 2m 3s                               | 41.75            | 21359           |"
      ]
     },
     "metadata": {},
     "output_type": "display_data"
    },
    {
     "data": {
      "text/html": [
       "<pre>| 2m 4s                               | 42.25            | 21583           |</pre>"
      ],
      "text/plain": [
       "| 2m 4s                               | 42.25            | 21583           |"
      ]
     },
     "metadata": {},
     "output_type": "display_data"
    },
    {
     "data": {
      "text/html": [
       "<pre>| 2m 5s                               | 42.75            | 21800           |</pre>"
      ],
      "text/plain": [
       "| 2m 5s                               | 42.75            | 21800           |"
      ]
     },
     "metadata": {},
     "output_type": "display_data"
    },
    {
     "data": {
      "text/html": [
       "<pre>| 2m 6s                               | 43               | 21970           |</pre>"
      ],
      "text/plain": [
       "| 2m 6s                               | 43               | 21970           |"
      ]
     },
     "metadata": {},
     "output_type": "display_data"
    },
    {
     "data": {
      "text/html": [
       "<pre>| 2m 7s                               | 43.5             | 22201           |</pre>"
      ],
      "text/plain": [
       "| 2m 7s                               | 43.5             | 22201           |"
      ]
     },
     "metadata": {},
     "output_type": "display_data"
    },
    {
     "data": {
      "text/html": [
       "<pre>| 2m 8s                               | 44               | 22432           |</pre>"
      ],
      "text/plain": [
       "| 2m 8s                               | 44               | 22432           |"
      ]
     },
     "metadata": {},
     "output_type": "display_data"
    },
    {
     "data": {
      "text/html": [
       "<pre>| 2m 9s                               | 44.25            | 22643           |</pre>"
      ],
      "text/plain": [
       "| 2m 9s                               | 44.25            | 22643           |"
      ]
     },
     "metadata": {},
     "output_type": "display_data"
    },
    {
     "data": {
      "text/html": [
       "<pre>| 2m 10s                              | 44.75            | 22867           |</pre>"
      ],
      "text/plain": [
       "| 2m 10s                              | 44.75            | 22867           |"
      ]
     },
     "metadata": {},
     "output_type": "display_data"
    },
    {
     "data": {
      "text/html": [
       "<pre>| 2m 11s                              | 45.25            | 23088           |</pre>"
      ],
      "text/plain": [
       "| 2m 11s                              | 45.25            | 23088           |"
      ]
     },
     "metadata": {},
     "output_type": "display_data"
    },
    {
     "data": {
      "text/html": [
       "<pre>| 2m 12s                              | 45.5             | 23304           |</pre>"
      ],
      "text/plain": [
       "| 2m 12s                              | 45.5             | 23304           |"
      ]
     },
     "metadata": {},
     "output_type": "display_data"
    },
    {
     "data": {
      "text/html": [
       "<pre>| 2m 13s                              | 46               | 23509           |</pre>"
      ],
      "text/plain": [
       "| 2m 13s                              | 46               | 23509           |"
      ]
     },
     "metadata": {},
     "output_type": "display_data"
    },
    {
     "data": {
      "text/html": [
       "<pre>| 2m 14s                              | 46.5             | 23715           |</pre>"
      ],
      "text/plain": [
       "| 2m 14s                              | 46.5             | 23715           |"
      ]
     },
     "metadata": {},
     "output_type": "display_data"
    },
    {
     "data": {
      "text/html": [
       "<pre>| 2m 15s                              | 46.75            | 23936           |</pre>"
      ],
      "text/plain": [
       "| 2m 15s                              | 46.75            | 23936           |"
      ]
     },
     "metadata": {},
     "output_type": "display_data"
    },
    {
     "data": {
      "text/html": [
       "<pre>| 2m 16s                              | 47.25            | 24151           |</pre>"
      ],
      "text/plain": [
       "| 2m 16s                              | 47.25            | 24151           |"
      ]
     },
     "metadata": {},
     "output_type": "display_data"
    },
    {
     "data": {
      "text/html": [
       "<pre>| 2m 17s                              | 47.75            | 24362           |</pre>"
      ],
      "text/plain": [
       "| 2m 17s                              | 47.75            | 24362           |"
      ]
     },
     "metadata": {},
     "output_type": "display_data"
    },
    {
     "data": {
      "text/html": [
       "<pre>| 2m 18s                              | 48               | 24576           |</pre>"
      ],
      "text/plain": [
       "| 2m 18s                              | 48               | 24576           |"
      ]
     },
     "metadata": {},
     "output_type": "display_data"
    },
    {
     "data": {
      "text/html": [
       "<pre>| 2m 19s                              | 48.5             | 24786           |</pre>"
      ],
      "text/plain": [
       "| 2m 19s                              | 48.5             | 24786           |"
      ]
     },
     "metadata": {},
     "output_type": "display_data"
    },
    {
     "data": {
      "text/html": [
       "<pre>| 2m 20s                              | 49               | 24985           |</pre>"
      ],
      "text/plain": [
       "| 2m 20s                              | 49               | 24985           |"
      ]
     },
     "metadata": {},
     "output_type": "display_data"
    },
    {
     "data": {
      "text/html": [
       "<pre>| 2m 21s                              | 49.25            | 25187           |</pre>"
      ],
      "text/plain": [
       "| 2m 21s                              | 49.25            | 25187           |"
      ]
     },
     "metadata": {},
     "output_type": "display_data"
    },
    {
     "data": {
      "text/html": [
       "<pre>| 2m 22s                              | 49.75            | 25378           |</pre>"
      ],
      "text/plain": [
       "| 2m 22s                              | 49.75            | 25378           |"
      ]
     },
     "metadata": {},
     "output_type": "display_data"
    },
    {
     "data": {
      "text/html": [
       "<pre>| 2m 53s                              | 49.75            | 25480           |</pre>"
      ],
      "text/plain": [
       "| 2m 53s                              | 49.75            | 25480           |"
      ]
     },
     "metadata": {},
     "output_type": "display_data"
    },
    {
     "data": {
      "text/html": [
       "<pre>| 2m 57s                              | 100              | 50967           |</pre>"
      ],
      "text/plain": [
       "| 2m 57s                              | 100              | 50967           |"
      ]
     },
     "metadata": {},
     "output_type": "display_data"
    },
    {
     "data": {
      "text/html": [
       "<pre>+-------------------------------------+------------------+-----------------+</pre>"
      ],
      "text/plain": [
       "+-------------------------------------+------------------+-----------------+"
      ]
     },
     "metadata": {},
     "output_type": "display_data"
    },
    {
     "data": {
      "text/html": [
       "<pre>Finalizing lookup tables.</pre>"
      ],
      "text/plain": [
       "Finalizing lookup tables."
      ]
     },
     "metadata": {},
     "output_type": "display_data"
    },
    {
     "data": {
      "text/html": [
       "<pre>Generating candidate set for working with new users.</pre>"
      ],
      "text/plain": [
       "Generating candidate set for working with new users."
      ]
     },
     "metadata": {},
     "output_type": "display_data"
    },
    {
     "data": {
      "text/html": [
       "<pre>Finished training in 179.726s</pre>"
      ],
      "text/plain": [
       "Finished training in 179.726s"
      ]
     },
     "metadata": {},
     "output_type": "display_data"
    }
   ],
   "source": [
    "item_similarity_model = graphlab.item_similarity_recommender.create(train_data, user_id='userId', item_id='movieId', target='rating', similarity_type='pearson')"
   ]
  },
  {
   "cell_type": "code",
   "execution_count": 10,
   "metadata": {
    "collapsed": false
   },
   "outputs": [
    {
     "name": "stdout",
     "output_type": "stream",
     "text": [
      "('\\nOverall RMSE: ', 0.9651774138055909)\n",
      "\n",
      "Per User RMSE (best)\n",
      "+--------+-------+-------------------+\n",
      "| userId | count |        rmse       |\n",
      "+--------+-------+-------------------+\n",
      "| 92007  |   1   | 0.000158881474419 |\n",
      "+--------+-------+-------------------+\n",
      "[1 rows x 3 columns]\n",
      "\n",
      "\n",
      "Per User RMSE (worst)\n",
      "+--------+-------+------+\n",
      "| userId | count | rmse |\n",
      "+--------+-------+------+\n",
      "| 89356  |   1   | 5.0  |\n",
      "+--------+-------+------+\n",
      "[1 rows x 3 columns]\n",
      "\n",
      "\n",
      "Per Item RMSE (best)\n",
      "+---------+-------+------+\n",
      "| movieId | count | rmse |\n",
      "+---------+-------+------+\n",
      "|  190611 |   1   | 0.0  |\n",
      "+---------+-------+------+\n",
      "[1 rows x 3 columns]\n",
      "\n",
      "\n",
      "Per Item RMSE (worst)\n",
      "+---------+-------+------+\n",
      "| movieId | count | rmse |\n",
      "+---------+-------+------+\n",
      "|  188377 |   1   | 5.0  |\n",
      "+---------+-------+------+\n",
      "[1 rows x 3 columns]\n",
      "\n"
     ]
    },
    {
     "data": {
      "text/plain": [
       "{'rmse_by_item': Columns:\n",
       " \tmovieId\tint\n",
       " \tcount\tint\n",
       " \trmse\tfloat\n",
       " \n",
       " Rows: 38897\n",
       " \n",
       " Data:\n",
       " +---------+-------+-----------------+\n",
       " | movieId | count |       rmse      |\n",
       " +---------+-------+-----------------+\n",
       " |   7899  |   41  |  0.815987967809 |\n",
       " |  144280 |   2   | 0.0909079746554 |\n",
       " |  101076 |  233  |  1.13014636985  |\n",
       " |  27112  |   14  |  1.03001215502  |\n",
       " |   5288  |  166  |  0.814661998363 |\n",
       " |  103306 |  208  |  0.935154442797 |\n",
       " |  179149 |   1   |       2.0       |\n",
       " |  171625 |   1   |       1.0       |\n",
       " |  88069  |   15  |  1.35698334866  |\n",
       " |  61406  |   98  |  0.968161222757 |\n",
       " +---------+-------+-----------------+\n",
       " [38897 rows x 3 columns]\n",
       " Note: Only the head of the SFrame is printed.\n",
       " You can use print_rows(num_rows=m, num_columns=n) to print more rows and columns.,\n",
       " 'rmse_by_user': Columns:\n",
       " \tuserId\tint\n",
       " \tcount\tint\n",
       " \trmse\tfloat\n",
       " \n",
       " Rows: 268971\n",
       " \n",
       " Data:\n",
       " +--------+-------+----------------+\n",
       " | userId | count |      rmse      |\n",
       " +--------+-------+----------------+\n",
       " | 251434 |   3   | 0.889344520485 |\n",
       " | 233270 |   4   | 0.572730771642 |\n",
       " | 88004  |   1   | 0.603746397695 |\n",
       " | 79732  |   4   | 0.445253930946 |\n",
       " | 63664  |   56  | 0.667403746631 |\n",
       " | 127950 |   66  | 1.01572324726  |\n",
       " |  7899  |   3   | 1.26915816328  |\n",
       " | 25263  |   2   | 0.311983793182 |\n",
       " | 130872 |   13  | 1.61638408617  |\n",
       " | 208837 |   7   | 0.519236641687 |\n",
       " +--------+-------+----------------+\n",
       " [268971 rows x 3 columns]\n",
       " Note: Only the head of the SFrame is printed.\n",
       " You can use print_rows(num_rows=m, num_columns=n) to print more rows and columns.,\n",
       " 'rmse_overall': 0.9651774138055909}"
      ]
     },
     "execution_count": 10,
     "metadata": {},
     "output_type": "execute_result"
    }
   ],
   "source": [
    "# RMSE Evaluation\n",
    "item_similarity_model.evaluate(test_data,metric='rmse')"
   ]
  },
  {
   "cell_type": "code",
   "execution_count": 11,
   "metadata": {
    "collapsed": false
   },
   "outputs": [
    {
     "name": "stdout",
     "output_type": "stream",
     "text": [
      "+--------+---------+-------+------+\n",
      "| userId | movieId | score | rank |\n",
      "+--------+---------+-------+------+\n",
      "|   1    |  166425 |  5.0  |  1   |\n",
      "|   1    |  136878 |  5.0  |  2   |\n",
      "|   1    |  163685 |  5.0  |  3   |\n",
      "|   1    |  121503 |  5.0  |  4   |\n",
      "|   1    |  150766 |  5.0  |  5   |\n",
      "|   2    |  166425 |  5.0  |  1   |\n",
      "|   2    |  136878 |  5.0  |  2   |\n",
      "|   2    |  163685 |  5.0  |  3   |\n",
      "|   2    |  121503 |  5.0  |  4   |\n",
      "|   2    |  150766 |  5.0  |  5   |\n",
      "|   3    |  166425 |  5.0  |  1   |\n",
      "|   3    |  136878 |  5.0  |  2   |\n",
      "|   3    |  163685 |  5.0  |  3   |\n",
      "|   3    |  121503 |  5.0  |  4   |\n",
      "|   3    |  150766 |  5.0  |  5   |\n",
      "|   4    |  166425 |  5.0  |  1   |\n",
      "|   4    |  136878 |  5.0  |  2   |\n",
      "|   4    |  163685 |  5.0  |  3   |\n",
      "|   4    |  121503 |  5.0  |  4   |\n",
      "|   4    |  150766 |  5.0  |  5   |\n",
      "|   5    |  166425 |  5.0  |  1   |\n",
      "|   5    |  136878 |  5.0  |  2   |\n",
      "|   5    |  163685 |  5.0  |  3   |\n",
      "|   5    |  121503 |  5.0  |  4   |\n",
      "|   5    |  150766 |  5.0  |  5   |\n",
      "+--------+---------+-------+------+\n",
      "[25 rows x 4 columns]\n",
      "\n"
     ]
    }
   ],
   "source": [
    "item_sim_recommendation = item_similarity_model.recommend(users=range(1,6),k=5)\n",
    "item_sim_recommendation.print_rows(num_rows=25)"
   ]
  },
  {
   "cell_type": "code",
   "execution_count": null,
   "metadata": {
    "collapsed": true
   },
   "outputs": [],
   "source": []
  }
 ],
 "metadata": {
  "kernelspec": {
   "display_name": "Python 2",
   "language": "python",
   "name": "python2"
  },
  "language_info": {
   "codemirror_mode": {
    "name": "ipython",
    "version": 2
   },
   "file_extension": ".py",
   "mimetype": "text/x-python",
   "name": "python",
   "nbconvert_exporter": "python",
   "pygments_lexer": "ipython2",
   "version": "2.7.11"
  }
 },
 "nbformat": 4,
 "nbformat_minor": 2
}
