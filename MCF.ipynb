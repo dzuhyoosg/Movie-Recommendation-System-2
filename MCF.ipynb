{
 "cells": [
  {
   "cell_type": "code",
   "execution_count": 1,
   "metadata": {
    "collapsed": true
   },
   "outputs": [],
   "source": [
    "import pandas as pd\n",
    "items = pd.read_csv('ml-latest/movies.csv', encoding='latin-1')"
   ]
  },
  {
   "cell_type": "code",
   "execution_count": 2,
   "metadata": {
    "collapsed": false
   },
   "outputs": [
    {
     "name": "stdout",
     "output_type": "stream",
     "text": [
      "(58098, 3)\n"
     ]
    },
    {
     "data": {
      "text/html": [
       "<div>\n",
       "<table border=\"1\" class=\"dataframe\">\n",
       "  <thead>\n",
       "    <tr style=\"text-align: right;\">\n",
       "      <th></th>\n",
       "      <th>movieId</th>\n",
       "      <th>title</th>\n",
       "      <th>genres</th>\n",
       "    </tr>\n",
       "  </thead>\n",
       "  <tbody>\n",
       "    <tr>\n",
       "      <th>0</th>\n",
       "      <td>1</td>\n",
       "      <td>Toy Story (1995)</td>\n",
       "      <td>Adventure|Animation|Children|Comedy|Fantasy</td>\n",
       "    </tr>\n",
       "    <tr>\n",
       "      <th>1</th>\n",
       "      <td>2</td>\n",
       "      <td>Jumanji (1995)</td>\n",
       "      <td>Adventure|Children|Fantasy</td>\n",
       "    </tr>\n",
       "    <tr>\n",
       "      <th>2</th>\n",
       "      <td>3</td>\n",
       "      <td>Grumpier Old Men (1995)</td>\n",
       "      <td>Comedy|Romance</td>\n",
       "    </tr>\n",
       "    <tr>\n",
       "      <th>3</th>\n",
       "      <td>4</td>\n",
       "      <td>Waiting to Exhale (1995)</td>\n",
       "      <td>Comedy|Drama|Romance</td>\n",
       "    </tr>\n",
       "    <tr>\n",
       "      <th>4</th>\n",
       "      <td>5</td>\n",
       "      <td>Father of the Bride Part II (1995)</td>\n",
       "      <td>Comedy</td>\n",
       "    </tr>\n",
       "  </tbody>\n",
       "</table>\n",
       "</div>"
      ],
      "text/plain": [
       "   movieId                               title  \\\n",
       "0        1                    Toy Story (1995)   \n",
       "1        2                      Jumanji (1995)   \n",
       "2        3             Grumpier Old Men (1995)   \n",
       "3        4            Waiting to Exhale (1995)   \n",
       "4        5  Father of the Bride Part II (1995)   \n",
       "\n",
       "                                        genres  \n",
       "0  Adventure|Animation|Children|Comedy|Fantasy  \n",
       "1                   Adventure|Children|Fantasy  \n",
       "2                               Comedy|Romance  \n",
       "3                         Comedy|Drama|Romance  \n",
       "4                                       Comedy  "
      ]
     },
     "execution_count": 2,
     "metadata": {},
     "output_type": "execute_result"
    }
   ],
   "source": [
    "print (items.shape)\n",
    "items.head()"
   ]
  },
  {
   "cell_type": "code",
   "execution_count": 3,
   "metadata": {
    "collapsed": false
   },
   "outputs": [
    {
     "data": {
      "text/html": [
       "<div>\n",
       "<table border=\"1\" class=\"dataframe\">\n",
       "  <thead>\n",
       "    <tr style=\"text-align: right;\">\n",
       "      <th></th>\n",
       "      <th>userId</th>\n",
       "      <th>movieId</th>\n",
       "      <th>rating</th>\n",
       "      <th>timestamp</th>\n",
       "    </tr>\n",
       "  </thead>\n",
       "  <tbody>\n",
       "    <tr>\n",
       "      <th>0</th>\n",
       "      <td>1</td>\n",
       "      <td>307</td>\n",
       "      <td>3.5</td>\n",
       "      <td>1256677221</td>\n",
       "    </tr>\n",
       "    <tr>\n",
       "      <th>1</th>\n",
       "      <td>1</td>\n",
       "      <td>481</td>\n",
       "      <td>3.5</td>\n",
       "      <td>1256677456</td>\n",
       "    </tr>\n",
       "    <tr>\n",
       "      <th>2</th>\n",
       "      <td>1</td>\n",
       "      <td>1091</td>\n",
       "      <td>1.5</td>\n",
       "      <td>1256677471</td>\n",
       "    </tr>\n",
       "    <tr>\n",
       "      <th>3</th>\n",
       "      <td>1</td>\n",
       "      <td>1257</td>\n",
       "      <td>4.5</td>\n",
       "      <td>1256677460</td>\n",
       "    </tr>\n",
       "    <tr>\n",
       "      <th>4</th>\n",
       "      <td>1</td>\n",
       "      <td>1449</td>\n",
       "      <td>4.5</td>\n",
       "      <td>1256677264</td>\n",
       "    </tr>\n",
       "  </tbody>\n",
       "</table>\n",
       "</div>"
      ],
      "text/plain": [
       "   userId  movieId  rating   timestamp\n",
       "0       1      307     3.5  1256677221\n",
       "1       1      481     3.5  1256677456\n",
       "2       1     1091     1.5  1256677471\n",
       "3       1     1257     4.5  1256677460\n",
       "4       1     1449     4.5  1256677264"
      ]
     },
     "execution_count": 3,
     "metadata": {},
     "output_type": "execute_result"
    }
   ],
   "source": [
    "ratings = pd.read_csv('ml-latest/ratings.csv', encoding='latin-1')\n",
    "ratings.head()"
   ]
  },
  {
   "cell_type": "code",
   "execution_count": 4,
   "metadata": {
    "collapsed": false
   },
   "outputs": [
    {
     "name": "stdout",
     "output_type": "stream",
     "text": [
      "283228\n",
      "53889\n"
     ]
    }
   ],
   "source": [
    "number_of_users = ratings.userId.unique().shape[0]\n",
    "number_of_items = ratings.movieId.unique().shape[0]\n",
    "print (number_of_users)\n",
    "print (number_of_items)"
   ]
  },
  {
   "cell_type": "code",
   "execution_count": 5,
   "metadata": {
    "collapsed": true
   },
   "outputs": [],
   "source": [
    "from sklearn import cross_validation\n",
    "training_set, testing_set = cross_validation.train_test_split(ratings,test_size=0.25)"
   ]
  },
  {
   "cell_type": "code",
   "execution_count": 6,
   "metadata": {
    "collapsed": false
   },
   "outputs": [
    {
     "name": "stderr",
     "output_type": "stream",
     "text": [
      "[INFO] graphlab.cython.cy_server: GraphLab Create v2.1 started. Logging: /tmp/graphlab_server_1543268347.log\n"
     ]
    },
    {
     "name": "stdout",
     "output_type": "stream",
     "text": [
      "This non-commercial license of GraphLab Create for academic use is assigned to zsong10@u.rochester.edu and will expire on November 25, 2019.\n"
     ]
    }
   ],
   "source": [
    "import graphlab\n",
    "train_data = graphlab.SFrame(training_set)\n",
    "test_data = graphlab.SFrame(testing_set)"
   ]
  },
  {
   "cell_type": "code",
   "execution_count": 7,
   "metadata": {
    "collapsed": false
   },
   "outputs": [
    {
     "data": {
      "text/html": [
       "<pre>Recsys training: model = item_similarity</pre>"
      ],
      "text/plain": [
       "Recsys training: model = item_similarity"
      ]
     },
     "metadata": {},
     "output_type": "display_data"
    },
    {
     "data": {
      "text/html": [
       "<pre>Warning: Ignoring columns timestamp;</pre>"
      ],
      "text/plain": [
       "Warning: Ignoring columns timestamp;"
      ]
     },
     "metadata": {},
     "output_type": "display_data"
    },
    {
     "data": {
      "text/html": [
       "<pre>    To use these columns in scoring predictions, use a model that allows the use of additional features.</pre>"
      ],
      "text/plain": [
       "    To use these columns in scoring predictions, use a model that allows the use of additional features."
      ]
     },
     "metadata": {},
     "output_type": "display_data"
    },
    {
     "data": {
      "text/html": [
       "<pre>Preparing data set.</pre>"
      ],
      "text/plain": [
       "Preparing data set."
      ]
     },
     "metadata": {},
     "output_type": "display_data"
    },
    {
     "data": {
      "text/html": [
       "<pre>    Data has 20815083 observations with 281499 users and 50927 items.</pre>"
      ],
      "text/plain": [
       "    Data has 20815083 observations with 281499 users and 50927 items."
      ]
     },
     "metadata": {},
     "output_type": "display_data"
    },
    {
     "data": {
      "text/html": [
       "<pre>    Data prepared in: 18.7761s</pre>"
      ],
      "text/plain": [
       "    Data prepared in: 18.7761s"
      ]
     },
     "metadata": {},
     "output_type": "display_data"
    },
    {
     "data": {
      "text/html": [
       "<pre>Training model from provided data.</pre>"
      ],
      "text/plain": [
       "Training model from provided data."
      ]
     },
     "metadata": {},
     "output_type": "display_data"
    },
    {
     "data": {
      "text/html": [
       "<pre>Gathering per-item and per-user statistics.</pre>"
      ],
      "text/plain": [
       "Gathering per-item and per-user statistics."
      ]
     },
     "metadata": {},
     "output_type": "display_data"
    },
    {
     "data": {
      "text/html": [
       "<pre>+--------------------------------+------------+</pre>"
      ],
      "text/plain": [
       "+--------------------------------+------------+"
      ]
     },
     "metadata": {},
     "output_type": "display_data"
    },
    {
     "data": {
      "text/html": [
       "<pre>| Elapsed Time (Item Statistics) | % Complete |</pre>"
      ],
      "text/plain": [
       "| Elapsed Time (Item Statistics) | % Complete |"
      ]
     },
     "metadata": {},
     "output_type": "display_data"
    },
    {
     "data": {
      "text/html": [
       "<pre>+--------------------------------+------------+</pre>"
      ],
      "text/plain": [
       "+--------------------------------+------------+"
      ]
     },
     "metadata": {},
     "output_type": "display_data"
    },
    {
     "data": {
      "text/html": [
       "<pre>| 24.843ms                       | 0.25       |</pre>"
      ],
      "text/plain": [
       "| 24.843ms                       | 0.25       |"
      ]
     },
     "metadata": {},
     "output_type": "display_data"
    },
    {
     "data": {
      "text/html": [
       "<pre>| 894.26ms                       | 100        |</pre>"
      ],
      "text/plain": [
       "| 894.26ms                       | 100        |"
      ]
     },
     "metadata": {},
     "output_type": "display_data"
    },
    {
     "data": {
      "text/html": [
       "<pre>+--------------------------------+------------+</pre>"
      ],
      "text/plain": [
       "+--------------------------------+------------+"
      ]
     },
     "metadata": {},
     "output_type": "display_data"
    },
    {
     "data": {
      "text/html": [
       "<pre>Setting up lookup tables.</pre>"
      ],
      "text/plain": [
       "Setting up lookup tables."
      ]
     },
     "metadata": {},
     "output_type": "display_data"
    },
    {
     "data": {
      "text/html": [
       "<pre>Processing data in 2 passes using dense lookup tables.</pre>"
      ],
      "text/plain": [
       "Processing data in 2 passes using dense lookup tables."
      ]
     },
     "metadata": {},
     "output_type": "display_data"
    },
    {
     "data": {
      "text/html": [
       "<pre>+-------------------------------------+------------------+-----------------+</pre>"
      ],
      "text/plain": [
       "+-------------------------------------+------------------+-----------------+"
      ]
     },
     "metadata": {},
     "output_type": "display_data"
    },
    {
     "data": {
      "text/html": [
       "<pre>| Elapsed Time (Constructing Lookups) | Total % Complete | Items Processed |</pre>"
      ],
      "text/plain": [
       "| Elapsed Time (Constructing Lookups) | Total % Complete | Items Processed |"
      ]
     },
     "metadata": {},
     "output_type": "display_data"
    },
    {
     "data": {
      "text/html": [
       "<pre>+-------------------------------------+------------------+-----------------+</pre>"
      ],
      "text/plain": [
       "+-------------------------------------+------------------+-----------------+"
      ]
     },
     "metadata": {},
     "output_type": "display_data"
    },
    {
     "data": {
      "text/html": [
       "<pre>| 8.77s                               | 0                | 0               |</pre>"
      ],
      "text/plain": [
       "| 8.77s                               | 0                | 0               |"
      ]
     },
     "metadata": {},
     "output_type": "display_data"
    },
    {
     "data": {
      "text/html": [
       "<pre>| 9.81s                               | 0                | 59              |</pre>"
      ],
      "text/plain": [
       "| 9.81s                               | 0                | 59              |"
      ]
     },
     "metadata": {},
     "output_type": "display_data"
    },
    {
     "data": {
      "text/html": [
       "<pre>| 10.80s                              | 0                | 113             |</pre>"
      ],
      "text/plain": [
       "| 10.80s                              | 0                | 113             |"
      ]
     },
     "metadata": {},
     "output_type": "display_data"
    },
    {
     "data": {
      "text/html": [
       "<pre>| 11.81s                              | 0.25             | 152             |</pre>"
      ],
      "text/plain": [
       "| 11.81s                              | 0.25             | 152             |"
      ]
     },
     "metadata": {},
     "output_type": "display_data"
    },
    {
     "data": {
      "text/html": [
       "<pre>| 12.79s                              | 0.25             | 253             |</pre>"
      ],
      "text/plain": [
       "| 12.79s                              | 0.25             | 253             |"
      ]
     },
     "metadata": {},
     "output_type": "display_data"
    },
    {
     "data": {
      "text/html": [
       "<pre>| 13.82s                              | 0.5              | 311             |</pre>"
      ],
      "text/plain": [
       "| 13.82s                              | 0.5              | 311             |"
      ]
     },
     "metadata": {},
     "output_type": "display_data"
    },
    {
     "data": {
      "text/html": [
       "<pre>| 14.84s                              | 1                | 575             |</pre>"
      ],
      "text/plain": [
       "| 14.84s                              | 1                | 575             |"
      ]
     },
     "metadata": {},
     "output_type": "display_data"
    },
    {
     "data": {
      "text/html": [
       "<pre>| 15.81s                              | 1                | 616             |</pre>"
      ],
      "text/plain": [
       "| 15.81s                              | 1                | 616             |"
      ]
     },
     "metadata": {},
     "output_type": "display_data"
    },
    {
     "data": {
      "text/html": [
       "<pre>| 16.81s                              | 1.25             | 691             |</pre>"
      ],
      "text/plain": [
       "| 16.81s                              | 1.25             | 691             |"
      ]
     },
     "metadata": {},
     "output_type": "display_data"
    },
    {
     "data": {
      "text/html": [
       "<pre>| 17.81s                              | 1.25             | 759             |</pre>"
      ],
      "text/plain": [
       "| 17.81s                              | 1.25             | 759             |"
      ]
     },
     "metadata": {},
     "output_type": "display_data"
    },
    {
     "data": {
      "text/html": [
       "<pre>| 18.94s                              | 1.5              | 825             |</pre>"
      ],
      "text/plain": [
       "| 18.94s                              | 1.5              | 825             |"
      ]
     },
     "metadata": {},
     "output_type": "display_data"
    },
    {
     "data": {
      "text/html": [
       "<pre>| 19.97s                              | 1.75             | 925             |</pre>"
      ],
      "text/plain": [
       "| 19.97s                              | 1.75             | 925             |"
      ]
     },
     "metadata": {},
     "output_type": "display_data"
    },
    {
     "data": {
      "text/html": [
       "<pre>| 20.81s                              | 1.75             | 1002            |</pre>"
      ],
      "text/plain": [
       "| 20.81s                              | 1.75             | 1002            |"
      ]
     },
     "metadata": {},
     "output_type": "display_data"
    },
    {
     "data": {
      "text/html": [
       "<pre>| 21.81s                              | 2                | 1135            |</pre>"
      ],
      "text/plain": [
       "| 21.81s                              | 2                | 1135            |"
      ]
     },
     "metadata": {},
     "output_type": "display_data"
    },
    {
     "data": {
      "text/html": [
       "<pre>| 22.83s                              | 2.5              | 1354            |</pre>"
      ],
      "text/plain": [
       "| 22.83s                              | 2.5              | 1354            |"
      ]
     },
     "metadata": {},
     "output_type": "display_data"
    },
    {
     "data": {
      "text/html": [
       "<pre>| 23.81s                              | 2.75             | 1432            |</pre>"
      ],
      "text/plain": [
       "| 23.81s                              | 2.75             | 1432            |"
      ]
     },
     "metadata": {},
     "output_type": "display_data"
    },
    {
     "data": {
      "text/html": [
       "<pre>| 25.09s                              | 3                | 1615            |</pre>"
      ],
      "text/plain": [
       "| 25.09s                              | 3                | 1615            |"
      ]
     },
     "metadata": {},
     "output_type": "display_data"
    },
    {
     "data": {
      "text/html": [
       "<pre>| 25.89s                              | 3                | 1627            |</pre>"
      ],
      "text/plain": [
       "| 25.89s                              | 3                | 1627            |"
      ]
     },
     "metadata": {},
     "output_type": "display_data"
    },
    {
     "data": {
      "text/html": [
       "<pre>| 26.82s                              | 3.5              | 1838            |</pre>"
      ],
      "text/plain": [
       "| 26.82s                              | 3.5              | 1838            |"
      ]
     },
     "metadata": {},
     "output_type": "display_data"
    },
    {
     "data": {
      "text/html": [
       "<pre>| 28.19s                              | 3.75             | 1961            |</pre>"
      ],
      "text/plain": [
       "| 28.19s                              | 3.75             | 1961            |"
      ]
     },
     "metadata": {},
     "output_type": "display_data"
    },
    {
     "data": {
      "text/html": [
       "<pre>| 28.83s                              | 3.75             | 2009            |</pre>"
      ],
      "text/plain": [
       "| 28.83s                              | 3.75             | 2009            |"
      ]
     },
     "metadata": {},
     "output_type": "display_data"
    },
    {
     "data": {
      "text/html": [
       "<pre>| 29.93s                              | 4                | 2127            |</pre>"
      ],
      "text/plain": [
       "| 29.93s                              | 4                | 2127            |"
      ]
     },
     "metadata": {},
     "output_type": "display_data"
    },
    {
     "data": {
      "text/html": [
       "<pre>| 30.84s                              | 4.25             | 2281            |</pre>"
      ],
      "text/plain": [
       "| 30.84s                              | 4.25             | 2281            |"
      ]
     },
     "metadata": {},
     "output_type": "display_data"
    },
    {
     "data": {
      "text/html": [
       "<pre>| 31.85s                              | 4.5              | 2416            |</pre>"
      ],
      "text/plain": [
       "| 31.85s                              | 4.5              | 2416            |"
      ]
     },
     "metadata": {},
     "output_type": "display_data"
    },
    {
     "data": {
      "text/html": [
       "<pre>| 32.90s                              | 5                | 2594            |</pre>"
      ],
      "text/plain": [
       "| 32.90s                              | 5                | 2594            |"
      ]
     },
     "metadata": {},
     "output_type": "display_data"
    },
    {
     "data": {
      "text/html": [
       "<pre>| 34.11s                              | 5.25             | 2688            |</pre>"
      ],
      "text/plain": [
       "| 34.11s                              | 5.25             | 2688            |"
      ]
     },
     "metadata": {},
     "output_type": "display_data"
    },
    {
     "data": {
      "text/html": [
       "<pre>| 34.88s                              | 5.25             | 2778            |</pre>"
      ],
      "text/plain": [
       "| 34.88s                              | 5.25             | 2778            |"
      ]
     },
     "metadata": {},
     "output_type": "display_data"
    },
    {
     "data": {
      "text/html": [
       "<pre>| 35.85s                              | 5.5              | 2873            |</pre>"
      ],
      "text/plain": [
       "| 35.85s                              | 5.5              | 2873            |"
      ]
     },
     "metadata": {},
     "output_type": "display_data"
    },
    {
     "data": {
      "text/html": [
       "<pre>| 36.85s                              | 5.75             | 3001            |</pre>"
      ],
      "text/plain": [
       "| 36.85s                              | 5.75             | 3001            |"
      ]
     },
     "metadata": {},
     "output_type": "display_data"
    },
    {
     "data": {
      "text/html": [
       "<pre>| 37.89s                              | 6.25             | 3184            |</pre>"
      ],
      "text/plain": [
       "| 37.89s                              | 6.25             | 3184            |"
      ]
     },
     "metadata": {},
     "output_type": "display_data"
    },
    {
     "data": {
      "text/html": [
       "<pre>| 38.86s                              | 6.25             | 3232            |</pre>"
      ],
      "text/plain": [
       "| 38.86s                              | 6.25             | 3232            |"
      ]
     },
     "metadata": {},
     "output_type": "display_data"
    },
    {
     "data": {
      "text/html": [
       "<pre>| 39.97s                              | 6.5              | 3397            |</pre>"
      ],
      "text/plain": [
       "| 39.97s                              | 6.5              | 3397            |"
      ]
     },
     "metadata": {},
     "output_type": "display_data"
    },
    {
     "data": {
      "text/html": [
       "<pre>| 40.90s                              | 6.75             | 3547            |</pre>"
      ],
      "text/plain": [
       "| 40.90s                              | 6.75             | 3547            |"
      ]
     },
     "metadata": {},
     "output_type": "display_data"
    },
    {
     "data": {
      "text/html": [
       "<pre>| 41.86s                              | 7                | 3609            |</pre>"
      ],
      "text/plain": [
       "| 41.86s                              | 7                | 3609            |"
      ]
     },
     "metadata": {},
     "output_type": "display_data"
    },
    {
     "data": {
      "text/html": [
       "<pre>| 42.96s                              | 7.25             | 3697            |</pre>"
      ],
      "text/plain": [
       "| 42.96s                              | 7.25             | 3697            |"
      ]
     },
     "metadata": {},
     "output_type": "display_data"
    },
    {
     "data": {
      "text/html": [
       "<pre>| 43.88s                              | 7.5              | 3849            |</pre>"
      ],
      "text/plain": [
       "| 43.88s                              | 7.5              | 3849            |"
      ]
     },
     "metadata": {},
     "output_type": "display_data"
    },
    {
     "data": {
      "text/html": [
       "<pre>| 44.88s                              | 7.75             | 4028            |</pre>"
      ],
      "text/plain": [
       "| 44.88s                              | 7.75             | 4028            |"
      ]
     },
     "metadata": {},
     "output_type": "display_data"
    },
    {
     "data": {
      "text/html": [
       "<pre>| 45.91s                              | 8.25             | 4263            |</pre>"
      ],
      "text/plain": [
       "| 45.91s                              | 8.25             | 4263            |"
      ]
     },
     "metadata": {},
     "output_type": "display_data"
    },
    {
     "data": {
      "text/html": [
       "<pre>| 46.88s                              | 8.5              | 4370            |</pre>"
      ],
      "text/plain": [
       "| 46.88s                              | 8.5              | 4370            |"
      ]
     },
     "metadata": {},
     "output_type": "display_data"
    },
    {
     "data": {
      "text/html": [
       "<pre>| 47.88s                              | 8.75             | 4575            |</pre>"
      ],
      "text/plain": [
       "| 47.88s                              | 8.75             | 4575            |"
      ]
     },
     "metadata": {},
     "output_type": "display_data"
    },
    {
     "data": {
      "text/html": [
       "<pre>| 48.89s                              | 9.25             | 4790            |</pre>"
      ],
      "text/plain": [
       "| 48.89s                              | 9.25             | 4790            |"
      ]
     },
     "metadata": {},
     "output_type": "display_data"
    },
    {
     "data": {
      "text/html": [
       "<pre>| 49.89s                              | 9.5              | 4945            |</pre>"
      ],
      "text/plain": [
       "| 49.89s                              | 9.5              | 4945            |"
      ]
     },
     "metadata": {},
     "output_type": "display_data"
    },
    {
     "data": {
      "text/html": [
       "<pre>| 50.88s                              | 10               | 5100            |</pre>"
      ],
      "text/plain": [
       "| 50.88s                              | 10               | 5100            |"
      ]
     },
     "metadata": {},
     "output_type": "display_data"
    },
    {
     "data": {
      "text/html": [
       "<pre>| 51.89s                              | 10.25            | 5276            |</pre>"
      ],
      "text/plain": [
       "| 51.89s                              | 10.25            | 5276            |"
      ]
     },
     "metadata": {},
     "output_type": "display_data"
    },
    {
     "data": {
      "text/html": [
       "<pre>| 53.18s                              | 10.25            | 5302            |</pre>"
      ],
      "text/plain": [
       "| 53.18s                              | 10.25            | 5302            |"
      ]
     },
     "metadata": {},
     "output_type": "display_data"
    },
    {
     "data": {
      "text/html": [
       "<pre>| 53.92s                              | 10.5             | 5415            |</pre>"
      ],
      "text/plain": [
       "| 53.92s                              | 10.5             | 5415            |"
      ]
     },
     "metadata": {},
     "output_type": "display_data"
    },
    {
     "data": {
      "text/html": [
       "<pre>| 54.91s                              | 10.75            | 5569            |</pre>"
      ],
      "text/plain": [
       "| 54.91s                              | 10.75            | 5569            |"
      ]
     },
     "metadata": {},
     "output_type": "display_data"
    },
    {
     "data": {
      "text/html": [
       "<pre>| 55.90s                              | 11.25            | 5757            |</pre>"
      ],
      "text/plain": [
       "| 55.90s                              | 11.25            | 5757            |"
      ]
     },
     "metadata": {},
     "output_type": "display_data"
    },
    {
     "data": {
      "text/html": [
       "<pre>| 56.95s                              | 11.25            | 5835            |</pre>"
      ],
      "text/plain": [
       "| 56.95s                              | 11.25            | 5835            |"
      ]
     },
     "metadata": {},
     "output_type": "display_data"
    },
    {
     "data": {
      "text/html": [
       "<pre>| 57.92s                              | 11.5             | 5919            |</pre>"
      ],
      "text/plain": [
       "| 57.92s                              | 11.5             | 5919            |"
      ]
     },
     "metadata": {},
     "output_type": "display_data"
    },
    {
     "data": {
      "text/html": [
       "<pre>| 58.91s                              | 11.75            | 5999            |</pre>"
      ],
      "text/plain": [
       "| 58.91s                              | 11.75            | 5999            |"
      ]
     },
     "metadata": {},
     "output_type": "display_data"
    },
    {
     "data": {
      "text/html": [
       "<pre>| 1m 1s                               | 11.75            | 6071            |</pre>"
      ],
      "text/plain": [
       "| 1m 1s                               | 11.75            | 6071            |"
      ]
     },
     "metadata": {},
     "output_type": "display_data"
    },
    {
     "data": {
      "text/html": [
       "<pre>| 1m 2s                               | 12.25            | 6251            |</pre>"
      ],
      "text/plain": [
       "| 1m 2s                               | 12.25            | 6251            |"
      ]
     },
     "metadata": {},
     "output_type": "display_data"
    },
    {
     "data": {
      "text/html": [
       "<pre>| 1m 3s                               | 12.5             | 6412            |</pre>"
      ],
      "text/plain": [
       "| 1m 3s                               | 12.5             | 6412            |"
      ]
     },
     "metadata": {},
     "output_type": "display_data"
    },
    {
     "data": {
      "text/html": [
       "<pre>| 1m 4s                               | 12.75            | 6597            |</pre>"
      ],
      "text/plain": [
       "| 1m 4s                               | 12.75            | 6597            |"
      ]
     },
     "metadata": {},
     "output_type": "display_data"
    },
    {
     "data": {
      "text/html": [
       "<pre>| 1m 5s                               | 13.25            | 6779            |</pre>"
      ],
      "text/plain": [
       "| 1m 5s                               | 13.25            | 6779            |"
      ]
     },
     "metadata": {},
     "output_type": "display_data"
    },
    {
     "data": {
      "text/html": [
       "<pre>| 1m 6s                               | 13.5             | 6889            |</pre>"
      ],
      "text/plain": [
       "| 1m 6s                               | 13.5             | 6889            |"
      ]
     },
     "metadata": {},
     "output_type": "display_data"
    },
    {
     "data": {
      "text/html": [
       "<pre>| 1m 7s                               | 13.75            | 7049            |</pre>"
      ],
      "text/plain": [
       "| 1m 7s                               | 13.75            | 7049            |"
      ]
     },
     "metadata": {},
     "output_type": "display_data"
    },
    {
     "data": {
      "text/html": [
       "<pre>| 1m 8s                               | 14.25            | 7266            |</pre>"
      ],
      "text/plain": [
       "| 1m 8s                               | 14.25            | 7266            |"
      ]
     },
     "metadata": {},
     "output_type": "display_data"
    },
    {
     "data": {
      "text/html": [
       "<pre>| 1m 9s                               | 14.5             | 7441            |</pre>"
      ],
      "text/plain": [
       "| 1m 9s                               | 14.5             | 7441            |"
      ]
     },
     "metadata": {},
     "output_type": "display_data"
    },
    {
     "data": {
      "text/html": [
       "<pre>| 1m 10s                              | 14.75            | 7533            |</pre>"
      ],
      "text/plain": [
       "| 1m 10s                              | 14.75            | 7533            |"
      ]
     },
     "metadata": {},
     "output_type": "display_data"
    },
    {
     "data": {
      "text/html": [
       "<pre>| 1m 11s                              | 15               | 7692            |</pre>"
      ],
      "text/plain": [
       "| 1m 11s                              | 15               | 7692            |"
      ]
     },
     "metadata": {},
     "output_type": "display_data"
    },
    {
     "data": {
      "text/html": [
       "<pre>| 1m 12s                              | 15.25            | 7838            |</pre>"
      ],
      "text/plain": [
       "| 1m 12s                              | 15.25            | 7838            |"
      ]
     },
     "metadata": {},
     "output_type": "display_data"
    },
    {
     "data": {
      "text/html": [
       "<pre>| 1m 13s                              | 15.5             | 7986            |</pre>"
      ],
      "text/plain": [
       "| 1m 13s                              | 15.5             | 7986            |"
      ]
     },
     "metadata": {},
     "output_type": "display_data"
    },
    {
     "data": {
      "text/html": [
       "<pre>| 1m 14s                              | 16               | 8183            |</pre>"
      ],
      "text/plain": [
       "| 1m 14s                              | 16               | 8183            |"
      ]
     },
     "metadata": {},
     "output_type": "display_data"
    },
    {
     "data": {
      "text/html": [
       "<pre>| 1m 15s                              | 16.25            | 8327            |</pre>"
      ],
      "text/plain": [
       "| 1m 15s                              | 16.25            | 8327            |"
      ]
     },
     "metadata": {},
     "output_type": "display_data"
    },
    {
     "data": {
      "text/html": [
       "<pre>| 1m 16s                              | 16.25            | 8376            |</pre>"
      ],
      "text/plain": [
       "| 1m 16s                              | 16.25            | 8376            |"
      ]
     },
     "metadata": {},
     "output_type": "display_data"
    },
    {
     "data": {
      "text/html": [
       "<pre>| 1m 17s                              | 16.5             | 8468            |</pre>"
      ],
      "text/plain": [
       "| 1m 17s                              | 16.5             | 8468            |"
      ]
     },
     "metadata": {},
     "output_type": "display_data"
    },
    {
     "data": {
      "text/html": [
       "<pre>| 1m 18s                              | 16.75            | 8613            |</pre>"
      ],
      "text/plain": [
       "| 1m 18s                              | 16.75            | 8613            |"
      ]
     },
     "metadata": {},
     "output_type": "display_data"
    },
    {
     "data": {
      "text/html": [
       "<pre>| 1m 19s                              | 17               | 8679            |</pre>"
      ],
      "text/plain": [
       "| 1m 19s                              | 17               | 8679            |"
      ]
     },
     "metadata": {},
     "output_type": "display_data"
    },
    {
     "data": {
      "text/html": [
       "<pre>| 1m 20s                              | 17               | 8767            |</pre>"
      ],
      "text/plain": [
       "| 1m 20s                              | 17               | 8767            |"
      ]
     },
     "metadata": {},
     "output_type": "display_data"
    },
    {
     "data": {
      "text/html": [
       "<pre>| 1m 21s                              | 17.5             | 8934            |</pre>"
      ],
      "text/plain": [
       "| 1m 21s                              | 17.5             | 8934            |"
      ]
     },
     "metadata": {},
     "output_type": "display_data"
    },
    {
     "data": {
      "text/html": [
       "<pre>| 1m 22s                              | 17.75            | 9052            |</pre>"
      ],
      "text/plain": [
       "| 1m 22s                              | 17.75            | 9052            |"
      ]
     },
     "metadata": {},
     "output_type": "display_data"
    },
    {
     "data": {
      "text/html": [
       "<pre>| 1m 23s                              | 18               | 9199            |</pre>"
      ],
      "text/plain": [
       "| 1m 23s                              | 18               | 9199            |"
      ]
     },
     "metadata": {},
     "output_type": "display_data"
    },
    {
     "data": {
      "text/html": [
       "<pre>| 1m 24s                              | 18.25            | 9354            |</pre>"
      ],
      "text/plain": [
       "| 1m 24s                              | 18.25            | 9354            |"
      ]
     },
     "metadata": {},
     "output_type": "display_data"
    },
    {
     "data": {
      "text/html": [
       "<pre>| 1m 25s                              | 18.5             | 9519            |</pre>"
      ],
      "text/plain": [
       "| 1m 25s                              | 18.5             | 9519            |"
      ]
     },
     "metadata": {},
     "output_type": "display_data"
    },
    {
     "data": {
      "text/html": [
       "<pre>| 1m 26s                              | 18.75            | 9573            |</pre>"
      ],
      "text/plain": [
       "| 1m 26s                              | 18.75            | 9573            |"
      ]
     },
     "metadata": {},
     "output_type": "display_data"
    },
    {
     "data": {
      "text/html": [
       "<pre>| 1m 27s                              | 18.75            | 9667            |</pre>"
      ],
      "text/plain": [
       "| 1m 27s                              | 18.75            | 9667            |"
      ]
     },
     "metadata": {},
     "output_type": "display_data"
    },
    {
     "data": {
      "text/html": [
       "<pre>| 1m 28s                              | 19.25            | 9827            |</pre>"
      ],
      "text/plain": [
       "| 1m 28s                              | 19.25            | 9827            |"
      ]
     },
     "metadata": {},
     "output_type": "display_data"
    },
    {
     "data": {
      "text/html": [
       "<pre>| 1m 29s                              | 19.5             | 10029           |</pre>"
      ],
      "text/plain": [
       "| 1m 29s                              | 19.5             | 10029           |"
      ]
     },
     "metadata": {},
     "output_type": "display_data"
    },
    {
     "data": {
      "text/html": [
       "<pre>| 1m 30s                              | 19.75            | 10152           |</pre>"
      ],
      "text/plain": [
       "| 1m 30s                              | 19.75            | 10152           |"
      ]
     },
     "metadata": {},
     "output_type": "display_data"
    },
    {
     "data": {
      "text/html": [
       "<pre>| 1m 31s                              | 20               | 10257           |</pre>"
      ],
      "text/plain": [
       "| 1m 31s                              | 20               | 10257           |"
      ]
     },
     "metadata": {},
     "output_type": "display_data"
    },
    {
     "data": {
      "text/html": [
       "<pre>| 1m 32s                              | 20.25            | 10411           |</pre>"
      ],
      "text/plain": [
       "| 1m 32s                              | 20.25            | 10411           |"
      ]
     },
     "metadata": {},
     "output_type": "display_data"
    },
    {
     "data": {
      "text/html": [
       "<pre>| 1m 33s                              | 20.5             | 10549           |</pre>"
      ],
      "text/plain": [
       "| 1m 33s                              | 20.5             | 10549           |"
      ]
     },
     "metadata": {},
     "output_type": "display_data"
    },
    {
     "data": {
      "text/html": [
       "<pre>| 1m 34s                              | 20.75            | 10658           |</pre>"
      ],
      "text/plain": [
       "| 1m 34s                              | 20.75            | 10658           |"
      ]
     },
     "metadata": {},
     "output_type": "display_data"
    },
    {
     "data": {
      "text/html": [
       "<pre>| 1m 35s                              | 21               | 10760           |</pre>"
      ],
      "text/plain": [
       "| 1m 35s                              | 21               | 10760           |"
      ]
     },
     "metadata": {},
     "output_type": "display_data"
    },
    {
     "data": {
      "text/html": [
       "<pre>| 1m 36s                              | 21.25            | 10938           |</pre>"
      ],
      "text/plain": [
       "| 1m 36s                              | 21.25            | 10938           |"
      ]
     },
     "metadata": {},
     "output_type": "display_data"
    },
    {
     "data": {
      "text/html": [
       "<pre>| 1m 37s                              | 21.75            | 11116           |</pre>"
      ],
      "text/plain": [
       "| 1m 37s                              | 21.75            | 11116           |"
      ]
     },
     "metadata": {},
     "output_type": "display_data"
    },
    {
     "data": {
      "text/html": [
       "<pre>| 1m 38s                              | 22               | 11323           |</pre>"
      ],
      "text/plain": [
       "| 1m 38s                              | 22               | 11323           |"
      ]
     },
     "metadata": {},
     "output_type": "display_data"
    },
    {
     "data": {
      "text/html": [
       "<pre>| 1m 39s                              | 22.5             | 11497           |</pre>"
      ],
      "text/plain": [
       "| 1m 39s                              | 22.5             | 11497           |"
      ]
     },
     "metadata": {},
     "output_type": "display_data"
    },
    {
     "data": {
      "text/html": [
       "<pre>| 1m 40s                              | 22.75            | 11687           |</pre>"
      ],
      "text/plain": [
       "| 1m 40s                              | 22.75            | 11687           |"
      ]
     },
     "metadata": {},
     "output_type": "display_data"
    },
    {
     "data": {
      "text/html": [
       "<pre>| 1m 41s                              | 23               | 11765           |</pre>"
      ],
      "text/plain": [
       "| 1m 41s                              | 23               | 11765           |"
      ]
     },
     "metadata": {},
     "output_type": "display_data"
    },
    {
     "data": {
      "text/html": [
       "<pre>| 1m 42s                              | 23.25            | 11860           |</pre>"
      ],
      "text/plain": [
       "| 1m 42s                              | 23.25            | 11860           |"
      ]
     },
     "metadata": {},
     "output_type": "display_data"
    },
    {
     "data": {
      "text/html": [
       "<pre>| 1m 43s                              | 23.5             | 12023           |</pre>"
      ],
      "text/plain": [
       "| 1m 43s                              | 23.5             | 12023           |"
      ]
     },
     "metadata": {},
     "output_type": "display_data"
    },
    {
     "data": {
      "text/html": [
       "<pre>| 1m 44s                              | 23.75            | 12159           |</pre>"
      ],
      "text/plain": [
       "| 1m 44s                              | 23.75            | 12159           |"
      ]
     },
     "metadata": {},
     "output_type": "display_data"
    },
    {
     "data": {
      "text/html": [
       "<pre>| 1m 45s                              | 24               | 12303           |</pre>"
      ],
      "text/plain": [
       "| 1m 45s                              | 24               | 12303           |"
      ]
     },
     "metadata": {},
     "output_type": "display_data"
    },
    {
     "data": {
      "text/html": [
       "<pre>| 1m 46s                              | 24.25            | 12441           |</pre>"
      ],
      "text/plain": [
       "| 1m 46s                              | 24.25            | 12441           |"
      ]
     },
     "metadata": {},
     "output_type": "display_data"
    },
    {
     "data": {
      "text/html": [
       "<pre>| 1m 47s                              | 24.75            | 12637           |</pre>"
      ],
      "text/plain": [
       "| 1m 47s                              | 24.75            | 12637           |"
      ]
     },
     "metadata": {},
     "output_type": "display_data"
    },
    {
     "data": {
      "text/html": [
       "<pre>| 1m 48s                              | 25               | 12825           |</pre>"
      ],
      "text/plain": [
       "| 1m 48s                              | 25               | 12825           |"
      ]
     },
     "metadata": {},
     "output_type": "display_data"
    },
    {
     "data": {
      "text/html": [
       "<pre>| 1m 49s                              | 25.5             | 13022           |</pre>"
      ],
      "text/plain": [
       "| 1m 49s                              | 25.5             | 13022           |"
      ]
     },
     "metadata": {},
     "output_type": "display_data"
    },
    {
     "data": {
      "text/html": [
       "<pre>| 1m 50s                              | 25.75            | 13171           |</pre>"
      ],
      "text/plain": [
       "| 1m 50s                              | 25.75            | 13171           |"
      ]
     },
     "metadata": {},
     "output_type": "display_data"
    },
    {
     "data": {
      "text/html": [
       "<pre>| 1m 51s                              | 26               | 13332           |</pre>"
      ],
      "text/plain": [
       "| 1m 51s                              | 26               | 13332           |"
      ]
     },
     "metadata": {},
     "output_type": "display_data"
    },
    {
     "data": {
      "text/html": [
       "<pre>| 1m 52s                              | 26.5             | 13502           |</pre>"
      ],
      "text/plain": [
       "| 1m 52s                              | 26.5             | 13502           |"
      ]
     },
     "metadata": {},
     "output_type": "display_data"
    },
    {
     "data": {
      "text/html": [
       "<pre>| 1m 53s                              | 26.75            | 13688           |</pre>"
      ],
      "text/plain": [
       "| 1m 53s                              | 26.75            | 13688           |"
      ]
     },
     "metadata": {},
     "output_type": "display_data"
    },
    {
     "data": {
      "text/html": [
       "<pre>| 1m 54s                              | 27               | 13856           |</pre>"
      ],
      "text/plain": [
       "| 1m 54s                              | 27               | 13856           |"
      ]
     },
     "metadata": {},
     "output_type": "display_data"
    },
    {
     "data": {
      "text/html": [
       "<pre>| 1m 55s                              | 27.5             | 14053           |</pre>"
      ],
      "text/plain": [
       "| 1m 55s                              | 27.5             | 14053           |"
      ]
     },
     "metadata": {},
     "output_type": "display_data"
    },
    {
     "data": {
      "text/html": [
       "<pre>| 1m 56s                              | 27.75            | 14224           |</pre>"
      ],
      "text/plain": [
       "| 1m 56s                              | 27.75            | 14224           |"
      ]
     },
     "metadata": {},
     "output_type": "display_data"
    },
    {
     "data": {
      "text/html": [
       "<pre>| 1m 57s                              | 28.25            | 14419           |</pre>"
      ],
      "text/plain": [
       "| 1m 57s                              | 28.25            | 14419           |"
      ]
     },
     "metadata": {},
     "output_type": "display_data"
    },
    {
     "data": {
      "text/html": [
       "<pre>| 1m 58s                              | 28.5             | 14581           |</pre>"
      ],
      "text/plain": [
       "| 1m 58s                              | 28.5             | 14581           |"
      ]
     },
     "metadata": {},
     "output_type": "display_data"
    },
    {
     "data": {
      "text/html": [
       "<pre>| 1m 59s                              | 29               | 14777           |</pre>"
      ],
      "text/plain": [
       "| 1m 59s                              | 29               | 14777           |"
      ]
     },
     "metadata": {},
     "output_type": "display_data"
    },
    {
     "data": {
      "text/html": [
       "<pre>| 2m 0s                               | 29               | 14884           |</pre>"
      ],
      "text/plain": [
       "| 2m 0s                               | 29               | 14884           |"
      ]
     },
     "metadata": {},
     "output_type": "display_data"
    },
    {
     "data": {
      "text/html": [
       "<pre>| 2m 1s                               | 29.5             | 15068           |</pre>"
      ],
      "text/plain": [
       "| 2m 1s                               | 29.5             | 15068           |"
      ]
     },
     "metadata": {},
     "output_type": "display_data"
    },
    {
     "data": {
      "text/html": [
       "<pre>| 2m 2s                               | 29.75            | 15255           |</pre>"
      ],
      "text/plain": [
       "| 2m 2s                               | 29.75            | 15255           |"
      ]
     },
     "metadata": {},
     "output_type": "display_data"
    },
    {
     "data": {
      "text/html": [
       "<pre>| 2m 3s                               | 30               | 15374           |</pre>"
      ],
      "text/plain": [
       "| 2m 3s                               | 30               | 15374           |"
      ]
     },
     "metadata": {},
     "output_type": "display_data"
    },
    {
     "data": {
      "text/html": [
       "<pre>| 2m 4s                               | 30.25            | 15529           |</pre>"
      ],
      "text/plain": [
       "| 2m 4s                               | 30.25            | 15529           |"
      ]
     },
     "metadata": {},
     "output_type": "display_data"
    },
    {
     "data": {
      "text/html": [
       "<pre>| 2m 5s                               | 30.75            | 15711           |</pre>"
      ],
      "text/plain": [
       "| 2m 5s                               | 30.75            | 15711           |"
      ]
     },
     "metadata": {},
     "output_type": "display_data"
    },
    {
     "data": {
      "text/html": [
       "<pre>| 2m 6s                               | 31.25            | 15934           |</pre>"
      ],
      "text/plain": [
       "| 2m 6s                               | 31.25            | 15934           |"
      ]
     },
     "metadata": {},
     "output_type": "display_data"
    },
    {
     "data": {
      "text/html": [
       "<pre>| 2m 7s                               | 31.5             | 16089           |</pre>"
      ],
      "text/plain": [
       "| 2m 7s                               | 31.5             | 16089           |"
      ]
     },
     "metadata": {},
     "output_type": "display_data"
    },
    {
     "data": {
      "text/html": [
       "<pre>| 2m 8s                               | 31.75            | 16233           |</pre>"
      ],
      "text/plain": [
       "| 2m 8s                               | 31.75            | 16233           |"
      ]
     },
     "metadata": {},
     "output_type": "display_data"
    },
    {
     "data": {
      "text/html": [
       "<pre>| 2m 9s                               | 32               | 16301           |</pre>"
      ],
      "text/plain": [
       "| 2m 9s                               | 32               | 16301           |"
      ]
     },
     "metadata": {},
     "output_type": "display_data"
    },
    {
     "data": {
      "text/html": [
       "<pre>| 2m 10s                              | 32               | 16418           |</pre>"
      ],
      "text/plain": [
       "| 2m 10s                              | 32               | 16418           |"
      ]
     },
     "metadata": {},
     "output_type": "display_data"
    },
    {
     "data": {
      "text/html": [
       "<pre>| 2m 11s                              | 32.25            | 16525           |</pre>"
      ],
      "text/plain": [
       "| 2m 11s                              | 32.25            | 16525           |"
      ]
     },
     "metadata": {},
     "output_type": "display_data"
    },
    {
     "data": {
      "text/html": [
       "<pre>| 2m 12s                              | 32.5             | 16678           |</pre>"
      ],
      "text/plain": [
       "| 2m 12s                              | 32.5             | 16678           |"
      ]
     },
     "metadata": {},
     "output_type": "display_data"
    },
    {
     "data": {
      "text/html": [
       "<pre>| 2m 13s                              | 32.75            | 16753           |</pre>"
      ],
      "text/plain": [
       "| 2m 13s                              | 32.75            | 16753           |"
      ]
     },
     "metadata": {},
     "output_type": "display_data"
    },
    {
     "data": {
      "text/html": [
       "<pre>| 2m 14s                              | 33               | 16871           |</pre>"
      ],
      "text/plain": [
       "| 2m 14s                              | 33               | 16871           |"
      ]
     },
     "metadata": {},
     "output_type": "display_data"
    },
    {
     "data": {
      "text/html": [
       "<pre>| 2m 15s                              | 33.25            | 17045           |</pre>"
      ],
      "text/plain": [
       "| 2m 15s                              | 33.25            | 17045           |"
      ]
     },
     "metadata": {},
     "output_type": "display_data"
    },
    {
     "data": {
      "text/html": [
       "<pre>| 2m 16s                              | 33.75            | 17228           |</pre>"
      ],
      "text/plain": [
       "| 2m 16s                              | 33.75            | 17228           |"
      ]
     },
     "metadata": {},
     "output_type": "display_data"
    },
    {
     "data": {
      "text/html": [
       "<pre>| 2m 17s                              | 34               | 17441           |</pre>"
      ],
      "text/plain": [
       "| 2m 17s                              | 34               | 17441           |"
      ]
     },
     "metadata": {},
     "output_type": "display_data"
    },
    {
     "data": {
      "text/html": [
       "<pre>| 2m 18s                              | 34.5             | 17619           |</pre>"
      ],
      "text/plain": [
       "| 2m 18s                              | 34.5             | 17619           |"
      ]
     },
     "metadata": {},
     "output_type": "display_data"
    },
    {
     "data": {
      "text/html": [
       "<pre>| 2m 19s                              | 34.75            | 17817           |</pre>"
      ],
      "text/plain": [
       "| 2m 19s                              | 34.75            | 17817           |"
      ]
     },
     "metadata": {},
     "output_type": "display_data"
    },
    {
     "data": {
      "text/html": [
       "<pre>| 2m 20s                              | 35.25            | 18009           |</pre>"
      ],
      "text/plain": [
       "| 2m 20s                              | 35.25            | 18009           |"
      ]
     },
     "metadata": {},
     "output_type": "display_data"
    },
    {
     "data": {
      "text/html": [
       "<pre>| 2m 21s                              | 35.75            | 18212           |</pre>"
      ],
      "text/plain": [
       "| 2m 21s                              | 35.75            | 18212           |"
      ]
     },
     "metadata": {},
     "output_type": "display_data"
    },
    {
     "data": {
      "text/html": [
       "<pre>| 2m 22s                              | 36               | 18398           |</pre>"
      ],
      "text/plain": [
       "| 2m 22s                              | 36               | 18398           |"
      ]
     },
     "metadata": {},
     "output_type": "display_data"
    },
    {
     "data": {
      "text/html": [
       "<pre>| 2m 23s                              | 36.25            | 18543           |</pre>"
      ],
      "text/plain": [
       "| 2m 23s                              | 36.25            | 18543           |"
      ]
     },
     "metadata": {},
     "output_type": "display_data"
    },
    {
     "data": {
      "text/html": [
       "<pre>| 2m 24s                              | 36.5             | 18713           |</pre>"
      ],
      "text/plain": [
       "| 2m 24s                              | 36.5             | 18713           |"
      ]
     },
     "metadata": {},
     "output_type": "display_data"
    },
    {
     "data": {
      "text/html": [
       "<pre>| 2m 25s                              | 36.75            | 18832           |</pre>"
      ],
      "text/plain": [
       "| 2m 25s                              | 36.75            | 18832           |"
      ]
     },
     "metadata": {},
     "output_type": "display_data"
    },
    {
     "data": {
      "text/html": [
       "<pre>| 2m 26s                              | 37               | 18931           |</pre>"
      ],
      "text/plain": [
       "| 2m 26s                              | 37               | 18931           |"
      ]
     },
     "metadata": {},
     "output_type": "display_data"
    },
    {
     "data": {
      "text/html": [
       "<pre>| 2m 27s                              | 37.25            | 19028           |</pre>"
      ],
      "text/plain": [
       "| 2m 27s                              | 37.25            | 19028           |"
      ]
     },
     "metadata": {},
     "output_type": "display_data"
    },
    {
     "data": {
      "text/html": [
       "<pre>| 2m 28s                              | 37.5             | 19223           |</pre>"
      ],
      "text/plain": [
       "| 2m 28s                              | 37.5             | 19223           |"
      ]
     },
     "metadata": {},
     "output_type": "display_data"
    },
    {
     "data": {
      "text/html": [
       "<pre>| 2m 29s                              | 38               | 19439           |</pre>"
      ],
      "text/plain": [
       "| 2m 29s                              | 38               | 19439           |"
      ]
     },
     "metadata": {},
     "output_type": "display_data"
    },
    {
     "data": {
      "text/html": [
       "<pre>| 2m 30s                              | 38.5             | 19627           |</pre>"
      ],
      "text/plain": [
       "| 2m 30s                              | 38.5             | 19627           |"
      ]
     },
     "metadata": {},
     "output_type": "display_data"
    },
    {
     "data": {
      "text/html": [
       "<pre>| 2m 31s                              | 38.75            | 19808           |</pre>"
      ],
      "text/plain": [
       "| 2m 31s                              | 38.75            | 19808           |"
      ]
     },
     "metadata": {},
     "output_type": "display_data"
    },
    {
     "data": {
      "text/html": [
       "<pre>| 2m 32s                              | 39.25            | 20015           |</pre>"
      ],
      "text/plain": [
       "| 2m 32s                              | 39.25            | 20015           |"
      ]
     },
     "metadata": {},
     "output_type": "display_data"
    },
    {
     "data": {
      "text/html": [
       "<pre>| 2m 33s                              | 39.5             | 20200           |</pre>"
      ],
      "text/plain": [
       "| 2m 33s                              | 39.5             | 20200           |"
      ]
     },
     "metadata": {},
     "output_type": "display_data"
    },
    {
     "data": {
      "text/html": [
       "<pre>| 2m 34s                              | 40               | 20381           |</pre>"
      ],
      "text/plain": [
       "| 2m 34s                              | 40               | 20381           |"
      ]
     },
     "metadata": {},
     "output_type": "display_data"
    },
    {
     "data": {
      "text/html": [
       "<pre>| 2m 35s                              | 40.25            | 20574           |</pre>"
      ],
      "text/plain": [
       "| 2m 35s                              | 40.25            | 20574           |"
      ]
     },
     "metadata": {},
     "output_type": "display_data"
    },
    {
     "data": {
      "text/html": [
       "<pre>| 2m 36s                              | 40.75            | 20771           |</pre>"
      ],
      "text/plain": [
       "| 2m 36s                              | 40.75            | 20771           |"
      ]
     },
     "metadata": {},
     "output_type": "display_data"
    },
    {
     "data": {
      "text/html": [
       "<pre>| 2m 37s                              | 41               | 20971           |</pre>"
      ],
      "text/plain": [
       "| 2m 37s                              | 41               | 20971           |"
      ]
     },
     "metadata": {},
     "output_type": "display_data"
    },
    {
     "data": {
      "text/html": [
       "<pre>| 2m 38s                              | 41.5             | 21183           |</pre>"
      ],
      "text/plain": [
       "| 2m 38s                              | 41.5             | 21183           |"
      ]
     },
     "metadata": {},
     "output_type": "display_data"
    },
    {
     "data": {
      "text/html": [
       "<pre>| 2m 39s                              | 41.75            | 21381           |</pre>"
      ],
      "text/plain": [
       "| 2m 39s                              | 41.75            | 21381           |"
      ]
     },
     "metadata": {},
     "output_type": "display_data"
    },
    {
     "data": {
      "text/html": [
       "<pre>| 2m 40s                              | 42.25            | 21583           |</pre>"
      ],
      "text/plain": [
       "| 2m 40s                              | 42.25            | 21583           |"
      ]
     },
     "metadata": {},
     "output_type": "display_data"
    },
    {
     "data": {
      "text/html": [
       "<pre>| 2m 41s                              | 42.75            | 21771           |</pre>"
      ],
      "text/plain": [
       "| 2m 41s                              | 42.75            | 21771           |"
      ]
     },
     "metadata": {},
     "output_type": "display_data"
    },
    {
     "data": {
      "text/html": [
       "<pre>| 2m 42s                              | 43               | 21913           |</pre>"
      ],
      "text/plain": [
       "| 2m 42s                              | 43               | 21913           |"
      ]
     },
     "metadata": {},
     "output_type": "display_data"
    },
    {
     "data": {
      "text/html": [
       "<pre>| 2m 43s                              | 43               | 22014           |</pre>"
      ],
      "text/plain": [
       "| 2m 43s                              | 43               | 22014           |"
      ]
     },
     "metadata": {},
     "output_type": "display_data"
    },
    {
     "data": {
      "text/html": [
       "<pre>| 2m 44s                              | 43.25            | 22126           |</pre>"
      ],
      "text/plain": [
       "| 2m 44s                              | 43.25            | 22126           |"
      ]
     },
     "metadata": {},
     "output_type": "display_data"
    },
    {
     "data": {
      "text/html": [
       "<pre>| 2m 45s                              | 43.75            | 22336           |</pre>"
      ],
      "text/plain": [
       "| 2m 45s                              | 43.75            | 22336           |"
      ]
     },
     "metadata": {},
     "output_type": "display_data"
    },
    {
     "data": {
      "text/html": [
       "<pre>| 2m 46s                              | 44               | 22533           |</pre>"
      ],
      "text/plain": [
       "| 2m 46s                              | 44               | 22533           |"
      ]
     },
     "metadata": {},
     "output_type": "display_data"
    },
    {
     "data": {
      "text/html": [
       "<pre>| 2m 47s                              | 44.5             | 22714           |</pre>"
      ],
      "text/plain": [
       "| 2m 47s                              | 44.5             | 22714           |"
      ]
     },
     "metadata": {},
     "output_type": "display_data"
    },
    {
     "data": {
      "text/html": [
       "<pre>| 2m 48s                              | 45               | 22927           |</pre>"
      ],
      "text/plain": [
       "| 2m 48s                              | 45               | 22927           |"
      ]
     },
     "metadata": {},
     "output_type": "display_data"
    },
    {
     "data": {
      "text/html": [
       "<pre>| 2m 49s                              | 45.25            | 23057           |</pre>"
      ],
      "text/plain": [
       "| 2m 49s                              | 45.25            | 23057           |"
      ]
     },
     "metadata": {},
     "output_type": "display_data"
    },
    {
     "data": {
      "text/html": [
       "<pre>| 2m 50s                              | 45.5             | 23262           |</pre>"
      ],
      "text/plain": [
       "| 2m 50s                              | 45.5             | 23262           |"
      ]
     },
     "metadata": {},
     "output_type": "display_data"
    },
    {
     "data": {
      "text/html": [
       "<pre>| 2m 51s                              | 46               | 23479           |</pre>"
      ],
      "text/plain": [
       "| 2m 51s                              | 46               | 23479           |"
      ]
     },
     "metadata": {},
     "output_type": "display_data"
    },
    {
     "data": {
      "text/html": [
       "<pre>| 2m 52s                              | 46.25            | 23673           |</pre>"
      ],
      "text/plain": [
       "| 2m 52s                              | 46.25            | 23673           |"
      ]
     },
     "metadata": {},
     "output_type": "display_data"
    },
    {
     "data": {
      "text/html": [
       "<pre>| 2m 53s                              | 46.75            | 23877           |</pre>"
      ],
      "text/plain": [
       "| 2m 53s                              | 46.75            | 23877           |"
      ]
     },
     "metadata": {},
     "output_type": "display_data"
    },
    {
     "data": {
      "text/html": [
       "<pre>| 2m 54s                              | 47               | 24037           |</pre>"
      ],
      "text/plain": [
       "| 2m 54s                              | 47               | 24037           |"
      ]
     },
     "metadata": {},
     "output_type": "display_data"
    },
    {
     "data": {
      "text/html": [
       "<pre>| 2m 55s                              | 47.5             | 24227           |</pre>"
      ],
      "text/plain": [
       "| 2m 55s                              | 47.5             | 24227           |"
      ]
     },
     "metadata": {},
     "output_type": "display_data"
    },
    {
     "data": {
      "text/html": [
       "<pre>| 2m 56s                              | 47.5             | 24316           |</pre>"
      ],
      "text/plain": [
       "| 2m 56s                              | 47.5             | 24316           |"
      ]
     },
     "metadata": {},
     "output_type": "display_data"
    },
    {
     "data": {
      "text/html": [
       "<pre>| 2m 57s                              | 47.75            | 24427           |</pre>"
      ],
      "text/plain": [
       "| 2m 57s                              | 47.75            | 24427           |"
      ]
     },
     "metadata": {},
     "output_type": "display_data"
    },
    {
     "data": {
      "text/html": [
       "<pre>| 2m 58s                              | 48               | 24528           |</pre>"
      ],
      "text/plain": [
       "| 2m 58s                              | 48               | 24528           |"
      ]
     },
     "metadata": {},
     "output_type": "display_data"
    },
    {
     "data": {
      "text/html": [
       "<pre>| 2m 59s                              | 48.5             | 24732           |</pre>"
      ],
      "text/plain": [
       "| 2m 59s                              | 48.5             | 24732           |"
      ]
     },
     "metadata": {},
     "output_type": "display_data"
    },
    {
     "data": {
      "text/html": [
       "<pre>| 3m 0s                               | 48.75            | 24942           |</pre>"
      ],
      "text/plain": [
       "| 3m 0s                               | 48.75            | 24942           |"
      ]
     },
     "metadata": {},
     "output_type": "display_data"
    },
    {
     "data": {
      "text/html": [
       "<pre>| 3m 1s                               | 49.25            | 25141           |</pre>"
      ],
      "text/plain": [
       "| 3m 1s                               | 49.25            | 25141           |"
      ]
     },
     "metadata": {},
     "output_type": "display_data"
    },
    {
     "data": {
      "text/html": [
       "<pre>| 3m 2s                               | 49.5             | 25323           |</pre>"
      ],
      "text/plain": [
       "| 3m 2s                               | 49.5             | 25323           |"
      ]
     },
     "metadata": {},
     "output_type": "display_data"
    },
    {
     "data": {
      "text/html": [
       "<pre>| 3m 32s                              | 49.75            | 25460           |</pre>"
      ],
      "text/plain": [
       "| 3m 32s                              | 49.75            | 25460           |"
      ]
     },
     "metadata": {},
     "output_type": "display_data"
    },
    {
     "data": {
      "text/html": [
       "<pre>| 3m 36s                              | 100              | 50927           |</pre>"
      ],
      "text/plain": [
       "| 3m 36s                              | 100              | 50927           |"
      ]
     },
     "metadata": {},
     "output_type": "display_data"
    },
    {
     "data": {
      "text/html": [
       "<pre>+-------------------------------------+------------------+-----------------+</pre>"
      ],
      "text/plain": [
       "+-------------------------------------+------------------+-----------------+"
      ]
     },
     "metadata": {},
     "output_type": "display_data"
    },
    {
     "data": {
      "text/html": [
       "<pre>Finalizing lookup tables.</pre>"
      ],
      "text/plain": [
       "Finalizing lookup tables."
      ]
     },
     "metadata": {},
     "output_type": "display_data"
    },
    {
     "data": {
      "text/html": [
       "<pre>Generating candidate set for working with new users.</pre>"
      ],
      "text/plain": [
       "Generating candidate set for working with new users."
      ]
     },
     "metadata": {},
     "output_type": "display_data"
    },
    {
     "data": {
      "text/html": [
       "<pre>Finished training in 218.622s</pre>"
      ],
      "text/plain": [
       "Finished training in 218.622s"
      ]
     },
     "metadata": {},
     "output_type": "display_data"
    }
   ],
   "source": [
    "item_similarity_model = graphlab.item_similarity_recommender.create(train_data, user_id='userId', item_id='movieId', target='rating', similarity_type='pearson')"
   ]
  },
  {
   "cell_type": "code",
   "execution_count": null,
   "metadata": {
    "collapsed": true
   },
   "outputs": [],
   "source": [
    "# RMSE Evaluation\n",
    "item_similarity_model.evaluate(test_data,metric='rmse')"
   ]
  },
  {
   "cell_type": "code",
   "execution_count": null,
   "metadata": {
    "collapsed": true
   },
   "outputs": [],
   "source": [
    "item_sim_recommendation = item_similarity_model.recommend(users=range(1,6),k=5)\n",
    "item_sim_recommendation.print_rows(num_rows=25)"
   ]
  },
  {
   "cell_type": "code",
   "execution_count": null,
   "metadata": {
    "collapsed": true
   },
   "outputs": [],
   "source": []
  }
 ],
 "metadata": {
  "kernelspec": {
   "display_name": "Python 2",
   "language": "python",
   "name": "python2"
  },
  "language_info": {
   "codemirror_mode": {
    "name": "ipython",
    "version": 2
   },
   "file_extension": ".py",
   "mimetype": "text/x-python",
   "name": "python",
   "nbconvert_exporter": "python",
   "pygments_lexer": "ipython2",
   "version": "2.7.11"
  }
 },
 "nbformat": 4,
 "nbformat_minor": 2
}
