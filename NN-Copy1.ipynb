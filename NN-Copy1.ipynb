{
 "cells": [
  {
   "cell_type": "code",
   "execution_count": 1,
   "metadata": {},
   "outputs": [],
   "source": [
    "import torch\n",
    "import torch.utils.data as Data\n",
    "import torch.nn.functional as F\n",
    "import torch.nn as nn\n",
    "import matplotlib.pyplot as plt\n",
    "import pandas as pd\n",
    "import numpy as np\n",
    "import math\n",
    "from torch.autograd import Variable"
   ]
  },
  {
   "cell_type": "code",
   "execution_count": 2,
   "metadata": {},
   "outputs": [],
   "source": [
    "LR = 0.01\n",
    "BATCH_SIZE = 64\n",
    "EPOCH = 200"
   ]
  },
  {
   "cell_type": "code",
   "execution_count": 3,
   "metadata": {},
   "outputs": [
    {
     "data": {
      "text/html": [
       "<div>\n",
       "<style scoped>\n",
       "    .dataframe tbody tr th:only-of-type {\n",
       "        vertical-align: middle;\n",
       "    }\n",
       "\n",
       "    .dataframe tbody tr th {\n",
       "        vertical-align: top;\n",
       "    }\n",
       "\n",
       "    .dataframe thead th {\n",
       "        text-align: right;\n",
       "    }\n",
       "</style>\n",
       "<table border=\"1\" class=\"dataframe\">\n",
       "  <thead>\n",
       "    <tr style=\"text-align: right;\">\n",
       "      <th></th>\n",
       "      <th>userId</th>\n",
       "      <th>movieId</th>\n",
       "      <th>rating</th>\n",
       "      <th>timestamp</th>\n",
       "    </tr>\n",
       "  </thead>\n",
       "  <tbody>\n",
       "    <tr>\n",
       "      <th>0</th>\n",
       "      <td>1</td>\n",
       "      <td>1</td>\n",
       "      <td>4.0</td>\n",
       "      <td>964982703</td>\n",
       "    </tr>\n",
       "    <tr>\n",
       "      <th>1</th>\n",
       "      <td>1</td>\n",
       "      <td>3</td>\n",
       "      <td>4.0</td>\n",
       "      <td>964981247</td>\n",
       "    </tr>\n",
       "    <tr>\n",
       "      <th>2</th>\n",
       "      <td>1</td>\n",
       "      <td>6</td>\n",
       "      <td>4.0</td>\n",
       "      <td>964982224</td>\n",
       "    </tr>\n",
       "    <tr>\n",
       "      <th>3</th>\n",
       "      <td>1</td>\n",
       "      <td>47</td>\n",
       "      <td>5.0</td>\n",
       "      <td>964983815</td>\n",
       "    </tr>\n",
       "    <tr>\n",
       "      <th>4</th>\n",
       "      <td>1</td>\n",
       "      <td>50</td>\n",
       "      <td>5.0</td>\n",
       "      <td>964982931</td>\n",
       "    </tr>\n",
       "  </tbody>\n",
       "</table>\n",
       "</div>"
      ],
      "text/plain": [
       "   userId  movieId  rating  timestamp\n",
       "0       1        1     4.0  964982703\n",
       "1       1        3     4.0  964981247\n",
       "2       1        6     4.0  964982224\n",
       "3       1       47     5.0  964983815\n",
       "4       1       50     5.0  964982931"
      ]
     },
     "execution_count": 3,
     "metadata": {},
     "output_type": "execute_result"
    }
   ],
   "source": [
    "df = pd.read_csv('./ml-latest-small/ratings.csv')\n",
    "df.head()"
   ]
  },
  {
   "cell_type": "code",
   "execution_count": 4,
   "metadata": {},
   "outputs": [
    {
     "data": {
      "text/plain": [
       "(75627, 25209)"
      ]
     },
     "execution_count": 4,
     "metadata": {},
     "output_type": "execute_result"
    }
   ],
   "source": [
    "from sklearn import model_selection as ms\n",
    "train_set, test_set = ms.train_test_split(df, test_size=0.25)\n",
    "len(train_set), len(test_set)"
   ]
  },
  {
   "cell_type": "code",
   "execution_count": 5,
   "metadata": {},
   "outputs": [],
   "source": [
    "training_set = np.array(train_set, dtype = 'int')\n",
    "testing_set = np.array(test_set, dtype = 'int')"
   ]
  },
  {
   "cell_type": "code",
   "execution_count": 6,
   "metadata": {},
   "outputs": [
    {
     "data": {
      "text/plain": [
       "(610, 9724)"
      ]
     },
     "execution_count": 6,
     "metadata": {},
     "output_type": "execute_result"
    }
   ],
   "source": [
    "num_users = df.userId.unique().shape[0]\n",
    "num_items = df.movieId.unique().shape[0]\n",
    "num_users, num_items"
   ]
  },
  {
   "cell_type": "code",
   "execution_count": 7,
   "metadata": {},
   "outputs": [],
   "source": [
    "movie_movieId = df.movieId.unique().tolist()\n",
    "movie_movieId.sort()\n",
    "d = dict()\n",
    "for i in range(0, len(movie_movieId)):\n",
    "    d[movie_movieId[i]] = i"
   ]
  },
  {
   "cell_type": "code",
   "execution_count": 8,
   "metadata": {},
   "outputs": [],
   "source": [
    "def user_item_matrix(data):\n",
    "    ratings = np.zeros((num_users, num_items))\n",
    "    for row in data.itertuples():\n",
    "        ratings[row[1]-1, d[row[2]]] = row[3]\n",
    "    return ratings"
   ]
  },
  {
   "cell_type": "code",
   "execution_count": 9,
   "metadata": {},
   "outputs": [],
   "source": [
    "ratings = user_item_matrix(df)\n",
    "train = user_item_matrix(train_set)\n",
    "test = user_item_matrix(test_set)"
   ]
  },
  {
   "cell_type": "code",
   "execution_count": 10,
   "metadata": {},
   "outputs": [
    {
     "data": {
      "text/plain": [
       "torch.Size([1, 610, 9724])"
      ]
     },
     "execution_count": 10,
     "metadata": {},
     "output_type": "execute_result"
    }
   ],
   "source": [
    "train = torch.FloatTensor(train)\n",
    "input = Variable(train).unsqueeze(0)\n",
    "input.shape"
   ]
  },
  {
   "cell_type": "code",
   "execution_count": 11,
   "metadata": {},
   "outputs": [],
   "source": [
    "train = torch.FloatTensor(train)\n",
    "test = torch.FloatTensor(test)\n",
    "input = Variable(train).unsqueeze(0)\n",
    "target = input\n",
    "torch_dataset = Data.TensorDataset(input, target)\n",
    "loader = Data.DataLoader(dataset=torch_dataset, batch_size=BATCH_SIZE, shuffle=True, num_workers=2,)"
   ]
  },
  {
   "cell_type": "code",
   "execution_count": 12,
   "metadata": {},
   "outputs": [],
   "source": [
    "class Net(torch.nn.Module):\n",
    "    def __init__(self):\n",
    "        super(Net, self).__init__()\n",
    "        self.fc1 = nn.Linear(num_items, 50)\n",
    "        self.fc2 = nn.Linear(50, 10)\n",
    "        self.fc3 = nn.Linear(10, 50)\n",
    "        self.fc4 = nn.Linear(50, num_items)\n",
    "        self.activation = nn.Sigmoid()\n",
    "        self.activation_t = nn.Tanh()\n",
    "        \n",
    "    def forward(self, x):\n",
    "        x = self.activation(self.fc1(x))\n",
    "        x = self.activation_t(self.fc2(x))\n",
    "        x = self.activation(self.fc3(x))\n",
    "        x = self.fc4(x)\n",
    "        return x"
   ]
  },
  {
   "cell_type": "code",
   "execution_count": 13,
   "metadata": {},
   "outputs": [],
   "source": [
    "net = Net()\n",
    "loss_func = nn.MSELoss()\n",
    "opt = torch.optim.Adam(net.parameters(), lr=LR, betas=(0.9, 0.99))"
   ]
  },
  {
   "cell_type": "code",
   "execution_count": 14,
   "metadata": {},
   "outputs": [
    {
     "name": "stdout",
     "output_type": "stream",
     "text": [
      "Epoch:  0 | Step:  0 | train loss:  0.1702916\n",
      "Epoch:  1 | Step:  0 | train loss:  0.14813638\n",
      "Epoch:  2 | Step:  0 | train loss:  0.12692446\n",
      "Epoch:  3 | Step:  0 | train loss:  0.10671682\n",
      "Epoch:  4 | Step:  0 | train loss:  0.087602094\n",
      "Epoch:  5 | Step:  0 | train loss:  0.06969054\n",
      "Epoch:  6 | Step:  0 | train loss:  0.053416368\n",
      "Epoch:  7 | Step:  0 | train loss:  0.0392434\n",
      "Epoch:  8 | Step:  0 | train loss:  0.027750334\n",
      "Epoch:  9 | Step:  0 | train loss:  0.01944416\n",
      "Epoch:  10 | Step:  0 | train loss:  0.014609699\n",
      "Epoch:  11 | Step:  0 | train loss:  0.013134861\n",
      "Epoch:  12 | Step:  0 | train loss:  0.014381994\n",
      "Epoch:  13 | Step:  0 | train loss:  0.017197138\n",
      "Epoch:  14 | Step:  0 | train loss:  0.020242684\n",
      "Epoch:  15 | Step:  0 | train loss:  0.022478366\n",
      "Epoch:  16 | Step:  0 | train loss:  0.023387387\n",
      "Epoch:  17 | Step:  0 | train loss:  0.0229214\n",
      "Epoch:  18 | Step:  0 | train loss:  0.021348404\n",
      "Epoch:  19 | Step:  0 | train loss:  0.01909379\n",
      "Epoch:  20 | Step:  0 | train loss:  0.016625766\n",
      "Epoch:  21 | Step:  0 | train loss:  0.014358318\n",
      "Epoch:  22 | Step:  0 | train loss:  0.012591648\n",
      "Epoch:  23 | Step:  0 | train loss:  0.011454641\n",
      "Epoch:  24 | Step:  0 | train loss:  0.010931946\n",
      "Epoch:  25 | Step:  0 | train loss:  0.010903128\n",
      "Epoch:  26 | Step:  0 | train loss:  0.011209363\n",
      "Epoch:  27 | Step:  0 | train loss:  0.0116795525\n",
      "Epoch:  28 | Step:  0 | train loss:  0.01215516\n",
      "Epoch:  29 | Step:  0 | train loss:  0.0125107765\n",
      "Epoch:  30 | Step:  0 | train loss:  0.0126670655\n",
      "Epoch:  31 | Step:  0 | train loss:  0.012594777\n",
      "Epoch:  32 | Step:  0 | train loss:  0.012310354\n",
      "Epoch:  33 | Step:  0 | train loss:  0.011866224\n",
      "Epoch:  34 | Step:  0 | train loss:  0.011336758\n",
      "Epoch:  35 | Step:  0 | train loss:  0.010804075\n",
      "Epoch:  36 | Step:  0 | train loss:  0.0103435265\n",
      "Epoch:  37 | Step:  0 | train loss:  0.01001124\n",
      "Epoch:  38 | Step:  0 | train loss:  0.009835047\n",
      "Epoch:  39 | Step:  0 | train loss:  0.009810866\n",
      "Epoch:  40 | Step:  0 | train loss:  0.009905574\n",
      "Epoch:  41 | Step:  0 | train loss:  0.01006622\n",
      "Epoch:  42 | Step:  0 | train loss:  0.010233575\n",
      "Epoch:  43 | Step:  0 | train loss:  0.010356475\n",
      "Epoch:  44 | Step:  0 | train loss:  0.010402872\n",
      "Epoch:  45 | Step:  0 | train loss:  0.01036481\n",
      "Epoch:  46 | Step:  0 | train loss:  0.010256605\n",
      "Epoch:  47 | Step:  0 | train loss:  0.010107716\n",
      "Epoch:  48 | Step:  0 | train loss:  0.009952974\n",
      "Epoch:  49 | Step:  0 | train loss:  0.009823147\n",
      "Epoch:  50 | Step:  0 | train loss:  0.009738164\n",
      "Epoch:  51 | Step:  0 | train loss:  0.009704173\n",
      "Epoch:  52 | Step:  0 | train loss:  0.00971447\n",
      "Epoch:  53 | Step:  0 | train loss:  0.009753358\n",
      "Epoch:  54 | Step:  0 | train loss:  0.009801472\n",
      "Epoch:  55 | Step:  0 | train loss:  0.009841043\n",
      "Epoch:  56 | Step:  0 | train loss:  0.009859863\n",
      "Epoch:  57 | Step:  0 | train loss:  0.009853266\n",
      "Epoch:  58 | Step:  0 | train loss:  0.009823999\n",
      "Epoch:  59 | Step:  0 | train loss:  0.009780361\n",
      "Epoch:  60 | Step:  0 | train loss:  0.0097332755\n",
      "Epoch:  61 | Step:  0 | train loss:  0.009693133\n",
      "Epoch:  62 | Step:  0 | train loss:  0.009667164\n",
      "Epoch:  63 | Step:  0 | train loss:  0.009657947\n",
      "Epoch:  64 | Step:  0 | train loss:  0.009663323\n",
      "Epoch:  65 | Step:  0 | train loss:  0.009677609\n",
      "Epoch:  66 | Step:  0 | train loss:  0.009693657\n",
      "Epoch:  67 | Step:  0 | train loss:  0.00970508\n",
      "Epoch:  68 | Step:  0 | train loss:  0.009707979\n",
      "Epoch:  69 | Step:  0 | train loss:  0.009701701\n",
      "Epoch:  70 | Step:  0 | train loss:  0.009688521\n",
      "Epoch:  71 | Step:  0 | train loss:  0.009672499\n",
      "Epoch:  72 | Step:  0 | train loss:  0.009657967\n",
      "Epoch:  73 | Step:  0 | train loss:  0.009648172\n",
      "Epoch:  74 | Step:  0 | train loss:  0.0096444655\n",
      "Epoch:  75 | Step:  0 | train loss:  0.009646196\n",
      "Epoch:  76 | Step:  0 | train loss:  0.009651235\n",
      "Epoch:  77 | Step:  0 | train loss:  0.0096568605\n",
      "Epoch:  78 | Step:  0 | train loss:  0.009660685\n",
      "Epoch:  79 | Step:  0 | train loss:  0.009661332\n",
      "Epoch:  80 | Step:  0 | train loss:  0.009658695\n",
      "Epoch:  81 | Step:  0 | train loss:  0.009653769\n",
      "Epoch:  82 | Step:  0 | train loss:  0.0096481545\n",
      "Epoch:  83 | Step:  0 | train loss:  0.009643447\n",
      "Epoch:  84 | Step:  0 | train loss:  0.009640722\n",
      "Epoch:  85 | Step:  0 | train loss:  0.009640255\n",
      "Epoch:  86 | Step:  0 | train loss:  0.009641555\n",
      "Epoch:  87 | Step:  0 | train loss:  0.009643636\n",
      "Epoch:  88 | Step:  0 | train loss:  0.009645433\n",
      "Epoch:  89 | Step:  0 | train loss:  0.009646175\n",
      "Epoch:  90 | Step:  0 | train loss:  0.0096456045\n",
      "Epoch:  91 | Step:  0 | train loss:  0.009643981\n",
      "Epoch:  92 | Step:  0 | train loss:  0.009641911\n",
      "Epoch:  93 | Step:  0 | train loss:  0.009640071\n",
      "Epoch:  94 | Step:  0 | train loss:  0.009638953\n",
      "Epoch:  95 | Step:  0 | train loss:  0.00963872\n",
      "Epoch:  96 | Step:  0 | train loss:  0.009639197\n",
      "Epoch:  97 | Step:  0 | train loss:  0.009639991\n",
      "Epoch:  98 | Step:  0 | train loss:  0.009640669\n",
      "Epoch:  99 | Step:  0 | train loss:  0.009640922\n",
      "Epoch:  100 | Step:  0 | train loss:  0.009640659\n",
      "Epoch:  101 | Step:  0 | train loss:  0.009640004\n",
      "Epoch:  102 | Step:  0 | train loss:  0.009639214\n",
      "Epoch:  103 | Step:  0 | train loss:  0.009638561\n",
      "Epoch:  104 | Step:  0 | train loss:  0.009638221\n",
      "Epoch:  105 | Step:  0 | train loss:  0.009638227\n",
      "Epoch:  106 | Step:  0 | train loss:  0.009638473\n",
      "Epoch:  107 | Step:  0 | train loss:  0.009638783\n",
      "Epoch:  108 | Step:  0 | train loss:  0.009638986\n",
      "Epoch:  109 | Step:  0 | train loss:  0.0096389875\n",
      "Epoch:  110 | Step:  0 | train loss:  0.009638795\n",
      "Epoch:  111 | Step:  0 | train loss:  0.009638493\n",
      "Epoch:  112 | Step:  0 | train loss:  0.009638201\n",
      "Epoch:  113 | Step:  0 | train loss:  0.009638017\n",
      "Epoch:  114 | Step:  0 | train loss:  0.009637977\n",
      "Epoch:  115 | Step:  0 | train loss:  0.009638054\n",
      "Epoch:  116 | Step:  0 | train loss:  0.009638178\n",
      "Epoch:  117 | Step:  0 | train loss:  0.009638273\n",
      "Epoch:  118 | Step:  0 | train loss:  0.009638289\n",
      "Epoch:  119 | Step:  0 | train loss:  0.00963822\n",
      "Epoch:  120 | Step:  0 | train loss:  0.009638099\n",
      "Epoch:  121 | Step:  0 | train loss:  0.009637977\n",
      "Epoch:  122 | Step:  0 | train loss:  0.009637897\n",
      "Epoch:  123 | Step:  0 | train loss:  0.009637877\n",
      "Epoch:  124 | Step:  0 | train loss:  0.009637907\n",
      "Epoch:  125 | Step:  0 | train loss:  0.0096379565\n",
      "Epoch:  126 | Step:  0 | train loss:  0.009637992\n",
      "Epoch:  127 | Step:  0 | train loss:  0.009637992\n",
      "Epoch:  128 | Step:  0 | train loss:  0.0096379565\n",
      "Epoch:  129 | Step:  0 | train loss:  0.0096379025\n",
      "Epoch:  130 | Step:  0 | train loss:  0.009637852\n",
      "Epoch:  131 | Step:  0 | train loss:  0.009637822\n",
      "Epoch:  132 | Step:  0 | train loss:  0.00963782\n",
      "Epoch:  133 | Step:  0 | train loss:  0.0096378345\n",
      "Epoch:  134 | Step:  0 | train loss:  0.009637852\n",
      "Epoch:  135 | Step:  0 | train loss:  0.00963786\n",
      "Epoch:  136 | Step:  0 | train loss:  0.00963785\n",
      "Epoch:  137 | Step:  0 | train loss:  0.009637828\n",
      "Epoch:  138 | Step:  0 | train loss:  0.009637802\n",
      "Epoch:  139 | Step:  0 | train loss:  0.009637781\n",
      "Epoch:  140 | Step:  0 | train loss:  0.009637772\n",
      "Epoch:  141 | Step:  0 | train loss:  0.009637773\n",
      "Epoch:  142 | Step:  0 | train loss:  0.009637778\n",
      "Epoch:  143 | Step:  0 | train loss:  0.0096377805\n",
      "Epoch:  144 | Step:  0 | train loss:  0.009637776\n",
      "Epoch:  145 | Step:  0 | train loss:  0.009637765\n",
      "Epoch:  146 | Step:  0 | train loss:  0.00963775\n",
      "Epoch:  147 | Step:  0 | train loss:  0.009637736\n",
      "Epoch:  148 | Step:  0 | train loss:  0.0096377265\n",
      "Epoch:  149 | Step:  0 | train loss:  0.009637721\n",
      "Epoch:  150 | Step:  0 | train loss:  0.009637719\n",
      "Epoch:  151 | Step:  0 | train loss:  0.009637715\n",
      "Epoch:  152 | Step:  0 | train loss:  0.009637708\n",
      "Epoch:  153 | Step:  0 | train loss:  0.009637698\n",
      "Epoch:  154 | Step:  0 | train loss:  0.009637685\n",
      "Epoch:  155 | Step:  0 | train loss:  0.0096376715\n",
      "Epoch:  156 | Step:  0 | train loss:  0.00963766\n",
      "Epoch:  157 | Step:  0 | train loss:  0.00963765\n",
      "Epoch:  158 | Step:  0 | train loss:  0.009637642\n",
      "Epoch:  159 | Step:  0 | train loss:  0.0096376315\n",
      "Epoch:  160 | Step:  0 | train loss:  0.00963762\n",
      "Epoch:  161 | Step:  0 | train loss:  0.009637606\n",
      "Epoch:  162 | Step:  0 | train loss:  0.009637591\n",
      "Epoch:  163 | Step:  0 | train loss:  0.009637575\n",
      "Epoch:  164 | Step:  0 | train loss:  0.009637559\n",
      "Epoch:  165 | Step:  0 | train loss:  0.009637542\n",
      "Epoch:  166 | Step:  0 | train loss:  0.009637524\n"
     ]
    },
    {
     "name": "stdout",
     "output_type": "stream",
     "text": [
      "Epoch:  167 | Step:  0 | train loss:  0.009637507\n",
      "Epoch:  168 | Step:  0 | train loss:  0.009637487\n",
      "Epoch:  169 | Step:  0 | train loss:  0.009637466\n",
      "Epoch:  170 | Step:  0 | train loss:  0.009637444\n",
      "Epoch:  171 | Step:  0 | train loss:  0.009637423\n",
      "Epoch:  172 | Step:  0 | train loss:  0.0096374005\n",
      "Epoch:  173 | Step:  0 | train loss:  0.009637378\n",
      "Epoch:  174 | Step:  0 | train loss:  0.009637355\n",
      "Epoch:  175 | Step:  0 | train loss:  0.009637331\n",
      "Epoch:  176 | Step:  0 | train loss:  0.009637305\n",
      "Epoch:  177 | Step:  0 | train loss:  0.009637278\n",
      "Epoch:  178 | Step:  0 | train loss:  0.009637249\n",
      "Epoch:  179 | Step:  0 | train loss:  0.00963722\n",
      "Epoch:  180 | Step:  0 | train loss:  0.009637188\n",
      "Epoch:  181 | Step:  0 | train loss:  0.009637156\n",
      "Epoch:  182 | Step:  0 | train loss:  0.009637121\n",
      "Epoch:  183 | Step:  0 | train loss:  0.009637084\n",
      "Epoch:  184 | Step:  0 | train loss:  0.009637046\n",
      "Epoch:  185 | Step:  0 | train loss:  0.009637005\n",
      "Epoch:  186 | Step:  0 | train loss:  0.009636963\n",
      "Epoch:  187 | Step:  0 | train loss:  0.009636918\n",
      "Epoch:  188 | Step:  0 | train loss:  0.009636872\n",
      "Epoch:  189 | Step:  0 | train loss:  0.009636824\n",
      "Epoch:  190 | Step:  0 | train loss:  0.009636774\n",
      "Epoch:  191 | Step:  0 | train loss:  0.00963672\n",
      "Epoch:  192 | Step:  0 | train loss:  0.009636662\n",
      "Epoch:  193 | Step:  0 | train loss:  0.009636601\n",
      "Epoch:  194 | Step:  0 | train loss:  0.009636535\n",
      "Epoch:  195 | Step:  0 | train loss:  0.009636464\n",
      "Epoch:  196 | Step:  0 | train loss:  0.009636385\n",
      "Epoch:  197 | Step:  0 | train loss:  0.009636298\n",
      "Epoch:  198 | Step:  0 | train loss:  0.0096362\n",
      "Epoch:  199 | Step:  0 | train loss:  0.009636088\n"
     ]
    }
   ],
   "source": [
    "loss_his = []\n",
    "for epoch in range(EPOCH):\n",
    "    for step, (b_x, b_y) in enumerate(loader): \n",
    "        # for each training step\n",
    "        output = net(b_x)  \n",
    "        output[target == 0] = 0\n",
    "        # get output for every net\n",
    "        loss = loss_func(output, b_y)  # compute loss for every net\n",
    "        opt.zero_grad()                # clear gradients for next train\n",
    "        loss.backward()                # backpropagation, compute gradients\n",
    "        opt.step()                     # apply gradients\n",
    "        loss_his.append(loss.data.numpy())     # loss recoder\n",
    "        print('Epoch: ', epoch, '| Step: ', step, '| train loss: ', loss.data.numpy())"
   ]
  },
  {
   "cell_type": "code",
   "execution_count": 15,
   "metadata": {},
   "outputs": [
    {
     "data": {
      "image/png": "[encoded data removed]",
      "text/plain": [
       "<Figure size 432x288 with 1 Axes>"
      ]
     },
     "metadata": {
      "needs_background": "light"
     },
     "output_type": "display_data"
    }
   ],
   "source": [
    "plt.plot(range(EPOCH), loss_his)\n",
    "plt.title('training loss')\n",
    "plt.xlabel('Epoch')\n",
    "plt.ylabel('Loss')\n",
    "plt.show()"
   ]
  },
  {
   "cell_type": "code",
   "execution_count": 16,
   "metadata": {
    "scrolled": false
   },
   "outputs": [
    {
     "data": {
      "text/plain": [
       "tensor([[[3.9552, 3.4565, 3.4023,  ..., 3.4995, 3.4986, 3.9993],\n",
       "         [3.9544, 3.4603, 3.4020,  ..., 3.5002, 3.5023, 4.0024],\n",
       "         [3.9546, 3.4570, 3.4019,  ..., 3.4995, 3.4992, 3.9995],\n",
       "         ...,\n",
       "         [3.9549, 3.4557, 3.4021,  ..., 3.4993, 3.4979, 3.9985],\n",
       "         [3.9553, 3.4571, 3.4025,  ..., 3.4997, 3.4993, 4.0000],\n",
       "         [3.9553, 3.4572, 3.4025,  ..., 3.4998, 3.4993, 4.0000]]],\n",
       "       grad_fn=<AddBackward0>)"
      ]
     },
     "execution_count": 16,
     "metadata": {},
     "output_type": "execute_result"
    }
   ],
   "source": [
    "test_var = Variable(test).unsqueeze(0)\n",
    "out = net(test_var)\n",
    "out"
   ]
  },
  {
   "cell_type": "code",
   "execution_count": 17,
   "metadata": {},
   "outputs": [],
   "source": [
    "out = out.detach().numpy()[0,:,:]"
   ]
  },
  {
   "cell_type": "code",
   "execution_count": 18,
   "metadata": {
    "scrolled": false
   },
   "outputs": [
    {
     "name": "stdout",
     "output_type": "stream",
     "text": [
      "Autoencoder RMSE: 1.1815906639893674\n",
      "Autoencoder MAE: 1.3961564972268343\n"
     ]
    }
   ],
   "source": [
    "from sklearn.metrics import mean_squared_error, mean_absolute_error\n",
    "\n",
    "def get_mse(pred, actual):\n",
    "    # Ignore zero terms.\n",
    "    pred = pred[actual.nonzero()].flatten()\n",
    "    actual = actual[actual.nonzero()].flatten()\n",
    "    return mean_squared_error(actual, pred)\n",
    "def get_mae(pred, actual):\n",
    "    # Ignore zero terms.\n",
    "    pred = pred[actual.nonzero()].flatten()\n",
    "    actual = actual[actual.nonzero()].flatten()\n",
    "    return mean_squared_error(actual, pred)\n",
    "\n",
    "test = user_item_matrix(test_set)\n",
    "print('Autoencoder RMSE: ' + str(math.sqrt(get_mse(out, test))))\n",
    "print('Autoencoder MAE: ' + str(get_mae(out, test)))"
   ]
  },
  {
   "cell_type": "code",
   "execution_count": null,
   "metadata": {},
   "outputs": [],
   "source": []
  }
 ],
 "metadata": {
  "kernelspec": {
   "display_name": "Python 3",
   "language": "python",
   "name": "python3"
  },
  "language_info": {
   "codemirror_mode": {
    "name": "ipython",
    "version": 3
   },
   "file_extension": ".py",
   "mimetype": "text/x-python",
   "name": "python",
   "nbconvert_exporter": "python",
   "pygments_lexer": "ipython3",
   "version": "3.7.1"
  }
 },
 "nbformat": 4,
 "nbformat_minor": 2
}
