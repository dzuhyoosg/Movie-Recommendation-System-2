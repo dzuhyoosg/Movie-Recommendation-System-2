{
 "cells": [
  {
   "cell_type": "code",
   "execution_count": 1,
   "metadata": {},
   "outputs": [],
   "source": [
    "import torch\n",
    "import torch.utils.data as Data\n",
    "import torch.nn.functional as F\n",
    "import torch.nn as nn\n",
    "import matplotlib.pyplot as plt\n",
    "import pandas as pd\n",
    "import numpy as np\n",
    "import math\n",
    "from torch.autograd import Variable"
   ]
  },
  {
   "cell_type": "code",
   "execution_count": 2,
   "metadata": {},
   "outputs": [],
   "source": [
    "LR = 0.003\n",
    "BATCH_SIZE = 64\n",
    "EPOCH = 250"
   ]
  },
  {
   "cell_type": "code",
   "execution_count": 3,
   "metadata": {},
   "outputs": [
    {
     "data": {
      "text/html": [
       "<div>\n",
       "<style scoped>\n",
       "    .dataframe tbody tr th:only-of-type {\n",
       "        vertical-align: middle;\n",
       "    }\n",
       "\n",
       "    .dataframe tbody tr th {\n",
       "        vertical-align: top;\n",
       "    }\n",
       "\n",
       "    .dataframe thead th {\n",
       "        text-align: right;\n",
       "    }\n",
       "</style>\n",
       "<table border=\"1\" class=\"dataframe\">\n",
       "  <thead>\n",
       "    <tr style=\"text-align: right;\">\n",
       "      <th></th>\n",
       "      <th>userId</th>\n",
       "      <th>movieId</th>\n",
       "      <th>rating</th>\n",
       "      <th>timestamp</th>\n",
       "    </tr>\n",
       "  </thead>\n",
       "  <tbody>\n",
       "    <tr>\n",
       "      <th>0</th>\n",
       "      <td>1</td>\n",
       "      <td>1</td>\n",
       "      <td>4.0</td>\n",
       "      <td>964982703</td>\n",
       "    </tr>\n",
       "    <tr>\n",
       "      <th>1</th>\n",
       "      <td>1</td>\n",
       "      <td>3</td>\n",
       "      <td>4.0</td>\n",
       "      <td>964981247</td>\n",
       "    </tr>\n",
       "    <tr>\n",
       "      <th>2</th>\n",
       "      <td>1</td>\n",
       "      <td>6</td>\n",
       "      <td>4.0</td>\n",
       "      <td>964982224</td>\n",
       "    </tr>\n",
       "    <tr>\n",
       "      <th>3</th>\n",
       "      <td>1</td>\n",
       "      <td>47</td>\n",
       "      <td>5.0</td>\n",
       "      <td>964983815</td>\n",
       "    </tr>\n",
       "    <tr>\n",
       "      <th>4</th>\n",
       "      <td>1</td>\n",
       "      <td>50</td>\n",
       "      <td>5.0</td>\n",
       "      <td>964982931</td>\n",
       "    </tr>\n",
       "  </tbody>\n",
       "</table>\n",
       "</div>"
      ],
      "text/plain": [
       "   userId  movieId  rating  timestamp\n",
       "0       1        1     4.0  964982703\n",
       "1       1        3     4.0  964981247\n",
       "2       1        6     4.0  964982224\n",
       "3       1       47     5.0  964983815\n",
       "4       1       50     5.0  964982931"
      ]
     },
     "execution_count": 3,
     "metadata": {},
     "output_type": "execute_result"
    }
   ],
   "source": [
    "df = pd.read_csv('./ml-latest-small/ratings.csv')\n",
    "df.head()"
   ]
  },
  {
   "cell_type": "code",
   "execution_count": 4,
   "metadata": {},
   "outputs": [
    {
     "data": {
      "text/plain": [
       "(80668, 20168)"
      ]
     },
     "execution_count": 4,
     "metadata": {},
     "output_type": "execute_result"
    }
   ],
   "source": [
    "from sklearn import model_selection as ms\n",
    "train_set, test_set = ms.train_test_split(df, test_size=0.2)\n",
    "len(train_set), len(test_set)"
   ]
  },
  {
   "cell_type": "code",
   "execution_count": 5,
   "metadata": {},
   "outputs": [],
   "source": [
    "training_set = np.array(train_set, dtype = 'int')\n",
    "testing_set = np.array(test_set, dtype = 'int')"
   ]
  },
  {
   "cell_type": "code",
   "execution_count": 6,
   "metadata": {},
   "outputs": [
    {
     "data": {
      "text/plain": [
       "(610, 9724)"
      ]
     },
     "execution_count": 6,
     "metadata": {},
     "output_type": "execute_result"
    }
   ],
   "source": [
    "num_users = df.userId.unique().shape[0]\n",
    "num_items = df.movieId.unique().shape[0]\n",
    "num_users, num_items"
   ]
  },
  {
   "cell_type": "code",
   "execution_count": 7,
   "metadata": {},
   "outputs": [],
   "source": [
    "movie_movieId = df.movieId.unique().tolist()\n",
    "movie_movieId.sort()\n",
    "d = dict()\n",
    "for i in range(0, len(movie_movieId)):\n",
    "    d[movie_movieId[i]] = i"
   ]
  },
  {
   "cell_type": "code",
   "execution_count": 8,
   "metadata": {},
   "outputs": [],
   "source": [
    "def user_item_matrix(data):\n",
    "    ratings = np.zeros((num_users, num_items))\n",
    "    for row in data.itertuples():\n",
    "        ratings[row[1]-1, d[row[2]]] = row[3]\n",
    "    return ratings"
   ]
  },
  {
   "cell_type": "code",
   "execution_count": 9,
   "metadata": {},
   "outputs": [],
   "source": [
    "ratings = user_item_matrix(df)\n",
    "train = user_item_matrix(train_set)\n",
    "test = user_item_matrix(test_set)"
   ]
  },
  {
   "cell_type": "code",
   "execution_count": 10,
   "metadata": {},
   "outputs": [
    {
     "data": {
      "text/plain": [
       "torch.Size([1, 610, 9724])"
      ]
     },
     "execution_count": 10,
     "metadata": {},
     "output_type": "execute_result"
    }
   ],
   "source": [
    "train = torch.FloatTensor(train)\n",
    "input = Variable(train).unsqueeze(0)\n",
    "input.shape"
   ]
  },
  {
   "cell_type": "code",
   "execution_count": 11,
   "metadata": {},
   "outputs": [],
   "source": [
    "train = torch.FloatTensor(train)\n",
    "test = torch.FloatTensor(test)\n",
    "input = Variable(train).unsqueeze(0)\n",
    "target = input\n",
    "torch_dataset = Data.TensorDataset(input, target)\n",
    "loader = Data.DataLoader(dataset=torch_dataset, batch_size=BATCH_SIZE, shuffle=True, num_workers=2,)"
   ]
  },
  {
   "cell_type": "code",
   "execution_count": 12,
   "metadata": {},
   "outputs": [],
   "source": [
    "class Net(torch.nn.Module):\n",
    "    def __init__(self):\n",
    "        super(Net, self).__init__()\n",
    "        self.fc1 = nn.Linear(num_items, 50)\n",
    "        self.fc2 = nn.Linear(50, 10)\n",
    "        self.fc3 = nn.Linear(10, 50)\n",
    "        self.fc4 = nn.Linear(50, num_items)\n",
    "        self.activation = nn.Sigmoid()\n",
    "        self.activation_t = nn.Tanh()\n",
    "        \n",
    "    def forward(self, x):\n",
    "        x = self.activation(self.fc1(x))\n",
    "        x = self.activation_t(self.fc2(x))\n",
    "        x = self.activation(self.fc3(x))\n",
    "        x = self.fc4(x)\n",
    "        return x"
   ]
  },
  {
   "cell_type": "code",
   "execution_count": 13,
   "metadata": {},
   "outputs": [],
   "source": [
    "net = Net()\n",
    "loss_func = nn.MSELoss()\n",
    "opt = torch.optim.Adam(net.parameters(), lr=LR, betas=(0.9, 0.99))"
   ]
  },
  {
   "cell_type": "code",
   "execution_count": 14,
   "metadata": {},
   "outputs": [
    {
     "name": "stdout",
     "output_type": "stream",
     "text": [
      "Epoch:  0 | Step:  0 | train loss:  0.18258794\n",
      "Epoch:  1 | Step:  0 | train loss:  0.17523335\n",
      "Epoch:  2 | Step:  0 | train loss:  0.1681198\n",
      "Epoch:  3 | Step:  0 | train loss:  0.16097434\n",
      "Epoch:  4 | Step:  0 | train loss:  0.15376289\n",
      "Epoch:  5 | Step:  0 | train loss:  0.14644799\n",
      "Epoch:  6 | Step:  0 | train loss:  0.13906607\n",
      "Epoch:  7 | Step:  0 | train loss:  0.13164444\n",
      "Epoch:  8 | Step:  0 | train loss:  0.12428983\n",
      "Epoch:  9 | Step:  0 | train loss:  0.11702735\n",
      "Epoch:  10 | Step:  0 | train loss:  0.10991522\n",
      "Epoch:  11 | Step:  0 | train loss:  0.102915905\n",
      "Epoch:  12 | Step:  0 | train loss:  0.09603938\n",
      "Epoch:  13 | Step:  0 | train loss:  0.08931751\n",
      "Epoch:  14 | Step:  0 | train loss:  0.082773164\n",
      "Epoch:  15 | Step:  0 | train loss:  0.07642961\n",
      "Epoch:  16 | Step:  0 | train loss:  0.070308\n",
      "Epoch:  17 | Step:  0 | train loss:  0.06443305\n",
      "Epoch:  18 | Step:  0 | train loss:  0.058825426\n",
      "Epoch:  19 | Step:  0 | train loss:  0.05350514\n",
      "Epoch:  20 | Step:  0 | train loss:  0.048492875\n",
      "Epoch:  21 | Step:  0 | train loss:  0.043804295\n",
      "Epoch:  22 | Step:  0 | train loss:  0.03945263\n",
      "Epoch:  23 | Step:  0 | train loss:  0.035448007\n",
      "Epoch:  24 | Step:  0 | train loss:  0.031796362\n",
      "Epoch:  25 | Step:  0 | train loss:  0.028500568\n",
      "Epoch:  26 | Step:  0 | train loss:  0.025558619\n",
      "Epoch:  27 | Step:  0 | train loss:  0.02296449\n",
      "Epoch:  28 | Step:  0 | train loss:  0.020708421\n",
      "Epoch:  29 | Step:  0 | train loss:  0.01877646\n",
      "Epoch:  30 | Step:  0 | train loss:  0.0171506\n",
      "Epoch:  31 | Step:  0 | train loss:  0.015809191\n",
      "Epoch:  32 | Step:  0 | train loss:  0.014727627\n",
      "Epoch:  33 | Step:  0 | train loss:  0.013878791\n",
      "Epoch:  34 | Step:  0 | train loss:  0.0132339075\n",
      "Epoch:  35 | Step:  0 | train loss:  0.012763262\n",
      "Epoch:  36 | Step:  0 | train loss:  0.012437087\n",
      "Epoch:  37 | Step:  0 | train loss:  0.012226457\n",
      "Epoch:  38 | Step:  0 | train loss:  0.012104084\n",
      "Epoch:  39 | Step:  0 | train loss:  0.0120450165\n",
      "Epoch:  40 | Step:  0 | train loss:  0.012027205\n",
      "Epoch:  41 | Step:  0 | train loss:  0.0120318895\n",
      "Epoch:  42 | Step:  0 | train loss:  0.012043815\n",
      "Epoch:  43 | Step:  0 | train loss:  0.012051261\n",
      "Epoch:  44 | Step:  0 | train loss:  0.012045907\n",
      "Epoch:  45 | Step:  0 | train loss:  0.012022559\n",
      "Epoch:  46 | Step:  0 | train loss:  0.011978769\n",
      "Epoch:  47 | Step:  0 | train loss:  0.011914386\n",
      "Epoch:  48 | Step:  0 | train loss:  0.011831071\n",
      "Epoch:  49 | Step:  0 | train loss:  0.011731801\n",
      "Epoch:  50 | Step:  0 | train loss:  0.011620403\n",
      "Epoch:  51 | Step:  0 | train loss:  0.011501139\n",
      "Epoch:  52 | Step:  0 | train loss:  0.011378328\n",
      "Epoch:  53 | Step:  0 | train loss:  0.0112560615\n",
      "Epoch:  54 | Step:  0 | train loss:  0.011137971\n",
      "Epoch:  55 | Step:  0 | train loss:  0.011027075\n",
      "Epoch:  56 | Step:  0 | train loss:  0.010925694\n",
      "Epoch:  57 | Step:  0 | train loss:  0.010835412\n",
      "Epoch:  58 | Step:  0 | train loss:  0.010757104\n",
      "Epoch:  59 | Step:  0 | train loss:  0.010690985\n",
      "Epoch:  60 | Step:  0 | train loss:  0.010636705\n",
      "Epoch:  61 | Step:  0 | train loss:  0.01059345\n",
      "Epoch:  62 | Step:  0 | train loss:  0.010560056\n",
      "Epoch:  63 | Step:  0 | train loss:  0.01053513\n",
      "Epoch:  64 | Step:  0 | train loss:  0.0105171595\n",
      "Epoch:  65 | Step:  0 | train loss:  0.010504606\n",
      "Epoch:  66 | Step:  0 | train loss:  0.010496003\n",
      "Epoch:  67 | Step:  0 | train loss:  0.010490008\n",
      "Epoch:  68 | Step:  0 | train loss:  0.0104854675\n",
      "Epoch:  69 | Step:  0 | train loss:  0.010481435\n",
      "Epoch:  70 | Step:  0 | train loss:  0.010477194\n",
      "Epoch:  71 | Step:  0 | train loss:  0.010472249\n",
      "Epoch:  72 | Step:  0 | train loss:  0.010466318\n",
      "Epoch:  73 | Step:  0 | train loss:  0.010459298\n",
      "Epoch:  74 | Step:  0 | train loss:  0.010451247\n",
      "Epoch:  75 | Step:  0 | train loss:  0.010442335\n",
      "Epoch:  76 | Step:  0 | train loss:  0.010432816\n",
      "Epoch:  77 | Step:  0 | train loss:  0.010422988\n",
      "Epoch:  78 | Step:  0 | train loss:  0.010413162\n",
      "Epoch:  79 | Step:  0 | train loss:  0.010403638\n",
      "Epoch:  80 | Step:  0 | train loss:  0.010394674\n",
      "Epoch:  81 | Step:  0 | train loss:  0.010386482\n",
      "Epoch:  82 | Step:  0 | train loss:  0.01037921\n",
      "Epoch:  83 | Step:  0 | train loss:  0.010372944\n",
      "Epoch:  84 | Step:  0 | train loss:  0.010367709\n",
      "Epoch:  85 | Step:  0 | train loss:  0.010363474\n",
      "Epoch:  86 | Step:  0 | train loss:  0.010360161\n",
      "Epoch:  87 | Step:  0 | train loss:  0.010357659\n",
      "Epoch:  88 | Step:  0 | train loss:  0.010355836\n",
      "Epoch:  89 | Step:  0 | train loss:  0.010354548\n",
      "Epoch:  90 | Step:  0 | train loss:  0.010353653\n",
      "Epoch:  91 | Step:  0 | train loss:  0.010353017\n",
      "Epoch:  92 | Step:  0 | train loss:  0.010352525\n",
      "Epoch:  93 | Step:  0 | train loss:  0.010352083\n",
      "Epoch:  94 | Step:  0 | train loss:  0.01035162\n",
      "Epoch:  95 | Step:  0 | train loss:  0.010351091\n",
      "Epoch:  96 | Step:  0 | train loss:  0.0103504695\n",
      "Epoch:  97 | Step:  0 | train loss:  0.010349753\n",
      "Epoch:  98 | Step:  0 | train loss:  0.010348951\n",
      "Epoch:  99 | Step:  0 | train loss:  0.010348085\n",
      "Epoch:  100 | Step:  0 | train loss:  0.010347183\n",
      "Epoch:  101 | Step:  0 | train loss:  0.010346273\n",
      "Epoch:  102 | Step:  0 | train loss:  0.0103453845\n",
      "Epoch:  103 | Step:  0 | train loss:  0.010344542\n",
      "Epoch:  104 | Step:  0 | train loss:  0.010343762\n",
      "Epoch:  105 | Step:  0 | train loss:  0.010343056\n",
      "Epoch:  106 | Step:  0 | train loss:  0.010342428\n",
      "Epoch:  107 | Step:  0 | train loss:  0.010341874\n",
      "Epoch:  108 | Step:  0 | train loss:  0.010341383\n",
      "Epoch:  109 | Step:  0 | train loss:  0.01034094\n",
      "Epoch:  110 | Step:  0 | train loss:  0.010340528\n",
      "Epoch:  111 | Step:  0 | train loss:  0.010340125\n",
      "Epoch:  112 | Step:  0 | train loss:  0.010339716\n",
      "Epoch:  113 | Step:  0 | train loss:  0.010339283\n",
      "Epoch:  114 | Step:  0 | train loss:  0.010338813\n",
      "Epoch:  115 | Step:  0 | train loss:  0.0103383\n",
      "Epoch:  116 | Step:  0 | train loss:  0.01033774\n",
      "Epoch:  117 | Step:  0 | train loss:  0.01033714\n",
      "Epoch:  118 | Step:  0 | train loss:  0.010336512\n",
      "Epoch:  119 | Step:  0 | train loss:  0.010335871\n",
      "Epoch:  120 | Step:  0 | train loss:  0.01033524\n",
      "Epoch:  121 | Step:  0 | train loss:  0.010334639\n",
      "Epoch:  122 | Step:  0 | train loss:  0.010334087\n",
      "Epoch:  123 | Step:  0 | train loss:  0.010333592\n",
      "Epoch:  124 | Step:  0 | train loss:  0.010333159\n",
      "Epoch:  125 | Step:  0 | train loss:  0.010332785\n",
      "Epoch:  126 | Step:  0 | train loss:  0.010332464\n",
      "Epoch:  127 | Step:  0 | train loss:  0.01033219\n",
      "Epoch:  128 | Step:  0 | train loss:  0.010331958\n",
      "Epoch:  129 | Step:  0 | train loss:  0.010331759\n",
      "Epoch:  130 | Step:  0 | train loss:  0.010331588\n",
      "Epoch:  131 | Step:  0 | train loss:  0.010331438\n",
      "Epoch:  132 | Step:  0 | train loss:  0.010331307\n",
      "Epoch:  133 | Step:  0 | train loss:  0.010331189\n",
      "Epoch:  134 | Step:  0 | train loss:  0.010331081\n",
      "Epoch:  135 | Step:  0 | train loss:  0.0103309825\n",
      "Epoch:  136 | Step:  0 | train loss:  0.010330889\n",
      "Epoch:  137 | Step:  0 | train loss:  0.010330801\n",
      "Epoch:  138 | Step:  0 | train loss:  0.010330716\n",
      "Epoch:  139 | Step:  0 | train loss:  0.010330635\n",
      "Epoch:  140 | Step:  0 | train loss:  0.010330557\n",
      "Epoch:  141 | Step:  0 | train loss:  0.010330481\n",
      "Epoch:  142 | Step:  0 | train loss:  0.010330408\n",
      "Epoch:  143 | Step:  0 | train loss:  0.010330338\n",
      "Epoch:  144 | Step:  0 | train loss:  0.010330269\n",
      "Epoch:  145 | Step:  0 | train loss:  0.010330203\n",
      "Epoch:  146 | Step:  0 | train loss:  0.010330139\n",
      "Epoch:  147 | Step:  0 | train loss:  0.0103300745\n",
      "Epoch:  148 | Step:  0 | train loss:  0.010330011\n",
      "Epoch:  149 | Step:  0 | train loss:  0.010329948\n",
      "Epoch:  150 | Step:  0 | train loss:  0.010329883\n",
      "Epoch:  151 | Step:  0 | train loss:  0.0103298165\n",
      "Epoch:  152 | Step:  0 | train loss:  0.010329748\n",
      "Epoch:  153 | Step:  0 | train loss:  0.010329674\n",
      "Epoch:  154 | Step:  0 | train loss:  0.010329598\n",
      "Epoch:  155 | Step:  0 | train loss:  0.010329516\n",
      "Epoch:  156 | Step:  0 | train loss:  0.010329428\n",
      "Epoch:  157 | Step:  0 | train loss:  0.010329334\n",
      "Epoch:  158 | Step:  0 | train loss:  0.010329233\n",
      "Epoch:  159 | Step:  0 | train loss:  0.0103291245\n",
      "Epoch:  160 | Step:  0 | train loss:  0.010329008\n",
      "Epoch:  161 | Step:  0 | train loss:  0.010328884\n",
      "Epoch:  162 | Step:  0 | train loss:  0.010328751\n",
      "Epoch:  163 | Step:  0 | train loss:  0.01032861\n",
      "Epoch:  164 | Step:  0 | train loss:  0.010328461\n",
      "Epoch:  165 | Step:  0 | train loss:  0.010328304\n",
      "Epoch:  166 | Step:  0 | train loss:  0.010328139\n"
     ]
    },
    {
     "name": "stdout",
     "output_type": "stream",
     "text": [
      "Epoch:  167 | Step:  0 | train loss:  0.010327969\n",
      "Epoch:  168 | Step:  0 | train loss:  0.010327792\n",
      "Epoch:  169 | Step:  0 | train loss:  0.010327611\n",
      "Epoch:  170 | Step:  0 | train loss:  0.010327429\n",
      "Epoch:  171 | Step:  0 | train loss:  0.010327244\n",
      "Epoch:  172 | Step:  0 | train loss:  0.01032706\n",
      "Epoch:  173 | Step:  0 | train loss:  0.010326878\n",
      "Epoch:  174 | Step:  0 | train loss:  0.010326699\n",
      "Epoch:  175 | Step:  0 | train loss:  0.010326526\n",
      "Epoch:  176 | Step:  0 | train loss:  0.010326358\n",
      "Epoch:  177 | Step:  0 | train loss:  0.010326196\n",
      "Epoch:  178 | Step:  0 | train loss:  0.010326042\n",
      "Epoch:  179 | Step:  0 | train loss:  0.010325895\n",
      "Epoch:  180 | Step:  0 | train loss:  0.010325755\n",
      "Epoch:  181 | Step:  0 | train loss:  0.010325621\n",
      "Epoch:  182 | Step:  0 | train loss:  0.010325494\n",
      "Epoch:  183 | Step:  0 | train loss:  0.010325373\n",
      "Epoch:  184 | Step:  0 | train loss:  0.010325258\n",
      "Epoch:  185 | Step:  0 | train loss:  0.010325146\n",
      "Epoch:  186 | Step:  0 | train loss:  0.010325038\n",
      "Epoch:  187 | Step:  0 | train loss:  0.010324932\n",
      "Epoch:  188 | Step:  0 | train loss:  0.010324827\n",
      "Epoch:  189 | Step:  0 | train loss:  0.010324723\n",
      "Epoch:  190 | Step:  0 | train loss:  0.010324618\n",
      "Epoch:  191 | Step:  0 | train loss:  0.010324512\n",
      "Epoch:  192 | Step:  0 | train loss:  0.010324401\n",
      "Epoch:  193 | Step:  0 | train loss:  0.010324286\n",
      "Epoch:  194 | Step:  0 | train loss:  0.010324164\n",
      "Epoch:  195 | Step:  0 | train loss:  0.010324036\n",
      "Epoch:  196 | Step:  0 | train loss:  0.010323896\n",
      "Epoch:  197 | Step:  0 | train loss:  0.010323746\n",
      "Epoch:  198 | Step:  0 | train loss:  0.010323582\n",
      "Epoch:  199 | Step:  0 | train loss:  0.010323404\n",
      "Epoch:  200 | Step:  0 | train loss:  0.01032321\n",
      "Epoch:  201 | Step:  0 | train loss:  0.010322996\n",
      "Epoch:  202 | Step:  0 | train loss:  0.010322765\n",
      "Epoch:  203 | Step:  0 | train loss:  0.010322514\n",
      "Epoch:  204 | Step:  0 | train loss:  0.010322244\n",
      "Epoch:  205 | Step:  0 | train loss:  0.010321956\n",
      "Epoch:  206 | Step:  0 | train loss:  0.010321651\n",
      "Epoch:  207 | Step:  0 | train loss:  0.010321333\n",
      "Epoch:  208 | Step:  0 | train loss:  0.010321007\n",
      "Epoch:  209 | Step:  0 | train loss:  0.010320677\n",
      "Epoch:  210 | Step:  0 | train loss:  0.010320351\n",
      "Epoch:  211 | Step:  0 | train loss:  0.010320036\n",
      "Epoch:  212 | Step:  0 | train loss:  0.010319734\n",
      "Epoch:  213 | Step:  0 | train loss:  0.01031945\n",
      "Epoch:  214 | Step:  0 | train loss:  0.010319187\n",
      "Epoch:  215 | Step:  0 | train loss:  0.010318944\n",
      "Epoch:  216 | Step:  0 | train loss:  0.010318723\n",
      "Epoch:  217 | Step:  0 | train loss:  0.010318519\n",
      "Epoch:  218 | Step:  0 | train loss:  0.010318331\n",
      "Epoch:  219 | Step:  0 | train loss:  0.010318158\n",
      "Epoch:  220 | Step:  0 | train loss:  0.010317997\n",
      "Epoch:  221 | Step:  0 | train loss:  0.010317844\n",
      "Epoch:  222 | Step:  0 | train loss:  0.0103177\n",
      "Epoch:  223 | Step:  0 | train loss:  0.010317561\n",
      "Epoch:  224 | Step:  0 | train loss:  0.010317427\n",
      "Epoch:  225 | Step:  0 | train loss:  0.010317295\n",
      "Epoch:  226 | Step:  0 | train loss:  0.010317165\n",
      "Epoch:  227 | Step:  0 | train loss:  0.010317038\n",
      "Epoch:  228 | Step:  0 | train loss:  0.010316909\n",
      "Epoch:  229 | Step:  0 | train loss:  0.010316782\n",
      "Epoch:  230 | Step:  0 | train loss:  0.010316652\n",
      "Epoch:  231 | Step:  0 | train loss:  0.010316522\n",
      "Epoch:  232 | Step:  0 | train loss:  0.01031639\n",
      "Epoch:  233 | Step:  0 | train loss:  0.0103162555\n",
      "Epoch:  234 | Step:  0 | train loss:  0.010316118\n",
      "Epoch:  235 | Step:  0 | train loss:  0.010315976\n",
      "Epoch:  236 | Step:  0 | train loss:  0.010315832\n",
      "Epoch:  237 | Step:  0 | train loss:  0.010315683\n",
      "Epoch:  238 | Step:  0 | train loss:  0.010315528\n",
      "Epoch:  239 | Step:  0 | train loss:  0.010315369\n",
      "Epoch:  240 | Step:  0 | train loss:  0.010315204\n",
      "Epoch:  241 | Step:  0 | train loss:  0.010315034\n",
      "Epoch:  242 | Step:  0 | train loss:  0.010314856\n",
      "Epoch:  243 | Step:  0 | train loss:  0.010314671\n",
      "Epoch:  244 | Step:  0 | train loss:  0.01031448\n",
      "Epoch:  245 | Step:  0 | train loss:  0.010314282\n",
      "Epoch:  246 | Step:  0 | train loss:  0.010314075\n",
      "Epoch:  247 | Step:  0 | train loss:  0.010313862\n",
      "Epoch:  248 | Step:  0 | train loss:  0.01031364\n",
      "Epoch:  249 | Step:  0 | train loss:  0.01031341\n"
     ]
    }
   ],
   "source": [
    "loss_his = []\n",
    "for epoch in range(EPOCH):\n",
    "    for step, (b_x, b_y) in enumerate(loader): \n",
    "        # for each training step\n",
    "        output = net(b_x)  \n",
    "        output[target == 0] = 0\n",
    "        # get output for every net\n",
    "        loss = loss_func(output, b_y)  # compute loss for every net\n",
    "        opt.zero_grad()                # clear gradients for next train\n",
    "        loss.backward()                # backpropagation, compute gradients\n",
    "        opt.step()                     # apply gradients\n",
    "        loss_his.append(loss.data.numpy())     # loss recoder\n",
    "        print('Epoch: ', epoch, '| Step: ', step, '| train loss: ', loss.data.numpy())"
   ]
  },
  {
   "cell_type": "code",
   "execution_count": 15,
   "metadata": {},
   "outputs": [
    {
     "data": {
      "image/png": "[encoded data removed]",
      "text/plain": [
       "<Figure size 432x288 with 1 Axes>"
      ]
     },
     "metadata": {
      "needs_background": "light"
     },
     "output_type": "display_data"
    }
   ],
   "source": [
    "plt.plot(range(EPOCH), loss_his)\n",
    "plt.title('training loss')\n",
    "plt.xlabel('Epoch')\n",
    "plt.ylabel('Loss')\n",
    "plt.show()"
   ]
  },
  {
   "cell_type": "code",
   "execution_count": 16,
   "metadata": {
    "scrolled": false
   },
   "outputs": [
    {
     "data": {
      "text/plain": [
       "tensor([[[ 3.8996e+00,  3.4054e+00,  3.2796e+00,  ...,  3.5001e+00,\n",
       "           3.5001e+00,  4.0002e+00],\n",
       "         [ 3.8913e+00,  3.3967e+00,  3.2726e+00,  ...,  3.4910e+00,\n",
       "           3.4909e+00,  3.9911e+00],\n",
       "         [ 3.8787e+00,  3.3833e+00,  3.2618e+00,  ...,  3.4772e+00,\n",
       "           3.4767e+00,  3.9773e+00],\n",
       "         ...,\n",
       "         [ 3.8995e+00,  3.4053e+00,  3.2795e+00,  ...,  3.5000e+00,\n",
       "           3.5000e+00,  4.0001e+00],\n",
       "         [ 3.8965e+00,  3.4021e+00,  3.2769e+00,  ...,  3.4967e+00,\n",
       "           3.4967e+00,  3.9967e+00],\n",
       "         [ 3.8995e+00,  3.4053e+00,  3.2795e+00,  ...,  3.5000e+00,\n",
       "           3.5000e+00,  4.0000e+00]]], grad_fn=<ThAddBackward>)"
      ]
     },
     "execution_count": 16,
     "metadata": {},
     "output_type": "execute_result"
    }
   ],
   "source": [
    "test_var = Variable(test).unsqueeze(0)\n",
    "out = net(test_var)\n",
    "out"
   ]
  },
  {
   "cell_type": "code",
   "execution_count": 17,
   "metadata": {},
   "outputs": [],
   "source": [
    "out = out.detach().numpy()[0,:,:]"
   ]
  },
  {
   "cell_type": "code",
   "execution_count": 18,
   "metadata": {
    "scrolled": false
   },
   "outputs": [
    {
     "name": "stdout",
     "output_type": "stream",
     "text": [
      "Autoencoder RMSE: 1.15035919591335\n",
      "Autoencoder MAE: 1.3233262796224088\n"
     ]
    }
   ],
   "source": [
    "from sklearn.metrics import mean_squared_error, mean_absolute_error\n",
    "\n",
    "def get_mse(pred, actual):\n",
    "    # Ignore zero terms.\n",
    "    pred = pred[actual.nonzero()].flatten()\n",
    "    actual = actual[actual.nonzero()].flatten()\n",
    "    return mean_squared_error(actual, pred)\n",
    "def get_mae(pred, actual):\n",
    "    # Ignore zero terms.\n",
    "    pred = pred[actual.nonzero()].flatten()\n",
    "    actual = actual[actual.nonzero()].flatten()\n",
    "    return mean_squared_error(actual, pred)\n",
    "\n",
    "test = user_item_matrix(test_set)\n",
    "print('Autoencoder RMSE: ' + str(math.sqrt(get_mse(out, test))))\n",
    "print('Autoencoder MAE: ' + str(get_mae(out, test)))"
   ]
  },
  {
   "cell_type": "code",
   "execution_count": null,
   "metadata": {},
   "outputs": [],
   "source": []
  }
 ],
 "metadata": {
  "kernelspec": {
   "display_name": "Python 3",
   "language": "python",
   "name": "python3"
  },
  "language_info": {
   "codemirror_mode": {
    "name": "ipython",
    "version": 3
   },
   "file_extension": ".py",
   "mimetype": "text/x-python",
   "name": "python",
   "nbconvert_exporter": "python",
   "pygments_lexer": "ipython3",
   "version": "3.6.7"
  }
 },
 "nbformat": 4,
 "nbformat_minor": 2
}
